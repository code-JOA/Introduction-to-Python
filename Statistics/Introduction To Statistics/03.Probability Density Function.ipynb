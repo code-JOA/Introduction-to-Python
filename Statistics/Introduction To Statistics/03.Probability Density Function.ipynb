{
 "cells": [
  {
   "cell_type": "markdown",
   "metadata": {},
   "source": [
    "# The Probability Density Function (PDF)\n",
    "\n",
    "## Introduction\n",
    "So far, you learned about discrete random variables and how to calculate or visualize their distribution functions. In this lesson, you'll learn about continuous variables and probability density function (PDF) as a way to model the probability of occurrence for these types of variables.\n",
    "\n",
    "## Objectives\n",
    "You will be able to:\n",
    "\n",
    "* Calculate the PDF from a given dataset containing real-valued random variables\n",
    "* Differentiate between probability and probability density\n",
    "* Explain why it is not possible to calculate the probability for a specific point with continuous variables\n",
    "* Estimate probabilities for continuous variables by using interpolation "
   ]
  },
  {
   "cell_type": "markdown",
   "metadata": {},
   "source": [
    "# Continuous Variables"
   ]
  },
  {
   "cell_type": "markdown",
   "metadata": {},
   "source": [
    "Continuous variables can take on any real value. For example, let's say that the height of a person is 6.1 feet. Is this person _actually_ exactly 6.1 feet? How precise is this measurement? In reality, the height could be 6.11 feet, 6.09 feet or 6.1000033 feet.\n",
    "\n",
    "Ultimately, we can not identify the exact value of a continuous variable. Instead, we can approximate it to a given accuracy. These mathematical nuances lead to some interesting properties when investigating the associated probabilities of these values. \n",
    "\n",
    "Typical examples of continuous variables are height, weight, temperature, and other variables that can take on *any* real value."
   ]
  },
  {
   "cell_type": "markdown",
   "metadata": {},
   "source": [
    "## Probability versus Probability Density \n",
    "\n",
    "Continuous variables can take on an infinite number of variables. Let's have another look at the temperature in NYC on June 1st. Here, we can say our random variable X represents possible temperatures on June 1st in NYC.\n",
    "\n",
    "\n",
    "<img src=\"../../images/weather_NYC.png\" width =\"500\">\n"
   ]
  },
  {
   "cell_type": "markdown",
   "metadata": {},
   "source": [
    "Looking at the plot above, you can see that most of the values lie around the mean (around 80 degrees Fahrenheit). As you move away from the mean in both directions, the blue line goes down creating two tails at both ends. The blue line above shows a **Probability Density Function**, as compared to probability functions we saw when looking at the PMFs.\n",
    "\n",
    "\n",
    "A Probability Density Function (PDF) helps identify the regions in the distribution where observations are more likely to occur, in other words, where the observation occurrence is **more dense**. It is actually not hard to think about the analogy with a probability mass function. Imagine that we would put out temperatures in \"bins\" of about 1.5 degrees Fahrenheit. This is what your function would look like:\n",
    "\n",
    "<img src=\"../../images/weather_NYC_21.png\" width =\"500\">\n",
    "\n",
    "The histogram you see here may remind you very much of the PMF you saw before! Remember that when dealing with PMFs, you calculated the **mass** for each class, or the number of occurrences. This is exactly what we did creating this histogram. The idea is that, when you \"bin\" your continuous variables, and you gradually increase the number of bins used, you get a function-like outline of your bins which looks exactly like the PDF:\n",
    "\n",
    "<img src=\"../../images/weather_NYC_250.png\" width =\"500\">\n",
    "\n",
    "For the distribution of NYC temperatures, the mean region has a high probability density as compared to tails. This means that more extreme temperatures (roughly <70 or >90) are way less likely on a late spring day like June 1. \n",
    "The function shape here is an example of a **Normal Distribution**, which you'll learn more about later.\n",
    "\n",
    ">The probability density function (also called a probability distribution function) shows all possible values for temperature, which in theory has an infinite amount of possibilities. \n",
    "\n"
   ]
  },
  {
   "cell_type": "markdown",
   "metadata": {},
   "source": [
    "# Interpreting the PDF"
   ]
  },
  {
   "cell_type": "markdown",
   "metadata": {},
   "source": [
    "Let's look at this plot again and the y-axis:\n",
    "\n",
    "<img src=\"../../images/weather_NYC_21_red.png\" width =\"500\">\n",
    "\n",
    "Looking at the histogram, and based on the middle bin, you can make the following statement:\n",
    "\n",
    "**About 13% of the time you'll observe a temperature between 79.3 and 80.8 Degrees Fahrenheit**.\n",
    "\n",
    "This is a typical probability mass function statement, where one bar or bin is associated with a fixed probability. The reason why we were able to do this is because we _binned_ the temperatures.\n",
    "\n",
    "When interpreting probability density functions, you need to be **very** careful about determining probabilities for certain events, especially when it comes to exact numbers of events occurring. For example, think about this: if we have a very high tech thermometer, what is the probability that the temperature in NYC on June 1 is _exactly_ 80 Degrees?\n",
    "\n",
    "$$P(\\text{Temp}=80)$$\n",
    "\n",
    "Looking at the graph, you may think that this probability is around 0.13, **but this is not the case**. The idea of continuous variables and PDFs is that the probability of any given arbitrary number is always 0, simply because there is an infinite number of possibilities we can check (what is $P(\\text{Temp}=80.3)? $ $P(\\text{Temp}=80.0001)$?$P(\\text{Temp}=80.00000895)?$) So, the probability of the temperature being exactly 80 Degrees is 0. When using a PDF, the only way of finding a probability associated with a certain temperature here is when using an _interval_ of ranges, so something like:\n",
    "\n",
    "$$P( 79.9 < \\text{Temp} < 80.1 )$$\n",
    "\n",
    "You'll see more on this later!"
   ]
  },
  {
   "cell_type": "markdown",
   "metadata": {},
   "source": [
    "# Visualizing Probability Density Functions"
   ]
  },
  {
   "cell_type": "markdown",
   "metadata": {},
   "source": [
    "PDFs can be visualized using histograms and density plots. You've had quite a bit of practice on histograms. \n",
    "Now, you'll learn how to plot a density plot for a distribution in Python. \n",
    "\n",
    "### Density Estimation and Plotting\n",
    " \n",
    "As you've seen before, a density plot is a \"smoothed\" version of a histogram estimated from the observations. To estimate a density function from given continuous data, you can use parametric or non-parametric methods. \n",
    "\n",
    "**Parametric methods** use parameters like mean and standard deviation of given data and attempt to work out the **shape** of the distribution that the data belongs to. These may implement maximum likelihood methods to fit a distribution to the given data. You'll learn more about this later.\n",
    "\n",
    "**Kernel density estimation** or KDE is a common non-parametric estimation technique to plot a curve (the kernel) at every individual data point. These curves are then added to plot a smooth density estimation. The kernel most often used is a Gaussian (which produces a bell curve at each data point). Other kernels can be used in special cases when the underlying distribution is not normal. \n",
    "\n",
    "<img src=\"../../images/density_and_hist.png\" width =\"750\">\n",
    "\n",
    "In the image above, the histogram (left) and kernel density estimate (right) are constructed using the same data."
   ]
  },
  {
   "cell_type": "markdown",
   "metadata": {},
   "source": [
    "# Expected Value and Variance"
   ]
  },
  {
   "cell_type": "markdown",
   "metadata": {},
   "source": [
    "Next, let's explore expected value and variance for PDFs. Recall the following two formulas for PMFs:\n",
    "\n",
    "$$\\large  E(X) = \\mu = \\sum_i p(x_i)x_i$$\n",
    "$$\\large E((X-\\mu)^2) = \\sigma^2 = \\sum_i p(x_i)(x_i-\\mu)^2$$\n",
    "\n",
    "\n",
    "We want to translate this to something we can use in this context of probability density functions. Note how $P(X=x_i)=p(x_i)$ is part of this formula, and how we mentioned before that for PDFs, the probability of our random variable taking exactly a specified value is 0. We need to change our formulas slightly, and this can be done by using **integrals**:\n",
    "\n",
    "$$ \\large E(X) = \\mu = \\int_{- \\infty}^{+ \\infty} p(x)x dx$$\n",
    "$$ \\large E((X-\\mu)^2) = \\sigma^2  = \\int_{- \\infty}^{+ \\infty} p(x)(x-\\mu)^2 dx$$\n",
    "\n",
    "\n",
    "Recall how the integral basically is a measure to calculate the area under a certain curve. Thinking of it this way, the transition from a histogram to a curve makes much more sense as well. Let's look at the plot below for an illustration. If you want to get the probability to obtain exactly 9, you would get a 1-dimensional line down which isn't really an \"area\". For this reason, $P(X=9)=0$. \n",
    "\n",
    "If you want to determine the probability of observing a value within a specific range though, you can look at the area under the curve to obtain this probability as highlighted in red below:\n"
   ]
  },
  {
   "cell_type": "markdown",
   "metadata": {},
   "source": [
    "![](images/pdf2.jpg)\n",
    "\n",
    "The formal mathematical representation for calculating an area under the curve is given by:\n",
    "\n",
    "$$ \\Large P(a \\leq x \\leq b) = \\int_a^b f(x) dx \\geq 0 $$\n",
    "\n",
    "> To obtain a probability of observing a value in an interval $[a,b]$, you can use an integral (which gives you the area under the curve) from a to b using your PDF $f(x)$ \n",
    "\n",
    "Don't worry too much about the adapted formula for PDFs. The main takeaway here is that you simply can't use the same summation expression because $P(X=x_i) = 0$ for any $x_i$."
   ]
  },
  {
   "cell_type": "markdown",
   "metadata": {},
   "source": [
    "## Seaborn \n",
    "\n",
    "At this stage, it's useful to have another look at the visualization library **Seaborn**, which can do wonders for statistical visualizations.\n",
    "\n",
    "\n",
    "We'll quickly introduce density plot creation using Seaborn here. You'll learn about other Seaborn plots at a later stage!\n",
    "\n",
    "Let's import the Seaborn library first."
   ]
  },
  {
   "cell_type": "code",
   "execution_count": 1,
   "metadata": {},
   "outputs": [],
   "source": [
    "import seaborn as sns\n",
    "import pandas as pd\n",
    "import matplotlib.pyplot as plt\n",
    "%matplotlib inline\n"
   ]
  },
  {
   "cell_type": "markdown",
   "metadata": {},
   "source": [
    "The function that we are interested in right now is  the `seaborn.distplot()` function which can help visualize a distribution in a number of statistical ways including histograms, density plots, and area plots with a lot of coloring and customization features. \n",
    "```\n",
    "seaborn.distplot(a, bins=None, hist=True, kde=True, rug=False, fit=None, hist_kws=None, kde_kws=None, rug_kws=None, fit_kws=None, color=None, vertical=False, norm_hist=False, axlabel=None, label=None, ax=None)\n",
    "```\n",
    " [Here is the official documentation](https://seaborn.pydata.org/generated/seaborn.distplot.html) if you want to learn more!"
   ]
  },
  {
   "cell_type": "markdown",
   "metadata": {},
   "source": [
    "## Let's Look at Some Data\n",
    "\n",
    "We'll look at another weight-height dataset, this time containing 10,000 observations about the heights and weights of individuals, grouped by gender. Let's load the dataset first."
   ]
  },
  {
   "cell_type": "code",
   "execution_count": 2,
   "metadata": {},
   "outputs": [
    {
     "data": {
      "text/html": [
       "<div>\n",
       "<style scoped>\n",
       "    .dataframe tbody tr th:only-of-type {\n",
       "        vertical-align: middle;\n",
       "    }\n",
       "\n",
       "    .dataframe tbody tr th {\n",
       "        vertical-align: top;\n",
       "    }\n",
       "\n",
       "    .dataframe thead th {\n",
       "        text-align: right;\n",
       "    }\n",
       "</style>\n",
       "<table border=\"1\" class=\"dataframe\">\n",
       "  <thead>\n",
       "    <tr style=\"text-align: right;\">\n",
       "      <th></th>\n",
       "      <th>Gender</th>\n",
       "      <th>Height</th>\n",
       "      <th>Weight</th>\n",
       "    </tr>\n",
       "  </thead>\n",
       "  <tbody>\n",
       "    <tr>\n",
       "      <th>0</th>\n",
       "      <td>Male</td>\n",
       "      <td>73.847017</td>\n",
       "      <td>241.893563</td>\n",
       "    </tr>\n",
       "    <tr>\n",
       "      <th>1</th>\n",
       "      <td>Male</td>\n",
       "      <td>68.781904</td>\n",
       "      <td>162.310473</td>\n",
       "    </tr>\n",
       "    <tr>\n",
       "      <th>2</th>\n",
       "      <td>Male</td>\n",
       "      <td>74.110105</td>\n",
       "      <td>212.740856</td>\n",
       "    </tr>\n",
       "    <tr>\n",
       "      <th>3</th>\n",
       "      <td>Male</td>\n",
       "      <td>71.730978</td>\n",
       "      <td>220.042470</td>\n",
       "    </tr>\n",
       "    <tr>\n",
       "      <th>4</th>\n",
       "      <td>Male</td>\n",
       "      <td>69.881796</td>\n",
       "      <td>206.349801</td>\n",
       "    </tr>\n",
       "  </tbody>\n",
       "</table>\n",
       "</div>"
      ],
      "text/plain": [
       "  Gender     Height      Weight\n",
       "0   Male  73.847017  241.893563\n",
       "1   Male  68.781904  162.310473\n",
       "2   Male  74.110105  212.740856\n",
       "3   Male  71.730978  220.042470\n",
       "4   Male  69.881796  206.349801"
      ]
     },
     "execution_count": 2,
     "metadata": {},
     "output_type": "execute_result"
    }
   ],
   "source": [
    "plt.style.use('ggplot')\n",
    "\n",
    "data = pd.read_csv('../../data/weight-height.csv')\n",
    "data.head()"
   ]
  },
  {
   "cell_type": "markdown",
   "metadata": {},
   "source": [
    "+ Let's plot the density plot for data in the `Height` column using seaborn `distplot()`. \n",
    "\n",
    "We'll be plotting:\n",
    "\n",
    "* a Box and Whiskers plot \n",
    "* a histogram \n",
    "* a non-parametric Kernel Density Estimation plot\n",
    "* Parametric distribution fit plot\n",
    "\n",
    "... all in one single go. "
   ]
  },
  {
   "cell_type": "code",
   "execution_count": 3,
   "metadata": {},
   "outputs": [],
   "source": [
    "import scipy.stats as stats"
   ]
  },
  {
   "cell_type": "code",
   "execution_count": null,
   "metadata": {},
   "outputs": [],
   "source": [
    "# Create two vertical subplots sharing 15% and 85% of plot space\n",
    "# sharex allows sharing of axes ie building multiple plots on the same axes"
   ]
  },
  {
   "cell_type": "code",
   "execution_count": 6,
   "metadata": {},
   "outputs": [
    {
     "data": {
      "image/png": "[encoded data removed]",
      "text/plain": [
       "<Figure size 720x576 with 2 Axes>"
      ]
     },
     "metadata": {},
     "output_type": "display_data"
    }
   ],
   "source": [
    "fig, (ax, ax2) = plt.subplots(2, sharex=True, gridspec_kw={\"height_ratios\": (.15,.85)},\n",
    "                             figsize=(10,8))\n",
    "sns.distplot(data[\"Height\"], hist=True, hist_kws={\"linewidth\":2,\n",
    "                                                 \"edgecolor\": \"red\",\n",
    "                                                 \"alpha\":0.4,\n",
    "                                                 \"color\": \"w\",\n",
    "                                                 \"label\":\"Histogram\",\n",
    "                                                 },\n",
    "            kde=True, kde_kws = {\"linewidth\" : 3,\n",
    "                                \"color\": \"blue\",\n",
    "                                \"alpha\": 0.7,\n",
    "                                \"label\": \"Kernel Density Estimation Plot\"},\n",
    "            fit= stats.norm, fit_kws = {\"color\" : \"green\",\n",
    "                                       \"label\" : \"parametric fit\",\n",
    "                                       \"alpha\" : 0.7,\n",
    "                                       \"linewidth\" :3},\n",
    "            ax=ax2)\n",
    "ax2.set_title(\"Density Estimates\")\n",
    "sns.boxplot(x=data[\"Height\"] , ax=ax , color=\"red\")\n",
    "ax.set_title(\"Box and Whisker Plot\")\n",
    "ax2.set(ylim=(0, 0.08))\n",
    "plt.ylim(0, 0.11)\n",
    "plt.legend()\n",
    "plt.show()"
   ]
  },
  {
   "cell_type": "markdown",
   "metadata": {},
   "source": [
    "+ We can see how you can easily visualize multiple statistical aspects of a distribution.\n",
    "\n",
    "We can further customize these plots as you wish and can have a look at the official Seaborn documentation for their color pellets, styles, labeling options, etc. "
   ]
  },
  {
   "cell_type": "code",
   "execution_count": null,
   "metadata": {},
   "outputs": [],
   "source": []
  },
  {
   "cell_type": "markdown",
   "metadata": {},
   "source": [
    "## Interpolation\n",
    "\n",
    "* Another (rather naive - yet effective) way is to estimate a density function using interpolation between the peaks of the histogram. We can use the `np.histogram` function to calculate histogram values and interpolate between these values to plot a density curve."
   ]
  },
  {
   "cell_type": "code",
   "execution_count": 7,
   "metadata": {},
   "outputs": [],
   "source": [
    "import numpy as np"
   ]
  },
  {
   "cell_type": "code",
   "execution_count": 8,
   "metadata": {},
   "outputs": [
    {
     "data": {
      "text/plain": [
       "(array([0.00040428, 0.00145539, 0.00533644, 0.01228997, 0.02603534,\n",
       "        0.04883648, 0.07034393, 0.08376588, 0.09031514, 0.08724265,\n",
       "        0.08958744, 0.08562554, 0.07204189, 0.05829652, 0.0412361 ,\n",
       "        0.02061805, 0.00970261, 0.00347677, 0.00153625, 0.00040428]),\n",
       " array([54.26313333, 55.49991378, 56.73669423, 57.97347468, 59.21025513,\n",
       "        60.44703558, 61.68381603, 62.92059648, 64.15737693, 65.39415738,\n",
       "        66.63093784, 67.86771829, 69.10449874, 70.34127919, 71.57805964,\n",
       "        72.81484009, 74.05162054, 75.28840099, 76.52518144, 77.7619619 ,\n",
       "        78.99874235]))"
      ]
     },
     "execution_count": 8,
     "metadata": {},
     "output_type": "execute_result"
    }
   ],
   "source": [
    "# here we are creating a histogram with numpy for heights  with 20 bins and a density 1\n",
    "x , bins = np.histogram(data[\"Height\"] , 20 , density=1)\n",
    "x , bins"
   ]
  },
  {
   "cell_type": "markdown",
   "metadata": {},
   "source": [
    "+ Here `x` represents the values of the histogram and `bins` are the bin positions along the x -axis. We can interpolate between these values to calculate the points for the density curve as you can see below. "
   ]
  },
  {
   "cell_type": "code",
   "execution_count": 10,
   "metadata": {},
   "outputs": [
    {
     "data": {
      "image/png": "[encoded data removed]",
      "text/plain": [
       "<Figure size 432x288 with 1 Axes>"
      ]
     },
     "metadata": {},
     "output_type": "display_data"
    }
   ],
   "source": [
    "# create numpy arrays according to the number of bins with zeros to store value\n",
    "pdf_x = np.zeros(x.size)\n",
    "pdf_y = np.zeros(x.size)\n",
    "\n",
    "# Interpolate through histogram bins \n",
    "# identify middle point between two neighbouring bins, in terms of x and y coords\n",
    "for n in range(x.size):\n",
    "    pdf_x[n] = 0.5 * (bins[n] + bins[n+1])\n",
    "    pdf_y[n] = x[n]\n",
    "\n",
    "# plot the calculated curve\n",
    "plt.plot(pdf_x , pdf_y)\n",
    "plt.show()"
   ]
  },
  {
   "cell_type": "markdown",
   "metadata": {},
   "source": [
    "+ That looks reasonable! This plot reflects our density function. You can plot it on top of the normalized histogram now and get a complete picture of underlying data. "
   ]
  },
  {
   "cell_type": "code",
   "execution_count": 15,
   "metadata": {},
   "outputs": [
    {
     "data": {
      "image/png": "[encoded data removed]",
      "text/plain": [
       "<Figure size 504x360 with 1 Axes>"
      ]
     },
     "metadata": {},
     "output_type": "display_data"
    }
   ],
   "source": [
    "plt.figure(figsize=(7,5))\n",
    "data.Height.plot.hist(bins = 20,  density=True ,label = 'Normalized histogram', alpha = 0.7)\n",
    "# plot the calculated curve\n",
    "plt.plot(pdf_x, pdf_y, label = 'Probability Density function')\n",
    "plt.ylabel ('Probabilities')\n",
    "plt.legend()\n",
    "plt.title ('PDF for height data')\n",
    "plt.show()"
   ]
  },
  {
   "cell_type": "markdown",
   "metadata": {},
   "source": [
    "* This looks pretty good! In the next lab, you'll practice your knowledge!\n",
    "\n",
    "**NOTE**: Be careful when using this naive interpolation method! The results depend very much on the number of bins used when creating your histogram.\n"
   ]
  },
  {
   "cell_type": "code",
   "execution_count": null,
   "metadata": {},
   "outputs": [],
   "source": []
  },
  {
   "cell_type": "code",
   "execution_count": null,
   "metadata": {},
   "outputs": [],
   "source": []
  },
  {
   "cell_type": "code",
   "execution_count": null,
   "metadata": {},
   "outputs": [],
   "source": []
  },
  {
   "cell_type": "code",
   "execution_count": null,
   "metadata": {},
   "outputs": [],
   "source": []
  },
  {
   "cell_type": "code",
   "execution_count": null,
   "metadata": {},
   "outputs": [],
   "source": []
  },
  {
   "cell_type": "code",
   "execution_count": null,
   "metadata": {},
   "outputs": [],
   "source": []
  },
  {
   "cell_type": "code",
   "execution_count": null,
   "metadata": {},
   "outputs": [],
   "source": []
  },
  {
   "cell_type": "code",
   "execution_count": null,
   "metadata": {},
   "outputs": [],
   "source": []
  },
  {
   "cell_type": "code",
   "execution_count": null,
   "metadata": {},
   "outputs": [],
   "source": []
  }
 ],
 "metadata": {
  "kernelspec": {
   "display_name": "Python [conda env:learn-env] *",
   "language": "python",
   "name": "conda-env-learn-env-py"
  },
  "language_info": {
   "codemirror_mode": {
    "name": "ipython",
    "version": 3
   },
   "file_extension": ".py",
   "mimetype": "text/x-python",
   "name": "python",
   "nbconvert_exporter": "python",
   "pygments_lexer": "ipython3",
   "version": "3.6.10"
  }
 },
 "nbformat": 4,
 "nbformat_minor": 4
}
