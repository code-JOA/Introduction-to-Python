{
 "cells": [
  {
   "cell_type": "markdown",
   "metadata": {},
   "source": [
    "# [The Normal Distribution - Click to watch video](https://www.youtube.com/watch?v=IhcL1btX9JU)\n",
    "\n",
    "## Introduction\n",
    "\n",
    "For data scientists and machine learning professionals, the normal (also referred to as Gaussian) distribution stands out as one of the most commonly used distribution models. This lesson provides an introduction to the normal distribution, its characteristics, and its significance in data science. \n",
    "\n",
    "## Objectives\n",
    "You will be able to:\n",
    "\n",
    "* List the unique characteristics of a normal distribution\n",
    "* Identify real world instances of things that follow a Gaussian distribution\n",
    "* Use `numpy` to generate a random normal distribution\n",
    "\n",
    "## The Normal Distribution\n",
    "\n",
    "The normal distribution is the most important and most widely used distribution in statistics and data science. It is also called the \"bell curve,\" due to its bell shape, or the \"Gaussian curve\" after the German mathematician Karl Friedrich Gauss.\n",
    "\n",
    "Recall our NYC weather distribution. This is a classic example of a normal distribution. The idea is that there is sort of an expectation around what the temperature will be on June 1 (80 degrees Fahrenheit) and that temperatures much lower or much higher are less likely the further they move away from this expected temperature. This type of behavior is present in many phenomena, as you'll see later.\n",
    "\n",
    "![](../../images/histogram_NYC_weather.png)\n",
    "\n",
    "The normal distribution is **a continuous distribution**. In practice though, you'll see many discrete distributions that follow a bell curve shape:\n",
    "- The observed values are actually discrete. For example, human IQ follows a normal distribution, but IQ is only specified up to the unit digit level, e.g. an IQ of 90, 91, or 92.\n",
    "- The values in our distribution are actually continuous (e.g. our temperature example) but recorded up to a certain constant because there is (obviously) no \"exact\" thermometer that measures temperature up to an infinite amount of digits.\n",
    "\n",
    "Even though the IQ level is not actually recorded as a continuous variable, you'll see that the distribution is generally represented as a smooth curve!\n",
    "\n",
    "\n",
    "<img src=\"../../images/iq_bell.png\" width = \"650\">\n",
    "\n",
    "\n",
    "\n",
    "## The Probability Density Function\n",
    "\n",
    "The probability density function equation for the normal distribution is given by the following expression:\n",
    "\n",
    "$$ \\large N(x) = \\dfrac{1}{\\sigma \\sqrt {2\\pi }}e^{-\\dfrac{(x-\\mu)^2}{2\\sigma^2}}$$\n",
    "\n",
    "Here, \n",
    "- $\\mu$ is the mean\n",
    "- $\\sigma$ is the standard deviation\n",
    "- $\\pi \\approx 3.14159 $ \n",
    "- $ e \\approx 2.71828 $\n",
    "\n",
    "Don't worry if your head is spinning right now. Don't worry about the formula, what you really need to remember is that:\n",
    "- A normal distribution has 2 key parameters, $\\mu$ and $\\sigma$, which define the mean and the spread of the distribution, respectively.\n",
    "\n",
    "- If you apply our formulas of expected values and variance seen in the PDF lesson before, where $X \\sim N(x)$:\n",
    "    - $ E(X) = \\int_{- \\infty}^{+ \\infty} p(x)x dx = \\mu $\n",
    "    - $ E((X-\\mu)^2) = \\int_{- \\infty}^{+ \\infty} p(x)(x-\\mu)^2 dx = \\sigma^2$\n",
    "    \n",
    "  where $\\mu$ and $\\sigma$ are as specified in the formula of $N(x)$\n",
    "\n",
    "\n",
    "\n",
    "## Mean and Standard Deviation\n",
    "\n",
    "Here is a first simple definition for normal distributions:\n",
    "\n",
    "> **The Normal Distribution is symmetrical and its mean, median and mode are equal.**\n",
    "\n",
    "A normal distribution is **centered around its mean**, so the distribution is not skewed (you'll have a chance to learn more about skewness later).  This doesn't mean that normal distributions cannot appear in different shapes and forms. How exactly the distribution behaves depends on the 2 key parameters, as specified before: the **mean** and the **standard deviation**.\n",
    "\n",
    "\n",
    "The following figure shows four normal distributions:\n",
    "\n",
    "<img src=\"../../images/normal_plt.png\" width =\"750\">\n",
    "\n",
    "* The green distribution has a mean of 0 and a standard deviation of 0.4 \n",
    "* The distribution in blue has a mean of 0 and a standard deviation of 1.\n",
    "* The distribution in red has a mean of 0 and a high spread with standard deviation of 3. \n",
    "* The orange distribution has a mean of 2 and a standard deviation of 0.5.\n",
    "\n",
    "All of these distributions have the following properties in common:\n",
    "- They are symmetric around the mean,\n",
    "- They have relatively higher densities of values at the center of the distribution and relatively lower density in the tails\n",
    "\n",
    "The CDFs of these distributions are shown below:\n",
    "\n",
    "<img src=\"../../images/cumul_normal_plt.png\" width=\"750\">\n",
    "\n",
    "## Some More Characteristics of the Normal Distribution\n",
    "\n",
    "Let's summarize the key characteristics of the normal distribution below:\n",
    "\n",
    "* Normal distributions are symmetric around their mean\n",
    "* The mean, median, and mode of a normal distribution are equal\n",
    "* The area under the bell curve is equal to 1.0\n",
    "* Normal distributions are denser in the center and less dense in the tails\n",
    "* Normal distributions are defined by two parameters, the mean ($\\mu$) and the standard deviation ($\\sigma$).\n",
    "* Around 68% of the area of a normal distribution is within _one standard deviation_ of the mean \n",
    "($(\\mu-\\sigma)$ to $(\\mu + \\sigma)$)\n",
    "* Approximately 95% of the area of a normal distribution is within two standard deviations of the mean ($(\\mu-2\\sigma)$ to $(\\mu + 2\\sigma)$).\n",
    "\n",
    "\n",
    "Let's look at the image below to get a better sense of the two last statements. In this image, the spread is differentiated between levels of deviation.\n",
    "\n",
    "<img src=\"../../images/normal_sd_new.png\" width =\"750\">\n",
    "\n",
    "This forms a 68-95-99.7 rule, i.e., 68% values of a normal distribution are within 1 standard deviation of the mean, 95% within 2 standard deviations and 99.7 % within 3 standard deviations. This rule is also called the empirical rule. Normally distributed data is considered ideal for analysis due to this simplicity of description. Values in the extreme of tails (more than 3 standard deviations) can be considered \"interesting events\" as their probability of occurrence is very low (1 occurrence in about ~300!). In other cases, you'll consider them as outliers due to noise or error of measurement. It all depends on your analysis question. \n",
    "\n",
    "Keeping this in mind, have another look at the IQ distribution and identify \"extreme events\" in terms of IQ!\n",
    "\n",
    "## Why So Popular?\n",
    "\n",
    "In this section, you'll learn about some reasons why normal distributions are so popular among data scientists:\n",
    "\n",
    "### Ubiquitous in Natural Phenomena\n",
    "\n",
    "An amazingly vast number of natural processes naturally follow the normal distribution. A simple normal distribution gives the best model approximation for natural processes like weight, height, blood pressure, etc. Errors committed during some measurements are also found to be normally distributed so they can be modeled and isolated with ease. The income, expenditure and other social attributes of masses are often normally distributed as well.\n",
    "\n",
    "### Central Limit Theorem\n",
    "\n",
    "The Central Limit Theorem states: \n",
    ">When you add **a large number** of independent random variables, irrespective of the original distribution of these variables, **their sum tends towards a normal distribution**.\n",
    "\n",
    "The theorem provides a reason why many natural phenomena follow a normal distribution.\n",
    "\n",
    "The key takeaway from the central limit theorem is that it allows different distributions to be processed as a normal distribution, even when they do not fulfill the normality requirements shown above. We'll discuss this further when we talk about hypothesis testing.\n",
    "\n",
    "[Here is an interesting youtube video highlighting this phenomenon](https://www.youtube.com/watch?v=IhcL1btX9JU) for now. We will consider this in detail later. \n",
    "\n",
    "### Simplified Computation\n",
    "\n",
    "When undergoing transformations, a number of distributions tend to change their nature and may result in a totally new distribution. With normal distributions, we can add random variables, take their product or apply any other advanced transformations (like Fourier transformations or Convolutions) - the resulting distribution will always be normal. \n",
    "\n",
    "For every normal model approximation, there may exist a complex multi-parameter distribution that gives a better approximation than the normal distribution. Even then, a normal distribution is often the preferred distribution to use because it makes the math a lot simpler!\n",
    "\n",
    "## Normal Distributions in Python "
   ]
  },
  {
   "cell_type": "markdown",
   "metadata": {},
   "source": [
    "The normal distribution, noted 𝒩 (𝜇, 𝜎) with parameters: 𝜇 mean (location) and 𝜎 > 0 std-dev.\n",
    "Estimators: 𝑥¯ and 𝜎𝑥.\n",
    "The normal distribution, noted 𝒩 , is useful because of the central limit theorem (CLT) which\n",
    "states that: given certain conditions, the arithmetic mean of a sufficiently large number of iterates of independent random variables, each with a well-defined expected value and well-defined\n",
    "variance, will be approximately normally distributed, regardless of the underlying distribution.\n"
   ]
  },
  {
   "cell_type": "code",
   "execution_count": 3,
   "metadata": {},
   "outputs": [],
   "source": [
    "import numpy as np\n",
    "import seaborn as sns\n",
    "import matplotlib.pyplot as plt\n",
    "import scipy.stats as stats\n",
    "from scipy.stats import norm\n",
    "%matplotlib inline\n",
    "import seaborn as sns"
   ]
  },
  {
   "cell_type": "code",
   "execution_count": 3,
   "metadata": {},
   "outputs": [
    {
     "data": {
      "image/png": "[encoded data removed]",
      "text/plain": [
       "<Figure size 432x288 with 1 Axes>"
      ]
     },
     "metadata": {
      "needs_background": "light"
     },
     "output_type": "display_data"
    }
   ],
   "source": [
    "mu = 0 # mean\n",
    "variance = 2 # variance\n",
    "sigma = np.sqrt(variance) # standard deviation\",\n",
    "x = np.linspace(mu-3*variance,mu+3*variance, 100)\n",
    "plt.plot(x, norm.pdf(x, mu, sigma))\n",
    "plt.title(\"Normal Distribution - the 68% , 95% , 99.7% rule\" , fontsize = 20)\n",
    "plt.show()\n"
   ]
  },
  {
   "cell_type": "markdown",
   "metadata": {},
   "source": [
    "# From the above we can look at some of the properties of a normal distribution\n",
    "+ Completely described by the mean and Standard Deviation / variance.\n",
    "+ Symmetrical around the mean -> Skew = 0\n",
    "+ Kurtosis = 3/ Excess Kurtosis =0"
   ]
  },
  {
   "cell_type": "code",
   "execution_count": null,
   "metadata": {},
   "outputs": [],
   "source": []
  },
  {
   "cell_type": "markdown",
   "metadata": {},
   "source": [
    "# Generatig the Normal distribution using Numpy"
   ]
  },
  {
   "cell_type": "markdown",
   "metadata": {},
   "source": [
    "In Python, the NumPy module provides a ton of methods to generate and inspect random variables. \n",
    "\n",
    "You can generate a random normal distribution by providing its parameters $\\mu$ and $\\sigma$ (mean and sd) to `np.random.norm()`, along with $n$ (number of values to be generated for the normal distribution)."
   ]
  },
  {
   "cell_type": "code",
   "execution_count": 4,
   "metadata": {},
   "outputs": [
    {
     "data": {
      "image/png": "[encoded data removed]",
      "text/plain": [
       "<Figure size 432x288 with 1 Axes>"
      ]
     },
     "metadata": {
      "needs_background": "light"
     },
     "output_type": "display_data"
    }
   ],
   "source": [
    "mu , sigma = 0.5, 0.1  # here we have a mean of 0.5 and Std of 0.1\n",
    "n = 1000\n",
    "sample = np.random.normal(mu , sigma , n)\n",
    "sns.distplot(sample);"
   ]
  },
  {
   "cell_type": "markdown",
   "metadata": {},
   "source": [
    "+ The density function of a normal distribution can also be plotted using a matplotlib _line plot_ and using the formula given above. You'll try to do this in the next lab.\n"
   ]
  },
  {
   "cell_type": "markdown",
   "metadata": {},
   "source": [
    "# Plot a normal distribution"
   ]
  },
  {
   "cell_type": "code",
   "execution_count": 4,
   "metadata": {},
   "outputs": [],
   "source": [
    "x = np.linspace(-4,4,1000)\n",
    "y = stats.norm.pdf(x, loc=0 , scale=1)"
   ]
  },
  {
   "cell_type": "code",
   "execution_count": 5,
   "metadata": {},
   "outputs": [
    {
     "data": {
      "image/png": "[encoded data removed]",
      "text/plain": [
       "<Figure size 1152x432 with 1 Axes>"
      ]
     },
     "metadata": {
      "needs_background": "light"
     },
     "output_type": "display_data"
    }
   ],
   "source": [
    "plt.figure(figsize=(16,6))\n",
    "# plt.hist(z, bins=1000, density=True)\n",
    "plt.grid()\n",
    "plt.plot(x,y, linewidth=3, color=\"red\")\n",
    "plt.xticks(np.arange(-4,5,1),\n",
    "          labels= [\"-4$\\sigma$ = -4\" , \"-3$\\sigma$ = -3\" , \"-2$\\sigma$ = -2\" , \"-1$\\sigma$ = -1\", \n",
    "                   \"$\\mu$=0\" , \"1$\\sigma$ = 1\" , \"2$\\sigma$ = 2\" , \"3$\\sigma$ = 3\" ,\"4$\\sigma$ = 4\"] , fontsize=15)\n",
    "plt.title(\"Normal Distribution\" , fontsize=20)\n",
    "plt.ylabel(\"Probability Density Function\" , fontsize=15)\n",
    "plt.show()"
   ]
  },
  {
   "cell_type": "code",
   "execution_count": null,
   "metadata": {},
   "outputs": [],
   "source": []
  },
  {
   "cell_type": "markdown",
   "metadata": {},
   "source": [
    "# Creating more Normally distributed Random variables"
   ]
  },
  {
   "cell_type": "code",
   "execution_count": 5,
   "metadata": {},
   "outputs": [],
   "source": [
    "mu = 100 # mean 100\n",
    "sigma = 2 # standard deviation 2\n",
    "size = 1000000 # population size of 1 million "
   ]
  },
  {
   "cell_type": "code",
   "execution_count": 6,
   "metadata": {},
   "outputs": [],
   "source": [
    "np.random.seed(123)\n",
    "pop = np.random.normal(loc= mu, scale= sigma, size = size) # $\\mu$ \"$\\sigma$\""
   ]
  },
  {
   "cell_type": "code",
   "execution_count": 7,
   "metadata": {},
   "outputs": [
    {
     "name": "stdout",
     "output_type": "stream",
     "text": [
      "Population mean is : 100.0 \n",
      "Population Std is : 2.0\n"
     ]
    }
   ],
   "source": [
    "print(\"Population mean is :\",pop.mean().round(2) ,\"\\nPopulation Std is :\",pop.std().round(2))\n"
   ]
  },
  {
   "cell_type": "markdown",
   "metadata": {},
   "source": [
    "# Plot the Normal Distribution"
   ]
  },
  {
   "cell_type": "code",
   "execution_count": 8,
   "metadata": {},
   "outputs": [
    {
     "data": {
      "image/png": "[encoded data removed]",
      "text/plain": [
       "<Figure size 1440x576 with 1 Axes>"
      ]
     },
     "metadata": {
      "needs_background": "light"
     },
     "output_type": "display_data"
    }
   ],
   "source": [
    "plt.figure(figsize=(20,8))\n",
    "plt.hist(pop , bins=1000)\n",
    "plt.title(\"Normal Distribution\" , fontsize=18)\n",
    "plt.xlabel(\"length\" , fontsize=15)\n",
    "plt.ylabel(\"Absolute Frequency\" , fontsize=15)\n",
    "plt.show()"
   ]
  },
  {
   "cell_type": "markdown",
   "metadata": {},
   "source": [
    "# Let's Calculate the Skewness and Kurtosis of Our normal distribution"
   ]
  },
  {
   "cell_type": "code",
   "execution_count": 9,
   "metadata": {},
   "outputs": [],
   "source": [
    "import scipy.stats as stats"
   ]
  },
  {
   "cell_type": "code",
   "execution_count": 10,
   "metadata": {},
   "outputs": [
    {
     "data": {
      "text/plain": [
       "0.00022861550247834481"
      ]
     },
     "execution_count": 10,
     "metadata": {},
     "output_type": "execute_result"
    }
   ],
   "source": [
    "stats.skew(pop)"
   ]
  },
  {
   "cell_type": "code",
   "execution_count": 11,
   "metadata": {},
   "outputs": [
    {
     "data": {
      "text/plain": [
       "-0.005837588254301362"
      ]
     },
     "execution_count": 11,
     "metadata": {},
     "output_type": "execute_result"
    }
   ],
   "source": [
    "stats.kurtosis(pop)"
   ]
  },
  {
   "cell_type": "code",
   "execution_count": 12,
   "metadata": {},
   "outputs": [
    {
     "data": {
      "text/plain": [
       "2.9941624117456986"
      ]
     },
     "execution_count": 12,
     "metadata": {},
     "output_type": "execute_result"
    }
   ],
   "source": [
    "stats.kurtosis(pop , fisher=False)"
   ]
  },
  {
   "cell_type": "code",
   "execution_count": 13,
   "metadata": {},
   "outputs": [
    {
     "data": {
      "text/plain": [
       "DescribeResult(nobs=1000000, minmax=(90.78574017842989, 109.25515988525538), mean=100.00125900261469, variance=4.00207269828936, skewness=0.00022861550247834481, kurtosis=-0.005837588254301362)"
      ]
     },
     "execution_count": 13,
     "metadata": {},
     "output_type": "execute_result"
    }
   ],
   "source": [
    "stats.describe(pop)"
   ]
  },
  {
   "cell_type": "markdown",
   "metadata": {},
   "source": [
    "From the above we can read we have \n",
    "+ num of observations of 100000 , min 90 , max 109 , $\\mu$ (mean) 100 , $\\sigma$2 (variance) = 4 etc.."
   ]
  },
  {
   "cell_type": "code",
   "execution_count": null,
   "metadata": {},
   "outputs": [],
   "source": []
  },
  {
   "cell_type": "markdown",
   "metadata": {},
   "source": [
    "# Normal Distrubtion Exercise"
   ]
  },
  {
   "cell_type": "markdown",
   "metadata": {},
   "source": [
    "## A quick refresher! \n",
    "\n",
    "Here's the formula for the normal distribution density function once more:\n",
    "\n",
    "$$ \\large N(x) = \\dfrac{1}{\\sigma \\sqrt {2\\pi }}e^{-\\dfrac{(x-\\mu)^2}{2\\sigma^2}}$$\n",
    "\n",
    "Here, \n",
    "- $\\mu$ is the mean\n",
    "- $\\sigma$ is the standard deviation\n",
    "- $\\pi \\approx 3.14159 $ \n",
    "- $ e \\approx 2.71828 $\n"
   ]
  },
  {
   "cell_type": "markdown",
   "metadata": {},
   "source": [
    "## First generate a normal distribution containing 5000 values with $\\mu=14$ and $\\sigma = 2.8$"
   ]
  },
  {
   "cell_type": "code",
   "execution_count": 14,
   "metadata": {},
   "outputs": [],
   "source": [
    "mu , sigma = 14, 2.8\n",
    "n = 5000\n",
    "s = np.random.normal(mu,sigma,n)"
   ]
  },
  {
   "cell_type": "markdown",
   "metadata": {},
   "source": [
    "## Calculate a normalized histogram for this distribution in matplotlib, with bin size = 20\n",
    "\n",
    "Make sure to get the bin positions and counts for each of the obtained bins. You can use [official documentation](https://matplotlib.org/api/_as_gen/matplotlib.pyplot.hist.html) to view input and output options for `plt.hist()`"
   ]
  },
  {
   "cell_type": "code",
   "execution_count": 15,
   "metadata": {},
   "outputs": [
    {
     "data": {
      "image/png": "[encoded data removed]",
      "text/plain": [
       "<Figure size 432x288 with 1 Axes>"
      ]
     },
     "metadata": {
      "needs_background": "light"
     },
     "output_type": "display_data"
    }
   ],
   "source": [
    "count, bins, ignored = plt.hist(s, 20, density=True)"
   ]
  },
  {
   "cell_type": "markdown",
   "metadata": {},
   "source": [
    "## Use the formula to calculate the density function with $\\mu$, $\\sigma$ and bin information obtained before"
   ]
  },
  {
   "cell_type": "markdown",
   "metadata": {},
   "source": [
    "### Calculate the normal Density function "
   ]
  },
  {
   "cell_type": "code",
   "execution_count": 19,
   "metadata": {},
   "outputs": [],
   "source": [
    "density = 1/(sigma * np.sqrt(2 * np.pi)) * np.exp( - (bins - mu)**2 / (2 * sigma**2))"
   ]
  },
  {
   "cell_type": "markdown",
   "metadata": {},
   "source": [
    "# Plot a histogram and the above density function"
   ]
  },
  {
   "cell_type": "code",
   "execution_count": 20,
   "metadata": {},
   "outputs": [
    {
     "data": {
      "image/png": "[encoded data removed]",
      "text/plain": [
       "<Figure size 432x288 with 1 Axes>"
      ]
     },
     "metadata": {
      "needs_background": "light"
     },
     "output_type": "display_data"
    }
   ],
   "source": [
    "# Plot histogram along with the density function\n",
    "plt.hist(s, 20, density= True)\n",
    "plt.plot(bins, density)\n",
    "plt.show()"
   ]
  },
  {
   "cell_type": "markdown",
   "metadata": {},
   "source": [
    "## Visualize the distribution using seaborn and plot the KDE"
   ]
  },
  {
   "cell_type": "code",
   "execution_count": 22,
   "metadata": {},
   "outputs": [
    {
     "data": {
      "image/png": "[encoded data removed]",
      "text/plain": [
       "<Figure size 432x288 with 1 Axes>"
      ]
     },
     "metadata": {
      "needs_background": "light"
     },
     "output_type": "display_data"
    }
   ],
   "source": [
    "import seaborn as sns\n",
    "sns.distplot(s, bins=20, kde=True);"
   ]
  },
  {
   "cell_type": "markdown",
   "metadata": {},
   "source": [
    "+ In this exercise, you learned how to generate random normal distributions in Python using Numpy. You also calculated the density for normal distributions using the general formula as well as seaborn's KDE. Next, you'll move on to learn about the standard normal distribution and how normal distributions are used to answer analytical questions."
   ]
  },
  {
   "cell_type": "code",
   "execution_count": null,
   "metadata": {},
   "outputs": [],
   "source": []
  },
  {
   "cell_type": "code",
   "execution_count": 23,
   "metadata": {},
   "outputs": [],
   "source": [
    "import pandas as pd\n",
    "import warnings\n",
    "warnings.filterwarnings(\"ignore\")"
   ]
  },
  {
   "cell_type": "code",
   "execution_count": 24,
   "metadata": {},
   "outputs": [
    {
     "data": {
      "text/html": [
       "<div>\n",
       "<style scoped>\n",
       "    .dataframe tbody tr th:only-of-type {\n",
       "        vertical-align: middle;\n",
       "    }\n",
       "\n",
       "    .dataframe tbody tr th {\n",
       "        vertical-align: top;\n",
       "    }\n",
       "\n",
       "    .dataframe thead th {\n",
       "        text-align: right;\n",
       "    }\n",
       "</style>\n",
       "<table border=\"1\" class=\"dataframe\">\n",
       "  <thead>\n",
       "    <tr style=\"text-align: right;\">\n",
       "      <th></th>\n",
       "      <th>Unnamed: 0</th>\n",
       "      <th>year</th>\n",
       "      <th>age</th>\n",
       "      <th>maritl</th>\n",
       "      <th>race</th>\n",
       "      <th>education</th>\n",
       "      <th>region</th>\n",
       "      <th>jobclass</th>\n",
       "      <th>health</th>\n",
       "      <th>health_ins</th>\n",
       "      <th>logwage</th>\n",
       "      <th>wage</th>\n",
       "    </tr>\n",
       "  </thead>\n",
       "  <tbody>\n",
       "    <tr>\n",
       "      <th>0</th>\n",
       "      <td>231655</td>\n",
       "      <td>2006</td>\n",
       "      <td>18</td>\n",
       "      <td>1. Never Married</td>\n",
       "      <td>1. White</td>\n",
       "      <td>1. &lt; HS Grad</td>\n",
       "      <td>2. Middle Atlantic</td>\n",
       "      <td>1. Industrial</td>\n",
       "      <td>1. &lt;=Good</td>\n",
       "      <td>2. No</td>\n",
       "      <td>4.318063</td>\n",
       "      <td>75.043154</td>\n",
       "    </tr>\n",
       "    <tr>\n",
       "      <th>1</th>\n",
       "      <td>86582</td>\n",
       "      <td>2004</td>\n",
       "      <td>24</td>\n",
       "      <td>1. Never Married</td>\n",
       "      <td>1. White</td>\n",
       "      <td>4. College Grad</td>\n",
       "      <td>2. Middle Atlantic</td>\n",
       "      <td>2. Information</td>\n",
       "      <td>2. &gt;=Very Good</td>\n",
       "      <td>2. No</td>\n",
       "      <td>4.255273</td>\n",
       "      <td>70.476020</td>\n",
       "    </tr>\n",
       "    <tr>\n",
       "      <th>2</th>\n",
       "      <td>161300</td>\n",
       "      <td>2003</td>\n",
       "      <td>45</td>\n",
       "      <td>2. Married</td>\n",
       "      <td>1. White</td>\n",
       "      <td>3. Some College</td>\n",
       "      <td>2. Middle Atlantic</td>\n",
       "      <td>1. Industrial</td>\n",
       "      <td>1. &lt;=Good</td>\n",
       "      <td>1. Yes</td>\n",
       "      <td>4.875061</td>\n",
       "      <td>130.982177</td>\n",
       "    </tr>\n",
       "    <tr>\n",
       "      <th>3</th>\n",
       "      <td>155159</td>\n",
       "      <td>2003</td>\n",
       "      <td>43</td>\n",
       "      <td>2. Married</td>\n",
       "      <td>3. Asian</td>\n",
       "      <td>4. College Grad</td>\n",
       "      <td>2. Middle Atlantic</td>\n",
       "      <td>2. Information</td>\n",
       "      <td>2. &gt;=Very Good</td>\n",
       "      <td>1. Yes</td>\n",
       "      <td>5.041393</td>\n",
       "      <td>154.685293</td>\n",
       "    </tr>\n",
       "    <tr>\n",
       "      <th>4</th>\n",
       "      <td>11443</td>\n",
       "      <td>2005</td>\n",
       "      <td>50</td>\n",
       "      <td>4. Divorced</td>\n",
       "      <td>1. White</td>\n",
       "      <td>2. HS Grad</td>\n",
       "      <td>2. Middle Atlantic</td>\n",
       "      <td>2. Information</td>\n",
       "      <td>1. &lt;=Good</td>\n",
       "      <td>1. Yes</td>\n",
       "      <td>4.318063</td>\n",
       "      <td>75.043154</td>\n",
       "    </tr>\n",
       "  </tbody>\n",
       "</table>\n",
       "</div>"
      ],
      "text/plain": [
       "   Unnamed: 0  year  age            maritl      race        education  \\\n",
       "0      231655  2006   18  1. Never Married  1. White     1. < HS Grad   \n",
       "1       86582  2004   24  1. Never Married  1. White  4. College Grad   \n",
       "2      161300  2003   45        2. Married  1. White  3. Some College   \n",
       "3      155159  2003   43        2. Married  3. Asian  4. College Grad   \n",
       "4       11443  2005   50       4. Divorced  1. White       2. HS Grad   \n",
       "\n",
       "               region        jobclass          health health_ins   logwage  \\\n",
       "0  2. Middle Atlantic   1. Industrial       1. <=Good      2. No  4.318063   \n",
       "1  2. Middle Atlantic  2. Information  2. >=Very Good      2. No  4.255273   \n",
       "2  2. Middle Atlantic   1. Industrial       1. <=Good     1. Yes  4.875061   \n",
       "3  2. Middle Atlantic  2. Information  2. >=Very Good     1. Yes  5.041393   \n",
       "4  2. Middle Atlantic  2. Information       1. <=Good     1. Yes  4.318063   \n",
       "\n",
       "         wage  \n",
       "0   75.043154  \n",
       "1   70.476020  \n",
       "2  130.982177  \n",
       "3  154.685293  \n",
       "4   75.043154  "
      ]
     },
     "execution_count": 24,
     "metadata": {},
     "output_type": "execute_result"
    }
   ],
   "source": [
    "data = pd.read_csv(\"../../data/wage.csv\")\n",
    "data.head()"
   ]
  },
  {
   "cell_type": "code",
   "execution_count": 25,
   "metadata": {},
   "outputs": [
    {
     "data": {
      "text/plain": [
       "(3000, 12)"
      ]
     },
     "execution_count": 25,
     "metadata": {},
     "output_type": "execute_result"
    }
   ],
   "source": [
    "data.shape"
   ]
  },
  {
   "cell_type": "code",
   "execution_count": 26,
   "metadata": {},
   "outputs": [
    {
     "data": {
      "text/plain": [
       "False"
      ]
     },
     "execution_count": 26,
     "metadata": {},
     "output_type": "execute_result"
    }
   ],
   "source": [
    "data.isna().any().any()"
   ]
  },
  {
   "cell_type": "code",
   "execution_count": 27,
   "metadata": {},
   "outputs": [
    {
     "data": {
      "text/html": [
       "<div>\n",
       "<style scoped>\n",
       "    .dataframe tbody tr th:only-of-type {\n",
       "        vertical-align: middle;\n",
       "    }\n",
       "\n",
       "    .dataframe tbody tr th {\n",
       "        vertical-align: top;\n",
       "    }\n",
       "\n",
       "    .dataframe thead th {\n",
       "        text-align: right;\n",
       "    }\n",
       "</style>\n",
       "<table border=\"1\" class=\"dataframe\">\n",
       "  <thead>\n",
       "    <tr style=\"text-align: right;\">\n",
       "      <th></th>\n",
       "      <th>Unnamed: 0</th>\n",
       "      <th>year</th>\n",
       "      <th>age</th>\n",
       "      <th>logwage</th>\n",
       "      <th>wage</th>\n",
       "    </tr>\n",
       "  </thead>\n",
       "  <tbody>\n",
       "    <tr>\n",
       "      <th>count</th>\n",
       "      <td>3000.000000</td>\n",
       "      <td>3000.000000</td>\n",
       "      <td>3000.000000</td>\n",
       "      <td>3000.000000</td>\n",
       "      <td>3000.000000</td>\n",
       "    </tr>\n",
       "    <tr>\n",
       "      <th>mean</th>\n",
       "      <td>218883.373000</td>\n",
       "      <td>2005.791000</td>\n",
       "      <td>42.414667</td>\n",
       "      <td>4.653905</td>\n",
       "      <td>111.703608</td>\n",
       "    </tr>\n",
       "    <tr>\n",
       "      <th>std</th>\n",
       "      <td>145654.072587</td>\n",
       "      <td>2.026167</td>\n",
       "      <td>11.542406</td>\n",
       "      <td>0.351753</td>\n",
       "      <td>41.728595</td>\n",
       "    </tr>\n",
       "    <tr>\n",
       "      <th>min</th>\n",
       "      <td>7373.000000</td>\n",
       "      <td>2003.000000</td>\n",
       "      <td>18.000000</td>\n",
       "      <td>3.000000</td>\n",
       "      <td>20.085537</td>\n",
       "    </tr>\n",
       "    <tr>\n",
       "      <th>25%</th>\n",
       "      <td>85622.250000</td>\n",
       "      <td>2004.000000</td>\n",
       "      <td>33.750000</td>\n",
       "      <td>4.447158</td>\n",
       "      <td>85.383940</td>\n",
       "    </tr>\n",
       "    <tr>\n",
       "      <th>50%</th>\n",
       "      <td>228799.500000</td>\n",
       "      <td>2006.000000</td>\n",
       "      <td>42.000000</td>\n",
       "      <td>4.653213</td>\n",
       "      <td>104.921507</td>\n",
       "    </tr>\n",
       "    <tr>\n",
       "      <th>75%</th>\n",
       "      <td>374759.500000</td>\n",
       "      <td>2008.000000</td>\n",
       "      <td>51.000000</td>\n",
       "      <td>4.857332</td>\n",
       "      <td>128.680488</td>\n",
       "    </tr>\n",
       "    <tr>\n",
       "      <th>max</th>\n",
       "      <td>453870.000000</td>\n",
       "      <td>2009.000000</td>\n",
       "      <td>80.000000</td>\n",
       "      <td>5.763128</td>\n",
       "      <td>318.342430</td>\n",
       "    </tr>\n",
       "  </tbody>\n",
       "</table>\n",
       "</div>"
      ],
      "text/plain": [
       "          Unnamed: 0         year          age      logwage         wage\n",
       "count    3000.000000  3000.000000  3000.000000  3000.000000  3000.000000\n",
       "mean   218883.373000  2005.791000    42.414667     4.653905   111.703608\n",
       "std    145654.072587     2.026167    11.542406     0.351753    41.728595\n",
       "min      7373.000000  2003.000000    18.000000     3.000000    20.085537\n",
       "25%     85622.250000  2004.000000    33.750000     4.447158    85.383940\n",
       "50%    228799.500000  2006.000000    42.000000     4.653213   104.921507\n",
       "75%    374759.500000  2008.000000    51.000000     4.857332   128.680488\n",
       "max    453870.000000  2009.000000    80.000000     5.763128   318.342430"
      ]
     },
     "execution_count": 27,
     "metadata": {},
     "output_type": "execute_result"
    }
   ],
   "source": [
    "data.describe()"
   ]
  },
  {
   "cell_type": "code",
   "execution_count": null,
   "metadata": {},
   "outputs": [],
   "source": []
  },
  {
   "cell_type": "markdown",
   "metadata": {},
   "source": [
    "# Calculate the mean age for employees"
   ]
  },
  {
   "cell_type": "code",
   "execution_count": 28,
   "metadata": {},
   "outputs": [
    {
     "data": {
      "text/plain": [
       "42.41466666666667"
      ]
     },
     "execution_count": 28,
     "metadata": {},
     "output_type": "execute_result"
    }
   ],
   "source": [
    "age_mean = data.age.mean()\n",
    "age_mean"
   ]
  },
  {
   "cell_type": "code",
   "execution_count": null,
   "metadata": {},
   "outputs": [],
   "source": []
  },
  {
   "cell_type": "markdown",
   "metadata": {},
   "source": [
    "# Calculate the median Age"
   ]
  },
  {
   "cell_type": "code",
   "execution_count": 29,
   "metadata": {},
   "outputs": [
    {
     "data": {
      "text/plain": [
       "42.0"
      ]
     },
     "execution_count": 29,
     "metadata": {},
     "output_type": "execute_result"
    }
   ],
   "source": [
    "age_median = data.age.median()\n",
    "age_median"
   ]
  },
  {
   "cell_type": "markdown",
   "metadata": {},
   "source": [
    "# Plot to see if the Age column is Normally distributed or Not?"
   ]
  },
  {
   "cell_type": "code",
   "execution_count": 30,
   "metadata": {},
   "outputs": [
    {
     "name": "stdout",
     "output_type": "stream",
     "text": [
      "Mean of Age : 42.41466666666667\n",
      "Median of Age : 42.0\n"
     ]
    },
    {
     "data": {
      "image/png": "[encoded data removed]",
      "text/plain": [
       "<Figure size 432x288 with 1 Axes>"
      ]
     },
     "metadata": {
      "needs_background": "light"
     },
     "output_type": "display_data"
    }
   ],
   "source": [
    "data[\"age\"].plot(kind=\"hist\" , bins=80)\n",
    "print(\"Mean of Age : {}\".format(age_mean))\n",
    "print(\"Median of Age : {}\".format(age_median))"
   ]
  },
  {
   "cell_type": "markdown",
   "metadata": {},
   "source": [
    "# Use Seaborn to check the distribution "
   ]
  },
  {
   "cell_type": "code",
   "execution_count": 31,
   "metadata": {},
   "outputs": [
    {
     "data": {
      "image/png": "[encoded data removed]",
      "text/plain": [
       "<Figure size 432x288 with 1 Axes>"
      ]
     },
     "metadata": {
      "needs_background": "light"
     },
     "output_type": "display_data"
    }
   ],
   "source": [
    "sns.distplot(data.age , color=\"blue\")\n",
    "plt.show()"
   ]
  },
  {
   "cell_type": "code",
   "execution_count": null,
   "metadata": {},
   "outputs": [],
   "source": []
  },
  {
   "cell_type": "markdown",
   "metadata": {},
   "source": [
    "# Checking for skewness and normal distribution of logwage"
   ]
  },
  {
   "cell_type": "markdown",
   "metadata": {},
   "source": [
    "### Mean"
   ]
  },
  {
   "cell_type": "code",
   "execution_count": 32,
   "metadata": {},
   "outputs": [
    {
     "data": {
      "text/plain": [
       "4.653905072211963"
      ]
     },
     "execution_count": 32,
     "metadata": {},
     "output_type": "execute_result"
    }
   ],
   "source": [
    "logwage_mean = data.logwage.mean()\n",
    "logwage_mean"
   ]
  },
  {
   "cell_type": "markdown",
   "metadata": {},
   "source": [
    "### Median"
   ]
  },
  {
   "cell_type": "code",
   "execution_count": 33,
   "metadata": {},
   "outputs": [
    {
     "data": {
      "text/plain": [
       "4.6532125137753395"
      ]
     },
     "execution_count": 33,
     "metadata": {},
     "output_type": "execute_result"
    }
   ],
   "source": [
    "logwage_median = data.logwage.median()\n",
    "logwage_median"
   ]
  },
  {
   "cell_type": "markdown",
   "metadata": {},
   "source": [
    "# Plot the Distribution for logwage"
   ]
  },
  {
   "cell_type": "code",
   "execution_count": 34,
   "metadata": {},
   "outputs": [
    {
     "data": {
      "image/png": "[encoded data removed]",
      "text/plain": [
       "<Figure size 432x288 with 1 Axes>"
      ]
     },
     "metadata": {
      "needs_background": "light"
     },
     "output_type": "display_data"
    },
    {
     "name": "stdout",
     "output_type": "stream",
     "text": [
      "Mean of logwage :4.653905072211963\n",
      "Median of logwage :4.6532125137753395\n"
     ]
    }
   ],
   "source": [
    "data['logwage'].plot(kind='hist' , bins=80)\n",
    "plt.xlabel('Mean of logwage')\n",
    "plt.ylabel('frequency')\n",
    "plt.show()\n",
    "\n",
    "print('Mean of logwage :{}'.format(logwage_mean))\n",
    "print('Median of logwage :{}'.format(logwage_median))"
   ]
  },
  {
   "cell_type": "markdown",
   "metadata": {},
   "source": [
    "# Let's take a look at the distribution"
   ]
  },
  {
   "cell_type": "code",
   "execution_count": 35,
   "metadata": {},
   "outputs": [
    {
     "data": {
      "image/png": "[encoded data removed]",
      "text/plain": [
       "<Figure size 432x288 with 1 Axes>"
      ]
     },
     "metadata": {
      "needs_background": "light"
     },
     "output_type": "display_data"
    }
   ],
   "source": [
    "sns.distplot(data.logwage , color = 'red');"
   ]
  },
  {
   "cell_type": "markdown",
   "metadata": {},
   "source": [
    "+ We can see from the above distrubition we have some some outliers and the column is slightly skewed"
   ]
  },
  {
   "cell_type": "markdown",
   "metadata": {},
   "source": [
    "# Checking for Skewness And Distribution of Wage"
   ]
  },
  {
   "cell_type": "code",
   "execution_count": 36,
   "metadata": {},
   "outputs": [
    {
     "data": {
      "text/plain": [
       "111.70360820174345"
      ]
     },
     "execution_count": 36,
     "metadata": {},
     "output_type": "execute_result"
    }
   ],
   "source": [
    "wage_mean = data.wage.mean()\n",
    "wage_mean"
   ]
  },
  {
   "cell_type": "code",
   "execution_count": 37,
   "metadata": {},
   "outputs": [
    {
     "data": {
      "text/plain": [
       "104.921506533664"
      ]
     },
     "execution_count": 37,
     "metadata": {},
     "output_type": "execute_result"
    }
   ],
   "source": [
    "wage_median = data.wage.median()\n",
    "wage_median"
   ]
  },
  {
   "cell_type": "code",
   "execution_count": 38,
   "metadata": {},
   "outputs": [
    {
     "name": "stdout",
     "output_type": "stream",
     "text": [
      "Mean of wage :111.70360820174345\n",
      "Median of wage :104.921506533664\n"
     ]
    },
    {
     "data": {
      "image/png": "[encoded data removed]",
      "text/plain": [
       "<Figure size 432x288 with 1 Axes>"
      ]
     },
     "metadata": {
      "needs_background": "light"
     },
     "output_type": "display_data"
    }
   ],
   "source": [
    "data['wage'].plot(kind='hist' , bins=80)\n",
    "\n",
    "print('Mean of wage :{}'.format(wage_mean))\n",
    "print('Median of wage :{}'.format(wage_median))"
   ]
  },
  {
   "cell_type": "markdown",
   "metadata": {},
   "source": [
    "# Check the distribution"
   ]
  },
  {
   "cell_type": "code",
   "execution_count": 39,
   "metadata": {},
   "outputs": [
    {
     "data": {
      "image/png": "[encoded data removed]",
      "text/plain": [
       "<Figure size 432x288 with 1 Axes>"
      ]
     },
     "metadata": {
      "needs_background": "light"
     },
     "output_type": "display_data"
    }
   ],
   "source": [
    "sns.distplot(data.wage , color = '#880000');"
   ]
  },
  {
   "cell_type": "markdown",
   "metadata": {},
   "source": [
    "+ We can see from the above distrubition we have some some outliers and the column is slightly skewed"
   ]
  },
  {
   "cell_type": "markdown",
   "metadata": {},
   "source": [
    "\n",
    "## Summary \n",
    "\n",
    "This lesson provides an introduction to normal distributions, the most common distribution family in the field of statistics and data analysis. You learned about the key characteristics of normal distributions, their density function based on mean and standard deviations, and briefly discussed the reasons behind their ubiquitous nature. "
   ]
  },
  {
   "cell_type": "code",
   "execution_count": null,
   "metadata": {},
   "outputs": [],
   "source": []
  }
 ],
 "metadata": {
  "kernelspec": {
   "display_name": "Python [conda env:learn-env] *",
   "language": "python",
   "name": "conda-env-learn-env-py"
  },
  "language_info": {
   "codemirror_mode": {
    "name": "ipython",
    "version": 3
   },
   "file_extension": ".py",
   "mimetype": "text/x-python",
   "name": "python",
   "nbconvert_exporter": "python",
   "pygments_lexer": "ipython3",
   "version": "3.6.10"
  }
 },
 "nbformat": 4,
 "nbformat_minor": 4
}
