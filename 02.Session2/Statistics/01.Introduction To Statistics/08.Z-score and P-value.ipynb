{
 "cells": [
  {
   "cell_type": "markdown",
   "metadata": {},
   "source": [
    "# Statistical Testing with z-score and p-value\n",
    "![hands](https://media.giphy.com/media/3oz8xyBP22S5b6gmsw/giphy.gif)\n",
    "\n",
    "## Introduction\n",
    "\n",
    "In this lesson, you'll learn how the $z$-score is important when performing statistical tests. This lesson is meant to be a segue from standard normal distributions into testing, but you'll learn about testing in more detail later!\n",
    "\n",
    "## Objectives\n",
    "\n",
    "You will be able to:\n",
    "\n",
    "* Compare and contrast a population and a sample\n",
    "* Explain what is meant by a \"representative\" sample\n",
    "* Use the z-table and `scipy` methods to acquire the p value for a given z-score\n",
    "* Define what null and alternative hypotheses mean and when they are used\n",
    "* Define the significance threshold and its relation to p-value\n",
    "\n",
    "\n",
    "## Statistical significance\n",
    "\n",
    "Statistical significance is one of those terms that is often used when someone claims that some data collection and analysis proves a **certain point** (or hypothesis). The terminology around statistical significance is often not well understood, however, it is a simple idea that can be understood fairly easily.\n",
    "\n",
    "Statistical significance is based on a few concepts: samples and populations, hypothesis testing, the normal distribution, and p-values. In this lesson, we'll either repeat or introduce all of the foundational concepts associated with statistical significance.\n",
    "\n",
    "First, let's look at how to differentiate between samples and populations. \n",
    "\n",
    "\n",
    "## Population vs sample\n",
    "\n",
    "The first step of every statistical analysis you will perform is the population vs. sample check or to determine whether the data you are dealing with is either a **population** or a **sample**.\n",
    "\n",
    ">A **population** is the collection of **all the items of interest in a study**. The numbers you obtain when using a population are called **parameters**.\n",
    "\n",
    "> A **sample** is a **subset of the population**. The numbers you obtain when working with a sample are called **statistics**.\n",
    "\n",
    "\n",
    "### Example\n",
    "\n",
    "Imagine we want to conduct a survey of the job prospects of the students studying at your School.\n",
    "\n",
    "#### What is the population?\n",
    "\n",
    "You can go ahead and contact all the students studying at your School campuses around the world in our physical campuses. But that would not be the whole population of students. A lot of students take courses online. Including those students from all over the world would make a COMPLETE student population at the school. Also, by the time you finish contacting all these students, you would realize that a lot of new students have enrolled in the courses since you last surveyed. \n",
    "\n",
    "So you can see that populations are hard to describe and inspect in real life.\n",
    "\n",
    "#### What is a sample?\n",
    "A sample is much easier to describe and inspect. Conducting a survey on a sample is less time-consuming and less costly too. Time and resources are the main reasons we prefer drawing samples over working with entire populations. \n",
    "\n",
    "As we first wanted to do, we can just go to the London campus. We can visit during the lunch hour in the canteen because we know it will be full of people.  We can then interview 50 of them. This would be called a student sample.\n",
    "\n",
    "<img src=\"../../../images/sample.png\" width =\"600\">\n",
    "\n",
    "#### Is the sample \"representative\" ?\n",
    "\n",
    "So what are the chances these 50 students can provide us answers that are a true representation of the whole student population of your School globally? You guessed it, the chances are pretty low. The sample is _neither_ **random** nor **representative** of the whole population.\n",
    "\n",
    ">A random sample is collected when each member of the sample is chosen from the population strictly by chance. In order for the sample to be random, each member should be equally likely to be chosen.\n",
    "\n",
    "It is clear that these two requirements were violated by picking 50 students from the London campus.\n",
    "\n",
    "#### How can you make it a representative sample?\n",
    "\n",
    "> A representative sample is a subset of the population that accurately reflects the members of the entire population\n",
    "\n",
    "Our sample represented the London campus students who have lunch at the canteen. If we ran a survey about job prospects of students who eat in the London campus canteen, we would have done well.\n",
    "\n",
    "By now, you must be wondering how to draw a sample that is both random and representative. Well, the safest way would be to get access to the student database with **all students around the world** and contact individuals in a random manner. \n",
    "\n",
    "<img src=\"../../../images/rep_sample.png\" width =\"650\">\n",
    "\n",
    "We said populations are hard to define and observe. Then, we saw that sampling is difficult. But samples have two big advantages: \n",
    "\n",
    "1. Once well-understood, it is not that hard to recognize if a sample is a representative one\n",
    "2. Statistical tests are designed to work with incomplete data, so making a small sampling error is not always a problem\n",
    "\n",
    "Now that we understand using samples vs. populations, we can move on with statistical testing.\n",
    "\n",
    "## Statistical Testing\n",
    "\n",
    "There are a huge number of statistical tests and you will always try to select the one that best fits your research design. [This link](https://stats.idre.ucla.edu/spss/whatstat/what-statistical-analysis-should-i-usestatistical-analyses-using-spss/) provides a quick introduction to a number of testing criteria. We'll cover some of these in-depth later on.\n",
    "\n",
    "Right now, let’s talk about one of the most basic types of statistical testing techniques based on the $z$-score, the one-sample $z$-test.\n",
    "\n",
    "## The One-sample z-test\n",
    "\n",
    "The one-sample $z$-test is used when you want to know if your sample comes from a particular population.\n",
    "\n",
    "For instance, when collecting data from successive cohorts of students taking the Data Science at a University, you may want to know if this particular sample of students is similar to or different from the students in general. \n",
    "\n",
    "> **The one-sample $z$-test is used only for tests related to the sample mean.** \n",
    "\n",
    "When running a one-sample z-test, you test whether the average of the sample suggests that the students come from a certain population with a known mean or whether it may come from a different population.\n",
    "\n",
    "You already know what a $z$-score is and how to standardize a dataset into a $z$-distribution. By itself, the $z$-score doesn't provide a lot of information to conclude a question significantly (except for saying how many standard deviations some observation is from a mean). The real value from a $z$-test comes from comparing it against a **z-table**.\n",
    "\n",
    "## The z-table\n",
    "\n",
    "A $z$-table contains cumulative probabilities of a standard normal distribution up until a given $z$-score value. By transforming normal distributions with various means and standard deviations, you can use this $z$-table for any value that follows a normal distribution. The $z$-table is short for the “Standard Normal $z$-table”. \n",
    "\n",
    "> **The area under the whole of a normal distribution curve is 1, or 100 percent. The $z$-table helps by telling us what percentage is under the curve up to any particular point.**\n",
    "\n",
    "[Here is a link to an online version of z-table](http://www.z-table.com/).\n",
    "This lesson's GitHub repository also contains a pdf version of this table, `z-table.pdf`.\n",
    "\n",
    "- **The rows** of the table contain $z$-values in the form $x.x$ along the left margins of the table, specifying the ones and tenths.\n",
    "- **The columns** fine-tune these values to hundredths, allowing us to look up the probability of being below any standardized value $z$ of the form $x.xx$.\n",
    "\n",
    "You know that a cumulative probability is the sum of the probabilities of all values up until a given point. An easy example is the mean. The mean is the exact middle of the normal distribution, so we know that the sum of all probabilities of getting values from the left side up until the mean is 0.5. Also, the sum of probabilities from the mean to right tail would also sum up to 0.5. The mean is denoted by the red line in the image below.\n",
    "\n",
    "<img src=\"../../../images/snorm.png\" width=\"550\">\n",
    "\n",
    "When using the idea of cumulative probability in the context of the standard normal distribution, we look at the cumulative distribution until a point $z$.\n",
    "\n",
    "<img src=\"../../../images/cumprob.png\" width=\"530\">\n",
    "\n",
    "As the sum of all probabilities is equal to 1 or 100%, you can use the $z$-table to calculate probabilities on both sides of the $z$-score under the standard normal distribution.\n",
    "\n",
    "<img src=\"../../../images/cumprob2.png\" width=\"530\">\n",
    "\n",
    "Using $z$-scores, you can answer questions like \"how far is a value from the mean\" and \"how likely is a value this far from the mean to be from the same group of observations?\"\n",
    "\n",
    "### Example\n",
    "> What is the probability of a $z$-score being less than or equal to 1.5?\n",
    "\n",
    "To find the answer using the z-table, you have to go and look where the row for 1.5 intersects with the column for 0.00; this value is 0.9332. The $z$-table shows only “less than” probabilities so it gives you exactly what you need for this question. The probability of a $z$-score being less than or equal to 1.5 is 0.9332.\n",
    "\n",
    "> What is the probability of a $z$-score being greater or equal to 1.34?\n",
    "\n",
    "Use the $z$-table to find where the row for 1.3 intersects with the column for 0.04, which is 0.9099. Because the $z$-table gives you only \"less than\" probabilities, subtract P(Z < 1.34) from 1 (remember that the total probability is 1.00 or 100%). So, **1 - 0.9099 = 0.0901**. \n",
    "\n",
    "[Here is a short video on how to use a z-table](https://www.youtube.com/watch?v=lgwT6tDniko)\n",
    "\n",
    "## The z-table alternative in python \n",
    "\n",
    "When programming in Python, SciPy provides a handful of features so you won't have to go out consulting $z$-tables for automated analysis. For normal distributions, probabilities **up to the $z$-score** can be calculated with `.cdf`-method as shown below:"
   ]
  },
  {
   "cell_type": "code",
   "execution_count": 1,
   "metadata": {},
   "outputs": [
    {
     "name": "stdout",
     "output_type": "stream",
     "text": [
      "0.9331927987311419\n",
      "0.09012267246445238\n"
     ]
    }
   ],
   "source": [
    "# Z-table in Python \n",
    "import scipy.stats as stats\n",
    "\n",
    "# Probabilities up to z-score of 1.5\n",
    "print(stats.norm.cdf(1.5))\n",
    "\n",
    "# Probabilities greater than z-score of 1.34\n",
    "print (1-stats.norm.cdf(1.34))"
   ]
  },
  {
   "cell_type": "code",
   "execution_count": null,
   "metadata": {},
   "outputs": [],
   "source": []
  },
  {
   "cell_type": "markdown",
   "metadata": {},
   "source": [
    "## What Are Hypotheses ?\n",
    "![mmm](https://media.giphy.com/media/fVh9ha9rkHa03tsJit/giphy.gif)\n",
    "\n",
    "A very important aspect of statistical testing is setting up a hypothesis to be tested through data analysis.\n",
    "\n",
    "The hypothesis is a data scientist's initial understanding of an observation prior to the testing. This hypothesis is known as the **Alternative Hypothesis** (written as $H_a$).\n",
    "\n",
    "The opposite to the Alternative Hypothesis is known as a **Null Hypothesis** (written as $H_0$).\n",
    "\n",
    "The table below shows three sets of Null and Alternative Hypotheses. Each makes a statement about how the mean $\\mu$ is related to some hypothesized value $M$. \n",
    "\n",
    "\n",
    "| Set     | $H_0   $    | $H_a$ | Tails |\n",
    "|---------|-------|-------|-------|\n",
    "|<img width=30/>|<img width=100/>|<img width=100/>|<img width=50/>|\n",
    "| 1  | $\\mu= M $ |$\\mu \\neq M $ | 2  | \n",
    "| 2  | $\\mu \\geq M $ |$\\mu < M $ | 1  | \n",
    "| 3  | $\\mu \\leq M $ |$\\mu > M $ | 1  | \n",
    "\n",
    "Here the tails represent if we are testing both sides of the distribution or only one side.\n",
    "\n",
    "As an example, an analyst may want to check how effective a new drug is by setting an Alternative Hypothesis that the new drug reduces blood pressure by 10%.\n",
    "\n",
    "In this case, the Null Hypothesis states that the new drug has no effect on the patients. When performing hypothesis testing, you generally will try to reject the null hypothesis to obtain what we call \"Statistically Significant Results\". \n",
    "\n",
    "## P-value \n",
    "\n",
    "You will now learn about the **p-value** as a statistical summary of the compatibility between the observed data and what you would expect to see in a population assuming the statistical model is correct. The concepts of p-value and level of significance are vital components of hypothesis testing and methods like regression. However, they can be a little tricky to understand. We'll try to explain the concept in an easy, logical way. \n",
    "\n",
    "> In hypothesis testing you set a null hypothesis, then draw a sample, and test your null hypothesis based on that sample.\n",
    "\n",
    "For example, imagine your null hypothesis $H_0$ is that the population mean $\\mu$ is $\\mu=10$. Upon drawing a sample, you get a mean of $12$. **With the p-value, you are going to obtain a probability that, given a null hypothesis of $\\mu=10$, you would observe a sample mean of 12.** \n",
    "\n",
    "> If your p-value is low, you will reject your null hypothesis. You will basically say that **based on current evidence and testing, the null hypothesis is not true.**\n",
    "\n",
    "> If your p-value is high, you will fail to reject your null hypothesis. You will fail to reject the null hypothesis, that is, you will say that **based on current evidence and testing, the null hypothesis cannot be rejected.** \n",
    "\n",
    "You'll see that the phrase \"accepting a null hypothesis\" is not used. This is because conclusions of hypothesis tests will state that \"we reject $H_0$ in favor of $H_a$\" or that \"we cannot reject $H_0$ in favor of $H_a$\", which is less definitive and leaves room for errors while testing. You reject or fail to reject a null hypothesis based on the evidence you have.\n",
    "\n",
    ">It is important to understand what you have **assumed** and what you have **observed**\n",
    "\n",
    "You assumed your population mean is 10, without actually observing that. You have observed a sample mean of 12 after testing your sample.\n",
    "\n",
    "You then verify whether the sample mean you obtained is consistent with the population mean you have assumed. In other words, what are the chances of getting the result (sample mean) if the assumption is actually true (population mean). What is the probability that the sample mean is 12, assuming that the population mean is 10? \n",
    "\n",
    "**This chance or probability is called a p-value.**\n",
    "\n",
    "If your p-value is low, you say that that the result is **significant**, in the sense that you conclude that the sample mean is **significantly different** from the population mean.\n",
    "\n",
    "<img src=\"../../../images/pvalue.png\" width =\"700\">\n",
    "\n",
    "\n",
    "## What is the Significance Threshold (alpha, $\\alpha$)?\n",
    "![eye](https://media.giphy.com/media/l2JhzH7NKe4rg5c5y/giphy.gif)\n",
    "\n",
    "You noticed that we talked about \"high\" and \"low\" p-values, but that is pretty vague. What number is high and what number is low?\n",
    "\n",
    "This is where the significance level, also denoted as alpha or $\\alpha$ comes in. $\\alpha$ is the threshold value that defines whether a p-value is low or high. You can define your alpha level yourself, but you'll see that an alpha level of $\\alpha = 0.05$ is most commonly used. You'll see $\\alpha = 0.1$ and $\\alpha = 0.01$ appear frequently as well. \n",
    "\n",
    "**What level of alpha to use depends on your situation**. Choosing a lower alpha leads to a test that is more strict, so you will be less likely to be able to reject your null-hypothesis (which is generally what you want). Choosing a higher alpha or significance level leads to a higher probability of rejecting the null-hypothesis. The downside of using a higher alpha level, however, is that you run a higher risk of falsely concluding that there is a difference between your null-hypothesis and your observed results when there actually isn't any.\n",
    "\n",
    "This may all seem a little vague for now. You'll get a better understanding when we dig deeper later on.\n",
    "\n"
   ]
  },
  {
   "cell_type": "markdown",
   "metadata": {},
   "source": [
    "# One-Sample z-Test\n",
    "\n",
    "## Introduction\n",
    "\n",
    "A one-sample $z$-test is the most basic type of hypothesis test. It is performed when the population means and standard deviation are known. This makes the analysis very simple. The main takeaway from this lesson and the next lab is to have an idea around the process of hypothesis testing and understanding test statistics and p-values. \n",
    "\n",
    "## Objectives:\n",
    "You will be able to:\n",
    "\n",
    "* Explain use cases for a 1-sample z-test\n",
    "* Set up null and alternative hypotheses\n",
    "* Use the z-table and scipy methods to acquire the p value for a given z-score\n",
    "* Calculate and interpret p-value for significance of results\n",
    "\n",
    "## One-Sample $z$-test\n",
    "\n",
    "**The one-sample $z$-test is best suited for situations where you want to investigate whether a given \"sample\" comes from a particular \"population\".**\n",
    "\n",
    "The best way to explain how one-sample $z$-tests work is by using an example.\n",
    "\n",
    "Let's set up a problem scenario (known as a research question or analytical question) and apply a one-sample $z$-test, while explaining all the steps required to call our results \"statistically significant\".\n",
    "\n",
    "## The Analytical Question \n",
    "\n",
    "A data scientist wants to examine if there is an effect on IQ scores when using tutors. To analyze this, she conducts IQ tests on a sample of 40 students and wants to compare her students' IQ to the general population IQ. The way an IQ score is structured, we know that a standardized IQ test has a mean of 100 and a standard deviation of 16. When she tests her group of students, however, she gets an average IQ of 103. Based on this finding, does tutoring make a difference?\n",
    "\n",
    "## Step 1: State Your Hypotheses\n",
    "\n",
    "### The Alternative Hypothesis ($H_a$)\n",
    "\n",
    "The alternative hypothesis always reflects the idea or theory that needs to be tested. For this problem, you want to test if tutoring has resulted in a significant increase in student IQ. So, you would write it down as:\n",
    "\n",
    "> The sample mean is **significantly** bigger than the population mean\n",
    "\n",
    "Again, significance is key here. If we denote the sample mean as $\\bar{x}$, and population mean as mu ($\\mu$), you can write the alternative hypothesis as:\n",
    "\n",
    "$$\\large H_a\\text{:   }\\mu < \\bar{x}$$\n",
    "\n",
    "The alternative hypothesis here is that the population mean $\\mu$ is less than the sample mean $\\bar{x}$. In other situations, you could check for both possibilities of $\\mu$ being smaller OR bigger than by checking  $\\mu \\neq \\bar{x}$. \n",
    "\n",
    "Maybe the tutoring results in a lower IQ... Who knows!\n",
    "\n",
    "For now, you'll just check for a **significant increase**, for now, to keep the process simple.\n",
    "\n",
    "### The Null Hypothesis ($H_0$)\n",
    "\n",
    "For a one-sample $z$-test, you define your null hypothesis as there being **no significant difference** between the specified sample and population means. In other words, under the null hypothesis, you assume that any observed (generally small) difference between the sample and population means may be present due to sampling or experimental error. Considering this, for this problem, you can define a null hypothesis ($H_0$) as:\n",
    "\n",
    "> There is **no significant difference** between the sample mean and population mean \n",
    "\n",
    "Remember the emphasis is on a _significant_ difference, rather than just any difference as a natural result of taking samples.\n",
    "\n",
    "Denoting the sample mean as $\\bar{x}$, and the population mean as $\\mu$, you can write the null hypothesis as:\n",
    "\n",
    "$$\\large H_0\\text{:   }\\mu \\geq \\bar{x}$$\n",
    "\n",
    "\n",
    "## Step 2: Specify a Significance Level (alpha)\n",
    "\n",
    "Now that your hypotheses are in place, you have to decide on your significance level alpha ($\\alpha$) as a cut-off value to define whether you can reject your null hypothesis or not.\n",
    "\n",
    "As discussed previously, often, $\\alpha$ is set to 0.05, which also has as a side-effect that there is a 5 percent chance that you will reject the null hypothesis when it is true.\n",
    "\n",
    "Later, you'll see that using $\\alpha$, you'll formulate your test result as: \"with a confidence level of 95%, we can state that...\". For a $z$-distribution, this can be shown as below:\n",
    "\n",
    "<img src=\"../../../images/hypothesis_test.png\" width=670>\n",
    "\n",
    "If you test both sides of the distribution ($\\mu \\neq \\bar{x}$, when $\\mu$ can either be smaller OR bigger), you need to perform a two-tail test to see if tutoring results in lower OR higher IQs.\n",
    "\n",
    "Each purple region would be calculated as $\\dfrac{\\alpha}{2}$. When testing a single side (as in the example) i.e. just higher OR just lower, you can use a one-tail test as shown in the first and second images. The $\\alpha$ value we use is 0.05 or $5\\%$.\n",
    "\n",
    "## Step 3: Calculate the test statistic\n",
    "\n",
    "For $z$-tests, a $z$-statistic is used as our test statistic. You'll see other test statistics suitable for other tests later. A one-sample $z$-statistic is calculated as:\n",
    "\n",
    "$$ \\large \\text{z-statistic} = \\dfrac{\\bar x - \\mu_0}{{\\sigma}/{\\sqrt{n}}} $$\n",
    "\n",
    "This formula slightly differs from the standard score formula. It includes the square root of $n$ to reflect that we are dealing with the sample variance here. \n",
    "\n",
    "Now, all you need to do is use this formula given your sample mean $\\bar x$, the population standard deviation $\\sigma$, and the number of items in the sample ($n$). $\\mu_0$ is the mean you're testing the hypothesis for, or the \"hypothesized mean\". \n",
    "\n",
    "Let's use Python to calculate this. "
   ]
  },
  {
   "cell_type": "code",
   "execution_count": 1,
   "metadata": {},
   "outputs": [],
   "source": [
    "import numpy as np\n",
    "import matplotlib.pyplot as plt\n",
    "%matplotlib inline\n",
    "import scipy.stats as stats\n",
    "from math import sqrt"
   ]
  },
  {
   "cell_type": "code",
   "execution_count": 2,
   "metadata": {},
   "outputs": [
    {
     "data": {
      "text/plain": [
       "1.1858541225631423"
      ]
     },
     "execution_count": 2,
     "metadata": {},
     "output_type": "execute_result"
    }
   ],
   "source": [
    "x_bar = 103 # sample mean \n",
    "n = 40 # number of students\n",
    "sigma = 16 # sd of population\n",
    "mu = 100 # Population mean \n",
    "\n",
    "z = (x_bar - mu)/(sigma/sqrt(n))\n",
    "z"
   ]
  },
  {
   "cell_type": "markdown",
   "metadata": {},
   "source": [
    "# Let's try to plot this $z$-value on a standard normal distribution to see what it means. "
   ]
  },
  {
   "cell_type": "code",
   "execution_count": 5,
   "metadata": {},
   "outputs": [
    {
     "data": {
      "image/png": "[encoded data removed]",
      "text/plain": [
       "<Figure size 576x396 with 1 Axes>"
      ]
     },
     "metadata": {},
     "output_type": "display_data"
    }
   ],
   "source": [
    "plt.style.use('seaborn')\n",
    "plt.fill_between(x=np.arange(-4,1.19,0.01),\n",
    "                 y1= stats.norm.pdf(np.arange(-4,1.19,0.01)) ,\n",
    "                 facecolor='red',\n",
    "                 alpha=0.35,\n",
    "                 label= 'Area below z-statistic'\n",
    "                 )\n",
    "\n",
    "plt.fill_between(x=np.arange(1.19,4,0.01), \n",
    "                 y1= stats.norm.pdf(np.arange(1.19,4,0.01)) ,\n",
    "                 facecolor='blue',\n",
    "                 alpha=0.35, \n",
    "                 label= 'Area above z-statistic')\n",
    "plt.legend()\n",
    "plt.title ('z-statistic = 1.19');"
   ]
  },
  {
   "cell_type": "markdown",
   "metadata": {},
   "source": [
    "## Step 4:  Calculate the p-value\n",
    "\n",
    "Remember that $z$-values in a standard normal distribution represent standard deviations. Just like before, you need to look up the related probability value in a $z$-table, or use `scipy.stats` to calculate it directly. \n",
    "In SciPy, the cumulative probability up to the $z$-value can be calculated as:"
   ]
  },
  {
   "cell_type": "code",
   "execution_count": 6,
   "metadata": {},
   "outputs": [
    {
     "data": {
      "text/plain": [
       "0.8821600432854813"
      ]
     },
     "execution_count": 6,
     "metadata": {},
     "output_type": "execute_result"
    }
   ],
   "source": [
    "stats.norm.cdf(z)"
   ]
  },
  {
   "cell_type": "code",
   "execution_count": 9,
   "metadata": {},
   "outputs": [
    {
     "data": {
      "text/plain": [
       "0.882"
      ]
     },
     "execution_count": 9,
     "metadata": {},
     "output_type": "execute_result"
    }
   ],
   "source": [
    "# lets round the above to 3 decimal places\n",
    "np.round(stats.norm.cdf(z),3)"
   ]
  },
  {
   "cell_type": "markdown",
   "metadata": {},
   "source": [
    "+ The percent area under the curve from to a $z$-score of 1.19 is 88.2% (using the $z$-table or SciPy calculations), this means that the average intelligence of the tutored set of students is bigger than 88.2% of the population. But with alpha specified as 0.05, we wanted it to be greater than 95% to prove the hypothesis to be significant.\n",
    "\n",
    "Mathematically, you want to get the p-value, and this can be done by subtracting the $z$-value from 1, since the sum of probabilities is always 1."
   ]
  },
  {
   "cell_type": "markdown",
   "metadata": {},
   "source": [
    "## Step 5: Interpret p-value\n",
    "\n",
    "Our p-value (0.12) is larger than the alpha of 0.05. So what does that mean? Can you not conclude that tutoring leads to an IQ increase? \n",
    "\n",
    "Well, you still can't really say that for sure. \n",
    "\n",
    "**What we can say is that there is not enough evidence to reject the null hypothesis with the given sample, given an alpha of 0.05.** There are ways to scale experiments up and collect more data or apply sampling techniques to be sure about the real impact. \n",
    "\n",
    "And even when the sample data helps to reject the null hypothesis, you still cannot be 100% sure of the outcome. \n",
    "What you can say, however, is given the evidence, the results show a significant increase in the IQ as a result of tutoring, instead of saying \"tutoring improves IQ\".\n",
    "\n"
   ]
  },
  {
   "cell_type": "code",
   "execution_count": null,
   "metadata": {},
   "outputs": [],
   "source": []
  },
  {
   "cell_type": "markdown",
   "metadata": {},
   "source": [
    "# Exercise 2 -  Z-scores with scipy.stats for a normal distribution"
   ]
  },
  {
   "cell_type": "code",
   "execution_count": 2,
   "metadata": {},
   "outputs": [
    {
     "data": {
      "text/plain": [
       "0.15865525393145707"
      ]
     },
     "execution_count": 2,
     "metadata": {},
     "output_type": "execute_result"
    }
   ],
   "source": [
    "stats.norm.cdf(-1 , loc=0 , scale = 1)  # std -1 , mean 0 , std 1"
   ]
  },
  {
   "cell_type": "code",
   "execution_count": 4,
   "metadata": {},
   "outputs": [
    {
     "data": {
      "text/plain": [
       "0.8413447460685429"
      ]
     },
     "execution_count": 4,
     "metadata": {},
     "output_type": "execute_result"
    }
   ],
   "source": [
    "1 - stats.norm.cdf(-1)"
   ]
  },
  {
   "cell_type": "code",
   "execution_count": 5,
   "metadata": {},
   "outputs": [
    {
     "data": {
      "text/plain": [
       "0.8413447460685429"
      ]
     },
     "execution_count": 5,
     "metadata": {},
     "output_type": "execute_result"
    }
   ],
   "source": [
    "# 85 % lies within 1 std \n",
    "stats.norm.cdf(1)"
   ]
  },
  {
   "cell_type": "code",
   "execution_count": 6,
   "metadata": {},
   "outputs": [
    {
     "data": {
      "text/plain": [
       "0.15865525393145707"
      ]
     },
     "execution_count": 6,
     "metadata": {},
     "output_type": "execute_result"
    }
   ],
   "source": [
    "# 15% lies on each side of the normal distribution\n",
    "1 - stats.norm.cdf(1)"
   ]
  },
  {
   "cell_type": "code",
   "execution_count": 7,
   "metadata": {},
   "outputs": [
    {
     "data": {
      "text/plain": [
       "0.6826894921370859"
      ]
     },
     "execution_count": 7,
     "metadata": {},
     "output_type": "execute_result"
    }
   ],
   "source": [
    "# observation between -1 and + 1 standard deviation of the mean\n",
    "stats.norm.cdf(1) - stats.norm.cdf(-1)"
   ]
  },
  {
   "cell_type": "code",
   "execution_count": 8,
   "metadata": {},
   "outputs": [
    {
     "data": {
      "text/plain": [
       "0.022750131948179195"
      ]
     },
     "execution_count": 8,
     "metadata": {},
     "output_type": "execute_result"
    }
   ],
   "source": [
    "# probability of observations -2 std deviation from the mean\n",
    "stats.norm.cdf(-2)"
   ]
  },
  {
   "cell_type": "code",
   "execution_count": 9,
   "metadata": {},
   "outputs": [
    {
     "data": {
      "text/plain": [
       "0.02275013194817921"
      ]
     },
     "execution_count": 9,
     "metadata": {},
     "output_type": "execute_result"
    }
   ],
   "source": [
    "1 - stats.norm.cdf(2)"
   ]
  },
  {
   "cell_type": "code",
   "execution_count": 12,
   "metadata": {},
   "outputs": [
    {
     "data": {
      "text/plain": [
       "0.9544997361036416"
      ]
     },
     "execution_count": 12,
     "metadata": {},
     "output_type": "execute_result"
    }
   ],
   "source": [
    "# observation of probability between -2 and + 2 standard deviation from the mean\n",
    "\n",
    "stats.norm.cdf(2) - stats.norm.cdf(-2)"
   ]
  },
  {
   "cell_type": "code",
   "execution_count": 13,
   "metadata": {},
   "outputs": [
    {
     "data": {
      "text/plain": [
       "0.5"
      ]
     },
     "execution_count": 13,
     "metadata": {},
     "output_type": "execute_result"
    }
   ],
   "source": [
    "# \n",
    "stats.norm.cdf(0)"
   ]
  },
  {
   "cell_type": "code",
   "execution_count": null,
   "metadata": {},
   "outputs": [],
   "source": []
  },
  {
   "cell_type": "markdown",
   "metadata": {},
   "source": [
    "# One-Sample z-test - Exercise\n",
    "\n",
    "## Introduction\n",
    "In this lab, you'll perform a few quick tests to help you better understand how hypothesis testing works.\n",
    "\n",
    "## Objectives\n",
    "You will be able to:\n",
    "\n",
    "* Explain use cases for a 1-sample z-test\n",
    "* Set up null and alternative hypotheses\n",
    "* Use the z-table and scipy methods to acquire the p value for a given z-score\n",
    "* Calculate and interpret p-value for significance of results\n",
    "\n",
    "## Exercise 1\n",
    "A fast-food chain claims that the mean time to order food at their restaurants is 60 seconds, with a standard deviation of 30 seconds. You decide to put this claim to the test and go to one of the restaurants to observe actual waiting times. You take a sample of 36 customers and find that the mean order time was 75 seconds. Does this finding provide enough evidence to contradict the fast food chain's claim of fast service?\n",
    "\n",
    "Follow the 5 steps shown in previous lesson and use $\\alpha$ = 0.05. "
   ]
  },
  {
   "cell_type": "markdown",
   "metadata": {},
   "source": [
    "# State your null and alternative hypotheses\n",
    "\n",
    "\n",
    "# $H_a$ : the time to order food is bigger than 60 seconds\n",
    "# $H_0$ : the time to order food is less than or equal to 60 sec"
   ]
  },
  {
   "cell_type": "code",
   "execution_count": null,
   "metadata": {},
   "outputs": [],
   "source": []
  },
  {
   "cell_type": "code",
   "execution_count": 10,
   "metadata": {},
   "outputs": [],
   "source": [
    "import math\n",
    "import scipy.stats as stats"
   ]
  },
  {
   "cell_type": "code",
   "execution_count": 12,
   "metadata": {},
   "outputs": [],
   "source": [
    "mu = 60\n",
    "sigma = 30\n",
    "n = 36\n",
    "x_bar = 75"
   ]
  },
  {
   "cell_type": "code",
   "execution_count": 13,
   "metadata": {},
   "outputs": [],
   "source": [
    "z = (x_bar - mu)/(sigma/math.sqrt(n))\n",
    "p = 1 - stats.norm.cdf(z)"
   ]
  },
  {
   "cell_type": "code",
   "execution_count": 14,
   "metadata": {},
   "outputs": [
    {
     "name": "stdout",
     "output_type": "stream",
     "text": [
      "The value of z is 3.0\n",
      "The value of p is 0.0013498980316301035\n"
     ]
    }
   ],
   "source": [
    "print(\"The value of z is\" , z)\n",
    "print(\"The value of p is\" , p)"
   ]
  },
  {
   "cell_type": "markdown",
   "metadata": {},
   "source": [
    "# Interpret the results in terms of the p-value\n",
    "\n",
    "+ with p-value less than 0.05, you can reject the null hypothesis and say that the time to order food is significantly higher than what the fast food chain claims. "
   ]
  },
  {
   "cell_type": "code",
   "execution_count": null,
   "metadata": {},
   "outputs": [],
   "source": []
  },
  {
   "cell_type": "markdown",
   "metadata": {},
   "source": [
    "# Exercise 2\n",
    "25 students complete a preparation program for taking the SAT test. Here are the SAT scores from the 25 students who completed the program:\n",
    "\n",
    "434 694 457 534 720 400 484 478 610 641 425 636 454 514 563 370 499 640 501 625 612 471 598 509 531"
   ]
  },
  {
   "cell_type": "markdown",
   "metadata": {},
   "source": [
    "+ We know that the population average for SAT scores is 500 with a standard deviation of 100.\n",
    "\n",
    "+ Are our 25 students’ SAT scores significantly higher than the population's mean score?\n",
    "\n",
    "+ Note that the SAT preparation program claims that it will increase (and not decrease) the SAT score. So, you can conduct a one-directional test. (alpha = .05)."
   ]
  },
  {
   "cell_type": "markdown",
   "metadata": {},
   "source": [
    "# State your hypotheses \n",
    "\n",
    "\n",
    "# $H_a$ : there is an increase in grades after program\n",
    "# $H_o$ : there is no increase in grade "
   ]
  },
  {
   "cell_type": "code",
   "execution_count": 16,
   "metadata": {},
   "outputs": [],
   "source": [
    "x = np.array([434, 694, 457, 534, 720, 400, 484, 478, 610, 641, 425, 636, 454,\n",
    "514, 563, 370, 499, 640, 501, 625, 612, 471, 598, 509, 531])"
   ]
  },
  {
   "cell_type": "code",
   "execution_count": 17,
   "metadata": {},
   "outputs": [],
   "source": [
    "x_bar = x.mean()\n",
    "n = len(x)\n",
    "mu = 500\n",
    "sigma = 100\n",
    "z = (x_bar - mu)/(sigma/math.sqrt(n))\n",
    "p = 1 - stats.norm.cdf(z)"
   ]
  },
  {
   "cell_type": "code",
   "execution_count": 18,
   "metadata": {},
   "outputs": [
    {
     "name": "stdout",
     "output_type": "stream",
     "text": [
      "The value of z is 1.8\n",
      "The value of p is 0.03593031911292577\n"
     ]
    }
   ],
   "source": [
    "print(\"The value of z is\" , z)\n",
    "print(\"The value of p is\" , p)"
   ]
  },
  {
   "cell_type": "markdown",
   "metadata": {},
   "source": [
    "# Interpret the results in terms of the p-value\n",
    "\n",
    "The p value is less than tha alpha so we can conclude that:\n",
    "+  The training has a SIGNIFICANT effect on the SAT outcome at a significance level of 0.05"
   ]
  },
  {
   "cell_type": "code",
   "execution_count": null,
   "metadata": {},
   "outputs": [],
   "source": []
  },
  {
   "cell_type": "markdown",
   "metadata": {},
   "source": [
    "## Summary\n",
    "In this lesson, you learned about the basics of hypothesis testing and went through the concepts and terminologies that are used while performing statistical tests. Now, let's move on to perform a one-sample $z$-test to validate a hypothesis that the sample drawn belongs to the same population."
   ]
  },
  {
   "cell_type": "markdown",
   "metadata": {},
   "source": [
    "+ We also learned to run a one-sample $z$-test to compare sample and population where the population mean and standard deviation are known. This is the most basic test in statistics, but in the real world, the true population means and standard deviations are rarely identifiable and you need to work with samples. That's where more advanced tests come in to play, which you will learn about later."
   ]
  },
  {
   "cell_type": "markdown",
   "metadata": {},
   "source": [
    "+ We conducted a couple of simple tests comparing sample and population means, in an attempt to reject our null hypotheses. This provides you with a strong foundation to move ahead with more advanced tests and approaches later on."
   ]
  },
  {
   "cell_type": "code",
   "execution_count": null,
   "metadata": {},
   "outputs": [],
   "source": []
  },
  {
   "cell_type": "code",
   "execution_count": null,
   "metadata": {},
   "outputs": [],
   "source": []
  }
 ],
 "metadata": {
  "kernelspec": {
   "display_name": "Python [conda env:learn-env] *",
   "language": "python",
   "name": "conda-env-learn-env-py"
  },
  "language_info": {
   "codemirror_mode": {
    "name": "ipython",
    "version": 3
   },
   "file_extension": ".py",
   "mimetype": "text/x-python",
   "name": "python",
   "nbconvert_exporter": "python",
   "pygments_lexer": "ipython3",
   "version": "3.6.10"
  }
 },
 "nbformat": 4,
 "nbformat_minor": 4
}
