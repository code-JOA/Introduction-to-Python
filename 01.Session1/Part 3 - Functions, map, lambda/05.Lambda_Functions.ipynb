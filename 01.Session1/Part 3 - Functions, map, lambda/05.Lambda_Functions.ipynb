{
 "cells": [
  {
   "cell_type": "markdown",
   "metadata": {},
   "source": [
    "# Creating Lambda Functions\n",
    "\n",
    "## Introduction. \n",
    "+ In the lesson we will be learning how to create lambda functions.\n",
    "\n",
    "\n",
    "\n",
    "## Objectives\n",
    "\n",
    "You will be able to:\n",
    "- Create simple and complex lambda functions\n",
    "- Perform basic statistical analysis of given data using lambda\n"
   ]
  },
  {
   "cell_type": "code",
   "execution_count": null,
   "metadata": {},
   "outputs": [],
   "source": [
    "## So what's all the fuzz about lambda"
   ]
  },
  {
   "cell_type": "markdown",
   "metadata": {},
   "source": [
    "## Lambda expression\n",
    "Now we know the basics about function, we can move on to learn `\"lambda expression\"`.<br>\n",
    "* The lambda expression is a way to create small **anonymous** functions, i.e. **functions without a name**. <br>\n",
    "* These **throw-away functions** are created where we need them. <br>\n",
    "* Lambda expressions are mainly used in combination with the `filter()` and `map()` built-in functions. <br>\n",
    "\n",
    "General syntax of a lambda expression is: **`lambda argument_list: expression`** <br>\n",
    "* The **argument list** consists of a comma separated list of arguments. <br>\n",
    "* The **expression is** an arithmetic expression using these arguments. <br>\n",
    "\n",
    "We can assign \"`lambda expression`\" to a variable to give it a name. "
   ]
  },
  {
   "cell_type": "markdown",
   "metadata": {},
   "source": [
    "Lets write a function, which return square of a number and then re-write that function to a lambda expression. <br>\n",
    "**This is easy!**"
   ]
  },
  {
   "cell_type": "code",
   "execution_count": 1,
   "metadata": {},
   "outputs": [],
   "source": [
    "# Function to compute square\n",
    "def square(num):\n",
    "    return num**2"
   ]
  },
  {
   "cell_type": "code",
   "execution_count": 2,
   "metadata": {},
   "outputs": [
    {
     "data": {
      "text/plain": [
       "16"
      ]
     },
     "execution_count": 2,
     "metadata": {},
     "output_type": "execute_result"
    }
   ],
   "source": [
    "# Function call using its name 'square' and a required parameter\n",
    "square(4)"
   ]
  },
  {
   "cell_type": "markdown",
   "metadata": {},
   "source": [
    "### Let's re-arrange the above function `square` in a single line."
   ]
  },
  {
   "cell_type": "code",
   "execution_count": 3,
   "metadata": {},
   "outputs": [
    {
     "data": {
      "text/plain": [
       "16"
      ]
     },
     "execution_count": 3,
     "metadata": {},
     "output_type": "execute_result"
    }
   ],
   "source": [
    "def square(num):return num**2\n",
    "square(4)"
   ]
  },
  {
   "cell_type": "markdown",
   "metadata": {},
   "source": [
    "Now, let's convert this one line function `def square(num):return num**2` into a lambda expression<br>\n",
    "**Steps to re-write above function to a lambda expression**\n",
    "* replace **`def`** with **`lambda`**\n",
    "* delete function name \"`square`\"\n",
    "* remove \"`()`\" around num\n",
    "* delete `return`<br>\n",
    "\n",
    "It's your lambda expression<br>\n",
    "***We will use lambda expressions a lot in our pandas library***"
   ]
  },
  {
   "cell_type": "code",
   "execution_count": 4,
   "metadata": {},
   "outputs": [
    {
     "data": {
      "text/plain": [
       "<function __main__.<lambda>(num)>"
      ]
     },
     "execution_count": 4,
     "metadata": {},
     "output_type": "execute_result"
    }
   ],
   "source": [
    "lambda num : num*2\n",
    "# hold-on, we will use this expression in map and filter to understand in details"
   ]
  },
  {
   "cell_type": "code",
   "execution_count": null,
   "metadata": {},
   "outputs": [],
   "source": []
  },
  {
   "cell_type": "markdown",
   "metadata": {},
   "source": [
    "**Write a function to return square of numbers from 1 to 5, use `range()` method**"
   ]
  },
  {
   "cell_type": "code",
   "execution_count": 5,
   "metadata": {},
   "outputs": [],
   "source": [
    "def square(pram):\n",
    "    num_sq = []\n",
    "    for num in pram:\n",
    "        num_sq.append(num**2)\n",
    "    return num_sq"
   ]
  },
  {
   "cell_type": "code",
   "execution_count": 6,
   "metadata": {},
   "outputs": [
    {
     "data": {
      "text/plain": [
       "[1, 4, 9, 16, 25]"
      ]
     },
     "execution_count": 6,
     "metadata": {},
     "output_type": "execute_result"
    }
   ],
   "source": [
    "square(range(1,6))"
   ]
  },
  {
   "cell_type": "code",
   "execution_count": 7,
   "metadata": {},
   "outputs": [
    {
     "data": {
      "text/plain": [
       "[1, 4, 9, 16, 25, 36, 49, 64, 81]"
      ]
     },
     "execution_count": 7,
     "metadata": {},
     "output_type": "execute_result"
    }
   ],
   "source": [
    "square(range(1,10))"
   ]
  },
  {
   "cell_type": "markdown",
   "metadata": {},
   "source": [
    "**Write lambda expression for the function above, use `map()` and `range()`**"
   ]
  },
  {
   "cell_type": "code",
   "execution_count": 8,
   "metadata": {},
   "outputs": [
    {
     "data": {
      "text/plain": [
       "[1, 4, 9, 16, 25]"
      ]
     },
     "execution_count": 8,
     "metadata": {},
     "output_type": "execute_result"
    }
   ],
   "source": [
    "list(map(lambda num:num**2, range(1,6))) # cast into the list()"
   ]
  },
  {
   "cell_type": "markdown",
   "metadata": {},
   "source": [
    "Lambda functions are functions that are almost solely used to get inputs and return outputs.\n",
    "That means we don't often use them to make actions.\n",
    "For example, the `print()` function is a function that performs an action. As such, it would not be suitable for lambda function.\n",
    "If we wanted a function that just divided two numbers, that might be suitable for a lambda function."
   ]
  },
  {
   "cell_type": "markdown",
   "metadata": {},
   "source": [
    "That's because that function takes inputs, processes them, and returns outputs. And, it's a short, simple function. You'll see why that is relevant with this example."
   ]
  },
  {
   "cell_type": "code",
   "execution_count": 9,
   "metadata": {},
   "outputs": [],
   "source": [
    "divide = lambda x, y: x / y\n",
    "# This spacing is common. After each comma in the parameters, after the colon but not before, and between operators (though that's optional, and sometimes will be seen without spaces)."
   ]
  },
  {
   "cell_type": "markdown",
   "metadata": {},
   "source": [
    "That is a lambda function, which takes two arguments and returns the result of dividing one by the other. It is almost identical to this function:"
   ]
  },
  {
   "cell_type": "code",
   "execution_count": 10,
   "metadata": {},
   "outputs": [],
   "source": [
    "def divide_something(x, y):\n",
    "    return x / y"
   ]
  },
  {
   "cell_type": "markdown",
   "metadata": {},
   "source": [
    "In both cases you would call it as a normal function:"
   ]
  },
  {
   "cell_type": "code",
   "execution_count": 11,
   "metadata": {},
   "outputs": [
    {
     "name": "stdout",
     "output_type": "stream",
     "text": [
      "5.0\n"
     ]
    }
   ],
   "source": [
    "print(divide(15, 3))"
   ]
  },
  {
   "cell_type": "code",
   "execution_count": 12,
   "metadata": {},
   "outputs": [
    {
     "data": {
      "text/plain": [
       "5.0"
      ]
     },
     "execution_count": 12,
     "metadata": {},
     "output_type": "execute_result"
    }
   ],
   "source": [
    "divide_something(15,3)"
   ]
  },
  {
   "cell_type": "markdown",
   "metadata": {},
   "source": [
    "While traditional functions _need_ the name (you can't define one without it), lambda functions don't have names unless you assign them to a variable."
   ]
  },
  {
   "cell_type": "code",
   "execution_count": 13,
   "metadata": {},
   "outputs": [
    {
     "name": "stdout",
     "output_type": "stream",
     "text": [
      "18\n"
     ]
    }
   ],
   "source": [
    "result = (lambda x, y: x + y)(15, 3)\n",
    "print(result)"
   ]
  },
  {
   "cell_type": "markdown",
   "metadata": {},
   "source": [
    "However you can see that lambda functions can be quite difficult to read, so we won't be using them very often. The main reason to use lambda function is because they are short, so if we use them in conjunction with other functions that can help make our programs a bit more flexible."
   ]
  },
  {
   "cell_type": "markdown",
   "metadata": {},
   "source": [
    "# A practical example"
   ]
  },
  {
   "cell_type": "code",
   "execution_count": 14,
   "metadata": {},
   "outputs": [],
   "source": [
    "def average(sequence):\n",
    "    return sum(sequence) / len(sequence)"
   ]
  },
  {
   "cell_type": "code",
   "execution_count": 15,
   "metadata": {},
   "outputs": [],
   "source": [
    "students = [\n",
    "    {\"name\": \"Rob\", \"grades\": (67, 90, 95, 100)},\n",
    "    {\"name\": \"Bob\", \"grades\": (56, 78, 80, 90)},\n",
    "    {\"name\": \"Jake\", \"grades\": (98, 90, 95, 99)},\n",
    "    {\"name\": \"Souley\", \"grades\": (100, 100, 95, 100)},\n",
    "]"
   ]
  },
  {
   "cell_type": "code",
   "execution_count": 16,
   "metadata": {},
   "outputs": [
    {
     "name": "stdout",
     "output_type": "stream",
     "text": [
      "88.0\n",
      "76.0\n",
      "95.5\n",
      "98.75\n"
     ]
    }
   ],
   "source": [
    "for people in students:\n",
    "    print(average(people[\"grades\"]))"
   ]
  },
  {
   "cell_type": "markdown",
   "metadata": {},
   "source": [
    "Since the average function just takes inputs and returns an output, we could re-define it as a lambda function."
   ]
  },
  {
   "cell_type": "code",
   "execution_count": 17,
   "metadata": {},
   "outputs": [],
   "source": [
    "lambda_average = lambda x: sum(x) / len(x)"
   ]
  },
  {
   "cell_type": "code",
   "execution_count": 18,
   "metadata": {},
   "outputs": [
    {
     "data": {
      "text/plain": [
       "[{'name': 'Rob', 'grades': (67, 90, 95, 100)},\n",
       " {'name': 'Bob', 'grades': (56, 78, 80, 90)},\n",
       " {'name': 'Jake', 'grades': (98, 90, 95, 99)},\n",
       " {'name': 'Souley', 'grades': (100, 100, 95, 100)}]"
      ]
     },
     "execution_count": 18,
     "metadata": {},
     "output_type": "execute_result"
    }
   ],
   "source": [
    "students"
   ]
  },
  {
   "cell_type": "code",
   "execution_count": 19,
   "metadata": {},
   "outputs": [
    {
     "name": "stdout",
     "output_type": "stream",
     "text": [
      "88.0\n",
      "76.0\n",
      "95.5\n",
      "98.75\n"
     ]
    }
   ],
   "source": [
    "for student in students:\n",
    "    print(lambda_average(student[\"grades\"]))"
   ]
  },
  {
   "cell_type": "code",
   "execution_count": null,
   "metadata": {},
   "outputs": [],
   "source": []
  },
  {
   "cell_type": "markdown",
   "metadata": {},
   "source": [
    "## `map` & `filter`"
   ]
  },
  {
   "cell_type": "markdown",
   "metadata": {},
   "source": [
    "Let's talk about `map` and `filter` now. <br>\n",
    "We have seen that we can compute the squares of the numbers in a list using `for` loop. To do this, we need to follow the following steps:\n",
    "\n",
    "* create an empty list\n",
    "* Iterate over `my_list` in a `for` loop.\n",
    "* append square of each number to the empty list.\n",
    "\n",
    "Lets try to do the above tasks with `for` loop, **This is tedious!**"
   ]
  },
  {
   "cell_type": "code",
   "execution_count": 20,
   "metadata": {},
   "outputs": [],
   "source": [
    "def square(num):\n",
    "    return num**2"
   ]
  },
  {
   "cell_type": "code",
   "execution_count": 21,
   "metadata": {},
   "outputs": [],
   "source": [
    "my_list = [1,2,3,4,5]"
   ]
  },
  {
   "cell_type": "code",
   "execution_count": 22,
   "metadata": {},
   "outputs": [
    {
     "name": "stdout",
     "output_type": "stream",
     "text": [
      "[1, 4, 9, 16, 25]\n"
     ]
    }
   ],
   "source": [
    "num_sq = []  \n",
    "for num in my_list:\n",
    "    num_sq.append(num**2)\n",
    "print (num_sq)"
   ]
  },
  {
   "cell_type": "markdown",
   "metadata": {},
   "source": [
    "***The task above can be much simplified using `map()`***, let's try to understand how?"
   ]
  },
  {
   "cell_type": "markdown",
   "metadata": {},
   "source": [
    "### `map()`\n",
    "\n",
    "* `map()` is a function with two arguments, `a function` and `a sequence` (e.g. list).<br>\n",
    "* it maps a function to every element in a sequence\n",
    "\n",
    "We have recently created a function \"`square()`\" and our sequence is \"my_list\". <br>\n",
    "Lets pass **\"`square`\"** and **\"`my_list`\"** to **`map()`**"
   ]
  },
  {
   "cell_type": "code",
   "execution_count": 34,
   "metadata": {},
   "outputs": [
    {
     "data": {
      "text/plain": [
       "[1, 4, 9, 16, 25]"
      ]
     },
     "execution_count": 34,
     "metadata": {},
     "output_type": "execute_result"
    }
   ],
   "source": [
    "result = map(square, my_list)\n",
    "list(result)"
   ]
  },
  {
   "cell_type": "code",
   "execution_count": 35,
   "metadata": {},
   "outputs": [
    {
     "data": {
      "text/plain": [
       "[1, 4, 9, 16, 25]"
      ]
     },
     "execution_count": 35,
     "metadata": {},
     "output_type": "execute_result"
    }
   ],
   "source": [
    "# Or\n",
    "list(map(square, my_list))"
   ]
  },
  {
   "cell_type": "markdown",
   "metadata": {},
   "source": [
    "**lambda works great with `map()`**. For example, we don't want to write and store a function `square` as this is a one-time use only. <br>\n",
    "Better to use lambda in this case, as given below!<br>"
   ]
  },
  {
   "cell_type": "code",
   "execution_count": 36,
   "metadata": {},
   "outputs": [
    {
     "data": {
      "text/plain": [
       "[1, 4, 9, 16, 25]"
      ]
     },
     "execution_count": 36,
     "metadata": {},
     "output_type": "execute_result"
    }
   ],
   "source": [
    "list(map(lambda x:x**2 , my_list))"
   ]
  },
  {
   "cell_type": "markdown",
   "metadata": {},
   "source": [
    "# `map( )` can also be applied to more than 1 lists!"
   ]
  },
  {
   "cell_type": "code",
   "execution_count": 37,
   "metadata": {},
   "outputs": [],
   "source": [
    "x = [1,2,3,4]\n",
    "y = [10,20,14,13]\n",
    "z = [-1,-4,5,9]"
   ]
  },
  {
   "cell_type": "code",
   "execution_count": 39,
   "metadata": {},
   "outputs": [
    {
     "data": {
      "text/plain": [
       "[10, 18, 22, 26]"
      ]
     },
     "execution_count": 39,
     "metadata": {},
     "output_type": "execute_result"
    }
   ],
   "source": [
    "list(map(lambda x,y,z : x + y + z , x, y, z))"
   ]
  },
  {
   "cell_type": "code",
   "execution_count": null,
   "metadata": {},
   "outputs": [],
   "source": []
  },
  {
   "cell_type": "markdown",
   "metadata": {},
   "source": [
    "# Converting Temperature from Celsius to fahrenheit and vice versa"
   ]
  },
  {
   "cell_type": "code",
   "execution_count": 23,
   "metadata": {},
   "outputs": [
    {
     "name": "stdout",
     "output_type": "stream",
     "text": [
      "Input the  temperature you like to convert? (e.g., 45F, 102C etc.) : 45F\n",
      "The temperature in Celsius is 7 degrees.\n"
     ]
    }
   ],
   "source": [
    "temp = input(\"Input the  temperature you like to convert? (e.g., 45F, 102C etc.) : \")\n",
    "degree = int(temp[:-1])\n",
    "i_convention = temp[-1]\n",
    "\n",
    "if i_convention.upper() == \"C\":\n",
    "    result = int(round((9 * degree) / 5 + 32))\n",
    "    o_convention = \"Fahrenheit\"\n",
    "elif i_convention.upper() == \"F\":\n",
    "    result = int(round((degree - 32) * 5 / 9))\n",
    "    o_convention = \"Celsius\"\n",
    "else:\n",
    "    print(\"Input proper convention.\")\n",
    "    quit()\n",
    "print(\"The temperature in\", o_convention, \"is\", result, \"degrees.\")"
   ]
  },
  {
   "cell_type": "markdown",
   "metadata": {},
   "source": [
    "![ohyeah](https://media.giphy.com/media/WpIjh42KPontoNSF0J/giphy.gif)"
   ]
  },
  {
   "cell_type": "code",
   "execution_count": 24,
   "metadata": {},
   "outputs": [],
   "source": [
    "def fahrenheit(Temp):\n",
    "    return ((float(9)/5)*Temp + 32)\n",
    "\n",
    "def celsius(Temp):\n",
    "    return (float(5)/9*(Temp - 32))\n",
    "\n",
    "temperature = [0, 22.5, 40, 100]"
   ]
  },
  {
   "cell_type": "code",
   "execution_count": 25,
   "metadata": {},
   "outputs": [],
   "source": [
    "# Converting temperature from celsius to fahrenheit\n",
    "a = []\n",
    "for x in temperature:\n",
    "    a.append(fahrenheit(x))"
   ]
  },
  {
   "cell_type": "code",
   "execution_count": 26,
   "metadata": {},
   "outputs": [
    {
     "name": "stdout",
     "output_type": "stream",
     "text": [
      "[32.0, 72.5, 104.0, 212.0]\n"
     ]
    }
   ],
   "source": [
    "print(a)"
   ]
  },
  {
   "cell_type": "markdown",
   "metadata": {},
   "source": [
    "# Now let's see map( ) in action for the same as above:"
   ]
  },
  {
   "cell_type": "code",
   "execution_count": 27,
   "metadata": {},
   "outputs": [
    {
     "data": {
      "text/plain": [
       "[32.0, 72.5, 104.0, 212.0]"
      ]
     },
     "execution_count": 27,
     "metadata": {},
     "output_type": "execute_result"
    }
   ],
   "source": [
    "fahr_temp = list(map(fahrenheit, temperature))\n",
    "fahr_temp"
   ]
  },
  {
   "cell_type": "code",
   "execution_count": null,
   "metadata": {},
   "outputs": [],
   "source": []
  },
  {
   "cell_type": "markdown",
   "metadata": {},
   "source": [
    "# Now Convert the temperature from Fahrenheit to celsius"
   ]
  },
  {
   "cell_type": "code",
   "execution_count": 28,
   "metadata": {},
   "outputs": [],
   "source": [
    "b = []\n",
    "for item in fahr_temp:\n",
    "    b.append(celsius(item))"
   ]
  },
  {
   "cell_type": "code",
   "execution_count": 29,
   "metadata": {},
   "outputs": [
    {
     "name": "stdout",
     "output_type": "stream",
     "text": [
      "[0.0, 22.5, 40.0, 100.0]\n"
     ]
    }
   ],
   "source": [
    "print(b)"
   ]
  },
  {
   "cell_type": "markdown",
   "metadata": {},
   "source": [
    "## Using the map function"
   ]
  },
  {
   "cell_type": "code",
   "execution_count": 80,
   "metadata": {},
   "outputs": [
    {
     "data": {
      "text/plain": [
       "[0.0, 22.5, 40.0, 100.0]"
      ]
     },
     "execution_count": 80,
     "metadata": {},
     "output_type": "execute_result"
    }
   ],
   "source": [
    "list(map(celsius, fahr_temp))"
   ]
  },
  {
   "cell_type": "markdown",
   "metadata": {},
   "source": [
    "In the example above, we haven't used a lambda expression. By using lambda, it is not necessary to define and name fahrenheit( ) and celsius( ) functions."
   ]
  },
  {
   "cell_type": "code",
   "execution_count": 81,
   "metadata": {},
   "outputs": [
    {
     "data": {
      "text/plain": [
       "[33.0, 73.5, 105.0, 213.0]"
      ]
     },
     "execution_count": 81,
     "metadata": {},
     "output_type": "execute_result"
    }
   ],
   "source": [
    "# here I just decided to add 1 to the fahrenheit temperature\n",
    "list(map(lambda x: x+1, fahr_temp)) "
   ]
  },
  {
   "cell_type": "code",
   "execution_count": null,
   "metadata": {},
   "outputs": [],
   "source": []
  },
  {
   "cell_type": "markdown",
   "metadata": {},
   "source": [
    "### `fliter()`\n",
    "\n",
    "Filter is another very useful built-in function and provides an elegant and smarter way of filtering out all the elements in the provided list, for which `filter()` returns True. <br>\n",
    "* It takes two arguments, a function or `lambda expression` and a `list`.<br> \n",
    "* Its first argument returns Boolean value, `True` or `False`.<br>\n",
    "* The function (argument 1) will be applied to every element of the list (argument 2). If the the function (argument 1) returns `True`, for the element in list (argument 2), the element will be included in the result list.\n",
    "\n",
    "For example, let's filter out the even number from 0 to 10, we can use `range()` here! :)"
   ]
  },
  {
   "cell_type": "code",
   "execution_count": 40,
   "metadata": {},
   "outputs": [
    {
     "data": {
      "text/plain": [
       "[2, 4, 6, 8]"
      ]
     },
     "execution_count": 40,
     "metadata": {},
     "output_type": "execute_result"
    }
   ],
   "source": [
    "# \"we are using range function here!\"\n",
    "list(filter(lambda num: num % 2 == 0, range(1,10)))"
   ]
  },
  {
   "cell_type": "markdown",
   "metadata": {},
   "source": [
    "**Filter the words from a list that start with `c`. Use lambda expression and `filter()`.**\n",
    "\n",
    "    new_list = ['tomato','cabbage','meat','chicken','goat']\n",
    "\n",
    "**Out put should be**\n",
    "\n",
    "    ['cabbage','chicken']"
   ]
  },
  {
   "cell_type": "code",
   "execution_count": 41,
   "metadata": {},
   "outputs": [],
   "source": [
    "new_list = [\"tomato\",\"cabage\",\"meat\",\"chicken\",\"goat\"]"
   ]
  },
  {
   "cell_type": "code",
   "execution_count": 43,
   "metadata": {},
   "outputs": [
    {
     "data": {
      "text/plain": [
       "['cabage', 'chicken']"
      ]
     },
     "execution_count": 43,
     "metadata": {},
     "output_type": "execute_result"
    }
   ],
   "source": [
    "list(filter(lambda x: x[0]==\"c\" , new_list))"
   ]
  },
  {
   "cell_type": "code",
   "execution_count": null,
   "metadata": {},
   "outputs": [],
   "source": []
  },
  {
   "cell_type": "markdown",
   "metadata": {},
   "source": [
    "# Now let's create a function to return even numbers"
   ]
  },
  {
   "cell_type": "code",
   "execution_count": 82,
   "metadata": {},
   "outputs": [],
   "source": [
    "def even_check(num):\n",
    "    if num%2==0:\n",
    "        return True"
   ]
  },
  {
   "cell_type": "markdown",
   "metadata": {},
   "source": [
    "Now let's filter a list of numbers. Note that putting the function into filter without any parenthesis might feel strange, but keep in mind that functions are objects as well."
   ]
  },
  {
   "cell_type": "code",
   "execution_count": 83,
   "metadata": {},
   "outputs": [],
   "source": [
    "a_list = [1,2,3,4,5,6,7,8]"
   ]
  },
  {
   "cell_type": "code",
   "execution_count": 84,
   "metadata": {},
   "outputs": [
    {
     "data": {
      "text/plain": [
       "[2, 4, 6, 8]"
      ]
     },
     "execution_count": 84,
     "metadata": {},
     "output_type": "execute_result"
    }
   ],
   "source": [
    "list(filter(even_check, a_list))"
   ]
  },
  {
   "cell_type": "markdown",
   "metadata": {},
   "source": [
    "**`filter()` is more commonly used with lambda functions, this because we usually use filter for a quick job where we don't want to write an entire function. Let's repeat the example above using a lambda expression:**"
   ]
  },
  {
   "cell_type": "code",
   "execution_count": 85,
   "metadata": {},
   "outputs": [
    {
     "data": {
      "text/plain": [
       "[False, True, False, True, False, True, False, True]"
      ]
     },
     "execution_count": 85,
     "metadata": {},
     "output_type": "execute_result"
    }
   ],
   "source": [
    "list(map(lambda x: x%2==0, a_list))"
   ]
  },
  {
   "cell_type": "code",
   "execution_count": null,
   "metadata": {},
   "outputs": [],
   "source": []
  },
  {
   "cell_type": "markdown",
   "metadata": {},
   "source": [
    "# `reduce()`\n",
    "\n",
    "The function reduce(function, sequence) continually applies the function to the sequence. It then returns a single value. \n",
    "\n",
    "If seq = [s1, s2, s3, ... , sn], calling reduce(function, sequence) works like this:\n",
    "\n",
    "* At first the first two elements of sequence will be applied to function, i.e. func(s1,s2) \n",
    "* The list on which reduce() works looks like this: [ function(s1, s2), s3, ... , sn ]\n",
    "* In the next step the function will be applied on the previous result and the third element of the list, i.e. function(function(s1, s2),s3)\n",
    "* The list looks like: [ function(function(s1, s2),s3), ... , sn ]\n",
    "* It continues like this until just one element is left and return this element as the result of reduce()\n",
    "\n",
    "Let's see an example:"
   ]
  },
  {
   "cell_type": "code",
   "execution_count": 1,
   "metadata": {},
   "outputs": [
    {
     "data": {
      "text/plain": [
       "'sdfssdfsfsdfsdf'"
      ]
     },
     "execution_count": 1,
     "metadata": {},
     "output_type": "execute_result"
    }
   ],
   "source": [
    "from functools import reduce\n",
    "lst =['sdfs','sdfsfsdf','sdf']\n",
    "reduce(lambda a,b: a+b,lst)"
   ]
  },
  {
   "cell_type": "code",
   "execution_count": null,
   "metadata": {},
   "outputs": [],
   "source": []
  },
  {
   "cell_type": "markdown",
   "metadata": {},
   "source": [
    "+ Let's look at a diagram to get a better understanding of what is going on here:"
   ]
  },
  {
   "cell_type": "code",
   "execution_count": 2,
   "metadata": {},
   "outputs": [
    {
     "data": {
      "image/png": "[encoded data removed]",
      "text/plain": [
       "<IPython.core.display.Image object>"
      ]
     },
     "execution_count": 2,
     "metadata": {},
     "output_type": "execute_result"
    }
   ],
   "source": [
    "from IPython.display import Image\n",
    "Image('http://www.python-course.eu/images/reduce_diagram.png')"
   ]
  },
  {
   "cell_type": "markdown",
   "metadata": {},
   "source": [
    "+ Note how we keep reducing the sequence until a single final value is obtained. Let's see another example:"
   ]
  },
  {
   "cell_type": "code",
   "execution_count": 4,
   "metadata": {},
   "outputs": [],
   "source": [
    "# Find the maximum of a sequence (This already exists as max())\n",
    "max_find = lambda a,b: a if (a > b) else b\n",
    "lst =[47,11,42,13]"
   ]
  },
  {
   "cell_type": "code",
   "execution_count": 5,
   "metadata": {},
   "outputs": [
    {
     "data": {
      "text/plain": [
       "47"
      ]
     },
     "execution_count": 5,
     "metadata": {},
     "output_type": "execute_result"
    }
   ],
   "source": [
    "#Find max\n",
    "reduce(max_find,lst)"
   ]
  },
  {
   "cell_type": "markdown",
   "metadata": {},
   "source": [
    "# Using reduce() to add or sum up items in the list"
   ]
  },
  {
   "cell_type": "code",
   "execution_count": 6,
   "metadata": {},
   "outputs": [
    {
     "data": {
      "text/plain": [
       "113"
      ]
     },
     "execution_count": 6,
     "metadata": {},
     "output_type": "execute_result"
    }
   ],
   "source": [
    "from functools import reduce\n",
    "l = [47,11,42,13]\n",
    "reduce(lambda x,y : x+y , l)"
   ]
  },
  {
   "cell_type": "code",
   "execution_count": 7,
   "metadata": {},
   "outputs": [
    {
     "data": {
      "text/plain": [
       "113"
      ]
     },
     "execution_count": 7,
     "metadata": {},
     "output_type": "execute_result"
    }
   ],
   "source": [
    "#same can be written as\n",
    "def test(n , m):\n",
    "    return n + m\n",
    "\n",
    "reduce(test , l)"
   ]
  },
  {
   "cell_type": "code",
   "execution_count": null,
   "metadata": {},
   "outputs": [],
   "source": []
  },
  {
   "cell_type": "markdown",
   "metadata": {},
   "source": [
    "# Good job:\n",
    "+ Now you deserve this"
   ]
  },
  {
   "cell_type": "markdown",
   "metadata": {},
   "source": [
    "![nowyoudeservethis](https://media.giphy.com/media/kaI3GwO6CECEzLQo0x/giphy.gif)"
   ]
  },
  {
   "cell_type": "markdown",
   "metadata": {},
   "source": [
    "# Done"
   ]
  },
  {
   "cell_type": "code",
   "execution_count": null,
   "metadata": {},
   "outputs": [],
   "source": []
  }
 ],
 "metadata": {
  "kernelspec": {
   "display_name": "Python [conda env:learn-env] *",
   "language": "python",
   "name": "conda-env-learn-env-py"
  },
  "language_info": {
   "codemirror_mode": {
    "name": "ipython",
    "version": 3
   },
   "file_extension": ".py",
   "mimetype": "text/x-python",
   "name": "python",
   "nbconvert_exporter": "python",
   "pygments_lexer": "ipython3",
   "version": "3.6.10"
  }
 },
 "nbformat": 4,
 "nbformat_minor": 4
}
