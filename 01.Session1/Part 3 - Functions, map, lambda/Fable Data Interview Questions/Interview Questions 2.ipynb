{
 "cells": [
  {
   "cell_type": "markdown",
   "metadata": {},
   "source": [
    "# <center>Fable Data Interview</center>"
   ]
  },
  {
   "cell_type": "markdown",
   "metadata": {},
   "source": [
    "# Biggest product"
   ]
  },
  {
   "cell_type": "markdown",
   "metadata": {},
   "source": [
    "Given a list of positive integers, please return the largest integer that is in the list which is also the product of two other integers in the list. If no member of the list is a product of two others, return -1.\n",
    "\n",
    "E.g. For the list [5,25,7,107], the integer 25 is the product of 5 and 5, and so wins.\n",
    "\n",
    "Q1. Write code to find the largest product from the following list [8,4,32,19,70]\n",
    "\n",
    "Q2. What is the big O notation/time complexity of your algorithmn? i.e. how does the time for the code to run change as the list grows in size?"
   ]
  },
  {
   "cell_type": "markdown",
   "metadata": {},
   "source": [
    "# <a id ='7'> Solution 1</a>"
   ]
  },
  {
   "cell_type": "code",
   "execution_count": 2,
   "metadata": {},
   "outputs": [],
   "source": [
    "my_list = [8,4,32,19,70]"
   ]
  },
  {
   "cell_type": "code",
   "execution_count": 14,
   "metadata": {},
   "outputs": [],
   "source": [
    "def biggest_product_optimized(x):\n",
    "    \"\"\"The Big O time complexity of the algorithm is 0(n^2) when the list grows\"\"\"\n",
    "    x = sorted(x, reverse=True)\n",
    "    lst = []\n",
    "    for i in range(len(x)):\n",
    "        for j in range(i, len(x)):\n",
    "            \n",
    "            if x[i]*x[j] in x:\n",
    "                lst.append(x[i]*x[j])\n",
    "                \n",
    "    if lst == 0:\n",
    "        return -1\n",
    "                \n",
    "    return sorted(lst)[-1]           "
   ]
  },
  {
   "cell_type": "code",
   "execution_count": 17,
   "metadata": {},
   "outputs": [
    {
     "name": "stdout",
     "output_type": "stream",
     "text": [
      "Biggest product is: 32\n"
     ]
    }
   ],
   "source": [
    "print(\"Biggest product is: {}\".format(biggest_product_optimized(my_list)))"
   ]
  },
  {
   "cell_type": "markdown",
   "metadata": {},
   "source": [
    "###### The Big O time complexity of the algorithm is O(n^2) which will be when the last list grows in size. Hence Quadratic time"
   ]
  },
  {
   "cell_type": "code",
   "execution_count": null,
   "metadata": {},
   "outputs": [],
   "source": []
  },
  {
   "cell_type": "code",
   "execution_count": null,
   "metadata": {},
   "outputs": [],
   "source": []
  },
  {
   "cell_type": "markdown",
   "metadata": {},
   "source": [
    "# <a id ='7'>Second Solution</a>"
   ]
  },
  {
   "cell_type": "code",
   "execution_count": 10,
   "metadata": {},
   "outputs": [],
   "source": [
    "def productoftwo(x):\n",
    "    \"\"\"This function takes the biggest product of a list and its time complexity is O(n)\"\"\"\n",
    "    x.sort(reverse=True)\n",
    "    for index in range(len(x)):\n",
    "        for num in x:\n",
    "            product = x[index] * num\n",
    "            if product in x:\n",
    "                return product\n",
    "    return -1        "
   ]
  },
  {
   "cell_type": "code",
   "execution_count": 12,
   "metadata": {},
   "outputs": [
    {
     "name": "stdout",
     "output_type": "stream",
     "text": [
      "Biggest product is 32\n"
     ]
    }
   ],
   "source": [
    "print(\"Biggest product is {}\".format(productoftwo(my_list)))"
   ]
  },
  {
   "cell_type": "code",
   "execution_count": null,
   "metadata": {},
   "outputs": [],
   "source": []
  },
  {
   "cell_type": "markdown",
   "metadata": {},
   "source": [
    "# <a id ='7'>Q2. What is the big O notation/time complexity of your algorithmn? i.e. how does the time for the code to run change as the list grows in size?</a>\n"
   ]
  },
  {
   "cell_type": "markdown",
   "metadata": {},
   "source": [
    "###### The Big O time complexity of the algorithm is O(n^2) which will be when the last list grows in size . Hence a Quadritic time. "
   ]
  },
  {
   "cell_type": "code",
   "execution_count": null,
   "metadata": {},
   "outputs": [],
   "source": []
  },
  {
   "cell_type": "markdown",
   "metadata": {},
   "source": [
    "## [Note](0) : Second Solution  is more efficient. "
   ]
  },
  {
   "cell_type": "code",
   "execution_count": null,
   "metadata": {},
   "outputs": [],
   "source": []
  },
  {
   "cell_type": "code",
   "execution_count": null,
   "metadata": {},
   "outputs": [],
   "source": []
  },
  {
   "cell_type": "markdown",
   "metadata": {},
   "source": [
    "# Voting"
   ]
  },
  {
   "cell_type": "markdown",
   "metadata": {},
   "source": [
    "In elections that use the ballot box system for voting, each voter writes the name of a candidate on a ballot and places it in the ballot box. The candidate with the highest number of votes wins the election. If two or more candidates have the same number of votes, then the tied candidates' names are ordered alphabetically and the last name in the alphabetical order wins.\n",
    "\n",
    "E.g. votes = ['Joe','Mary','Mary','Joe']\n",
    "Answer: Each candidate received two votes, but Mary is alphabetically greater than Joe hence she wins.\n",
    "\n",
    "Q1. Write a piece of code to find the winner for [\"Alex\",\"Michael\",\"Harry\",\"Dave\",\"Michael\",\"Victor\",\"Harry\",\"Alex\",\"Mary\",\"Mary\"]\n",
    "\n",
    "Q2. What is the big O notation/time complexity of your algorithmn? i.e. how does the time for the code to run change as the list grows in size?\n"
   ]
  },
  {
   "cell_type": "code",
   "execution_count": null,
   "metadata": {},
   "outputs": [],
   "source": []
  },
  {
   "cell_type": "markdown",
   "metadata": {},
   "source": [
    "# <a id ='7'> Solution 2</a>"
   ]
  },
  {
   "cell_type": "code",
   "execution_count": 18,
   "metadata": {},
   "outputs": [],
   "source": [
    "votes =  [\"Alex\",\"Michael\",\"Harry\",\"Dave\",\"Michael\",\"Victor\",\"Harry\",\"Alex\",\"Mary\",\"Mary\"]"
   ]
  },
  {
   "cell_type": "code",
   "execution_count": 29,
   "metadata": {},
   "outputs": [],
   "source": [
    "def election_voting(votes):\n",
    "    \"\"\"The Big O time complexity of the Algoritm is O(n) when the list grows\"\"\"\n",
    "    d = dict()\n",
    "    for i in range(len(votes)):\n",
    "        try:\n",
    "            d[votes[i]] += 1\n",
    "        except:\n",
    "            d[votes[i]] = 1\n",
    "    sorted_dict = sorted(d.items(), key=lambda x: (x[1],x[0]), reverse=True)\n",
    "    return sorted_dict[0][0]"
   ]
  },
  {
   "cell_type": "code",
   "execution_count": 32,
   "metadata": {},
   "outputs": [
    {
     "name": "stdout",
     "output_type": "stream",
     "text": [
      "The winning candidate is Michael\n"
     ]
    }
   ],
   "source": [
    "print(\"The winning candidate is {}\".format(election_voting(votes)))"
   ]
  },
  {
   "cell_type": "code",
   "execution_count": null,
   "metadata": {},
   "outputs": [],
   "source": []
  },
  {
   "cell_type": "markdown",
   "metadata": {},
   "source": [
    "# <a id ='7'>Q2. What is the big O notation/time complexity of your algorithmn? i.e. how does the time for the code to run change as the list grows in size?</a>\n"
   ]
  },
  {
   "cell_type": "markdown",
   "metadata": {},
   "source": [
    "##### The Big O time complexity of the Algoritm is O(n) when the list grows. Thus its linear time. There is a linear relationship between an increase in time as the size of the elements increase.\n"
   ]
  },
  {
   "cell_type": "markdown",
   "metadata": {},
   "source": [
    "## [Note](0)\n",
    "    An algorithm is said to have a linear time complexity when the running time increases \n",
    "    at most linearly with the size of the input data."
   ]
  },
  {
   "cell_type": "code",
   "execution_count": null,
   "metadata": {},
   "outputs": [],
   "source": []
  },
  {
   "cell_type": "markdown",
   "metadata": {},
   "source": [
    "# Efficient Kendrick"
   ]
  },
  {
   "cell_type": "markdown",
   "metadata": {},
   "source": [
    "Kendrick is a garbage collector, where at the end of each shift, all the waste from the trash cans is shifted into plastic bags which can carry waste weighing between 1.01kg and 3.00kg. All of the plastic bags must be dumped into a recycling facility. Kendrick can carry at most 3.00kg at once. One trip is described as selecting a few bag which together don't weight more than 3.00kg, dumping them in the recycling facility and returning back to the place. \n",
    "\n",
    "Kendrick wants to make minimum number of trips to the recycling facility, given the number of plastic bags, n, and the weights of each bag. \n",
    "\n",
    "E.g. given n = 5 plastic bags weighing weight = [1.5, 1.5, 1.5, 1.5, 1.5], Kendrick can carry all of the trash in 3 trips \n",
    "trip 1 = [1.5 +1.5], trip 2 = [1.5+1.5], trip 3 = [1.5+1.5]\n",
    "\n",
    "Q1. Write a piece of code that prints out the minimum number of trips for a given n = 5 and weights = [1.01, 1.99, 2.5, 1.5, 1.01]. \n",
    "\n",
    "*Note - Think about the efficiency of your code"
   ]
  },
  {
   "cell_type": "code",
   "execution_count": null,
   "metadata": {},
   "outputs": [],
   "source": []
  },
  {
   "cell_type": "markdown",
   "metadata": {},
   "source": [
    "# <a id ='7'> Solution 3</a>"
   ]
  },
  {
   "cell_type": "code",
   "execution_count": 44,
   "metadata": {},
   "outputs": [],
   "source": [
    "n = 5 \n",
    "weights = [1.01, 1.99, 2.5, 1.5, 1.01]"
   ]
  },
  {
   "cell_type": "code",
   "execution_count": 47,
   "metadata": {},
   "outputs": [],
   "source": [
    "def efficient_kendrick(n, weights):\n",
    "    \"\"\"This function calculates an efficient number of trips by Kendrick\"\"\"\n",
    "    w = sorted(weights)\n",
    "    \n",
    "    p1, p2 = 0, n-1\n",
    "    count = 0\n",
    "    \n",
    "    while p1 <= p2:\n",
    "        s = w[p1] + w[p2]\n",
    "        \n",
    "        if s <= 3.0:\n",
    "            p1 += 1\n",
    "        \n",
    "        count += 1\n",
    "        p2-=1\n",
    "        \n",
    "    return count    "
   ]
  },
  {
   "cell_type": "code",
   "execution_count": 49,
   "metadata": {},
   "outputs": [
    {
     "name": "stdout",
     "output_type": "stream",
     "text": [
      "The minimum number of trips for Kendrick is 3\n"
     ]
    }
   ],
   "source": [
    "print(\"The minimum number of trips for Kendrick is {}\".format(efficient_kendrick(n, weights)))"
   ]
  },
  {
   "cell_type": "code",
   "execution_count": null,
   "metadata": {},
   "outputs": [],
   "source": []
  },
  {
   "cell_type": "markdown",
   "metadata": {},
   "source": [
    "# <a id ='7'>Q2 - code efficiency and time complexity</a>"
   ]
  },
  {
   "cell_type": "markdown",
   "metadata": {},
   "source": [
    "### The above function calculates the efficient number of trips Kendrick has to make and the Big O time complexity is O(log(n)) . \n"
   ]
  },
  {
   "cell_type": "markdown",
   "metadata": {},
   "source": [
    "An algorithm is said to have a logarithmic time complexity when it reduces the size of the input data in each step (it don’t need to look at all values of the input data)"
   ]
  },
  {
   "cell_type": "code",
   "execution_count": null,
   "metadata": {},
   "outputs": [],
   "source": []
  },
  {
   "cell_type": "code",
   "execution_count": null,
   "metadata": {},
   "outputs": [],
   "source": []
  },
  {
   "cell_type": "markdown",
   "metadata": {},
   "source": [
    "# Contiguous Substring"
   ]
  },
  {
   "cell_type": "markdown",
   "metadata": {},
   "source": [
    "\n",
    "Ariana is creating a collage out of newspaper cut-outs. She has a long string of text from a newspaper, and she has marked some interesting portions in the text she wants to cut out, in the form of contiguous substrings in the string. She chose to use only two interesting portions of the text out of all the available options, and for the rest of the collage, she will use images. The two chosen interesting portions in the text should not overlap with each other. She wonders, in how many ways can she do that. Can you help her?\n",
    "\n",
    " \n",
    "\n",
    "eg: If Ariana has a text of length 10, and she has marked 4 interesting portions, such that\n",
    "\n",
    "Interesting portion 1: starting position=1, ending position=5\n",
    "Interesting portion 2: starting position=1, ending position=3\n",
    "Interesting portion 3: starting position=7, ending position=10\n",
    "Interesting portion 4: starting position=7, ending position=10\n",
    " \n",
    "\n",
    "As interesting portions 3 and 4 correspond to the same substring, we don't consider them separately. In other words, consider that interesting portion 4 doesn't exist.\n",
    "\n",
    " \n",
    "\n",
    "Then she can choose the following combinations of the two interesting portions:\n",
    "\n",
    "1 and 3\n",
    "2 and 3\n",
    " \n",
    "\n",
    "Therefore, there are 2 ways to choose two non-overlapping interesting portions.\n",
    "\n",
    " \n",
    "\n",
    "Function Description\n",
    "\n",
    "Complete the function paperCuttings in the editor below. The function must return the number of ways to obtain two non-overlapping interesting portions from the text.\n",
    "\n",
    "paperCuttings has the following parameter(s):\n",
    "\n",
    "    n: an integer denoting the length of the newspaper text\n",
    "\n",
    "    starting[starting[0],...starting[m-1]]:  an array of m integers denoting the starting position of the ith interesting portion\n",
    "\n",
    "    ending[ending[0],...ending[m-1]]:  an array of m integers denoting the ending position of the ith interesting portion\n",
    "\n",
    " \n",
    "\n",
    "Constraints\n",
    "\n",
    "1 ≤ n ≤ 109\n",
    "1 ≤ m ≤ 105\n",
    "1 ≤ startingi ≤ endingi ≤ n"
   ]
  },
  {
   "cell_type": "code",
   "execution_count": null,
   "metadata": {},
   "outputs": [],
   "source": []
  },
  {
   "cell_type": "markdown",
   "metadata": {},
   "source": [
    "# <a id ='7'> Solution 4</a>"
   ]
  },
  {
   "cell_type": "code",
   "execution_count": 50,
   "metadata": {},
   "outputs": [],
   "source": [
    "n = 10\n",
    "starting = [1,1,7,7]\n",
    "ending = [5,3,10,10]"
   ]
  },
  {
   "cell_type": "code",
   "execution_count": 54,
   "metadata": {},
   "outputs": [
    {
     "data": {
      "text/plain": [
       "2"
      ]
     },
     "execution_count": 54,
     "metadata": {},
     "output_type": "execute_result"
    }
   ],
   "source": [
    "def factorial(n):\n",
    "    '''\n",
    "    This function will generate the code for finding the factorial of a number which I have used in calculating the number\n",
    "    of ways of arranging the substrings.\n",
    "    '''\n",
    "    if n == 1:\n",
    "        return n\n",
    "    elif n == 0:\n",
    "        return 1\n",
    "    elif n < 0:\n",
    "        return (\"NA\")\n",
    "    else:\n",
    "        return n*factorial(n-1)\n",
    "    \n",
    "    print(factorial(int(num)))\n",
    "    \n",
    "    \n",
    "def paperCuttings(n, starting, ending):\n",
    "    '''\n",
    "    This function will find the ways of arranging the substrings which are unique and not overlapping.\n",
    "    '''\n",
    "    arr = [0]*n\n",
    "    count = 0\n",
    "    for i in range(len(starting)):\n",
    "        \n",
    "        existing = sum(arr[starting[i]-1:ending[i]])\n",
    "        new = ending[i] - starting[i] + 1\n",
    "        \n",
    "        if existing > 0:\n",
    "            if existing < new:\n",
    "                for a1 in range(starting[i]-1, ending[i]):\n",
    "                    arr[a1] = 1\n",
    "        else:\n",
    "            count+=1\n",
    "            for a1 in range(starting[i]-1, ending[i]):\n",
    "                arr[a1] = 1\n",
    "    \n",
    "    return factorial(count)\n",
    "\n",
    "paperCuttings(n, starting, ending)"
   ]
  },
  {
   "cell_type": "code",
   "execution_count": null,
   "metadata": {},
   "outputs": [],
   "source": []
  },
  {
   "cell_type": "code",
   "execution_count": null,
   "metadata": {},
   "outputs": [],
   "source": []
  },
  {
   "cell_type": "code",
   "execution_count": null,
   "metadata": {},
   "outputs": [],
   "source": []
  },
  {
   "cell_type": "code",
   "execution_count": null,
   "metadata": {},
   "outputs": [],
   "source": []
  },
  {
   "cell_type": "code",
   "execution_count": null,
   "metadata": {},
   "outputs": [],
   "source": []
  },
  {
   "cell_type": "code",
   "execution_count": null,
   "metadata": {},
   "outputs": [],
   "source": []
  },
  {
   "cell_type": "code",
   "execution_count": null,
   "metadata": {},
   "outputs": [],
   "source": []
  }
 ],
 "metadata": {
  "kernelspec": {
   "display_name": "Python 3",
   "language": "python",
   "name": "python3"
  },
  "language_info": {
   "codemirror_mode": {
    "name": "ipython",
    "version": 3
   },
   "file_extension": ".py",
   "mimetype": "text/x-python",
   "name": "python",
   "nbconvert_exporter": "python",
   "pygments_lexer": "ipython3",
   "version": "3.6.10"
  },
  "varInspector": {
   "cols": {
    "lenName": 16,
    "lenType": 16,
    "lenVar": 40
   },
   "kernels_config": {
    "python": {
     "delete_cmd_postfix": "",
     "delete_cmd_prefix": "del ",
     "library": "var_list.py",
     "varRefreshCmd": "print(var_dic_list())"
    },
    "r": {
     "delete_cmd_postfix": ") ",
     "delete_cmd_prefix": "rm(",
     "library": "var_list.r",
     "varRefreshCmd": "cat(var_dic_list()) "
    }
   },
   "types_to_exclude": [
    "module",
    "function",
    "builtin_function_or_method",
    "instance",
    "_Feature"
   ],
   "window_display": false
  }
 },
 "nbformat": 4,
 "nbformat_minor": 2
}
