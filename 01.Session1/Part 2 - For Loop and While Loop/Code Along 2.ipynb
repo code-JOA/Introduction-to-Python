{
 "cells": [
  {
   "cell_type": "markdown",
   "metadata": {},
   "source": [
    "# Python Essentials (Part:2)\n",
    "\n",
    "Hi guys,<br>\n",
    "\n",
    "Welcome to Python Essentials Part 2 lecture.  <br>\n",
    "\n",
    "In the part 1, we have explored Python's data types. Let's talk about:\n",
    "* **`Comparisons Operators`**\n",
    "* **`if, else, elif`** statements.\n",
    "\n",
    "Let's move on and learn by doing!"
   ]
  },
  {
   "cell_type": "markdown",
   "metadata": {},
   "source": [
    "## Comparison Operators:\n",
    "Comparison Operators allows to compare two elements to each other, such as, **`greater than, less than, equal to, not equal to`** etc  "
   ]
  },
  {
   "cell_type": "code",
   "execution_count": 1,
   "metadata": {},
   "outputs": [
    {
     "data": {
      "text/plain": [
       "False"
      ]
     },
     "execution_count": 1,
     "metadata": {},
     "output_type": "execute_result"
    }
   ],
   "source": [
    "3 > 4"
   ]
  },
  {
   "cell_type": "code",
   "execution_count": 2,
   "metadata": {},
   "outputs": [
    {
     "data": {
      "text/plain": [
       "True"
      ]
     },
     "execution_count": 2,
     "metadata": {},
     "output_type": "execute_result"
    }
   ],
   "source": [
    "3 < 4"
   ]
  },
  {
   "cell_type": "code",
   "execution_count": 3,
   "metadata": {},
   "outputs": [
    {
     "data": {
      "text/plain": [
       "True"
      ]
     },
     "execution_count": 3,
     "metadata": {},
     "output_type": "execute_result"
    }
   ],
   "source": [
    "2 >= 2"
   ]
  },
  {
   "cell_type": "code",
   "execution_count": 4,
   "metadata": {},
   "outputs": [
    {
     "data": {
      "text/plain": [
       "True"
      ]
     },
     "execution_count": 4,
     "metadata": {},
     "output_type": "execute_result"
    }
   ],
   "source": [
    "3 <= 4"
   ]
  },
  {
   "cell_type": "code",
   "execution_count": 5,
   "metadata": {},
   "outputs": [
    {
     "data": {
      "text/plain": [
       "True"
      ]
     },
     "execution_count": 5,
     "metadata": {},
     "output_type": "execute_result"
    }
   ],
   "source": [
    "# == is different than =, which is assignment operator \n",
    "1 == 1 "
   ]
  },
  {
   "cell_type": "code",
   "execution_count": null,
   "metadata": {},
   "outputs": [],
   "source": []
  },
  {
   "cell_type": "code",
   "execution_count": 6,
   "metadata": {},
   "outputs": [
    {
     "data": {
      "text/plain": [
       "False"
      ]
     },
     "execution_count": 6,
     "metadata": {},
     "output_type": "execute_result"
    }
   ],
   "source": [
    "# We can compare strings using == operator\n",
    "'Tom' == 'TOM'"
   ]
  },
  {
   "cell_type": "code",
   "execution_count": 7,
   "metadata": {},
   "outputs": [
    {
     "data": {
      "text/plain": [
       "False"
      ]
     },
     "execution_count": 7,
     "metadata": {},
     "output_type": "execute_result"
    }
   ],
   "source": [
    "'Tom' == 'Jim'"
   ]
  },
  {
   "cell_type": "code",
   "execution_count": 8,
   "metadata": {},
   "outputs": [
    {
     "data": {
      "text/plain": [
       "True"
      ]
     },
     "execution_count": 8,
     "metadata": {},
     "output_type": "execute_result"
    }
   ],
   "source": [
    "'Tom' == 'Tom'"
   ]
  },
  {
   "cell_type": "markdown",
   "metadata": {},
   "source": [
    "## Logical Operators\n",
    "Logical operators combine multiple conditions using key words **`\"and\"`** / **`\"or\"`** (operators) between conditions.  <br>\n",
    "\n",
    "For **`\"and\"`** operator, **all conditions must be satisfied**"
   ]
  },
  {
   "cell_type": "code",
   "execution_count": 9,
   "metadata": {},
   "outputs": [
    {
     "data": {
      "text/plain": [
       "True"
      ]
     },
     "execution_count": 9,
     "metadata": {},
     "output_type": "execute_result"
    }
   ],
   "source": [
    "# and operator\n",
    "(1 < 2) and (2 < 3)\n",
    "# parentheses are to make the statement more readable only  "
   ]
  },
  {
   "cell_type": "markdown",
   "metadata": {},
   "source": [
    "For **`\"or\"`** operator, **one conditions must be satisfied**"
   ]
  },
  {
   "cell_type": "code",
   "execution_count": 10,
   "metadata": {},
   "outputs": [
    {
     "data": {
      "text/plain": [
       "True"
      ]
     },
     "execution_count": 10,
     "metadata": {},
     "output_type": "execute_result"
    }
   ],
   "source": [
    "# or operator\n",
    "(1 < 2) or (2 > 3)"
   ]
  },
  {
   "cell_type": "code",
   "execution_count": 11,
   "metadata": {},
   "outputs": [
    {
     "data": {
      "text/plain": [
       "False"
      ]
     },
     "execution_count": 11,
     "metadata": {},
     "output_type": "execute_result"
    }
   ],
   "source": [
    "(1 > 2) or (2 > 3)"
   ]
  },
  {
   "cell_type": "code",
   "execution_count": 12,
   "metadata": {},
   "outputs": [
    {
     "data": {
      "text/plain": [
       "True"
      ]
     },
     "execution_count": 12,
     "metadata": {},
     "output_type": "execute_result"
    }
   ],
   "source": [
    "# Multiple operators\n",
    "(1 == 2) or (2 == 3) or (4 == 4)"
   ]
  },
  {
   "cell_type": "markdown",
   "metadata": {},
   "source": [
    "# We can change the conditions here and run the code to see results"
   ]
  },
  {
   "cell_type": "code",
   "execution_count": 13,
   "metadata": {},
   "outputs": [],
   "source": [
    "is_magician = False  # Boolean\n",
    "is_expert = True"
   ]
  },
  {
   "cell_type": "code",
   "execution_count": 14,
   "metadata": {},
   "outputs": [
    {
     "name": "stdout",
     "output_type": "stream",
     "text": [
      "you need magic powers\n"
     ]
    }
   ],
   "source": [
    "# check if magician and expert: You are a master magician\n",
    "# check if magician and not an expert : At least you are getting there\n",
    "# check if not magician ; you need magic powers\n",
    "\n",
    "if is_magician and is_expert:\n",
    "    print(f'you are a master magician')\n",
    "elif is_magician and not is_expert :\n",
    "    print(f'At least you are getting there')\n",
    "else :\n",
    "    print(f'you need magic powers')"
   ]
  },
  {
   "cell_type": "code",
   "execution_count": null,
   "metadata": {},
   "outputs": [],
   "source": []
  },
  {
   "cell_type": "markdown",
   "metadata": {},
   "source": [
    "### So moving forward to conditional statement "
   ]
  },
  {
   "cell_type": "markdown",
   "metadata": {},
   "source": [
    "## `if, else, elif`  Statements\n",
    "Often, we want to execute the code to perform some action based on a condition. For example, if the condition is true, do something. We can get the done using \"**`if, else, elif`**\" statements. <br>\n",
    "Python's \"**`if`**\" statement select actions to perform. <br><br>\n",
    "Let's learn with a simple example. "
   ]
  },
  {
   "cell_type": "code",
   "execution_count": 15,
   "metadata": {},
   "outputs": [
    {
     "name": "stdout",
     "output_type": "stream",
     "text": [
      "True\n"
     ]
    }
   ],
   "source": [
    "# Let say, we have a conditon\n",
    "if 3 > 2:\n",
    "    print ('True') \n",
    "# print statement will only execute if the conditon is satisfied"
   ]
  },
  {
   "cell_type": "markdown",
   "metadata": {},
   "source": [
    "<font style=\"font-size:14px;color:blue;\">*Notice a block of whitespace before the print( ) statement, in the cell above. It is very important in Python. Python does not use brackets in order to separate a block of code in the execution statements, it uses white spaces instead. Like most of the other IDEs, jupyter notebook automatically does this indentation of Python code after a colon.*<font>"
   ]
  },
  {
   "cell_type": "markdown",
   "metadata": {},
   "source": [
    "If the condition is not satisfied (in the example below), print statement will not be executed. Nothing will appear in the output."
   ]
  },
  {
   "cell_type": "code",
   "execution_count": 16,
   "metadata": {},
   "outputs": [],
   "source": [
    "if 3 < 2:\n",
    "    print ('True')"
   ]
  },
  {
   "cell_type": "code",
   "execution_count": 17,
   "metadata": {},
   "outputs": [
    {
     "name": "stdout",
     "output_type": "stream",
     "text": [
      "False\n"
     ]
    }
   ],
   "source": [
    "# the right way should be\n",
    "if 3 < 2:\n",
    "    print ('True')\n",
    "else:\n",
    "    print(\"False\")"
   ]
  },
  {
   "cell_type": "markdown",
   "metadata": {},
   "source": [
    "#### So, the condition is not satisfied and we did not get `True` in the output. <br>\n",
    "In such situation, we usually want our program to do something even if the condition is not satisfied, e.g., print `False`!. This is where we introduce **else**. "
   ]
  },
  {
   "cell_type": "code",
   "execution_count": 19,
   "metadata": {},
   "outputs": [
    {
     "name": "stdout",
     "output_type": "stream",
     "text": [
      "False\n"
     ]
    }
   ],
   "source": [
    "if 3 == 2: # You can change == to != to print True\n",
    "    print ('True')\n",
    "else:\n",
    "    print ('False')"
   ]
  },
  {
   "cell_type": "markdown",
   "metadata": {},
   "source": [
    "### We can have multiple conditions in the code!<br>\n",
    "### Let's introduce elif in such situation (elif is a short of else-if) <br>\n",
    "### We can introduce many elif statements in the code. <br><br>"
   ]
  },
  {
   "cell_type": "code",
   "execution_count": 20,
   "metadata": {},
   "outputs": [
    {
     "name": "stdout",
     "output_type": "stream",
     "text": [
      "2nd statement\n"
     ]
    }
   ],
   "source": [
    "if 1 == 2:\n",
    "    print('1st statement')\n",
    "elif 2 == 2:\n",
    "    print('2nd statement')\n",
    "else:\n",
    "    print('3rd statement')    "
   ]
  },
  {
   "cell_type": "markdown",
   "metadata": {},
   "source": [
    "## ***Important to remember for elif statement.*** *Notice that, the code will only execute the first `True` condition, it does not matter if you have other `True` conditions in the code after your first `True`.*<br>\n",
    "\n",
    "## Let's try another example here!"
   ]
  },
  {
   "cell_type": "code",
   "execution_count": 21,
   "metadata": {},
   "outputs": [
    {
     "name": "stdout",
     "output_type": "stream",
     "text": [
      "2nd statement\n"
     ]
    }
   ],
   "source": [
    "if 1 == 2:\n",
    "    print('1st statement')\n",
    "elif 3 == 3:\n",
    "    print('2nd statement')\n",
    "elif 2 == 2:\n",
    "    print('3rd statement')\n",
    "else:\n",
    "    print('4rd statement')"
   ]
  },
  {
   "cell_type": "markdown",
   "metadata": {},
   "source": [
    "In the code above, although `2==2` is `True`, `print('3rd statement')`  will not be executed. Since, `print('2nd statement')` is also `True` and have already been executed!"
   ]
  },
  {
   "cell_type": "code",
   "execution_count": null,
   "metadata": {},
   "outputs": [],
   "source": []
  },
  {
   "cell_type": "markdown",
   "metadata": {},
   "source": [
    "# Conditionals"
   ]
  },
  {
   "cell_type": "markdown",
   "metadata": {},
   "source": [
    "# Are you old enough to drive"
   ]
  },
  {
   "cell_type": "code",
   "execution_count": 28,
   "metadata": {},
   "outputs": [],
   "source": [
    "is_old = True\n",
    "is_licenced = True"
   ]
  },
  {
   "cell_type": "code",
   "execution_count": 29,
   "metadata": {},
   "outputs": [
    {
     "name": "stdout",
     "output_type": "stream",
     "text": [
      "you are not allowed to drink alcohol not alone to drive\n"
     ]
    }
   ],
   "source": [
    "if is_old:\n",
    "    print(f'you are old enough to drive')\n",
    "elif is_licenced:\n",
    "    print(f'you can drive now that you have a lincence')\n",
    "else:\n",
    "    print(f'you are not allowed to drink alcohol not alone to drive')"
   ]
  },
  {
   "cell_type": "code",
   "execution_count": null,
   "metadata": {},
   "outputs": [],
   "source": []
  },
  {
   "cell_type": "code",
   "execution_count": 30,
   "metadata": {},
   "outputs": [],
   "source": [
    "is_old = False\n",
    "is_licenced = False"
   ]
  },
  {
   "cell_type": "code",
   "execution_count": 31,
   "metadata": {},
   "outputs": [
    {
     "name": "stdout",
     "output_type": "stream",
     "text": [
      "you are not allowed to drink alcohol not alone to drive\n"
     ]
    }
   ],
   "source": [
    "if is_old:\n",
    "    print(f'you are old enough to drive')\n",
    "    \n",
    "elif is_licenced:\n",
    "    print(f'you can drive now that you have a licence')\n",
    "else:\n",
    "    print(f'you are not allowed to drink alcohol not alone to drive')"
   ]
  },
  {
   "cell_type": "code",
   "execution_count": null,
   "metadata": {},
   "outputs": [],
   "source": []
  },
  {
   "cell_type": "code",
   "execution_count": null,
   "metadata": {},
   "outputs": [],
   "source": [
    "is_old = True\n",
    "is_licenced = True"
   ]
  },
  {
   "cell_type": "code",
   "execution_count": null,
   "metadata": {},
   "outputs": [],
   "source": [
    "if is_old and is_licenced:  # note this we if a person is old and doesnt have a licnece , the car wont allow to drive\n",
    "    print('You are old enough to drive and you have a valid licence')\n",
    "    \n",
    "else :\n",
    "    print('You are not allowed to drink alcohol not alone to drive')"
   ]
  },
  {
   "cell_type": "code",
   "execution_count": null,
   "metadata": {},
   "outputs": [],
   "source": []
  },
  {
   "cell_type": "markdown",
   "metadata": {},
   "source": [
    "# Example 2"
   ]
  },
  {
   "cell_type": "code",
   "execution_count": 32,
   "metadata": {},
   "outputs": [],
   "source": [
    "user_name = 'Joshua Tree'\n",
    "password = 123456"
   ]
  },
  {
   "cell_type": "code",
   "execution_count": 33,
   "metadata": {},
   "outputs": [
    {
     "name": "stdout",
     "output_type": "stream",
     "text": [
      "you have the right access to login\n"
     ]
    }
   ],
   "source": [
    "if user_name and password:\n",
    "    print(f'you have the right access to login')\n",
    "    \n",
    "else :\n",
    "    print(f'you are not allowed to login')"
   ]
  },
  {
   "cell_type": "code",
   "execution_count": null,
   "metadata": {},
   "outputs": [],
   "source": []
  },
  {
   "cell_type": "code",
   "execution_count": null,
   "metadata": {},
   "outputs": [],
   "source": []
  },
  {
   "cell_type": "markdown",
   "metadata": {},
   "source": [
    "# Ternary Operators"
   ]
  },
  {
   "cell_type": "markdown",
   "metadata": {},
   "source": [
    "### The next operator is the Ternary. It is a bit more of a complicated operator, but it can be very useful when you would like to decide which value to assign to a variable. Ternaries are good for one-line conditions, but anything more complex makes ternary operators quite difficult to read. Let's check it out:"
   ]
  },
  {
   "cell_type": "code",
   "execution_count": null,
   "metadata": {},
   "outputs": [],
   "source": [
    "friend = True\n",
    "can_message = 'message allowed' if friend  else 'message not allowed'"
   ]
  },
  {
   "cell_type": "code",
   "execution_count": null,
   "metadata": {},
   "outputs": [],
   "source": [
    "print(can_message)"
   ]
  },
  {
   "cell_type": "code",
   "execution_count": null,
   "metadata": {},
   "outputs": [],
   "source": []
  },
  {
   "cell_type": "code",
   "execution_count": null,
   "metadata": {},
   "outputs": [],
   "source": [
    "my_condition = True\n",
    "value = 10 if my_condition else 1000\n",
    "print(value)"
   ]
  },
  {
   "cell_type": "code",
   "execution_count": null,
   "metadata": {},
   "outputs": [],
   "source": []
  },
  {
   "cell_type": "markdown",
   "metadata": {},
   "source": [
    "# let's say we are receiving two variables with different values and we want to assign the higher value to a new variable"
   ]
  },
  {
   "cell_type": "code",
   "execution_count": null,
   "metadata": {},
   "outputs": [],
   "source": [
    "x = 12\n",
    "y = 20\n",
    "new_variable = x if x > y else y\n",
    "# here we are saying, take the value of x if it is greater than the value of y. else take the value of y\n",
    "# since x > y evaluates to false, the ternary returns the value of the variable after the else statement or y\n",
    "print(new_variable)"
   ]
  },
  {
   "cell_type": "code",
   "execution_count": null,
   "metadata": {},
   "outputs": [],
   "source": []
  },
  {
   "cell_type": "markdown",
   "metadata": {},
   "source": [
    "# Love Calculator 1"
   ]
  },
  {
   "cell_type": "code",
   "execution_count": 34,
   "metadata": {},
   "outputs": [
    {
     "name": "stdout",
     "output_type": "stream",
     "text": [
      "-------------------------\n",
      "* Love Match Calculator\n",
      "------------------------\n",
      "type your first nameTimofe\n",
      "type another first nameJohnny\n",
      "Your love match is :20\n"
     ]
    }
   ],
   "source": [
    "print(\"-------------------------\")\n",
    "print(\"* Love Match Calculator\")\n",
    "print(\"------------------------\")\n",
    "\n",
    "name1 = input(\"type your first name\")\n",
    "name2 = input(\"type another first name\")\n",
    "name1 = name1.lower()\n",
    "name2 = name2.lower()\n",
    "\n",
    "score = 0\n",
    "vowels = [\"a\",\"e\",\"i\",\"o\",\"u\"]\n",
    "consonants = [\"b\",\"c\",\"d\",\"f\",\"g\",\"h\",\"j\",\"k\",\"l\",\"m\",\"n\",\"p\",\"q\",\"r\",\"s\",\"t\",\"v\",\"w\",\"x\",\"y\",\"z\"]\n",
    "vowelsInName1 = 0\n",
    "vowelsIName2 = 0\n",
    "\n",
    "if len(name1) == len(name2):\n",
    "    score = score + 20\n",
    "    \n",
    "        \n",
    "if (name1[0] in vowels) and (name2[0] in vowels):\n",
    "    score = score + 10\n",
    "\n",
    "print(\"Your love match is :\"  + str(score))   "
   ]
  },
  {
   "cell_type": "code",
   "execution_count": 35,
   "metadata": {},
   "outputs": [
    {
     "data": {
      "text/plain": [
       "5.0"
      ]
     },
     "execution_count": 35,
     "metadata": {},
     "output_type": "execute_result"
    }
   ],
   "source": [
    "import numpy as np\n",
    "np.floor(5)"
   ]
  },
  {
   "cell_type": "markdown",
   "metadata": {},
   "source": [
    "# Love Calculator 2"
   ]
  },
  {
   "cell_type": "code",
   "execution_count": 36,
   "metadata": {},
   "outputs": [],
   "source": [
    "import random"
   ]
  },
  {
   "cell_type": "code",
   "execution_count": 37,
   "metadata": {},
   "outputs": [
    {
     "name": "stdout",
     "output_type": "stream",
     "text": [
      "Welcome to the love Calculator\n",
      "what is boys nameTimofe\n",
      "what is girls nameJohn\n",
      "We are calculating the love match of …\n",
      "Timofe and John\n",
      "We give their love a chance of  33.0 %\n"
     ]
    }
   ],
   "source": [
    "print(\"Welcome to the love Calculator\")\n",
    "\n",
    "boysname = input(\"what is boys name\")\n",
    "girlsname = input(\"what is girls name\")\n",
    "\n",
    "scores = random.randint(0,100)\n",
    "scores = np.floor(scores) + 1\n",
    "\n",
    "print(\"We are calculating the love match of …\")\n",
    "\n",
    "if scores > 70:\n",
    "    print(\"Your love score is \", scores ,\"%\" ,\"You love each other like Kanye loves Kanye\" )\n",
    "        \n",
    "else:\n",
    "    print((boysname) , (\"and\") , (girlsname))\n",
    "    print ((\"We give their love a chance of \") , (scores) , (\"%\"))"
   ]
  },
  {
   "cell_type": "code",
   "execution_count": null,
   "metadata": {},
   "outputs": [],
   "source": []
  },
  {
   "cell_type": "markdown",
   "metadata": {},
   "source": [
    "# While Loops, Break and Continue\n",
    "\n",
    "## Introduction\n",
    "\n",
    "Earlier in the course, we learned how to iterate over collections. But is there a way to have a loop **without** a collection to iterate over? Well, another way to create a loop is with **while** loops. We can use a while loop to perform the same action over and over until a condition is no longer `True`. We don't even need an *iterable* or collection to iterate over. We can just define a condition and perform the given code block until the condition is no longer `True`. Pretty cool, right?   \n",
    "\n",
    "Or what if we would like to have a loop that stops at a certain point? Let's say we only want to collect half of the elements of a list, or stop a list once we find the first matching element? To perform operations like these we'll need `break` and `continue` statements. These statements **control the flow** of our loops and will help us make our loops even more effective.\n",
    "\n",
    "## Objectives\n",
    "You will be able to:\n",
    "\n",
    "* Use a `while` loop\n",
    "* Use `break` and `continue` to add control flow to a `while` loop"
   ]
  },
  {
   "cell_type": "code",
   "execution_count": null,
   "metadata": {},
   "outputs": [],
   "source": []
  },
  {
   "cell_type": "markdown",
   "metadata": {},
   "source": [
    "## What is a `while` loop and how does it work?\n",
    "\n",
    "A `while` loop is just that; a loop! Similar to a `for` loop, except there is no need for a collection to iterate over. Instead, a `while` loop uses a condition to know when to stop executing. When the condition is true, the block inside the while loop is executed. When that condition is false, we exit the while loop and move on to the next piece of our code.\n",
    "\n",
    "Let's look at an example:"
   ]
  },
  {
   "cell_type": "code",
   "execution_count": null,
   "metadata": {},
   "outputs": [],
   "source": []
  },
  {
   "cell_type": "code",
   "execution_count": 1,
   "metadata": {},
   "outputs": [
    {
     "name": "stdout",
     "output_type": "stream",
     "text": [
      "4\n",
      "3\n",
      "2\n",
      "1\n",
      "The stop_number reached 0 so the while loop's condition became False and stopped execution\n"
     ]
    }
   ],
   "source": [
    "stop_number = 4\n",
    "while stop_number > 0:\n",
    "    print(stop_number)\n",
    "    stop_number -=1\n",
    "print(\"The stop_number reached\", stop_number, \"so the while loop's condition became False and stopped execution\")"
   ]
  },
  {
   "cell_type": "code",
   "execution_count": null,
   "metadata": {},
   "outputs": [],
   "source": []
  },
  {
   "cell_type": "markdown",
   "metadata": {},
   "source": [
    "## Note the lack of a `list` or other collection, and that our second print statement only printed after our `stop_number` become 0.\n",
    "\n"
   ]
  },
  {
   "cell_type": "code",
   "execution_count": null,
   "metadata": {},
   "outputs": [],
   "source": []
  },
  {
   "cell_type": "markdown",
   "metadata": {},
   "source": [
    "# Break"
   ]
  },
  {
   "cell_type": "code",
   "execution_count": 2,
   "metadata": {},
   "outputs": [],
   "source": [
    "my_list = [1,2,3,4]"
   ]
  },
  {
   "cell_type": "code",
   "execution_count": 5,
   "metadata": {},
   "outputs": [
    {
     "name": "stdout",
     "output_type": "stream",
     "text": [
      "1\n"
     ]
    }
   ],
   "source": [
    "i = 0\n",
    "while i < len(my_list):\n",
    "    print(my_list[i])\n",
    "    i+=1\n",
    "    break"
   ]
  },
  {
   "cell_type": "code",
   "execution_count": null,
   "metadata": {},
   "outputs": [],
   "source": []
  },
  {
   "cell_type": "markdown",
   "metadata": {},
   "source": [
    "# Continue"
   ]
  },
  {
   "cell_type": "code",
   "execution_count": 8,
   "metadata": {},
   "outputs": [],
   "source": [
    "i = 0\n",
    "while i < len(my_list):\n",
    "    i+=1\n",
    "    continue"
   ]
  },
  {
   "cell_type": "code",
   "execution_count": null,
   "metadata": {},
   "outputs": [],
   "source": []
  },
  {
   "cell_type": "markdown",
   "metadata": {},
   "source": [
    "# Pass"
   ]
  },
  {
   "cell_type": "code",
   "execution_count": 9,
   "metadata": {},
   "outputs": [],
   "source": [
    "i = 0\n",
    "while i < len(my_list):\n",
    "    i+=1\n",
    "    pass "
   ]
  },
  {
   "cell_type": "code",
   "execution_count": null,
   "metadata": {},
   "outputs": [],
   "source": []
  },
  {
   "cell_type": "markdown",
   "metadata": {},
   "source": [
    "## + Also, notice that the structure of a `while` loop is such that it could execute for an *unknown* amount of times. For example, if we didn't know the `stop_number` because it changed from time to time, our while loop could execute 100 times or 3. \n",
    "\n",
    "## + For example, if we used a random number using the random library from `numpy`:\n"
   ]
  },
  {
   "cell_type": "code",
   "execution_count": 10,
   "metadata": {},
   "outputs": [
    {
     "name": "stdout",
     "output_type": "stream",
     "text": [
      "11\n",
      "10\n",
      "9\n",
      "8\n",
      "7\n",
      "6\n",
      "5\n",
      "4\n",
      "3\n",
      "2\n",
      "1\n",
      "0\n"
     ]
    }
   ],
   "source": [
    "import numpy as np\n",
    "random_num = np.random.randint(1,20)\n",
    "while random_num > 0:\n",
    "    random_num -= 1\n",
    "    print(random_num)"
   ]
  },
  {
   "cell_type": "code",
   "execution_count": null,
   "metadata": {},
   "outputs": [],
   "source": []
  },
  {
   "cell_type": "markdown",
   "metadata": {},
   "source": [
    "However, we know that eventually that number will be less than 0 and the loop will eventually stop. This is of critical importance. A while loop must always have a condition that will stop the loop, otherwise we will have an **infinite** loop. Infinite loops can crash your browser or program if you don't have a way to end it. So, it is very important to make sure your loops have a fairly defined **end** case.\n",
    "\n",
    "*If you do ever accidentally create an infinite loop, don't worry. Your current Notebook might freeze, and then kill the page to stop the execution. You can then re-open the browser again normally.*\n",
    "\n",
    "## When To Use While Loops\n",
    "\n",
    "While loops are fairly straight forward. We use them in instances where we have a **condition** that serves as the point at which we want a process to stop. For example, if we think about our appetite, we should eat until we aren't hungry, right? Some days that might be two slices of pizza, some days that might be 5 slices of pizza (and that is assuming all pizza slices are of equal size, which is a *generous* assumption).\n",
    "\n",
    "![liz_lemon_eating_pizza](images/liz_lemon_eating_pizza.gif)\n",
    "\n",
    "In keeping with our food theme, let's see how we can make sure we're drinking enough water during the day using a while loop:\n"
   ]
  },
  {
   "cell_type": "markdown",
   "metadata": {},
   "source": [
    "# Let's Play the hydration game"
   ]
  },
  {
   "cell_type": "code",
   "execution_count": 11,
   "metadata": {},
   "outputs": [
    {
     "name": "stdout",
     "output_type": "stream",
     "text": [
      "---[sips water]----\n",
      "ah, that was refreshing\n",
      "hydration level is now at 10 %\n",
      "\n",
      "---[sips water]----\n",
      "ah, that was refreshing\n",
      "hydration level is now at 20 %\n",
      "\n",
      "---[sips water]----\n",
      "ah, that was refreshing\n",
      "hydration level is now at 30 %\n",
      "\n",
      "---[sips water]----\n",
      "ah, that was refreshing\n",
      "hydration level is now at 40 %\n",
      "\n",
      "---[sips water]----\n",
      "ah, that was refreshing\n",
      "hydration level is now at 50 %\n",
      "\n",
      "---[sips water]----\n",
      "ah, that was refreshing\n",
      "hydration level is now at 60 %\n",
      "\n",
      "---[sips water]----\n",
      "ah, that was refreshing\n",
      "hydration level is now at 70 %\n",
      "\n",
      "---[sips water]----\n",
      "ah, that was refreshing\n",
      "hydration level is now at 80 %\n",
      "\n",
      "---[sips water]----\n",
      "ah, that was refreshing\n",
      "hydration level is now at 90 %\n",
      "\n",
      "---[sips water]----\n",
      "ah, that was refreshing\n",
      "hydration level is now at 100 %\n",
      "\n"
     ]
    }
   ],
   "source": [
    "hydration = 0\n",
    "water = 1  # gallons\n",
    "while hydration < 100 and water > 0:\n",
    "    print(\"---[sips water]----\")\n",
    "    water -= .1\n",
    "    print(\"ah, that was refreshing\")\n",
    "    hydration += 10\n",
    "    print(\"hydration level is now at\" , hydration, \"%\\n\")"
   ]
  },
  {
   "cell_type": "code",
   "execution_count": null,
   "metadata": {},
   "outputs": [],
   "source": []
  },
  {
   "cell_type": "markdown",
   "metadata": {},
   "source": [
    "# Be careful of endless loops - This code is an example of an endless loop that runs until the computer crushes. Unless you stop it."
   ]
  },
  {
   "cell_type": "code",
   "execution_count": null,
   "metadata": {},
   "outputs": [],
   "source": [
    "i = 0\n",
    "while i < 50:\n",
    "    print(i)\n",
    "   "
   ]
  },
  {
   "cell_type": "markdown",
   "metadata": {},
   "source": [
    "# Using break to stop the infinite loop"
   ]
  },
  {
   "cell_type": "code",
   "execution_count": 16,
   "metadata": {},
   "outputs": [
    {
     "name": "stdout",
     "output_type": "stream",
     "text": [
      "0\n"
     ]
    }
   ],
   "source": [
    "i = 0\n",
    "while i < 50:\n",
    "    print(i)\n",
    "    break"
   ]
  },
  {
   "cell_type": "markdown",
   "metadata": {},
   "source": [
    "# this is the same as range()"
   ]
  },
  {
   "cell_type": "code",
   "execution_count": 17,
   "metadata": {},
   "outputs": [
    {
     "name": "stdout",
     "output_type": "stream",
     "text": [
      "0\n",
      "1\n",
      "2\n",
      "3\n",
      "4\n",
      "5\n",
      "6\n",
      "7\n",
      "8\n",
      "9\n",
      "10\n",
      "11\n",
      "12\n",
      "13\n",
      "14\n",
      "15\n",
      "16\n",
      "17\n",
      "18\n",
      "19\n",
      "20\n",
      "21\n",
      "22\n",
      "23\n",
      "24\n",
      "25\n",
      "26\n",
      "27\n",
      "28\n",
      "29\n",
      "30\n",
      "31\n",
      "32\n",
      "33\n",
      "34\n",
      "35\n",
      "36\n",
      "37\n",
      "38\n",
      "39\n",
      "40\n",
      "41\n",
      "42\n",
      "43\n",
      "44\n",
      "45\n",
      "46\n",
      "47\n",
      "48\n",
      "49\n",
      "everything is done\n"
     ]
    }
   ],
   "source": [
    "i = 0\n",
    "while i < 50:\n",
    "    print(i)\n",
    "    i=i+1  # i+=1\n",
    "    # break\n",
    "else:\n",
    "    print(\"everything is done\")"
   ]
  },
  {
   "cell_type": "code",
   "execution_count": null,
   "metadata": {},
   "outputs": [],
   "source": []
  },
  {
   "cell_type": "markdown",
   "metadata": {},
   "source": [
    "# When to use for loops and while loops"
   ]
  },
  {
   "cell_type": "code",
   "execution_count": 18,
   "metadata": {},
   "outputs": [
    {
     "name": "stdout",
     "output_type": "stream",
     "text": [
      "1\n",
      "2\n",
      "3\n",
      "4\n",
      "5\n"
     ]
    }
   ],
   "source": [
    "for x in my_list:\n",
    "    print(x)"
   ]
  },
  {
   "cell_type": "code",
   "execution_count": 19,
   "metadata": {},
   "outputs": [
    {
     "name": "stdout",
     "output_type": "stream",
     "text": [
      "0\n",
      "1\n",
      "2\n",
      "3\n",
      "4\n"
     ]
    }
   ],
   "source": [
    "i = 0\n",
    "while i < len(my_list):\n",
    "    print(i)\n",
    "    i+=1"
   ]
  },
  {
   "cell_type": "code",
   "execution_count": 20,
   "metadata": {},
   "outputs": [
    {
     "name": "stdout",
     "output_type": "stream",
     "text": [
      "Something: \n"
     ]
    }
   ],
   "source": [
    "while True:\n",
    "    print(\"Something: \")\n",
    "    break"
   ]
  },
  {
   "cell_type": "code",
   "execution_count": 21,
   "metadata": {},
   "outputs": [
    {
     "name": "stdout",
     "output_type": "stream",
     "text": [
      "Something: Holidays\n"
     ]
    }
   ],
   "source": [
    "while True:\n",
    "    input(\"Something: \")\n",
    "    break"
   ]
  },
  {
   "cell_type": "code",
   "execution_count": 22,
   "metadata": {},
   "outputs": [
    {
     "name": "stdout",
     "output_type": "stream",
     "text": [
      "Something: Somthing\n",
      "Something: bye\n"
     ]
    }
   ],
   "source": [
    "while True:\n",
    "    response = input(\"Something: \")\n",
    "    if (response == \"bye\"):\n",
    "        break"
   ]
  },
  {
   "cell_type": "code",
   "execution_count": null,
   "metadata": {},
   "outputs": [],
   "source": []
  },
  {
   "cell_type": "markdown",
   "metadata": {},
   "source": [
    "# 99 Bottles Exercise"
   ]
  },
  {
   "cell_type": "code",
   "execution_count": null,
   "metadata": {},
   "outputs": [],
   "source": [
    "var numberOfBottles = 99\n",
    "while (numberOfBottles >= 0) {\n",
    "    var bottleWord = \"bottle\";\n",
    "    if (numberOfBottles === 1) {\n",
    "        bottleWord = \"bottles\";\n",
    "    } \n",
    "    console.log(numberOfBottles + \" \" + bottleWord + \" of beer on the wall\");\n",
    "    console.log(numberOfBottles + \" \" + bottleWord + \" of beer,\");\n",
    "    console.log(\"Take one down, pass it around,\");\n",
    "    numberOfBottles--;\n",
    "    console.log(numberOfBottles + \" \" + bottleWord + \" of beer on the wall.\");\n",
    "}\n"
   ]
  },
  {
   "cell_type": "code",
   "execution_count": 47,
   "metadata": {},
   "outputs": [
    {
     "name": "stdout",
     "output_type": "stream",
     "text": [
      "99 bottles of beer on the wall\n",
      "99 bottles of beer\n",
      "Take one down, pass it around\n",
      "98 bottles of beer on the wall\n",
      "98 bottles of beer on the wall\n",
      "98 bottles of beer\n",
      "Take one down, pass it around\n",
      "97 bottles of beer on the wall\n",
      "97 bottles of beer on the wall\n",
      "97 bottles of beer\n",
      "Take one down, pass it around\n",
      "96 bottles of beer on the wall\n",
      "96 bottles of beer on the wall\n",
      "96 bottles of beer\n",
      "Take one down, pass it around\n",
      "95 bottles of beer on the wall\n",
      "95 bottles of beer on the wall\n",
      "95 bottles of beer\n",
      "Take one down, pass it around\n",
      "94 bottles of beer on the wall\n",
      "94 bottles of beer on the wall\n",
      "94 bottles of beer\n",
      "Take one down, pass it around\n",
      "93 bottles of beer on the wall\n",
      "93 bottles of beer on the wall\n",
      "93 bottles of beer\n",
      "Take one down, pass it around\n",
      "92 bottles of beer on the wall\n",
      "92 bottles of beer on the wall\n",
      "92 bottles of beer\n",
      "Take one down, pass it around\n",
      "91 bottles of beer on the wall\n",
      "91 bottles of beer on the wall\n",
      "91 bottles of beer\n",
      "Take one down, pass it around\n",
      "90 bottles of beer on the wall\n",
      "90 bottles of beer on the wall\n",
      "90 bottles of beer\n",
      "Take one down, pass it around\n",
      "89 bottles of beer on the wall\n",
      "89 bottles of beer on the wall\n",
      "89 bottles of beer\n",
      "Take one down, pass it around\n",
      "88 bottles of beer on the wall\n",
      "88 bottles of beer on the wall\n",
      "88 bottles of beer\n",
      "Take one down, pass it around\n",
      "87 bottles of beer on the wall\n",
      "87 bottles of beer on the wall\n",
      "87 bottles of beer\n",
      "Take one down, pass it around\n",
      "86 bottles of beer on the wall\n",
      "86 bottles of beer on the wall\n",
      "86 bottles of beer\n",
      "Take one down, pass it around\n",
      "85 bottles of beer on the wall\n",
      "85 bottles of beer on the wall\n",
      "85 bottles of beer\n",
      "Take one down, pass it around\n",
      "84 bottles of beer on the wall\n",
      "84 bottles of beer on the wall\n",
      "84 bottles of beer\n",
      "Take one down, pass it around\n",
      "83 bottles of beer on the wall\n",
      "83 bottles of beer on the wall\n",
      "83 bottles of beer\n",
      "Take one down, pass it around\n",
      "82 bottles of beer on the wall\n",
      "82 bottles of beer on the wall\n",
      "82 bottles of beer\n",
      "Take one down, pass it around\n",
      "81 bottles of beer on the wall\n",
      "81 bottles of beer on the wall\n",
      "81 bottles of beer\n",
      "Take one down, pass it around\n",
      "80 bottles of beer on the wall\n",
      "80 bottles of beer on the wall\n",
      "80 bottles of beer\n",
      "Take one down, pass it around\n",
      "79 bottles of beer on the wall\n",
      "79 bottles of beer on the wall\n",
      "79 bottles of beer\n",
      "Take one down, pass it around\n",
      "78 bottles of beer on the wall\n",
      "78 bottles of beer on the wall\n",
      "78 bottles of beer\n",
      "Take one down, pass it around\n",
      "77 bottles of beer on the wall\n",
      "77 bottles of beer on the wall\n",
      "77 bottles of beer\n",
      "Take one down, pass it around\n",
      "76 bottles of beer on the wall\n",
      "76 bottles of beer on the wall\n",
      "76 bottles of beer\n",
      "Take one down, pass it around\n",
      "75 bottles of beer on the wall\n",
      "75 bottles of beer on the wall\n",
      "75 bottles of beer\n",
      "Take one down, pass it around\n",
      "74 bottles of beer on the wall\n",
      "74 bottles of beer on the wall\n",
      "74 bottles of beer\n",
      "Take one down, pass it around\n",
      "73 bottles of beer on the wall\n",
      "73 bottles of beer on the wall\n",
      "73 bottles of beer\n",
      "Take one down, pass it around\n",
      "72 bottles of beer on the wall\n",
      "72 bottles of beer on the wall\n",
      "72 bottles of beer\n",
      "Take one down, pass it around\n",
      "71 bottles of beer on the wall\n",
      "71 bottles of beer on the wall\n",
      "71 bottles of beer\n",
      "Take one down, pass it around\n",
      "70 bottles of beer on the wall\n",
      "70 bottles of beer on the wall\n",
      "70 bottles of beer\n",
      "Take one down, pass it around\n",
      "69 bottles of beer on the wall\n",
      "69 bottles of beer on the wall\n",
      "69 bottles of beer\n",
      "Take one down, pass it around\n",
      "68 bottles of beer on the wall\n",
      "68 bottles of beer on the wall\n",
      "68 bottles of beer\n",
      "Take one down, pass it around\n",
      "67 bottles of beer on the wall\n",
      "67 bottles of beer on the wall\n",
      "67 bottles of beer\n",
      "Take one down, pass it around\n",
      "66 bottles of beer on the wall\n",
      "66 bottles of beer on the wall\n",
      "66 bottles of beer\n",
      "Take one down, pass it around\n",
      "65 bottles of beer on the wall\n",
      "65 bottles of beer on the wall\n",
      "65 bottles of beer\n",
      "Take one down, pass it around\n",
      "64 bottles of beer on the wall\n",
      "64 bottles of beer on the wall\n",
      "64 bottles of beer\n",
      "Take one down, pass it around\n",
      "63 bottles of beer on the wall\n",
      "63 bottles of beer on the wall\n",
      "63 bottles of beer\n",
      "Take one down, pass it around\n",
      "62 bottles of beer on the wall\n",
      "62 bottles of beer on the wall\n",
      "62 bottles of beer\n",
      "Take one down, pass it around\n",
      "61 bottles of beer on the wall\n",
      "61 bottles of beer on the wall\n",
      "61 bottles of beer\n",
      "Take one down, pass it around\n",
      "60 bottles of beer on the wall\n",
      "60 bottles of beer on the wall\n",
      "60 bottles of beer\n",
      "Take one down, pass it around\n",
      "59 bottles of beer on the wall\n",
      "59 bottles of beer on the wall\n",
      "59 bottles of beer\n",
      "Take one down, pass it around\n",
      "58 bottles of beer on the wall\n",
      "58 bottles of beer on the wall\n",
      "58 bottles of beer\n",
      "Take one down, pass it around\n",
      "57 bottles of beer on the wall\n",
      "57 bottles of beer on the wall\n",
      "57 bottles of beer\n",
      "Take one down, pass it around\n",
      "56 bottles of beer on the wall\n",
      "56 bottles of beer on the wall\n",
      "56 bottles of beer\n",
      "Take one down, pass it around\n",
      "55 bottles of beer on the wall\n",
      "55 bottles of beer on the wall\n",
      "55 bottles of beer\n",
      "Take one down, pass it around\n",
      "54 bottles of beer on the wall\n",
      "54 bottles of beer on the wall\n",
      "54 bottles of beer\n",
      "Take one down, pass it around\n",
      "53 bottles of beer on the wall\n",
      "53 bottles of beer on the wall\n",
      "53 bottles of beer\n",
      "Take one down, pass it around\n",
      "52 bottles of beer on the wall\n",
      "52 bottles of beer on the wall\n",
      "52 bottles of beer\n",
      "Take one down, pass it around\n",
      "51 bottles of beer on the wall\n",
      "51 bottles of beer on the wall\n",
      "51 bottles of beer\n",
      "Take one down, pass it around\n",
      "50 bottles of beer on the wall\n",
      "50 bottles of beer on the wall\n",
      "50 bottles of beer\n",
      "Take one down, pass it around\n",
      "49 bottles of beer on the wall\n",
      "49 bottles of beer on the wall\n",
      "49 bottles of beer\n",
      "Take one down, pass it around\n",
      "48 bottles of beer on the wall\n",
      "48 bottles of beer on the wall\n",
      "48 bottles of beer\n",
      "Take one down, pass it around\n",
      "47 bottles of beer on the wall\n",
      "47 bottles of beer on the wall\n",
      "47 bottles of beer\n",
      "Take one down, pass it around\n",
      "46 bottles of beer on the wall\n",
      "46 bottles of beer on the wall\n",
      "46 bottles of beer\n",
      "Take one down, pass it around\n",
      "45 bottles of beer on the wall\n",
      "45 bottles of beer on the wall\n",
      "45 bottles of beer\n",
      "Take one down, pass it around\n",
      "44 bottles of beer on the wall\n",
      "44 bottles of beer on the wall\n",
      "44 bottles of beer\n",
      "Take one down, pass it around\n",
      "43 bottles of beer on the wall\n",
      "43 bottles of beer on the wall\n",
      "43 bottles of beer\n",
      "Take one down, pass it around\n",
      "42 bottles of beer on the wall\n",
      "42 bottles of beer on the wall\n",
      "42 bottles of beer\n",
      "Take one down, pass it around\n",
      "41 bottles of beer on the wall\n",
      "41 bottles of beer on the wall\n",
      "41 bottles of beer\n",
      "Take one down, pass it around\n",
      "40 bottles of beer on the wall\n",
      "40 bottles of beer on the wall\n",
      "40 bottles of beer\n",
      "Take one down, pass it around\n",
      "39 bottles of beer on the wall\n",
      "39 bottles of beer on the wall\n",
      "39 bottles of beer\n",
      "Take one down, pass it around\n",
      "38 bottles of beer on the wall\n",
      "38 bottles of beer on the wall\n",
      "38 bottles of beer\n",
      "Take one down, pass it around\n",
      "37 bottles of beer on the wall\n",
      "37 bottles of beer on the wall\n",
      "37 bottles of beer\n",
      "Take one down, pass it around\n",
      "36 bottles of beer on the wall\n",
      "36 bottles of beer on the wall\n",
      "36 bottles of beer\n",
      "Take one down, pass it around\n",
      "35 bottles of beer on the wall\n",
      "35 bottles of beer on the wall\n",
      "35 bottles of beer\n",
      "Take one down, pass it around\n",
      "34 bottles of beer on the wall\n",
      "34 bottles of beer on the wall\n",
      "34 bottles of beer\n",
      "Take one down, pass it around\n",
      "33 bottles of beer on the wall\n",
      "33 bottles of beer on the wall\n",
      "33 bottles of beer\n",
      "Take one down, pass it around\n",
      "32 bottles of beer on the wall\n",
      "32 bottles of beer on the wall\n",
      "32 bottles of beer\n",
      "Take one down, pass it around\n",
      "31 bottles of beer on the wall\n",
      "31 bottles of beer on the wall\n",
      "31 bottles of beer\n",
      "Take one down, pass it around\n",
      "30 bottles of beer on the wall\n",
      "30 bottles of beer on the wall\n",
      "30 bottles of beer\n",
      "Take one down, pass it around\n",
      "29 bottles of beer on the wall\n",
      "29 bottles of beer on the wall\n",
      "29 bottles of beer\n",
      "Take one down, pass it around\n",
      "28 bottles of beer on the wall\n",
      "28 bottles of beer on the wall\n",
      "28 bottles of beer\n",
      "Take one down, pass it around\n",
      "27 bottles of beer on the wall\n",
      "27 bottles of beer on the wall\n",
      "27 bottles of beer\n",
      "Take one down, pass it around\n",
      "26 bottles of beer on the wall\n",
      "26 bottles of beer on the wall\n",
      "26 bottles of beer\n",
      "Take one down, pass it around\n",
      "25 bottles of beer on the wall\n",
      "25 bottles of beer on the wall\n",
      "25 bottles of beer\n",
      "Take one down, pass it around\n",
      "24 bottles of beer on the wall\n",
      "24 bottles of beer on the wall\n",
      "24 bottles of beer\n",
      "Take one down, pass it around\n",
      "23 bottles of beer on the wall\n",
      "23 bottles of beer on the wall\n",
      "23 bottles of beer\n",
      "Take one down, pass it around\n",
      "22 bottles of beer on the wall\n",
      "22 bottles of beer on the wall\n",
      "22 bottles of beer\n",
      "Take one down, pass it around\n",
      "21 bottles of beer on the wall\n",
      "21 bottles of beer on the wall\n",
      "21 bottles of beer\n",
      "Take one down, pass it around\n",
      "20 bottles of beer on the wall\n",
      "20 bottles of beer on the wall\n",
      "20 bottles of beer\n",
      "Take one down, pass it around\n",
      "19 bottles of beer on the wall\n",
      "19 bottles of beer on the wall\n",
      "19 bottles of beer\n",
      "Take one down, pass it around\n",
      "18 bottles of beer on the wall\n",
      "18 bottles of beer on the wall\n",
      "18 bottles of beer\n",
      "Take one down, pass it around\n",
      "17 bottles of beer on the wall\n",
      "17 bottles of beer on the wall\n",
      "17 bottles of beer\n",
      "Take one down, pass it around\n",
      "16 bottles of beer on the wall\n",
      "16 bottles of beer on the wall\n",
      "16 bottles of beer\n",
      "Take one down, pass it around\n",
      "15 bottles of beer on the wall\n",
      "15 bottles of beer on the wall\n",
      "15 bottles of beer\n",
      "Take one down, pass it around\n",
      "14 bottles of beer on the wall\n",
      "14 bottles of beer on the wall\n",
      "14 bottles of beer\n",
      "Take one down, pass it around\n",
      "13 bottles of beer on the wall\n",
      "13 bottles of beer on the wall\n",
      "13 bottles of beer\n",
      "Take one down, pass it around\n",
      "12 bottles of beer on the wall\n",
      "12 bottles of beer on the wall\n",
      "12 bottles of beer\n",
      "Take one down, pass it around\n",
      "11 bottles of beer on the wall\n",
      "11 bottles of beer on the wall\n",
      "11 bottles of beer\n",
      "Take one down, pass it around\n",
      "10 bottles of beer on the wall\n",
      "10 bottles of beer on the wall\n",
      "10 bottles of beer\n",
      "Take one down, pass it around\n",
      "9 bottles of beer on the wall\n",
      "9 bottles of beer on the wall\n",
      "9 bottles of beer\n",
      "Take one down, pass it around\n",
      "8 bottles of beer on the wall\n",
      "8 bottles of beer on the wall\n",
      "8 bottles of beer\n",
      "Take one down, pass it around\n",
      "7 bottles of beer on the wall\n",
      "7 bottles of beer on the wall\n",
      "7 bottles of beer\n",
      "Take one down, pass it around\n",
      "6 bottles of beer on the wall\n",
      "6 bottles of beer on the wall\n",
      "6 bottles of beer\n",
      "Take one down, pass it around\n",
      "5 bottles of beer on the wall\n",
      "5 bottles of beer on the wall\n",
      "5 bottles of beer\n",
      "Take one down, pass it around\n",
      "4 bottles of beer on the wall\n",
      "4 bottles of beer on the wall\n",
      "4 bottles of beer\n",
      "Take one down, pass it around\n",
      "3 bottles of beer on the wall\n",
      "3 bottles of beer on the wall\n",
      "3 bottles of beer\n",
      "Take one down, pass it around\n",
      "2 bottles of beer on the wall\n",
      "2 bottles of beer on the wall\n",
      "2 bottles of beer\n",
      "Take one down, pass it around\n",
      "1 bottles of beer on the wall\n",
      "1 bottles of beer on the wall\n",
      "1 bottles of beer\n",
      "Take one down, pass it around\n",
      "0 bottles of beer on the wall\n"
     ]
    }
   ],
   "source": [
    "import time\n",
    "\n",
    "bottles = 99\n",
    "while bottles > 0:\n",
    "    print(bottles,\"bottles of beer on the wall\")\n",
    "    print(bottles,\"bottles of beer\")\n",
    "    print(\"Take one down, pass it around\")\n",
    "    bottles -= 1\n",
    "    print(bottles,\"bottles of beer on the wall\")\n",
    "#     time.sleep(1)"
   ]
  },
  {
   "cell_type": "markdown",
   "metadata": {},
   "source": [
    "# Or"
   ]
  },
  {
   "cell_type": "code",
   "execution_count": 23,
   "metadata": {},
   "outputs": [
    {
     "name": "stdout",
     "output_type": "stream",
     "text": [
      "99   bottle  of beer on the wall\n",
      "99   bottle of beer,\n",
      "Take one down, pass it around,\n",
      "98   bottle  of beer on the wall.\n",
      "98   bottle  of beer on the wall\n",
      "98   bottle of beer,\n",
      "Take one down, pass it around,\n",
      "97   bottle  of beer on the wall.\n",
      "97   bottle  of beer on the wall\n",
      "97   bottle of beer,\n",
      "Take one down, pass it around,\n",
      "96   bottle  of beer on the wall.\n",
      "96   bottle  of beer on the wall\n",
      "96   bottle of beer,\n",
      "Take one down, pass it around,\n",
      "95   bottle  of beer on the wall.\n",
      "95   bottle  of beer on the wall\n",
      "95   bottle of beer,\n",
      "Take one down, pass it around,\n",
      "94   bottle  of beer on the wall.\n",
      "94   bottle  of beer on the wall\n",
      "94   bottle of beer,\n",
      "Take one down, pass it around,\n",
      "93   bottle  of beer on the wall.\n",
      "93   bottle  of beer on the wall\n",
      "93   bottle of beer,\n",
      "Take one down, pass it around,\n",
      "92   bottle  of beer on the wall.\n",
      "92   bottle  of beer on the wall\n",
      "92   bottle of beer,\n",
      "Take one down, pass it around,\n",
      "91   bottle  of beer on the wall.\n",
      "91   bottle  of beer on the wall\n",
      "91   bottle of beer,\n",
      "Take one down, pass it around,\n",
      "90   bottle  of beer on the wall.\n",
      "90   bottle  of beer on the wall\n",
      "90   bottle of beer,\n",
      "Take one down, pass it around,\n",
      "89   bottle  of beer on the wall.\n",
      "89   bottle  of beer on the wall\n",
      "89   bottle of beer,\n",
      "Take one down, pass it around,\n",
      "88   bottle  of beer on the wall.\n",
      "88   bottle  of beer on the wall\n",
      "88   bottle of beer,\n",
      "Take one down, pass it around,\n",
      "87   bottle  of beer on the wall.\n",
      "87   bottle  of beer on the wall\n",
      "87   bottle of beer,\n",
      "Take one down, pass it around,\n",
      "86   bottle  of beer on the wall.\n",
      "86   bottle  of beer on the wall\n",
      "86   bottle of beer,\n",
      "Take one down, pass it around,\n",
      "85   bottle  of beer on the wall.\n",
      "85   bottle  of beer on the wall\n",
      "85   bottle of beer,\n",
      "Take one down, pass it around,\n",
      "84   bottle  of beer on the wall.\n",
      "84   bottle  of beer on the wall\n",
      "84   bottle of beer,\n",
      "Take one down, pass it around,\n",
      "83   bottle  of beer on the wall.\n",
      "83   bottle  of beer on the wall\n",
      "83   bottle of beer,\n",
      "Take one down, pass it around,\n",
      "82   bottle  of beer on the wall.\n",
      "82   bottle  of beer on the wall\n",
      "82   bottle of beer,\n",
      "Take one down, pass it around,\n",
      "81   bottle  of beer on the wall.\n",
      "81   bottle  of beer on the wall\n",
      "81   bottle of beer,\n",
      "Take one down, pass it around,\n",
      "80   bottle  of beer on the wall.\n",
      "80   bottle  of beer on the wall\n",
      "80   bottle of beer,\n",
      "Take one down, pass it around,\n",
      "79   bottle  of beer on the wall.\n",
      "79   bottle  of beer on the wall\n",
      "79   bottle of beer,\n",
      "Take one down, pass it around,\n",
      "78   bottle  of beer on the wall.\n",
      "78   bottle  of beer on the wall\n",
      "78   bottle of beer,\n",
      "Take one down, pass it around,\n",
      "77   bottle  of beer on the wall.\n",
      "77   bottle  of beer on the wall\n",
      "77   bottle of beer,\n",
      "Take one down, pass it around,\n",
      "76   bottle  of beer on the wall.\n",
      "76   bottle  of beer on the wall\n",
      "76   bottle of beer,\n",
      "Take one down, pass it around,\n",
      "75   bottle  of beer on the wall.\n",
      "75   bottle  of beer on the wall\n",
      "75   bottle of beer,\n",
      "Take one down, pass it around,\n",
      "74   bottle  of beer on the wall.\n",
      "74   bottle  of beer on the wall\n",
      "74   bottle of beer,\n",
      "Take one down, pass it around,\n",
      "73   bottle  of beer on the wall.\n",
      "73   bottle  of beer on the wall\n",
      "73   bottle of beer,\n",
      "Take one down, pass it around,\n",
      "72   bottle  of beer on the wall.\n",
      "72   bottle  of beer on the wall\n",
      "72   bottle of beer,\n",
      "Take one down, pass it around,\n",
      "71   bottle  of beer on the wall.\n",
      "71   bottle  of beer on the wall\n",
      "71   bottle of beer,\n",
      "Take one down, pass it around,\n",
      "70   bottle  of beer on the wall.\n",
      "70   bottle  of beer on the wall\n",
      "70   bottle of beer,\n",
      "Take one down, pass it around,\n",
      "69   bottle  of beer on the wall.\n",
      "69   bottle  of beer on the wall\n",
      "69   bottle of beer,\n",
      "Take one down, pass it around,\n",
      "68   bottle  of beer on the wall.\n",
      "68   bottle  of beer on the wall\n",
      "68   bottle of beer,\n",
      "Take one down, pass it around,\n",
      "67   bottle  of beer on the wall.\n",
      "67   bottle  of beer on the wall\n",
      "67   bottle of beer,\n",
      "Take one down, pass it around,\n",
      "66   bottle  of beer on the wall.\n",
      "66   bottle  of beer on the wall\n",
      "66   bottle of beer,\n",
      "Take one down, pass it around,\n",
      "65   bottle  of beer on the wall.\n",
      "65   bottle  of beer on the wall\n",
      "65   bottle of beer,\n",
      "Take one down, pass it around,\n",
      "64   bottle  of beer on the wall.\n",
      "64   bottle  of beer on the wall\n",
      "64   bottle of beer,\n",
      "Take one down, pass it around,\n",
      "63   bottle  of beer on the wall.\n",
      "63   bottle  of beer on the wall\n",
      "63   bottle of beer,\n",
      "Take one down, pass it around,\n",
      "62   bottle  of beer on the wall.\n",
      "62   bottle  of beer on the wall\n",
      "62   bottle of beer,\n",
      "Take one down, pass it around,\n",
      "61   bottle  of beer on the wall.\n",
      "61   bottle  of beer on the wall\n",
      "61   bottle of beer,\n",
      "Take one down, pass it around,\n",
      "60   bottle  of beer on the wall.\n",
      "60   bottle  of beer on the wall\n",
      "60   bottle of beer,\n",
      "Take one down, pass it around,\n",
      "59   bottle  of beer on the wall.\n",
      "59   bottle  of beer on the wall\n",
      "59   bottle of beer,\n",
      "Take one down, pass it around,\n",
      "58   bottle  of beer on the wall.\n",
      "58   bottle  of beer on the wall\n",
      "58   bottle of beer,\n",
      "Take one down, pass it around,\n",
      "57   bottle  of beer on the wall.\n",
      "57   bottle  of beer on the wall\n",
      "57   bottle of beer,\n",
      "Take one down, pass it around,\n",
      "56   bottle  of beer on the wall.\n",
      "56   bottle  of beer on the wall\n",
      "56   bottle of beer,\n",
      "Take one down, pass it around,\n",
      "55   bottle  of beer on the wall.\n",
      "55   bottle  of beer on the wall\n",
      "55   bottle of beer,\n",
      "Take one down, pass it around,\n",
      "54   bottle  of beer on the wall.\n",
      "54   bottle  of beer on the wall\n",
      "54   bottle of beer,\n",
      "Take one down, pass it around,\n",
      "53   bottle  of beer on the wall.\n",
      "53   bottle  of beer on the wall\n",
      "53   bottle of beer,\n",
      "Take one down, pass it around,\n",
      "52   bottle  of beer on the wall.\n",
      "52   bottle  of beer on the wall\n",
      "52   bottle of beer,\n",
      "Take one down, pass it around,\n",
      "51   bottle  of beer on the wall.\n",
      "51   bottle  of beer on the wall\n",
      "51   bottle of beer,\n",
      "Take one down, pass it around,\n",
      "50   bottle  of beer on the wall.\n",
      "50   bottle  of beer on the wall\n",
      "50   bottle of beer,\n",
      "Take one down, pass it around,\n",
      "49   bottle  of beer on the wall.\n",
      "49   bottle  of beer on the wall\n",
      "49   bottle of beer,\n",
      "Take one down, pass it around,\n",
      "48   bottle  of beer on the wall.\n",
      "48   bottle  of beer on the wall\n",
      "48   bottle of beer,\n",
      "Take one down, pass it around,\n",
      "47   bottle  of beer on the wall.\n",
      "47   bottle  of beer on the wall\n",
      "47   bottle of beer,\n",
      "Take one down, pass it around,\n",
      "46   bottle  of beer on the wall.\n",
      "46   bottle  of beer on the wall\n",
      "46   bottle of beer,\n",
      "Take one down, pass it around,\n",
      "45   bottle  of beer on the wall.\n",
      "45   bottle  of beer on the wall\n",
      "45   bottle of beer,\n",
      "Take one down, pass it around,\n",
      "44   bottle  of beer on the wall.\n",
      "44   bottle  of beer on the wall\n",
      "44   bottle of beer,\n",
      "Take one down, pass it around,\n",
      "43   bottle  of beer on the wall.\n",
      "43   bottle  of beer on the wall\n",
      "43   bottle of beer,\n",
      "Take one down, pass it around,\n",
      "42   bottle  of beer on the wall.\n",
      "42   bottle  of beer on the wall\n",
      "42   bottle of beer,\n",
      "Take one down, pass it around,\n",
      "41   bottle  of beer on the wall.\n",
      "41   bottle  of beer on the wall\n",
      "41   bottle of beer,\n",
      "Take one down, pass it around,\n",
      "40   bottle  of beer on the wall.\n",
      "40   bottle  of beer on the wall\n",
      "40   bottle of beer,\n",
      "Take one down, pass it around,\n",
      "39   bottle  of beer on the wall.\n",
      "39   bottle  of beer on the wall\n",
      "39   bottle of beer,\n",
      "Take one down, pass it around,\n",
      "38   bottle  of beer on the wall.\n",
      "38   bottle  of beer on the wall\n",
      "38   bottle of beer,\n",
      "Take one down, pass it around,\n",
      "37   bottle  of beer on the wall.\n",
      "37   bottle  of beer on the wall\n",
      "37   bottle of beer,\n",
      "Take one down, pass it around,\n",
      "36   bottle  of beer on the wall.\n",
      "36   bottle  of beer on the wall\n",
      "36   bottle of beer,\n",
      "Take one down, pass it around,\n",
      "35   bottle  of beer on the wall.\n",
      "35   bottle  of beer on the wall\n",
      "35   bottle of beer,\n",
      "Take one down, pass it around,\n",
      "34   bottle  of beer on the wall.\n",
      "34   bottle  of beer on the wall\n",
      "34   bottle of beer,\n",
      "Take one down, pass it around,\n",
      "33   bottle  of beer on the wall.\n",
      "33   bottle  of beer on the wall\n",
      "33   bottle of beer,\n",
      "Take one down, pass it around,\n",
      "32   bottle  of beer on the wall.\n",
      "32   bottle  of beer on the wall\n",
      "32   bottle of beer,\n",
      "Take one down, pass it around,\n",
      "31   bottle  of beer on the wall.\n",
      "31   bottle  of beer on the wall\n",
      "31   bottle of beer,\n",
      "Take one down, pass it around,\n",
      "30   bottle  of beer on the wall.\n",
      "30   bottle  of beer on the wall\n",
      "30   bottle of beer,\n",
      "Take one down, pass it around,\n",
      "29   bottle  of beer on the wall.\n",
      "29   bottle  of beer on the wall\n",
      "29   bottle of beer,\n",
      "Take one down, pass it around,\n",
      "28   bottle  of beer on the wall.\n",
      "28   bottle  of beer on the wall\n",
      "28   bottle of beer,\n",
      "Take one down, pass it around,\n",
      "27   bottle  of beer on the wall.\n",
      "27   bottle  of beer on the wall\n",
      "27   bottle of beer,\n",
      "Take one down, pass it around,\n",
      "26   bottle  of beer on the wall.\n",
      "26   bottle  of beer on the wall\n",
      "26   bottle of beer,\n",
      "Take one down, pass it around,\n",
      "25   bottle  of beer on the wall.\n",
      "25   bottle  of beer on the wall\n",
      "25   bottle of beer,\n",
      "Take one down, pass it around,\n",
      "24   bottle  of beer on the wall.\n",
      "24   bottle  of beer on the wall\n",
      "24   bottle of beer,\n",
      "Take one down, pass it around,\n",
      "23   bottle  of beer on the wall.\n",
      "23   bottle  of beer on the wall\n",
      "23   bottle of beer,\n",
      "Take one down, pass it around,\n",
      "22   bottle  of beer on the wall.\n",
      "22   bottle  of beer on the wall\n",
      "22   bottle of beer,\n",
      "Take one down, pass it around,\n",
      "21   bottle  of beer on the wall.\n",
      "21   bottle  of beer on the wall\n",
      "21   bottle of beer,\n",
      "Take one down, pass it around,\n",
      "20   bottle  of beer on the wall.\n",
      "20   bottle  of beer on the wall\n",
      "20   bottle of beer,\n",
      "Take one down, pass it around,\n",
      "19   bottle  of beer on the wall.\n",
      "19   bottle  of beer on the wall\n",
      "19   bottle of beer,\n",
      "Take one down, pass it around,\n",
      "18   bottle  of beer on the wall.\n",
      "18   bottle  of beer on the wall\n",
      "18   bottle of beer,\n",
      "Take one down, pass it around,\n",
      "17   bottle  of beer on the wall.\n",
      "17   bottle  of beer on the wall\n",
      "17   bottle of beer,\n",
      "Take one down, pass it around,\n",
      "16   bottle  of beer on the wall.\n",
      "16   bottle  of beer on the wall\n",
      "16   bottle of beer,\n",
      "Take one down, pass it around,\n",
      "15   bottle  of beer on the wall.\n",
      "15   bottle  of beer on the wall\n",
      "15   bottle of beer,\n",
      "Take one down, pass it around,\n",
      "14   bottle  of beer on the wall.\n",
      "14   bottle  of beer on the wall\n",
      "14   bottle of beer,\n",
      "Take one down, pass it around,\n",
      "13   bottle  of beer on the wall.\n",
      "13   bottle  of beer on the wall\n",
      "13   bottle of beer,\n",
      "Take one down, pass it around,\n",
      "12   bottle  of beer on the wall.\n",
      "12   bottle  of beer on the wall\n",
      "12   bottle of beer,\n",
      "Take one down, pass it around,\n",
      "11   bottle  of beer on the wall.\n",
      "11   bottle  of beer on the wall\n",
      "11   bottle of beer,\n",
      "Take one down, pass it around,\n",
      "10   bottle  of beer on the wall.\n",
      "10   bottle  of beer on the wall\n",
      "10   bottle of beer,\n",
      "Take one down, pass it around,\n",
      "9   bottle  of beer on the wall.\n",
      "9   bottle  of beer on the wall\n",
      "9   bottle of beer,\n",
      "Take one down, pass it around,\n",
      "8   bottle  of beer on the wall.\n",
      "8   bottle  of beer on the wall\n",
      "8   bottle of beer,\n",
      "Take one down, pass it around,\n",
      "7   bottle  of beer on the wall.\n",
      "7   bottle  of beer on the wall\n",
      "7   bottle of beer,\n",
      "Take one down, pass it around,\n",
      "6   bottle  of beer on the wall.\n",
      "6   bottle  of beer on the wall\n",
      "6   bottle of beer,\n",
      "Take one down, pass it around,\n",
      "5   bottle  of beer on the wall.\n",
      "5   bottle  of beer on the wall\n",
      "5   bottle of beer,\n",
      "Take one down, pass it around,\n",
      "4   bottle  of beer on the wall.\n",
      "4   bottle  of beer on the wall\n",
      "4   bottle of beer,\n",
      "Take one down, pass it around,\n",
      "3   bottle  of beer on the wall.\n",
      "3   bottle  of beer on the wall\n",
      "3   bottle of beer,\n",
      "Take one down, pass it around,\n",
      "2   bottle  of beer on the wall.\n",
      "2   bottle  of beer on the wall\n",
      "2   bottle of beer,\n",
      "Take one down, pass it around,\n",
      "1   bottle  of beer on the wall.\n",
      "1   bottles  of beer on the wall\n",
      "1   bottles of beer,\n",
      "Take one down, pass it around,\n",
      "0   bottles  of beer on the wall.\n",
      "0   bottle  of beer on the wall\n",
      "0   bottle of beer,\n",
      "Take one down, pass it around,\n",
      "-1   bottle  of beer on the wall.\n"
     ]
    }
   ],
   "source": [
    "bottles = 99\n",
    "while bottles >= 0:\n",
    "    bottleword = \"bottle\"\n",
    "    if bottles == 1:\n",
    "        bottleword = \"bottles\"\n",
    "    print(bottles ,\" \" ,bottleword , \" of beer on the wall\")    \n",
    "    print(bottles , \" \" , bottleword + \" of beer,\")\n",
    "    print(\"Take one down, pass it around,\")\n",
    "    bottles -=1\n",
    "    print(bottles , \" \" , bottleword , \" of beer on the wall.\")\n"
   ]
  },
  {
   "cell_type": "code",
   "execution_count": null,
   "metadata": {},
   "outputs": [],
   "source": []
  },
  {
   "cell_type": "code",
   "execution_count": null,
   "metadata": {},
   "outputs": [],
   "source": []
  },
  {
   "cell_type": "markdown",
   "metadata": {},
   "source": [
    "# The shopping basket Game"
   ]
  },
  {
   "cell_type": "code",
   "execution_count": null,
   "metadata": {},
   "outputs": [],
   "source": [
    "shopping_basket = {}\n",
    "\n",
    "option = int(input(\"Enter an option\"))\n",
    "\n",
    "while option != 0:\n",
    "    # Add an item\n",
    "    if option == 1:\n",
    "        item = input(\"Enter an item: \")\n",
    "        \n",
    "        if item in shopping_basket:\n",
    "            print(\"Item already in shopping basket\")\n",
    "            qnty = int(input(\"Enter the quantity: \"))\n",
    "            shopping_basket[item] = shopping_basket[item] + qty\n",
    "        else:    \n",
    "            qty = int(input(\"Enter the qunatity: \"))\n",
    "            shopping_basket[item] = qty\n",
    "            \n",
    "    # deleting or removing an item    \n",
    "    elif option == 2:\n",
    "        item = input(\"Enter an item: \")\n",
    "        del(shopping_basket)\n",
    "    elif option == 3:\n",
    "#         print(shopping_basket)\n",
    "        for item in shopping_basket:\n",
    "            print(item,\":\",shopping_basket)\n",
    "    elif option != 0:\n",
    "        print(\"You didnt enter a valid number.\")\n",
    "        \n",
    "    option = int(input(\"\\n\\nEnter an option: \"))  \n",
    "    \n",
    "# close program    \n",
    "else:\n",
    "    print(\"Shopping basket program closed.\")"
   ]
  },
  {
   "cell_type": "code",
   "execution_count": null,
   "metadata": {},
   "outputs": [],
   "source": []
  },
  {
   "cell_type": "code",
   "execution_count": null,
   "metadata": {},
   "outputs": [],
   "source": []
  },
  {
   "cell_type": "markdown",
   "metadata": {},
   "source": [
    "# For Loops"
   ]
  },
  {
   "cell_type": "markdown",
   "metadata": {},
   "source": [
    "### Iteraterables : list, string, dictionary , set , tuple\n",
    "\n",
    "### Iterations : means we ca go through each item in a collection one by one"
   ]
  },
  {
   "cell_type": "code",
   "execution_count": 25,
   "metadata": {},
   "outputs": [
    {
     "name": "stdout",
     "output_type": "stream",
     "text": [
      "I\n",
      " \n",
      "l\n",
      "o\n",
      "v\n",
      "e\n",
      " \n",
      "I\n",
      "t\n",
      "a\n",
      "l\n",
      "y\n"
     ]
    }
   ],
   "source": [
    "for item in 'I love Italy':\n",
    "    print(item)"
   ]
  },
  {
   "cell_type": "code",
   "execution_count": 26,
   "metadata": {},
   "outputs": [],
   "source": [
    "love = \"I love Italy\""
   ]
  },
  {
   "cell_type": "code",
   "execution_count": 27,
   "metadata": {},
   "outputs": [
    {
     "name": "stdout",
     "output_type": "stream",
     "text": [
      "I\n",
      " \n",
      "l\n",
      "o\n",
      "v\n",
      "e\n",
      " \n",
      "I\n",
      "t\n",
      "a\n",
      "l\n",
      "y\n"
     ]
    }
   ],
   "source": [
    "for element in love:\n",
    "    print(element)"
   ]
  },
  {
   "cell_type": "markdown",
   "metadata": {},
   "source": [
    "# Make the variable into capitals"
   ]
  },
  {
   "cell_type": "code",
   "execution_count": 28,
   "metadata": {},
   "outputs": [
    {
     "name": "stdout",
     "output_type": "stream",
     "text": [
      "I love Italy\n"
     ]
    }
   ],
   "source": [
    "print(love)"
   ]
  },
  {
   "cell_type": "code",
   "execution_count": 29,
   "metadata": {},
   "outputs": [
    {
     "name": "stdout",
     "output_type": "stream",
     "text": [
      "I\n",
      " \n",
      "L\n",
      "O\n",
      "V\n",
      "E\n",
      " \n",
      "I\n",
      "T\n",
      "A\n",
      "L\n",
      "Y\n"
     ]
    }
   ],
   "source": [
    "for x in love:\n",
    "    print(x.upper())"
   ]
  },
  {
   "cell_type": "code",
   "execution_count": null,
   "metadata": {},
   "outputs": [],
   "source": []
  },
  {
   "cell_type": "code",
   "execution_count": 30,
   "metadata": {},
   "outputs": [],
   "source": [
    "m = [1,2,3,4]"
   ]
  },
  {
   "cell_type": "code",
   "execution_count": 31,
   "metadata": {},
   "outputs": [
    {
     "data": {
      "text/plain": [
       "[1, 2, 3, 4, 1, 2, 3, 4]"
      ]
     },
     "execution_count": 31,
     "metadata": {},
     "output_type": "execute_result"
    }
   ],
   "source": [
    "m * 2"
   ]
  },
  {
   "cell_type": "code",
   "execution_count": null,
   "metadata": {},
   "outputs": [],
   "source": []
  },
  {
   "cell_type": "markdown",
   "metadata": {},
   "source": [
    "# Iterate over all elements in list l"
   ]
  },
  {
   "cell_type": "code",
   "execution_count": 32,
   "metadata": {},
   "outputs": [
    {
     "name": "stdout",
     "output_type": "stream",
     "text": [
      "1\n",
      "2\n",
      "3\n",
      "4\n"
     ]
    }
   ],
   "source": [
    "for j in m:\n",
    "    print(j)"
   ]
  },
  {
   "cell_type": "markdown",
   "metadata": {},
   "source": [
    "# Multiply Each element by 2"
   ]
  },
  {
   "cell_type": "code",
   "execution_count": 33,
   "metadata": {},
   "outputs": [
    {
     "name": "stdout",
     "output_type": "stream",
     "text": [
      "2\n",
      "4\n",
      "6\n",
      "8\n"
     ]
    }
   ],
   "source": [
    "for i in m:\n",
    "    print(i*2)"
   ]
  },
  {
   "cell_type": "markdown",
   "metadata": {},
   "source": [
    "# Assign a new variable before printing"
   ]
  },
  {
   "cell_type": "code",
   "execution_count": 34,
   "metadata": {},
   "outputs": [
    {
     "name": "stdout",
     "output_type": "stream",
     "text": [
      "2\n",
      "4\n",
      "6\n",
      "8\n"
     ]
    }
   ],
   "source": [
    "for i in m:\n",
    "    j = i*2\n",
    "    print(j)"
   ]
  },
  {
   "cell_type": "markdown",
   "metadata": {},
   "source": [
    "# This is same as the inbuilt pyhton function len()"
   ]
  },
  {
   "cell_type": "code",
   "execution_count": 36,
   "metadata": {},
   "outputs": [
    {
     "data": {
      "text/plain": [
       "[1, 2, 3, 4]"
      ]
     },
     "execution_count": 36,
     "metadata": {},
     "output_type": "execute_result"
    }
   ],
   "source": [
    "m"
   ]
  },
  {
   "cell_type": "code",
   "execution_count": 35,
   "metadata": {},
   "outputs": [
    {
     "data": {
      "text/plain": [
       "4"
      ]
     },
     "execution_count": 35,
     "metadata": {},
     "output_type": "execute_result"
    }
   ],
   "source": [
    "len(m)"
   ]
  },
  {
   "cell_type": "code",
   "execution_count": 37,
   "metadata": {},
   "outputs": [],
   "source": [
    "count = 0\n",
    "for _ in m:\n",
    "    count +=1"
   ]
  },
  {
   "cell_type": "code",
   "execution_count": 38,
   "metadata": {},
   "outputs": [
    {
     "data": {
      "text/plain": [
       "4"
      ]
     },
     "execution_count": 38,
     "metadata": {},
     "output_type": "execute_result"
    }
   ],
   "source": [
    "count"
   ]
  },
  {
   "cell_type": "markdown",
   "metadata": {},
   "source": [
    "# Use a for loop to print the following items"
   ]
  },
  {
   "cell_type": "code",
   "execution_count": 39,
   "metadata": {},
   "outputs": [],
   "source": [
    "items = ['cheese', 'whole milk', 'kefir', 'tofu four-pack', 'kale', 'oranges', 'ham', \"ben & jerry's\"]"
   ]
  },
  {
   "cell_type": "code",
   "execution_count": 40,
   "metadata": {},
   "outputs": [
    {
     "name": "stdout",
     "output_type": "stream",
     "text": [
      "['cheese', 'whole milk', 'kefir', 'tofu four-pack', 'kale', 'oranges', 'ham', \"ben & jerry's\"]\n"
     ]
    }
   ],
   "source": [
    "print(items)"
   ]
  },
  {
   "cell_type": "code",
   "execution_count": 41,
   "metadata": {},
   "outputs": [
    {
     "name": "stdout",
     "output_type": "stream",
     "text": [
      "cheese\n",
      "whole milk\n",
      "kefir\n",
      "tofu four-pack\n",
      "kale\n",
      "oranges\n",
      "ham\n",
      "ben & jerry's\n"
     ]
    }
   ],
   "source": [
    "for x in items:\n",
    "    print(x)"
   ]
  },
  {
   "cell_type": "code",
   "execution_count": 42,
   "metadata": {},
   "outputs": [],
   "source": [
    "d = \"Dog\""
   ]
  },
  {
   "cell_type": "code",
   "execution_count": 43,
   "metadata": {},
   "outputs": [
    {
     "name": "stdout",
     "output_type": "stream",
     "text": [
      "D\n",
      "O\n",
      "G\n"
     ]
    }
   ],
   "source": [
    "for element in d:\n",
    "    print(element.upper())"
   ]
  },
  {
   "cell_type": "code",
   "execution_count": null,
   "metadata": {},
   "outputs": [],
   "source": []
  },
  {
   "cell_type": "markdown",
   "metadata": {},
   "source": [
    "# Range"
   ]
  },
  {
   "cell_type": "code",
   "execution_count": 44,
   "metadata": {},
   "outputs": [],
   "source": [
    "g = range(1,5)"
   ]
  },
  {
   "cell_type": "code",
   "execution_count": 45,
   "metadata": {},
   "outputs": [
    {
     "data": {
      "text/plain": [
       "range"
      ]
     },
     "execution_count": 45,
     "metadata": {},
     "output_type": "execute_result"
    }
   ],
   "source": [
    "type(g)"
   ]
  },
  {
   "cell_type": "code",
   "execution_count": 47,
   "metadata": {},
   "outputs": [
    {
     "data": {
      "text/plain": [
       "[1, 2, 3, 4]"
      ]
     },
     "execution_count": 47,
     "metadata": {},
     "output_type": "execute_result"
    }
   ],
   "source": [
    "list(g)"
   ]
  },
  {
   "cell_type": "code",
   "execution_count": 48,
   "metadata": {},
   "outputs": [
    {
     "name": "stdout",
     "output_type": "stream",
     "text": [
      "1\n",
      "2\n",
      "3\n",
      "4\n"
     ]
    }
   ],
   "source": [
    "for x in range(1,5):\n",
    "    print(x)"
   ]
  },
  {
   "cell_type": "code",
   "execution_count": 49,
   "metadata": {},
   "outputs": [
    {
     "name": "stdout",
     "output_type": "stream",
     "text": [
      "0\n",
      "1\n",
      "2\n",
      "3\n",
      "4\n"
     ]
    }
   ],
   "source": [
    "for x in range(5):\n",
    "    print(x)"
   ]
  },
  {
   "cell_type": "code",
   "execution_count": 52,
   "metadata": {},
   "outputs": [
    {
     "name": "stdout",
     "output_type": "stream",
     "text": [
      "0\n"
     ]
    }
   ],
   "source": [
    "for t in range(0,10,13):\n",
    "    print(t)"
   ]
  },
  {
   "cell_type": "code",
   "execution_count": 53,
   "metadata": {},
   "outputs": [
    {
     "name": "stdout",
     "output_type": "stream",
     "text": [
      "2\n",
      "4\n",
      "6\n",
      "8\n",
      "10\n",
      "12\n",
      "14\n",
      "16\n",
      "18\n",
      "20\n"
     ]
    }
   ],
   "source": [
    "for m in range(1,11):\n",
    "    print(m * 2)"
   ]
  },
  {
   "cell_type": "markdown",
   "metadata": {},
   "source": [
    "# Store Square numbers from 1 to 10 in a list"
   ]
  },
  {
   "cell_type": "code",
   "execution_count": 54,
   "metadata": {},
   "outputs": [],
   "source": [
    "l = []\n",
    "for i in range(1,11):\n",
    "    square = i**2\n",
    "    l.append(square)"
   ]
  },
  {
   "cell_type": "code",
   "execution_count": 55,
   "metadata": {},
   "outputs": [
    {
     "name": "stdout",
     "output_type": "stream",
     "text": [
      "[1, 4, 9, 16, 25, 36, 49, 64, 81, 100]\n"
     ]
    }
   ],
   "source": [
    "print(l)"
   ]
  },
  {
   "cell_type": "code",
   "execution_count": 56,
   "metadata": {},
   "outputs": [
    {
     "data": {
      "text/plain": [
       "[1, 4, 9, 16, 25, 36, 49, 64, 81, 100]"
      ]
     },
     "execution_count": 56,
     "metadata": {},
     "output_type": "execute_result"
    }
   ],
   "source": [
    "# the above can also be written this way\n",
    "[i ** 2 for i in range(1,11)]"
   ]
  },
  {
   "cell_type": "code",
   "execution_count": null,
   "metadata": {},
   "outputs": [],
   "source": []
  },
  {
   "cell_type": "markdown",
   "metadata": {},
   "source": [
    "# Iterables :\n",
    "+ list, dict, set , tuple"
   ]
  },
  {
   "cell_type": "markdown",
   "metadata": {},
   "source": [
    "# modular"
   ]
  },
  {
   "cell_type": "code",
   "execution_count": 57,
   "metadata": {},
   "outputs": [
    {
     "data": {
      "text/plain": [
       "1001"
      ]
     },
     "execution_count": 57,
     "metadata": {},
     "output_type": "execute_result"
    }
   ],
   "source": [
    "count = 0\n",
    "for i in range(10000+1):\n",
    "    if (i %2 ==0) & (i % 5 == 0):\n",
    "        count +=1\n",
    "        \n",
    "count        "
   ]
  },
  {
   "cell_type": "code",
   "execution_count": null,
   "metadata": {},
   "outputs": [],
   "source": []
  },
  {
   "cell_type": "code",
   "execution_count": 58,
   "metadata": {},
   "outputs": [
    {
     "name": "stdout",
     "output_type": "stream",
     "text": [
      "[1, 3, 5, 7, 10, 11, 13, 14, 15]\n"
     ]
    }
   ],
   "source": [
    "m = [1,3,5,7,10,11,13,14,15]\n",
    "print(m)"
   ]
  },
  {
   "cell_type": "code",
   "execution_count": 59,
   "metadata": {},
   "outputs": [
    {
     "name": "stdout",
     "output_type": "stream",
     "text": [
      "1 is odd!\n",
      "3 is odd!\n",
      "5 is odd!\n",
      "7 is odd!\n",
      "The first even number is 10!\n"
     ]
    }
   ],
   "source": [
    "for i in m:\n",
    "    if i%2==0:\n",
    "        print(\"The first even number is {}!\".format(i))\n",
    "        break\n",
    "    else:\n",
    "        print(\"{} is odd!\".format(i))"
   ]
  },
  {
   "cell_type": "code",
   "execution_count": null,
   "metadata": {},
   "outputs": [],
   "source": []
  },
  {
   "cell_type": "code",
   "execution_count": 60,
   "metadata": {},
   "outputs": [
    {
     "name": "stdout",
     "output_type": "stream",
     "text": [
      "The first even number is 10!\n"
     ]
    }
   ],
   "source": [
    "for i in m:\n",
    "    if i%2 ==0:\n",
    "        print(\"The first even number is {}!\".format(i))\n",
    "        break\n",
    "    else:\n",
    "        pass"
   ]
  },
  {
   "cell_type": "code",
   "execution_count": null,
   "metadata": {},
   "outputs": [],
   "source": []
  },
  {
   "cell_type": "code",
   "execution_count": 61,
   "metadata": {},
   "outputs": [
    {
     "name": "stdout",
     "output_type": "stream",
     "text": [
      "1\n",
      "3\n",
      "5\n",
      "7\n",
      "The first even number is 10!\n"
     ]
    }
   ],
   "source": [
    "for i in m:\n",
    "    if i%2 !=0:\n",
    "        pass\n",
    "        print(i)\n",
    "    else:\n",
    "        print(\"The first even number is {}!\".format(i))\n",
    "        break"
   ]
  },
  {
   "cell_type": "code",
   "execution_count": null,
   "metadata": {},
   "outputs": [],
   "source": []
  },
  {
   "cell_type": "code",
   "execution_count": 62,
   "metadata": {},
   "outputs": [
    {
     "name": "stdout",
     "output_type": "stream",
     "text": [
      "1 is odd!\n",
      "3 is odd!\n",
      "5 is odd!\n",
      "7 is odd!\n",
      "11 is odd!\n",
      "13 is odd!\n",
      "The first even number is 14!\n"
     ]
    }
   ],
   "source": [
    "for i in m:   # find the first even number\n",
    "    if i == 10:\n",
    "        continue  # ignore and continue with the next element\n",
    "    if i %2==0:\n",
    "        print(\"The first even number is {}!\".format(i))\n",
    "        break\n",
    "    else:\n",
    "        print(\"{} is odd!\".format(i))"
   ]
  },
  {
   "cell_type": "code",
   "execution_count": null,
   "metadata": {},
   "outputs": [],
   "source": []
  },
  {
   "cell_type": "code",
   "execution_count": 64,
   "metadata": {},
   "outputs": [],
   "source": [
    "l = [1,2,3,4,5,6,7]"
   ]
  },
  {
   "cell_type": "code",
   "execution_count": 65,
   "metadata": {},
   "outputs": [
    {
     "name": "stdout",
     "output_type": "stream",
     "text": [
      "1  is Odd\n",
      "2  is Even\n",
      "3  is Odd\n",
      "4  is Even\n",
      "5  is Odd\n",
      "6  is Even\n",
      "7  is Odd\n"
     ]
    }
   ],
   "source": [
    "for i in l:\n",
    "    if i%2==0:\n",
    "        print(i,\" is Even\")\n",
    "    else:\n",
    "        print(i,\" is Odd\")"
   ]
  },
  {
   "cell_type": "code",
   "execution_count": null,
   "metadata": {},
   "outputs": [],
   "source": []
  },
  {
   "cell_type": "markdown",
   "metadata": {},
   "source": [
    "<a id='GIF'></a>\n",
    "## <center> Diving Deeper Into Loops </center>\n",
    "\n",
    "We can embed GIF's in the same way as images as well:\n",
    "\n",
    "![GIF](images/savetheday.gif)\n",
    "\n",
    "<!-- \n",
    "Now while a funny GIF isn't that practical, what is practical is making a GIF of a tutorial or similar and inserting it into your readme file for a package or tutorial. To do this, we can use software like [screentogif](http://www.screentogif.com/), record a screen capture scrolling through your tutorial, and then embed the GIF just like we would embed images and the previous GIF. At the end of the day, it makes your tutorials and readme documents look professional. -->\n",
    "\n",
    "<!-- ![TUTORIALGIF](images/tutorialgif.gif) -->"
   ]
  },
  {
   "cell_type": "code",
   "execution_count": 66,
   "metadata": {},
   "outputs": [],
   "source": [
    "from IPython import display\n",
    "from time import sleep"
   ]
  },
  {
   "cell_type": "code",
   "execution_count": 67,
   "metadata": {},
   "outputs": [
    {
     "name": "stdout",
     "output_type": "stream",
     "text": [
      "999\n"
     ]
    }
   ],
   "source": [
    "for i in range(1000):\n",
    "    display.clear_output(wait=True)\n",
    "    print(i)"
   ]
  },
  {
   "cell_type": "code",
   "execution_count": null,
   "metadata": {},
   "outputs": [],
   "source": []
  },
  {
   "cell_type": "markdown",
   "metadata": {},
   "source": [
    "# More on loops"
   ]
  },
  {
   "cell_type": "markdown",
   "metadata": {},
   "source": [
    "# Write a loop to reverse the items in a string"
   ]
  },
  {
   "cell_type": "code",
   "execution_count": null,
   "metadata": {},
   "outputs": [],
   "source": [
    "def reverse_str(x):\n",
    "    return x[::-1]"
   ]
  },
  {
   "cell_type": "code",
   "execution_count": 68,
   "metadata": {},
   "outputs": [],
   "source": [
    "new_list = ['abc','formation','country','Jane','master','coding','datascientist']"
   ]
  },
  {
   "cell_type": "code",
   "execution_count": 69,
   "metadata": {},
   "outputs": [
    {
     "data": {
      "text/plain": [
       "['abc', 'formation', 'country', 'Jane', 'master', 'coding', 'datascientist']"
      ]
     },
     "execution_count": 69,
     "metadata": {},
     "output_type": "execute_result"
    }
   ],
   "source": [
    "new_list"
   ]
  },
  {
   "cell_type": "code",
   "execution_count": 70,
   "metadata": {},
   "outputs": [],
   "source": [
    "y = []\n",
    "for x in new_list:\n",
    "    y.append(x[::-1])"
   ]
  },
  {
   "cell_type": "code",
   "execution_count": 71,
   "metadata": {},
   "outputs": [
    {
     "name": "stdout",
     "output_type": "stream",
     "text": [
      "['cba', 'noitamrof', 'yrtnuoc', 'enaJ', 'retsam', 'gnidoc', 'tsitneicsatad']\n"
     ]
    }
   ],
   "source": [
    "print(y)"
   ]
  },
  {
   "cell_type": "code",
   "execution_count": null,
   "metadata": {},
   "outputs": [],
   "source": []
  },
  {
   "cell_type": "markdown",
   "metadata": {},
   "source": [
    "# Nested For Loops"
   ]
  },
  {
   "cell_type": "code",
   "execution_count": 72,
   "metadata": {},
   "outputs": [
    {
     "name": "stdout",
     "output_type": "stream",
     "text": [
      "['zyx', 'tseb', 'cba']\n"
     ]
    }
   ],
   "source": [
    "l = []\n",
    "for i in [1,2,3,\"Joshua\",[\"abc\",\"best\",\"xyz\"]]:\n",
    "    if type(i) == list:\n",
    "        for j in i[::-1]:\n",
    "            l.append(j[::-1])\n",
    "print(l)            "
   ]
  },
  {
   "cell_type": "code",
   "execution_count": null,
   "metadata": {},
   "outputs": [],
   "source": []
  },
  {
   "cell_type": "code",
   "execution_count": 73,
   "metadata": {},
   "outputs": [
    {
     "name": "stdout",
     "output_type": "stream",
     "text": [
      "1 a\n",
      "1 b\n",
      "1 c\n",
      "2 a\n",
      "2 b\n",
      "2 c\n",
      "3 a\n",
      "3 b\n",
      "3 c\n",
      "4 a\n",
      "4 b\n",
      "4 c\n"
     ]
    }
   ],
   "source": [
    "for item in [1,2,3,4]:\n",
    "    for x in [\"a\",\"b\",\"c\"]:\n",
    "        print(item , x)"
   ]
  },
  {
   "cell_type": "code",
   "execution_count": null,
   "metadata": {},
   "outputs": [],
   "source": []
  },
  {
   "cell_type": "code",
   "execution_count": 74,
   "metadata": {},
   "outputs": [
    {
     "name": "stdout",
     "output_type": "stream",
     "text": [
      "loop1: 1\n",
      "loop2--- 1\n",
      "loop2--- 2\n",
      "loop2--- 3\n",
      "loop2--- 4\n",
      "loop2--- 5\n",
      "loop1: 2\n",
      "loop2--- 1\n",
      "loop2--- 2\n",
      "loop2--- 3\n",
      "loop2--- 4\n",
      "loop2--- 5\n",
      "loop1: 3\n",
      "loop2--- 1\n",
      "loop2--- 2\n",
      "loop2--- 3\n",
      "loop2--- 4\n",
      "loop2--- 5\n",
      "loop1: 4\n",
      "loop2--- 1\n",
      "loop2--- 2\n",
      "loop2--- 3\n",
      "loop2--- 4\n",
      "loop2--- 5\n",
      "loop1: 5\n",
      "loop2--- 1\n",
      "loop2--- 2\n",
      "loop2--- 3\n",
      "loop2--- 4\n",
      "loop2--- 5\n"
     ]
    }
   ],
   "source": [
    "list2 = [1,2,3,4,5]\n",
    "\n",
    "for x in list2:\n",
    "    print('loop1:', x)\n",
    "    for y in list2:\n",
    "        print('loop2---', y)"
   ]
  },
  {
   "cell_type": "code",
   "execution_count": null,
   "metadata": {},
   "outputs": [],
   "source": []
  },
  {
   "cell_type": "code",
   "execution_count": null,
   "metadata": {},
   "outputs": [],
   "source": []
  },
  {
   "cell_type": "markdown",
   "metadata": {},
   "source": [
    "# Iterables : List , dictionary , set , tuples"
   ]
  },
  {
   "cell_type": "code",
   "execution_count": 75,
   "metadata": {},
   "outputs": [],
   "source": [
    "user = {\n",
    "    \"name\": \"Giulia\",\n",
    "    \"age\" : 25,\n",
    "    \"city\" : \"London\"\n",
    "}"
   ]
  },
  {
   "cell_type": "code",
   "execution_count": 76,
   "metadata": {},
   "outputs": [
    {
     "data": {
      "text/plain": [
       "{'name': 'Giulia', 'age': 25, 'city': 'London'}"
      ]
     },
     "execution_count": 76,
     "metadata": {},
     "output_type": "execute_result"
    }
   ],
   "source": [
    "user"
   ]
  },
  {
   "cell_type": "code",
   "execution_count": 77,
   "metadata": {},
   "outputs": [
    {
     "data": {
      "text/plain": [
       "dict_items([('name', 'Giulia'), ('age', 25), ('city', 'London')])"
      ]
     },
     "execution_count": 77,
     "metadata": {},
     "output_type": "execute_result"
    }
   ],
   "source": [
    "user.items()"
   ]
  },
  {
   "cell_type": "code",
   "execution_count": 78,
   "metadata": {},
   "outputs": [
    {
     "data": {
      "text/plain": [
       "dict_keys(['name', 'age', 'city'])"
      ]
     },
     "execution_count": 78,
     "metadata": {},
     "output_type": "execute_result"
    }
   ],
   "source": [
    "user.keys()"
   ]
  },
  {
   "cell_type": "code",
   "execution_count": 79,
   "metadata": {},
   "outputs": [
    {
     "data": {
      "text/plain": [
       "dict_values(['Giulia', 25, 'London'])"
      ]
     },
     "execution_count": 79,
     "metadata": {},
     "output_type": "execute_result"
    }
   ],
   "source": [
    "user.values()"
   ]
  },
  {
   "cell_type": "code",
   "execution_count": 80,
   "metadata": {},
   "outputs": [
    {
     "name": "stdout",
     "output_type": "stream",
     "text": [
      "name\n",
      "age\n",
      "city\n"
     ]
    }
   ],
   "source": [
    "for x in user:\n",
    "    print(x)"
   ]
  },
  {
   "cell_type": "code",
   "execution_count": 81,
   "metadata": {},
   "outputs": [
    {
     "name": "stdout",
     "output_type": "stream",
     "text": [
      "('name', 'Giulia')\n",
      "('age', 25)\n",
      "('city', 'London')\n"
     ]
    }
   ],
   "source": [
    "for element in user.items():\n",
    "    print(element)"
   ]
  },
  {
   "cell_type": "markdown",
   "metadata": {},
   "source": [
    "# The above can also be written as"
   ]
  },
  {
   "cell_type": "code",
   "execution_count": 82,
   "metadata": {},
   "outputs": [
    {
     "name": "stdout",
     "output_type": "stream",
     "text": [
      "('name', 'Giulia')\n",
      "('age', 25)\n",
      "('city', 'London')\n"
     ]
    }
   ],
   "source": [
    "for item in user.items():\n",
    "    key, value = item;\n",
    "    print(item)"
   ]
  },
  {
   "cell_type": "markdown",
   "metadata": {},
   "source": [
    "# The above can also be written as"
   ]
  },
  {
   "cell_type": "code",
   "execution_count": 87,
   "metadata": {},
   "outputs": [
    {
     "name": "stdout",
     "output_type": "stream",
     "text": [
      "name : Giulia\n",
      "age : 25\n",
      "city : London\n"
     ]
    }
   ],
   "source": [
    "for key , value in user.items():\n",
    "    print(key,\":\", value)"
   ]
  },
  {
   "cell_type": "code",
   "execution_count": null,
   "metadata": {},
   "outputs": [],
   "source": []
  },
  {
   "cell_type": "code",
   "execution_count": 84,
   "metadata": {},
   "outputs": [
    {
     "name": "stdout",
     "output_type": "stream",
     "text": [
      "name\n",
      "age\n",
      "city\n"
     ]
    }
   ],
   "source": [
    "for element in user.keys():\n",
    "    print(element)"
   ]
  },
  {
   "cell_type": "code",
   "execution_count": 85,
   "metadata": {},
   "outputs": [
    {
     "name": "stdout",
     "output_type": "stream",
     "text": [
      "Giulia\n",
      "25\n",
      "London\n"
     ]
    }
   ],
   "source": [
    "for element in user.values():\n",
    "    print(element)"
   ]
  },
  {
   "cell_type": "code",
   "execution_count": null,
   "metadata": {},
   "outputs": [],
   "source": []
  },
  {
   "cell_type": "markdown",
   "metadata": {},
   "source": [
    "# Adding items to dictionary"
   ]
  },
  {
   "cell_type": "code",
   "execution_count": 88,
   "metadata": {},
   "outputs": [],
   "source": [
    "user3 = user.copy()"
   ]
  },
  {
   "cell_type": "code",
   "execution_count": 89,
   "metadata": {},
   "outputs": [],
   "source": [
    "user3.update({\"age\": 26})"
   ]
  },
  {
   "cell_type": "code",
   "execution_count": 90,
   "metadata": {},
   "outputs": [
    {
     "data": {
      "text/plain": [
       "{'name': 'Giulia', 'age': 26, 'city': 'London'}"
      ]
     },
     "execution_count": 90,
     "metadata": {},
     "output_type": "execute_result"
    }
   ],
   "source": [
    "user3"
   ]
  },
  {
   "cell_type": "code",
   "execution_count": null,
   "metadata": {},
   "outputs": [],
   "source": []
  },
  {
   "cell_type": "markdown",
   "metadata": {},
   "source": [
    "# Using a for loop for add a new item to a dictionary"
   ]
  },
  {
   "cell_type": "code",
   "execution_count": 91,
   "metadata": {},
   "outputs": [],
   "source": [
    "new = ({\"language\":\"python\"})"
   ]
  },
  {
   "cell_type": "code",
   "execution_count": 97,
   "metadata": {},
   "outputs": [],
   "source": [
    "for element in user3:\n",
    "    user3.update(new)"
   ]
  },
  {
   "cell_type": "code",
   "execution_count": 93,
   "metadata": {},
   "outputs": [
    {
     "data": {
      "text/plain": [
       "{'name': 'Giulia', 'age': 26, 'city': 'London', 'language': 'python'}"
      ]
     },
     "execution_count": 93,
     "metadata": {},
     "output_type": "execute_result"
    }
   ],
   "source": [
    "user3"
   ]
  },
  {
   "cell_type": "code",
   "execution_count": null,
   "metadata": {},
   "outputs": [],
   "source": []
  },
  {
   "cell_type": "markdown",
   "metadata": {},
   "source": [
    "<a id='GIF'></a>\n",
    "## <center> More Into Loops </center>\n",
    "\n",
    "We can embed GIF's in the same way as images as well:\n",
    "\n",
    "![GIF](images/savetheday.gif)\n",
    "\n",
    "\n",
    "Now while a funny GIF isn't that practical, what is practical is making a GIF of a tutorial or similar and inserting it into your readme file for a package or tutorial. To do this, we can use software like [screentogif](http://www.screentogif.com/), record a screen capture scrolling through your tutorial, and then embed the GIF just like we would embed images and the previous GIF. At the end of the day, it makes your tutorials and readme documents look professional. -->\n",
    "\n",
    "![TUTORIALGIF](images/tutorialgif.gif)"
   ]
  },
  {
   "cell_type": "code",
   "execution_count": null,
   "metadata": {},
   "outputs": [],
   "source": []
  },
  {
   "cell_type": "markdown",
   "metadata": {},
   "source": [
    "# Find the sum of the items in the list"
   ]
  },
  {
   "cell_type": "code",
   "execution_count": 98,
   "metadata": {},
   "outputs": [],
   "source": [
    "my_list = [1,2,3,4,5,67,9,9,10]"
   ]
  },
  {
   "cell_type": "code",
   "execution_count": 100,
   "metadata": {},
   "outputs": [
    {
     "data": {
      "text/plain": [
       "110"
      ]
     },
     "execution_count": 100,
     "metadata": {},
     "output_type": "execute_result"
    }
   ],
   "source": [
    "sum(my_list)"
   ]
  },
  {
   "cell_type": "code",
   "execution_count": 99,
   "metadata": {},
   "outputs": [
    {
     "name": "stdout",
     "output_type": "stream",
     "text": [
      "110\n"
     ]
    }
   ],
   "source": [
    "runaway = 0\n",
    "for item in my_list:\n",
    "    runaway = runaway+item\n",
    "print(runaway)    "
   ]
  },
  {
   "cell_type": "code",
   "execution_count": null,
   "metadata": {},
   "outputs": [],
   "source": []
  },
  {
   "cell_type": "code",
   "execution_count": 101,
   "metadata": {},
   "outputs": [
    {
     "name": "stdout",
     "output_type": "stream",
     "text": [
      "0\n",
      "1\n",
      "2\n",
      "3\n",
      "4\n",
      "5\n",
      "6\n",
      "7\n",
      "8\n",
      "9\n"
     ]
    }
   ],
   "source": [
    "for _ in range(10):\n",
    "    print(_)"
   ]
  },
  {
   "cell_type": "code",
   "execution_count": 102,
   "metadata": {},
   "outputs": [
    {
     "name": "stdout",
     "output_type": "stream",
     "text": [
      "email all my friends\n",
      "email all my friends\n",
      "email all my friends\n",
      "email all my friends\n",
      "email all my friends\n",
      "email all my friends\n",
      "email all my friends\n",
      "email all my friends\n",
      "email all my friends\n",
      "email all my friends\n"
     ]
    }
   ],
   "source": [
    "for number in range(0,10):\n",
    "    print(\"email all my friends\")"
   ]
  },
  {
   "cell_type": "code",
   "execution_count": null,
   "metadata": {},
   "outputs": [],
   "source": []
  },
  {
   "cell_type": "code",
   "execution_count": 103,
   "metadata": {},
   "outputs": [
    {
     "name": "stdout",
     "output_type": "stream",
     "text": [
      "0\n",
      "2\n",
      "4\n",
      "6\n",
      "8\n"
     ]
    }
   ],
   "source": [
    "# give me all the even numbers \n",
    "for item in range(0,10,2):\n",
    "    print(item)"
   ]
  },
  {
   "cell_type": "code",
   "execution_count": 104,
   "metadata": {},
   "outputs": [
    {
     "name": "stdout",
     "output_type": "stream",
     "text": [
      "10\n",
      "9\n",
      "8\n",
      "7\n",
      "6\n",
      "5\n",
      "4\n",
      "3\n",
      "2\n",
      "1\n"
     ]
    }
   ],
   "source": [
    "# give me all the numbers starting from 10 to 1\n",
    "for item in range(10,0,-1):\n",
    "    print(item)"
   ]
  },
  {
   "cell_type": "code",
   "execution_count": null,
   "metadata": {},
   "outputs": [],
   "source": []
  },
  {
   "cell_type": "code",
   "execution_count": null,
   "metadata": {},
   "outputs": [],
   "source": [
    "for i in range(2):\n",
    "    print(list(range(10)))"
   ]
  },
  {
   "cell_type": "code",
   "execution_count": null,
   "metadata": {},
   "outputs": [],
   "source": []
  },
  {
   "cell_type": "markdown",
   "metadata": {},
   "source": [
    "# Enumerate"
   ]
  },
  {
   "cell_type": "code",
   "execution_count": 105,
   "metadata": {},
   "outputs": [
    {
     "name": "stdout",
     "output_type": "stream",
     "text": [
      "0 H\n",
      "1 e\n",
      "2 l\n",
      "3 l\n",
      "4 l\n",
      "5 l\n",
      "6 o\n",
      "7 o\n",
      "8 o\n",
      "9 o\n",
      "10 o\n"
     ]
    }
   ],
   "source": [
    "for i, char in enumerate(\"Hellllooooo\"):\n",
    "    print(i, char)"
   ]
  },
  {
   "cell_type": "code",
   "execution_count": null,
   "metadata": {},
   "outputs": [],
   "source": []
  },
  {
   "cell_type": "code",
   "execution_count": 106,
   "metadata": {},
   "outputs": [
    {
     "name": "stdout",
     "output_type": "stream",
     "text": [
      "0 0\n",
      "1 1\n",
      "2 2\n",
      "3 3\n",
      "4 4\n",
      "5 5\n",
      "6 6\n",
      "7 7\n",
      "8 8\n",
      "9 9\n",
      "10 10\n",
      "The index of 10 is : 10\n",
      "11 11\n",
      "12 12\n",
      "13 13\n",
      "14 14\n",
      "15 15\n",
      "16 16\n",
      "17 17\n",
      "18 18\n",
      "19 19\n"
     ]
    }
   ],
   "source": [
    "for i, char in enumerate(list(range(20))):\n",
    "    print(i, char)\n",
    "    if char == 10:\n",
    "        print(f\"The index of 10 is : {i}\")\n",
    "    "
   ]
  },
  {
   "cell_type": "code",
   "execution_count": 107,
   "metadata": {},
   "outputs": [
    {
     "name": "stdout",
     "output_type": "stream",
     "text": [
      "The index of 10 is : 10\n"
     ]
    }
   ],
   "source": [
    "for i, char in enumerate(list(range(20))):\n",
    "    print(i , char)    if char == 10:\n",
    "        print(f\"The index of 10 is : {i}\")\n",
    "    "
   ]
  },
  {
   "cell_type": "code",
   "execution_count": null,
   "metadata": {},
   "outputs": [],
   "source": []
  },
  {
   "cell_type": "code",
   "execution_count": null,
   "metadata": {},
   "outputs": [],
   "source": []
  },
  {
   "cell_type": "markdown",
   "metadata": {},
   "source": [
    "# GUI exercise"
   ]
  },
  {
   "cell_type": "code",
   "execution_count": 108,
   "metadata": {},
   "outputs": [],
   "source": [
    "picture = [\n",
    "  [0,0,0,1,0,0,0],\n",
    "  [0,0,1,1,1,0,0],\n",
    "  [0,1,1,1,1,1,0],\n",
    "  [1,1,1,1,1,1,1],\n",
    "  [0,0,0,1,0,0,0],\n",
    "  [0,0,0,1,0,0,0]\n",
    "]\n"
   ]
  },
  {
   "cell_type": "markdown",
   "metadata": {},
   "source": [
    "# # rules \n",
    "# + Iterate over picture\n",
    "# + if 0 print empty space \"\"\n",
    "# + if 1 print a star *"
   ]
  },
  {
   "cell_type": "code",
   "execution_count": 109,
   "metadata": {},
   "outputs": [
    {
     "name": "stdout",
     "output_type": "stream",
     "text": [
      "[0, 0, 0, 1, 0, 0, 0]\n",
      "[0, 0, 1, 1, 1, 0, 0]\n",
      "[0, 1, 1, 1, 1, 1, 0]\n",
      "[1, 1, 1, 1, 1, 1, 1]\n",
      "[0, 0, 0, 1, 0, 0, 0]\n",
      "[0, 0, 0, 1, 0, 0, 0]\n"
     ]
    }
   ],
   "source": [
    "for item in picture:\n",
    "    print(item)"
   ]
  },
  {
   "cell_type": "code",
   "execution_count": null,
   "metadata": {},
   "outputs": [],
   "source": []
  },
  {
   "cell_type": "code",
   "execution_count": 117,
   "metadata": {},
   "outputs": [
    {
     "name": "stdout",
     "output_type": "stream",
     "text": [
      "   *   \n",
      "  ***  \n",
      " ***** \n",
      "*******\n",
      "   *   \n",
      "   *   \n"
     ]
    }
   ],
   "source": [
    "for image in picture:\n",
    "    for pixel in image:\n",
    "        if (pixel):\n",
    "            print(\"*\" , end=\"\")\n",
    "        else:\n",
    "            print(\" \" , end=\"\")\n",
    "    print(\"\")        "
   ]
  },
  {
   "cell_type": "code",
   "execution_count": null,
   "metadata": {},
   "outputs": [],
   "source": []
  },
  {
   "cell_type": "code",
   "execution_count": 118,
   "metadata": {},
   "outputs": [
    {
     "name": "stdout",
     "output_type": "stream",
     "text": [
      "* \n",
      "** \n",
      "*** \n",
      "**** \n",
      "***** \n"
     ]
    }
   ],
   "source": [
    "for i in range(0, 5):\n",
    "    for j in range(0, i+1):\n",
    "        print(\"*\", end='')\n",
    "    print(\" \")    "
   ]
  },
  {
   "cell_type": "code",
   "execution_count": null,
   "metadata": {},
   "outputs": [],
   "source": []
  },
  {
   "cell_type": "code",
   "execution_count": 121,
   "metadata": {},
   "outputs": [
    {
     "name": "stdout",
     "output_type": "stream",
     "text": [
      "*  \n",
      "* *  \n",
      "* * *  \n",
      "* * * *  \n",
      "* * * * *  \n",
      "* * * * * * \n",
      "* * * * * \n",
      "* * * * \n",
      "* * * \n",
      "* * \n",
      "* \n"
     ]
    }
   ],
   "source": [
    "rows = 6\n",
    "for i in range(0 , 5):\n",
    "    for j in range(0 , i+1):\n",
    "        print('* ' ,end='')\n",
    "        \n",
    "    print(\" \")\n",
    "\n",
    "for i in range(rows, 0, -1):\n",
    "    for i in range(0 , i - 1):\n",
    "        print(\"*\" , end=\" \")\n",
    "    print(\"* \")"
   ]
  },
  {
   "cell_type": "code",
   "execution_count": null,
   "metadata": {},
   "outputs": [],
   "source": []
  },
  {
   "cell_type": "markdown",
   "metadata": {},
   "source": [
    "# Adding the total number of items in a list"
   ]
  },
  {
   "cell_type": "code",
   "execution_count": 122,
   "metadata": {},
   "outputs": [],
   "source": [
    "game = [1,2,334,5,66,7,78,89,999,3,44,5,5,5,6,66,4,4,4,6,4,3,3,3]"
   ]
  },
  {
   "cell_type": "code",
   "execution_count": 133,
   "metadata": {},
   "outputs": [
    {
     "name": "stdout",
     "output_type": "stream",
     "text": [
      "1746\n"
     ]
    }
   ],
   "source": [
    "import itertools\n",
    "\n",
    "Counter = 0\n",
    "for item in game:\n",
    "    Counter = Counter + item\n",
    "print(Counter)    "
   ]
  },
  {
   "cell_type": "code",
   "execution_count": null,
   "metadata": {},
   "outputs": [],
   "source": []
  },
  {
   "cell_type": "markdown",
   "metadata": {},
   "source": [
    "# How many times does 3 appear"
   ]
  },
  {
   "cell_type": "code",
   "execution_count": 137,
   "metadata": {},
   "outputs": [
    {
     "name": "stdout",
     "output_type": "stream",
     "text": [
      "[1, 2, 334, 5, 66, 7, 78, 89, 999, 3, 44, 5, 5, 5, 6, 66, 4, 4, 4, 6, 4, 3, 3, 3]\n"
     ]
    }
   ],
   "source": [
    "print(game)"
   ]
  },
  {
   "cell_type": "code",
   "execution_count": 135,
   "metadata": {},
   "outputs": [
    {
     "data": {
      "text/plain": [
       "4"
      ]
     },
     "execution_count": 135,
     "metadata": {},
     "output_type": "execute_result"
    }
   ],
   "source": [
    "game.count(3)"
   ]
  },
  {
   "cell_type": "code",
   "execution_count": 138,
   "metadata": {},
   "outputs": [],
   "source": [
    "# ordering game according to order\n",
    "game.sort()"
   ]
  },
  {
   "cell_type": "code",
   "execution_count": 140,
   "metadata": {},
   "outputs": [
    {
     "name": "stdout",
     "output_type": "stream",
     "text": [
      "[1, 2, 3, 3, 3, 3, 4, 4, 4, 4, 5, 5, 5, 5, 6, 6, 7, 44, 66, 66, 78, 89, 334, 999]\n"
     ]
    }
   ],
   "source": [
    "print(game)"
   ]
  },
  {
   "cell_type": "code",
   "execution_count": null,
   "metadata": {},
   "outputs": [],
   "source": []
  },
  {
   "cell_type": "code",
   "execution_count": null,
   "metadata": {},
   "outputs": [],
   "source": []
  },
  {
   "cell_type": "markdown",
   "metadata": {},
   "source": [
    "# Using for loops with matrix"
   ]
  },
  {
   "cell_type": "code",
   "execution_count": 141,
   "metadata": {},
   "outputs": [
    {
     "data": {
      "text/plain": [
       "[[1, 2, 3], [4, 5, 6], [7, 8, 9]]"
      ]
     },
     "execution_count": 141,
     "metadata": {},
     "output_type": "execute_result"
    }
   ],
   "source": [
    "m1 = [1,2,3]\n",
    "m2 = [4,5,6]\n",
    "m3 = [7,8,9]\n",
    "\n",
    "matrix = [m1,m2,m3]\n",
    "matrix"
   ]
  },
  {
   "cell_type": "code",
   "execution_count": 142,
   "metadata": {},
   "outputs": [],
   "source": [
    "x = []\n",
    "y = []\n",
    "for i in matrix:\n",
    "    x.append(i[0])\n",
    "    y.append(i[2])"
   ]
  },
  {
   "cell_type": "code",
   "execution_count": 143,
   "metadata": {},
   "outputs": [
    {
     "data": {
      "text/plain": [
       "([1, 4, 7], [3, 6, 9])"
      ]
     },
     "execution_count": 143,
     "metadata": {},
     "output_type": "execute_result"
    }
   ],
   "source": [
    "x , y"
   ]
  },
  {
   "cell_type": "code",
   "execution_count": null,
   "metadata": {},
   "outputs": [],
   "source": []
  },
  {
   "cell_type": "code",
   "execution_count": null,
   "metadata": {},
   "outputs": [],
   "source": [
    "# Remove duplicates from a list"
   ]
  },
  {
   "cell_type": "code",
   "execution_count": 144,
   "metadata": {},
   "outputs": [],
   "source": [
    "my_list = [\"a\",\"a\",\"b\",\"c\",\"v\",\"x\",\"c\",\"c\",\"c\",\"b\"]"
   ]
  },
  {
   "cell_type": "code",
   "execution_count": 145,
   "metadata": {},
   "outputs": [
    {
     "data": {
      "text/plain": [
       "['b', 'a', 'c']"
      ]
     },
     "execution_count": 145,
     "metadata": {},
     "output_type": "execute_result"
    }
   ],
   "source": [
    "duplicates = list(set([x for x in my_list if my_list.count(x)>1]))\n",
    "duplicates"
   ]
  },
  {
   "cell_type": "markdown",
   "metadata": {},
   "source": [
    "# Breaking down the above"
   ]
  },
  {
   "cell_type": "code",
   "execution_count": 146,
   "metadata": {},
   "outputs": [],
   "source": [
    "duplicated = []\n",
    "for item in my_list:\n",
    "    if my_list.count(item) > 1:\n",
    "        if item not in duplicated:\n",
    "            duplicated.append(item)"
   ]
  },
  {
   "cell_type": "code",
   "execution_count": 147,
   "metadata": {},
   "outputs": [
    {
     "name": "stdout",
     "output_type": "stream",
     "text": [
      "['a', 'b', 'c']\n"
     ]
    }
   ],
   "source": [
    "print(duplicated)"
   ]
  },
  {
   "cell_type": "code",
   "execution_count": null,
   "metadata": {},
   "outputs": [],
   "source": []
  },
  {
   "cell_type": "markdown",
   "metadata": {},
   "source": [
    "# Generating Random Numbers"
   ]
  },
  {
   "cell_type": "code",
   "execution_count": 148,
   "metadata": {},
   "outputs": [],
   "source": [
    "import numpy as np\n",
    "import random"
   ]
  },
  {
   "cell_type": "code",
   "execution_count": 149,
   "metadata": {},
   "outputs": [
    {
     "data": {
      "text/plain": [
       "0.979463370777378"
      ]
     },
     "execution_count": 149,
     "metadata": {},
     "output_type": "execute_result"
    }
   ],
   "source": [
    "random.random() # generates a random float in interval 0 to 1"
   ]
  },
  {
   "cell_type": "code",
   "execution_count": 150,
   "metadata": {},
   "outputs": [],
   "source": [
    "random.seed(123)  # setting random seed and generate psedo random num"
   ]
  },
  {
   "cell_type": "code",
   "execution_count": 151,
   "metadata": {},
   "outputs": [
    {
     "data": {
      "text/plain": [
       "7"
      ]
     },
     "execution_count": 151,
     "metadata": {},
     "output_type": "execute_result"
    }
   ],
   "source": [
    "random.randint(1,100) # generte random integer in range 1 to 100 (both included)"
   ]
  },
  {
   "cell_type": "code",
   "execution_count": null,
   "metadata": {},
   "outputs": [],
   "source": []
  },
  {
   "cell_type": "code",
   "execution_count": 152,
   "metadata": {},
   "outputs": [],
   "source": [
    "l = []\n",
    "random.seed(42)\n",
    "for item in range(10):\n",
    "    random_int = random.randint(1,100)\n",
    "    l.append(random_int)"
   ]
  },
  {
   "cell_type": "code",
   "execution_count": 153,
   "metadata": {},
   "outputs": [
    {
     "data": {
      "text/plain": [
       "[82, 15, 4, 95, 36, 32, 29, 18, 95, 14]"
      ]
     },
     "execution_count": 153,
     "metadata": {},
     "output_type": "execute_result"
    }
   ],
   "source": [
    "l"
   ]
  },
  {
   "cell_type": "code",
   "execution_count": null,
   "metadata": {},
   "outputs": [],
   "source": []
  },
  {
   "cell_type": "markdown",
   "metadata": {},
   "source": [
    "# Rolling a dice "
   ]
  },
  {
   "cell_type": "markdown",
   "metadata": {},
   "source": [
    "# Write a for loop to return rolling a dice 10 times"
   ]
  },
  {
   "cell_type": "code",
   "execution_count": 154,
   "metadata": {},
   "outputs": [],
   "source": [
    "l = []\n",
    "random.seed(123)\n",
    "for x in range(10):\n",
    "    random_int = random.randint(1,6)\n",
    "    l.append(random_int)"
   ]
  },
  {
   "cell_type": "code",
   "execution_count": 155,
   "metadata": {},
   "outputs": [
    {
     "data": {
      "text/plain": [
       "[1, 3, 1, 4, 3, 1, 1, 4, 5, 5]"
      ]
     },
     "execution_count": 155,
     "metadata": {},
     "output_type": "execute_result"
    }
   ],
   "source": [
    "l"
   ]
  },
  {
   "cell_type": "code",
   "execution_count": null,
   "metadata": {},
   "outputs": [],
   "source": []
  },
  {
   "cell_type": "markdown",
   "metadata": {},
   "source": [
    "<h1><center><font size=\"6\">Let's Have some more fun with loops</font></center></h1>\n",
    "\n",
    "<h2><center><font size=\"4\">Continue, Break etc</font></center></h2>\n",
    "\n",
    "<br>\n",
    "\n",
    "<img src=\"https://media.giphy.com/media/EbQ4tap17X2wfT5Zy6/source.gif\" width=\"450\"></img>"
   ]
  },
  {
   "cell_type": "code",
   "execution_count": 157,
   "metadata": {},
   "outputs": [],
   "source": [
    "import matplotlib.pyplot as plt"
   ]
  },
  {
   "cell_type": "code",
   "execution_count": 158,
   "metadata": {},
   "outputs": [
    {
     "data": {
      "image/png": "[encoded data removed]",
      "text/plain": [
       "<Figure size 432x288 with 1 Axes>"
      ]
     },
     "metadata": {
      "needs_background": "light"
     },
     "output_type": "display_data"
    }
   ],
   "source": [
    "# using for loop to create graphs\n",
    "for i in range(20):\n",
    "    x = np.linspace(0, 2*np.pi, 100)\n",
    "    plt.plot(x, np.sin(x + 2*np.pi * i/20))\n",
    "    display.clear_output(wait=True)\n",
    "    plt.show()"
   ]
  },
  {
   "cell_type": "code",
   "execution_count": null,
   "metadata": {},
   "outputs": [],
   "source": []
  },
  {
   "cell_type": "markdown",
   "metadata": {},
   "source": []
  },
  {
   "cell_type": "code",
   "execution_count": null,
   "metadata": {},
   "outputs": [],
   "source": []
  },
  {
   "cell_type": "code",
   "execution_count": null,
   "metadata": {},
   "outputs": [],
   "source": []
  },
  {
   "cell_type": "markdown",
   "metadata": {},
   "source": [
    "## On To `break` And `continue` Statements\n",
    "\n",
    "In the case of `break` and `continue` statements, it is almost best to not overthink. `break` and `continue` essentially do what they sound like. They are used in tandem with conditional statements (`if`, `elif`), inside loops, and they *break* out of a loop if a condition is met or *continue* a loop if a different condition is met. Before we dive too deeply into how these statements function, let's look at an example.\n"
   ]
  },
  {
   "cell_type": "code",
   "execution_count": 159,
   "metadata": {},
   "outputs": [
    {
     "name": "stdout",
     "output_type": "stream",
     "text": [
      "0 is_even.\n",
      "this does not print for odd numbers\n",
      "because the continue statement skips\n",
      "the code that follows in the for loop\n",
      "and goes straight back to the next element in the for loop\n",
      "2 is_even.\n",
      "this does not print for odd numbers\n",
      "because the continue statement skips\n",
      "the code that follows in the for loop\n",
      "and goes straight back to the next element in the for loop\n",
      "4 is_even.\n",
      "this does not print for odd numbers\n",
      "because the continue statement skips\n",
      "the code that follows in the for loop\n",
      "and goes straight back to the next element in the for loop\n",
      "6 is_even.\n",
      "this does not print for odd numbers\n",
      "because the continue statement skips\n",
      "the code that follows in the for loop\n",
      "and goes straight back to the next element in the for loop\n",
      "8 is_even.\n",
      "this does not print for odd numbers\n",
      "because the continue statement skips\n",
      "the code that follows in the for loop\n",
      "and goes straight back to the next element in the for loop\n",
      "We have enough even numbers in list({len(new_list)})). break will stop the for loop now\n"
     ]
    }
   ],
   "source": [
    "numbers = list(range(0,30))\n",
    "new_list = []\n",
    "for x in numbers:\n",
    "    if len(new_list) > 4:\n",
    "        print(\"We have enough even numbers in list({len(new_list)})). break will stop the for loop now\")\n",
    "        break\n",
    "    elif x %2 == 0:\n",
    "        new_list.append(x)\n",
    "    elif x %2 != 0:  \n",
    "        continue\n",
    "        print(\"I never get executed\")\n",
    "    print(x, \"is_even.\")   \n",
    "    print('this does not print for odd numbers\\nbecause the continue statement skips\\nthe code that follows in the for loop\\nand goes straight back to the next element in the for loop')\n"
   ]
  },
  {
   "cell_type": "code",
   "execution_count": null,
   "metadata": {},
   "outputs": [],
   "source": []
  },
  {
   "cell_type": "code",
   "execution_count": null,
   "metadata": {},
   "outputs": [],
   "source": []
  },
  {
   "cell_type": "markdown",
   "metadata": {},
   "source": [
    "# So, let's unpack what's happening here. \n",
    "\n",
    "+ First, we have a `for` loop that is iterating over our list, `numbers`, which has 30 numbers in it. Then we see that we have an `if` statement that only executes its code when our `new_list` has more than 4 numbers in it. Once this condition is met, we **break** out of our loop. We then have an `elif` statement that adds any even number to the `new_list`, and a final `elif` statement that tests to see if the number is odd, and if it is odd, then it **continue**s to the next element in our for loop's iteration process. \n",
    "\n",
    "+ So, first let's dig into the `continue` statement. `continue` is telling our loop to **skip** any code that comes after it and go straight to the next element in our loop. So, if we are dealing with number `1` in our list of numbers, we will hit our `continue` statement and immediately go to the next element in our for loop (i.e. `2`). Any code that comes after the `continue` will **not** be executed, **but** our for loop does **not** end execution. This contrasts with the `break` statement. Our break statement is only executed when we have met our condition that the `new_list` has reached the number of elements we want it to have. Once the `break` statement is executed, it will end the execution of the `for` loop altogether. All code after the `break` statement will be ignored, similar to our `continue`, but there will be no next step to the iteration. It stops the loop and that's the end.\n",
    "\n",
    "+ So, essentially, we can use `continue` to *skip* operation on elements and code below `continue`. We can then use `break` when we have a condition that tells us we want to stop the process altogether.\n",
    "\n",
    "+ We can look at two examples to really reinforce this difference in execution."
   ]
  },
  {
   "cell_type": "code",
   "execution_count": null,
   "metadata": {},
   "outputs": [],
   "source": []
  },
  {
   "cell_type": "code",
   "execution_count": 160,
   "metadata": {},
   "outputs": [
    {
     "name": "stdout",
     "output_type": "stream",
     "text": [
      "0\n",
      "Since we don't have a continue statement,\n",
      "I'll always get executed\n",
      "1\n",
      "Since we don't have a continue statement,\n",
      "I'll always get executed\n",
      "2\n",
      "Since we don't have a continue statement,\n",
      "I'll always get executed\n",
      "3\n",
      "Since we don't have a continue statement,\n",
      "I'll always get executed\n",
      "4\n",
      "Since we don't have a continue statement,\n",
      "I'll always get executed\n"
     ]
    }
   ],
   "source": [
    "for i in list(range(0,5)):\n",
    "    if True:\n",
    "        print(i)\n",
    "    print(\"Since we don't have a continue statement,\\nI'll always get executed\")   "
   ]
  },
  {
   "cell_type": "code",
   "execution_count": null,
   "metadata": {},
   "outputs": [],
   "source": []
  },
  {
   "cell_type": "code",
   "execution_count": null,
   "metadata": {},
   "outputs": [],
   "source": [
    "for i in list(range(0,5)):\n",
    "    if True:\n",
    "        print(i)\n",
    "        continue\n",
    "    print(\"I'll never get executed\")    \n",
    "        "
   ]
  },
  {
   "cell_type": "code",
   "execution_count": null,
   "metadata": {},
   "outputs": [],
   "source": []
  },
  {
   "cell_type": "code",
   "execution_count": null,
   "metadata": {},
   "outputs": [],
   "source": [
    "for i in list(range(0, 5)):\n",
    "    if True:\n",
    "        print(i)\n",
    "        break\n",
    "    print(\"I'll never get executed either\")"
   ]
  },
  {
   "cell_type": "code",
   "execution_count": null,
   "metadata": {},
   "outputs": [],
   "source": []
  },
  {
   "cell_type": "markdown",
   "metadata": {},
   "source": [
    "These examples are a bit contrived but they very clearly show how `continue` and `break` work inside loops and conditional statements as well as the difference between their execution.\n",
    "\n",
    "## Identify Opportunities to Use Break and Continue\n",
    "\n",
    "Let's say you have a collection of elements and that you want to filter out certain elements and create a new list with the elements you want. But you also want to perform a complex operation on each of the elements you **do** want. Well, you don't want to perform that operation on the elements that you don't want and you don't want to have to write multiple `for` loops on the collection. So, a `continue` statement would allow you to optimize your performance and avoid needing to perform those operations. And a `break` statement can be used when you want to put a limit on the number of iterations you perform, the number of elements you append to a new list, or even just stop your iteration when you have found the first element you want. Let's take a look:\n"
   ]
  },
  {
   "cell_type": "code",
   "execution_count": null,
   "metadata": {},
   "outputs": [],
   "source": [
    "names = ['aNNE', 'JaNe', 'willIAM', 'WanDA', 'WeSt', 'HELEN', 'tHoMaS', 'HENrY', 'John', 'Marshall', 'May']\n",
    "formatted_names = []\n",
    "check_count = 0\n",
    "for name in names:\n",
    "    if name.startswith(\"w\") or name.startswith(\"W\"):\n",
    "        check_count +=1\n",
    "        continue\n",
    "    elif len(formatted_names) >=4:\n",
    "        check_count +=1\n",
    "        break\n",
    "    else:\n",
    "        formatted_names.append(name.title())"
   ]
  },
  {
   "cell_type": "code",
   "execution_count": null,
   "metadata": {},
   "outputs": [],
   "source": [
    "print(\"before\", names)\n",
    "print(\"--------------------------------------------------------------------------------------------------\")\n",
    "print(\"after\", formatted_names)\n",
    "print(\"--------------------------------------------------------------------------------------------------\")\n",
    "print(check_count)"
   ]
  },
  {
   "cell_type": "code",
   "execution_count": null,
   "metadata": {},
   "outputs": [],
   "source": []
  },
  {
   "cell_type": "markdown",
   "metadata": {},
   "source": [
    "Okay, so, as we can tell from our code. We wanted to create a list of 4 names that are properly formatted and that **don't** start with the letter `w`. To optimize our code, we first check to see if the name starts with `w`. If it does, we skip all other operations that we need to do and go to the next name. Next we check to see if we have hit our quota of 4 names. If we have, then stop the iteration altogether. Lastly, if neither condition is met, format the given name and append it to our new list of formatted names.\n",
    "This way, we are optimizing our code by making sure that we eliminate performing any operations that aren't absolutely necessary at each step. You may have noticed the variable, `check_count`. If you are feeling unconvinced that the `break` and `continue` are not cutting down on the number of times our code is executing, run the cell below and compare the `check_count`s, which increment after **each** check of a conditional statement.\n"
   ]
  },
  {
   "cell_type": "code",
   "execution_count": null,
   "metadata": {},
   "outputs": [],
   "source": []
  },
  {
   "cell_type": "code",
   "execution_count": null,
   "metadata": {},
   "outputs": [],
   "source": [
    "names = ['aNNE', 'JaNe', 'willIAM', 'WanDA', 'WeSt', 'HELEN', 'tHoMaS', 'HENrY', 'John', 'Marshall', 'May']\n",
    "formatted_names = []\n",
    "check_count = 0\n",
    "for name in names:\n",
    "    if len(formatted_names) < 4:\n",
    "        check_count+=1\n",
    "        if not (name.startswith(\"w\") or name.startswith(\"W\")):\n",
    "            check_count +=1\n",
    "            formatted_names.append(name.title())"
   ]
  },
  {
   "cell_type": "code",
   "execution_count": null,
   "metadata": {},
   "outputs": [],
   "source": [
    "print(\"before\", names)\n",
    "print(\"--------------------------------------------------------------------------------------------------\")\n",
    "print(\"after\", formatted_names)\n",
    "print(\"--------------------------------------------------------------------------------------------------\")\n",
    "print(check_count)"
   ]
  },
  {
   "cell_type": "code",
   "execution_count": null,
   "metadata": {},
   "outputs": [],
   "source": []
  },
  {
   "cell_type": "markdown",
   "metadata": {},
   "source": [
    "See that?! We have cut down on the different checks we perform by more than half (50%)! And on top of that, to get the same result we have to have a **nested** `if` statement, which is, technically put, ***gross***. All joking aside, nested `if` statements should be avoided if they can be since they make our code less readable and therefore harder to maintain on top of being half as efficient as our previous code.\n",
    "\n",
    "It's important to note that these excess checks could represent much more expensive operations in our code. So, it is important to use `break` and `continue` when it makes sense.\n",
    "\n",
    "## Summary\n",
    "\n",
    "Awesome! `while` loops are great, right? We can use them to perform operations based on the truthiness of a condition instead of needing to iterate over the elements in a collection. They provide a more dynamic way to perform operations, but we need to be careful when writing while loops because we need to have a condition that ends the loop. Otherwise we will have an **infinite** loop which will give us and our computer a real headache. In this lesson, we also introduced some *control flow* statements, `break` and `continue`, which allow us to make our conditional statements and the rest of our code more efficient and more readable. We call these statements control flow statements because they allow us to *control* the *flow* of our code's execution. "
   ]
  },
  {
   "cell_type": "markdown",
   "metadata": {},
   "source": [
    "<h1><center><font size=\"6\">Congratulations</font></center></h1>\n",
    "\n",
    "<h2><center><font size=\"4\">You are now officially a master of Loops</font></center></h2>\n",
    "\n",
    "<br>\n",
    "\n",
    "<img src=\"https://media.giphy.com/media/U87hEC6Q7i259mu8MW/giphy.gif\" width=\"450\"></img>\n",
    "\n",
    "<img src=\"https://media.giphy.com/media/j5DrTsf6y5sM27tkIS/giphy.gif\n",
    "\" width=\"450\"></img>\n"
   ]
  },
  {
   "cell_type": "markdown",
   "metadata": {},
   "source": []
  },
  {
   "cell_type": "code",
   "execution_count": null,
   "metadata": {},
   "outputs": [],
   "source": []
  },
  {
   "cell_type": "code",
   "execution_count": null,
   "metadata": {},
   "outputs": [],
   "source": []
  },
  {
   "cell_type": "code",
   "execution_count": null,
   "metadata": {},
   "outputs": [],
   "source": [
    "import math\n",
    "import numpy as np\n",
    "import random"
   ]
  },
  {
   "cell_type": "code",
   "execution_count": null,
   "metadata": {},
   "outputs": [],
   "source": [
    "n = random.randint(100,5)\n",
    "n = np.floor(n) + 1\n",
    "print(n)"
   ]
  },
  {
   "cell_type": "code",
   "execution_count": null,
   "metadata": {},
   "outputs": [],
   "source": []
  },
  {
   "cell_type": "code",
   "execution_count": null,
   "metadata": {},
   "outputs": [],
   "source": []
  },
  {
   "cell_type": "code",
   "execution_count": null,
   "metadata": {},
   "outputs": [],
   "source": []
  },
  {
   "cell_type": "code",
   "execution_count": null,
   "metadata": {},
   "outputs": [],
   "source": []
  }
 ],
 "metadata": {
  "kernelspec": {
   "display_name": "Python [conda env:learn-env] *",
   "language": "python",
   "name": "conda-env-learn-env-py"
  },
  "language_info": {
   "codemirror_mode": {
    "name": "ipython",
    "version": 3
   },
   "file_extension": ".py",
   "mimetype": "text/x-python",
   "name": "python",
   "nbconvert_exporter": "python",
   "pygments_lexer": "ipython3",
   "version": "3.6.10"
  }
 },
 "nbformat": 4,
 "nbformat_minor": 4
}
