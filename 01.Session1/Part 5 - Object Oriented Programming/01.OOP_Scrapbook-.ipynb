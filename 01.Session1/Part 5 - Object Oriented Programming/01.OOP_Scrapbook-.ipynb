{
 "cells": [
  {
   "cell_type": "markdown",
   "metadata": {},
   "source": [
    "# Intorduction to Object Oriented Programming\n",
    "\n",
    "# Difficulty : Easy\n",
    "\n",
    "### In this notebook , we will touching very quickly on some OOP cocnepts"
   ]
  },
  {
   "cell_type": "markdown",
   "metadata": {},
   "source": [
    "+ Class\n",
    "+ Inheritance\n",
    "+ Multiple Inheritance\n",
    "+ Operator Overlapping"
   ]
  },
  {
   "cell_type": "markdown",
   "metadata": {},
   "source": [
    "# Syntax of the class will be as below"
   ]
  },
  {
   "cell_type": "code",
   "execution_count": null,
   "metadata": {},
   "outputs": [],
   "source": [
    "class myself():\n",
    "    pass"
   ]
  },
  {
   "cell_type": "code",
   "execution_count": 1,
   "metadata": {},
   "outputs": [],
   "source": [
    "# Instance Attribute - this will be executed whenever we instantiate the class\n",
    "class Cat():\n",
    "    species = \"animal\"\n",
    "    \n",
    "    def __init__(self): # constructor method that will execute when initialised\n",
    "        print(\"My name is Minu and I am a cat\")"
   ]
  },
  {
   "cell_type": "code",
   "execution_count": 2,
   "metadata": {},
   "outputs": [
    {
     "name": "stdout",
     "output_type": "stream",
     "text": [
      "My name is Minu and I am a cat\n"
     ]
    }
   ],
   "source": [
    "Minu = Cat()"
   ]
  },
  {
   "cell_type": "code",
   "execution_count": 3,
   "metadata": {},
   "outputs": [
    {
     "data": {
      "text/plain": [
       "'animal'"
      ]
     },
     "execution_count": 3,
     "metadata": {},
     "output_type": "execute_result"
    }
   ],
   "source": [
    "Minu.species"
   ]
  },
  {
   "cell_type": "code",
   "execution_count": null,
   "metadata": {},
   "outputs": [],
   "source": []
  },
  {
   "cell_type": "markdown",
   "metadata": {},
   "source": [
    "### Class attribute . Note: This is the same for all instances\n",
    "\n",
    "+ Instance attribute are different for each class. Hence we use the __init__() method to \n",
    " initialize to specify an object's initial attributes by giving them their values or state. \n",
    "    \n",
    "+ This method must have at least one arguement as well as the self variable which refers to the \n",
    "  object itself.\n",
    "  \n",
    "+ The instance method are used to get the content fo the class and are defined inside the class\n",
    "  \n",
    "    \n",
    "    "
   ]
  },
  {
   "cell_type": "code",
   "execution_count": 4,
   "metadata": {},
   "outputs": [],
   "source": [
    "class Peacock():\n",
    "    # class attribute . Note: This is the same for all instances\n",
    "    species = \"bird\"\n",
    "    \n",
    "    # instance attribute (ie different for each class. We use __init__() method)\n",
    "    def __init__(self, name, age):\n",
    "        self.name = name\n",
    "        self.age = age\n",
    "        \n",
    "    # instance method are used to get the content fo the class and are defined inside the class\n",
    "    def run(self, run):\n",
    "        return \"{} runs {}\".format(self.name , run)"
   ]
  },
  {
   "cell_type": "code",
   "execution_count": 6,
   "metadata": {},
   "outputs": [
    {
     "name": "stdout",
     "output_type": "stream",
     "text": [
      "Timo runs around all the time\n"
     ]
    }
   ],
   "source": [
    "# Instantiate the Peacock class by creating an object called Timo and Lilly\n",
    "Timo = Peacock(\"Timo\", 23)\n",
    "Lilly = Peacock(\"Lilly\" , 15)\n",
    "\n",
    "# call our instance methods\n",
    "print(Timo.run(\"around all the time\"))"
   ]
  },
  {
   "cell_type": "markdown",
   "metadata": {},
   "source": [
    "# Print the instance attributes"
   ]
  },
  {
   "cell_type": "code",
   "execution_count": 8,
   "metadata": {},
   "outputs": [
    {
     "name": "stdout",
     "output_type": "stream",
     "text": [
      "The Peacock's name is Timo and she is 23 years old\n"
     ]
    }
   ],
   "source": [
    "print(\"The Peacock's name is {} and she is {} years old\".format(Timo.name, Timo.age))"
   ]
  },
  {
   "cell_type": "markdown",
   "metadata": {},
   "source": [
    "# Print the class attributes"
   ]
  },
  {
   "cell_type": "code",
   "execution_count": 9,
   "metadata": {},
   "outputs": [
    {
     "name": "stdout",
     "output_type": "stream",
     "text": [
      "Timo is a bird\n",
      "-------------------------------------------\n",
      "Lilly is also a bird\n"
     ]
    }
   ],
   "source": [
    "print(\"Timo is a {}\".format(Timo.__class__.species))\n",
    "print(\"-------------------------------------------\")\n",
    "print(\"Lilly is also a {}\".format(Lilly.__class__.species))"
   ]
  },
  {
   "cell_type": "markdown",
   "metadata": {},
   "source": [
    "# Note each instance is actually different"
   ]
  },
  {
   "cell_type": "code",
   "execution_count": 10,
   "metadata": {},
   "outputs": [],
   "source": [
    "Mela = Peacock(\"Mela\",4)\n",
    "Bob = Peacock(\"Bob\" , 4)"
   ]
  },
  {
   "cell_type": "code",
   "execution_count": 11,
   "metadata": {},
   "outputs": [
    {
     "data": {
      "text/plain": [
       "False"
      ]
     },
     "execution_count": 11,
     "metadata": {},
     "output_type": "execute_result"
    }
   ],
   "source": [
    "# all the instances are not the same\n",
    "Mela == Bob"
   ]
  },
  {
   "cell_type": "code",
   "execution_count": 12,
   "metadata": {},
   "outputs": [
    {
     "name": "stdout",
     "output_type": "stream",
     "text": [
      "Mela runs very fast\n"
     ]
    }
   ],
   "source": [
    "print(Mela.run(\"very fast\"))"
   ]
  },
  {
   "cell_type": "code",
   "execution_count": null,
   "metadata": {},
   "outputs": [],
   "source": []
  },
  {
   "cell_type": "markdown",
   "metadata": {},
   "source": [
    "# Instantiating the Class object - a bit more into details"
   ]
  },
  {
   "cell_type": "markdown",
   "metadata": {},
   "source": [
    "![gooddog](https://media.giphy.com/media/KG0110WAtDN1ZOXulr/giphy.gif)"
   ]
  },
  {
   "cell_type": "code",
   "execution_count": 13,
   "metadata": {},
   "outputs": [],
   "source": [
    "class Dog:\n",
    "    # class attribute\n",
    "    species = \"mammal\"\n",
    "    \n",
    "    # initializer / Instance Attributes\n",
    "    def __init__(self, name , age):\n",
    "        self.name = name\n",
    "        self.age = age\n",
    "        "
   ]
  },
  {
   "cell_type": "markdown",
   "metadata": {},
   "source": [
    "### Instantiate the dog object"
   ]
  },
  {
   "cell_type": "code",
   "execution_count": 14,
   "metadata": {},
   "outputs": [],
   "source": [
    "Beiber = Dog(\"Beiber\" , 4)\n",
    "Zeus = Dog(\"Zeus\" , 6)"
   ]
  },
  {
   "cell_type": "markdown",
   "metadata": {},
   "source": [
    "### Access the instance attributes"
   ]
  },
  {
   "cell_type": "code",
   "execution_count": 15,
   "metadata": {},
   "outputs": [
    {
     "name": "stdout",
     "output_type": "stream",
     "text": [
      "Beiber is 4 years old and Zeus is 6 years old.\n"
     ]
    }
   ],
   "source": [
    "print(\"{} is {} years old and {} is {} years old.\".format(Beiber.name,Beiber.age,Zeus.name, Zeus.age))"
   ]
  },
  {
   "cell_type": "code",
   "execution_count": null,
   "metadata": {},
   "outputs": [],
   "source": []
  },
  {
   "cell_type": "markdown",
   "metadata": {},
   "source": [
    "# Constructing An Object"
   ]
  },
  {
   "cell_type": "markdown",
   "metadata": {},
   "source": [
    "# Note : whenever you see _ or __ within a class or instance it means its private and should not be accessed outside the class"
   ]
  },
  {
   "cell_type": "code",
   "execution_count": 79,
   "metadata": {},
   "outputs": [],
   "source": [
    "class Animal:\n",
    "    def __init__(self, typeofanimal, name , sound):\n",
    "        self._typeofanimal = typeofanimal\n",
    "        self._name = name\n",
    "        self._sound = sound\n",
    "        \n",
    "    def typeofanimal(self):\n",
    "        return self._typeofanimal\n",
    "    \n",
    "    def name(self):\n",
    "        return self._name\n",
    "    \n",
    "    def sound(self):\n",
    "        return self._sound\n",
    "    \n",
    "def print_animal(o):\n",
    "    if not isinstance(o, Animal):\n",
    "        raise TypeError(\"print_animal(): requires an animal\")\n",
    "    print(f'The {o.typeofanimal()} is named \"{o.name()}\" and says \"{o.sound()}\"')  \n",
    "    \n",
    "def main():\n",
    "    print_animal(Animal(\"Kitten\",\"Fluffy\",\"Meow\"))\n",
    "    print_animal(Animal(\"Duck\",\"Donald-Duck\",\"Quack\"))\n",
    "    print_animal(Animal(\"Dino\",\"Jack\",\"Hello\"))\n",
    "    \n",
    "    \n",
    "# if __name__ == \"__main__\":\n",
    "#     main()"
   ]
  },
  {
   "cell_type": "code",
   "execution_count": 82,
   "metadata": {},
   "outputs": [
    {
     "name": "stdout",
     "output_type": "stream",
     "text": [
      "The Kitten is named \"Fluffy\" and says \"Meow\"\n",
      "The Duck is named \"Donald-Duck\" and says \"Quack\"\n",
      "The Dino is named \"Jack\" and says \"Hello\"\n"
     ]
    }
   ],
   "source": [
    "main()"
   ]
  },
  {
   "cell_type": "code",
   "execution_count": 84,
   "metadata": {},
   "outputs": [
    {
     "name": "stdout",
     "output_type": "stream",
     "text": [
      "The Dog is named \"Minu\" and says \"Bark\"\n"
     ]
    }
   ],
   "source": [
    "print_animal(Animal(\"Dog\" , \"Minu\" , \"Bark\"))"
   ]
  },
  {
   "cell_type": "code",
   "execution_count": null,
   "metadata": {},
   "outputs": [],
   "source": []
  },
  {
   "cell_type": "markdown",
   "metadata": {},
   "source": [
    "# Constructing a method"
   ]
  },
  {
   "cell_type": "code",
   "execution_count": 93,
   "metadata": {},
   "outputs": [
    {
     "ename": "AttributeError",
     "evalue": "'Animal' object has no attribute '_type'",
     "output_type": "error",
     "traceback": [
      "\u001b[0;31m---------------------------------------------------------------------------\u001b[0m",
      "\u001b[0;31mAttributeError\u001b[0m                            Traceback (most recent call last)",
      "\u001b[0;32m<ipython-input-93-443db646d984>\u001b[0m in \u001b[0;36m<module>\u001b[0;34m\u001b[0m\n\u001b[1;32m     26\u001b[0m \u001b[0;34m\u001b[0m\u001b[0m\n\u001b[1;32m     27\u001b[0m \u001b[0;32mif\u001b[0m \u001b[0m__name__\u001b[0m \u001b[0;34m==\u001b[0m \u001b[0;34m\"__main__\"\u001b[0m\u001b[0;34m:\u001b[0m\u001b[0;34m\u001b[0m\u001b[0;34m\u001b[0m\u001b[0m\n\u001b[0;32m---> 28\u001b[0;31m     \u001b[0mmain\u001b[0m\u001b[0;34m(\u001b[0m\u001b[0;34m)\u001b[0m\u001b[0;34m\u001b[0m\u001b[0;34m\u001b[0m\u001b[0m\n\u001b[0m\u001b[1;32m     29\u001b[0m \u001b[0;34m\u001b[0m\u001b[0m\n",
      "\u001b[0;32m<ipython-input-93-443db646d984>\u001b[0m in \u001b[0;36mmain\u001b[0;34m()\u001b[0m\n\u001b[1;32m     22\u001b[0m \u001b[0;34m\u001b[0m\u001b[0m\n\u001b[1;32m     23\u001b[0m \u001b[0;32mdef\u001b[0m \u001b[0mmain\u001b[0m\u001b[0;34m(\u001b[0m\u001b[0;34m)\u001b[0m\u001b[0;34m:\u001b[0m\u001b[0;34m\u001b[0m\u001b[0;34m\u001b[0m\u001b[0m\n\u001b[0;32m---> 24\u001b[0;31m     \u001b[0mprint\u001b[0m\u001b[0;34m(\u001b[0m\u001b[0mAnimal\u001b[0m\u001b[0;34m(\u001b[0m\u001b[0mtypeofanimal\u001b[0m\u001b[0;34m=\u001b[0m\u001b[0;34m\"Kitten\"\u001b[0m\u001b[0;34m,\u001b[0m \u001b[0mname\u001b[0m\u001b[0;34m=\u001b[0m\u001b[0;34m\"Fluffy\"\u001b[0m \u001b[0;34m,\u001b[0m \u001b[0msound\u001b[0m\u001b[0;34m=\u001b[0m\u001b[0;34m\"Meow\"\u001b[0m\u001b[0;34m)\u001b[0m\u001b[0;34m)\u001b[0m\u001b[0;34m\u001b[0m\u001b[0;34m\u001b[0m\u001b[0m\n\u001b[0m\u001b[1;32m     25\u001b[0m     \u001b[0mprint\u001b[0m\u001b[0;34m(\u001b[0m\u001b[0mAnimal\u001b[0m\u001b[0;34m(\u001b[0m\u001b[0mtypeofanimal\u001b[0m\u001b[0;34m=\u001b[0m\u001b[0;34m\"Lion\"\u001b[0m\u001b[0;34m,\u001b[0m \u001b[0mname\u001b[0m\u001b[0;34m=\u001b[0m\u001b[0;34m\"angry\"\u001b[0m \u001b[0;34m,\u001b[0m \u001b[0msound\u001b[0m\u001b[0;34m=\u001b[0m\u001b[0;34m\"roar\"\u001b[0m\u001b[0;34m)\u001b[0m\u001b[0;34m)\u001b[0m\u001b[0;34m\u001b[0m\u001b[0;34m\u001b[0m\u001b[0m\n\u001b[1;32m     26\u001b[0m \u001b[0;34m\u001b[0m\u001b[0m\n",
      "\u001b[0;32m<ipython-input-93-443db646d984>\u001b[0m in \u001b[0;36m__str__\u001b[0;34m(self)\u001b[0m\n\u001b[1;32m     18\u001b[0m \u001b[0;34m\u001b[0m\u001b[0m\n\u001b[1;32m     19\u001b[0m     \u001b[0;32mdef\u001b[0m \u001b[0m__str__\u001b[0m\u001b[0;34m(\u001b[0m\u001b[0mself\u001b[0m\u001b[0;34m)\u001b[0m\u001b[0;34m:\u001b[0m\u001b[0;34m\u001b[0m\u001b[0;34m\u001b[0m\u001b[0m\n\u001b[0;32m---> 20\u001b[0;31m         \u001b[0;32mreturn\u001b[0m \u001b[0;34mf'The {self.typeofanimal()}, is named \"{self.name()} and says \"{self.sound()}\"'\u001b[0m\u001b[0;34m\u001b[0m\u001b[0;34m\u001b[0m\u001b[0m\n\u001b[0m\u001b[1;32m     21\u001b[0m \u001b[0;34m\u001b[0m\u001b[0m\n\u001b[1;32m     22\u001b[0m \u001b[0;34m\u001b[0m\u001b[0m\n",
      "\u001b[0;32m<ipython-input-93-443db646d984>\u001b[0m in \u001b[0;36mtypeofanimal\u001b[0;34m(self, t)\u001b[0m\n\u001b[1;32m      7\u001b[0m     \u001b[0;32mdef\u001b[0m \u001b[0mtypeofanimal\u001b[0m\u001b[0;34m(\u001b[0m\u001b[0mself\u001b[0m\u001b[0;34m,\u001b[0m \u001b[0mt\u001b[0m \u001b[0;34m=\u001b[0m \u001b[0;32mNone\u001b[0m\u001b[0;34m)\u001b[0m\u001b[0;34m:\u001b[0m\u001b[0;34m\u001b[0m\u001b[0;34m\u001b[0m\u001b[0m\n\u001b[1;32m      8\u001b[0m         \u001b[0;32mif\u001b[0m \u001b[0mt\u001b[0m\u001b[0;34m:\u001b[0m \u001b[0mself\u001b[0m\u001b[0;34m.\u001b[0m\u001b[0m_type\u001b[0m \u001b[0;34m=\u001b[0m \u001b[0mt\u001b[0m\u001b[0;34m\u001b[0m\u001b[0;34m\u001b[0m\u001b[0m\n\u001b[0;32m----> 9\u001b[0;31m         \u001b[0;32mreturn\u001b[0m \u001b[0mself\u001b[0m\u001b[0;34m.\u001b[0m\u001b[0m_type\u001b[0m\u001b[0;34m\u001b[0m\u001b[0;34m\u001b[0m\u001b[0m\n\u001b[0m\u001b[1;32m     10\u001b[0m \u001b[0;34m\u001b[0m\u001b[0m\n\u001b[1;32m     11\u001b[0m     \u001b[0;32mdef\u001b[0m \u001b[0mname\u001b[0m\u001b[0;34m(\u001b[0m\u001b[0mself\u001b[0m\u001b[0;34m,\u001b[0m \u001b[0mn\u001b[0m\u001b[0;34m=\u001b[0m\u001b[0;32mNone\u001b[0m\u001b[0;34m)\u001b[0m\u001b[0;34m:\u001b[0m\u001b[0;34m\u001b[0m\u001b[0;34m\u001b[0m\u001b[0m\n",
      "\u001b[0;31mAttributeError\u001b[0m: 'Animal' object has no attribute '_type'"
     ]
    }
   ],
   "source": [
    "class Animal:\n",
    "    def __init__(self, **kwargs):\n",
    "        self._typeofanimal = kwargs[\"typeofanimal\"] if \"typeofanimal\" in kwargs else \"Kitten\"\n",
    "        self._name = kwargs[\"typeofanimal\"] if \"name\" in kwargs else \"Fluffy\"\n",
    "        self._sound = kwargs[\"sound\"] if \"sound\" in kwargs else \"Meow\"\n",
    "        \n",
    "    def typeofanimal(self, t = None):\n",
    "        if t: self._type = t\n",
    "        return self._type\n",
    "    \n",
    "    def name(self, n=None):\n",
    "        if n: self._name = n\n",
    "        return self._name\n",
    "    \n",
    "    def sound(self, s=None):\n",
    "        if s: self._sound = s\n",
    "        return self._sound\n",
    "    \n",
    "    def __str__(self):\n",
    "        return f'The {self.typeofanimal()}, is named \"{self.name()} and says \"{self.sound()}\"'\n",
    "    \n",
    "    \n",
    "def main():\n",
    "    print(Animal(typeofanimal=\"Kitten\", name=\"Fluffy\" , sound=\"Meow\"))\n",
    "    print(Animal(typeofanimal=\"Lion\", name=\"angry\" , sound=\"roar\"))\n",
    "\n",
    "if __name__ == \"__main__\":\n",
    "    main()\n",
    "    "
   ]
  },
  {
   "cell_type": "code",
   "execution_count": null,
   "metadata": {},
   "outputs": [],
   "source": []
  },
  {
   "cell_type": "code",
   "execution_count": null,
   "metadata": {},
   "outputs": [],
   "source": []
  },
  {
   "cell_type": "markdown",
   "metadata": {},
   "source": [
    "# Inheritence\n",
    "+ Inheritence draws meaning from its name. Example I inherited my colour from my parents.\n",
    "\n",
    "+ Hence , inheritence here means getting the attributes from the parent class."
   ]
  },
  {
   "cell_type": "markdown",
   "metadata": {},
   "source": [
    "+ Parents Class & Child Class\n",
    "+ Use of super function before the init method\n",
    "+ Use of inheritence\n"
   ]
  },
  {
   "cell_type": "markdown",
   "metadata": {},
   "source": [
    "# Inheritence, Parents and Child Class , Super Functions"
   ]
  },
  {
   "cell_type": "code",
   "execution_count": 33,
   "metadata": {},
   "outputs": [],
   "source": [
    "### Parent class\n",
    "class Bird:\n",
    "    color = \"red\" \n",
    "    def __init__(self):\n",
    "        print(\"Bird is active\")\n",
    "        \n",
    "    def whoisthis(self):\n",
    "        print(\"I am a Bird\")\n",
    "        \n",
    "    def swim(self):\n",
    "        print(\"Bird's can also swim\")\n",
    "        \n",
    "# Child class\n",
    "class Penguin(Bird):\n",
    "    def __init__(self):\n",
    "        ## call super() function\n",
    "        super().__init__() # inherited the Parent class self executing method. Super fucntion calls the parent call init method content to the child class\n",
    "        print(\"Penguins are watching the sun\")\n",
    "        \n",
    "    ## overiding the parent class attribute . \n",
    "    ## Note if two of the same methods are given, the child class overides the parent c\n",
    "    def whoisthis(self):\n",
    "        print(\"I am a Penguin\")\n",
    "            \n",
    "    def run(self):\n",
    "        print(\"Birds can also run and fly\")\n",
    "        \n",
    "        "
   ]
  },
  {
   "cell_type": "code",
   "execution_count": 34,
   "metadata": {},
   "outputs": [
    {
     "name": "stdout",
     "output_type": "stream",
     "text": [
      "Bird is active\n",
      "Penguins are watching the sun\n"
     ]
    }
   ],
   "source": [
    "# creating an object from the Pengiun class\n",
    "mr_peg = Penguin()"
   ]
  },
  {
   "cell_type": "code",
   "execution_count": 35,
   "metadata": {},
   "outputs": [
    {
     "name": "stdout",
     "output_type": "stream",
     "text": [
      "I am a Penguin\n"
     ]
    }
   ],
   "source": [
    "mr_peg.whoisthis()"
   ]
  },
  {
   "cell_type": "code",
   "execution_count": 36,
   "metadata": {},
   "outputs": [
    {
     "name": "stdout",
     "output_type": "stream",
     "text": [
      "Bird's can also swim\n"
     ]
    }
   ],
   "source": [
    "mr_peg.swim()"
   ]
  },
  {
   "cell_type": "code",
   "execution_count": 37,
   "metadata": {},
   "outputs": [
    {
     "name": "stdout",
     "output_type": "stream",
     "text": [
      "Birds can also run and fly\n"
     ]
    }
   ],
   "source": [
    "mr_peg.run()"
   ]
  },
  {
   "cell_type": "code",
   "execution_count": null,
   "metadata": {},
   "outputs": [],
   "source": []
  },
  {
   "cell_type": "code",
   "execution_count": 38,
   "metadata": {},
   "outputs": [
    {
     "name": "stdout",
     "output_type": "stream",
     "text": [
      "Bird is active\n"
     ]
    }
   ],
   "source": [
    "# creating an object from the Bird class. Note : bird class is the Parent class\n",
    "Mr_froddo = Bird()"
   ]
  },
  {
   "cell_type": "code",
   "execution_count": 41,
   "metadata": {},
   "outputs": [
    {
     "name": "stdout",
     "output_type": "stream",
     "text": [
      "I am a Bird\n"
     ]
    }
   ],
   "source": [
    "Mr_froddo.whoisthis()"
   ]
  },
  {
   "cell_type": "code",
   "execution_count": 42,
   "metadata": {},
   "outputs": [
    {
     "name": "stdout",
     "output_type": "stream",
     "text": [
      "Bird's can also swim\n"
     ]
    }
   ],
   "source": [
    "Mr_froddo.swim()"
   ]
  },
  {
   "cell_type": "markdown",
   "metadata": {},
   "source": [
    "# What is the colour of the bird?"
   ]
  },
  {
   "cell_type": "code",
   "execution_count": 47,
   "metadata": {},
   "outputs": [
    {
     "data": {
      "text/plain": [
       "'red'"
      ]
     },
     "execution_count": 47,
     "metadata": {},
     "output_type": "execute_result"
    }
   ],
   "source": [
    "Mr_froddo.color"
   ]
  },
  {
   "cell_type": "code",
   "execution_count": 46,
   "metadata": {},
   "outputs": [
    {
     "name": "stdout",
     "output_type": "stream",
     "text": [
      "I am a red bird\n"
     ]
    }
   ],
   "source": [
    "print(\"I am a\", Mr_froddo.color , \"bird\")"
   ]
  },
  {
   "cell_type": "markdown",
   "metadata": {},
   "source": [
    "# Overriding the functionality of a Parent class"
   ]
  },
  {
   "cell_type": "markdown",
   "metadata": {},
   "source": [
    "+ We can also override the characteristics of Parent class in child class by redefining it"
   ]
  },
  {
   "cell_type": "code",
   "execution_count": 54,
   "metadata": {},
   "outputs": [],
   "source": [
    "class newbird(Bird):\n",
    "    color = \"rainbow colors\""
   ]
  },
  {
   "cell_type": "code",
   "execution_count": 55,
   "metadata": {},
   "outputs": [
    {
     "name": "stdout",
     "output_type": "stream",
     "text": [
      "Bird is active\n"
     ]
    }
   ],
   "source": [
    "sunny = newbird()"
   ]
  },
  {
   "cell_type": "code",
   "execution_count": 56,
   "metadata": {},
   "outputs": [
    {
     "data": {
      "text/plain": [
       "'rainbow colors'"
      ]
     },
     "execution_count": 56,
     "metadata": {},
     "output_type": "execute_result"
    }
   ],
   "source": [
    "newbird.color"
   ]
  },
  {
   "cell_type": "markdown",
   "metadata": {},
   "source": [
    "# Exercise\n",
    "#### Create an animal class and a bird class that inherits characteristics from the Animalclass and has its own attributes too"
   ]
  },
  {
   "cell_type": "markdown",
   "metadata": {},
   "source": [
    "+ Multiple inheritance in Python\n",
    "+ Example means of transportation in London is by bicycle, bus , taxi etc"
   ]
  },
  {
   "cell_type": "code",
   "execution_count": null,
   "metadata": {},
   "outputs": [],
   "source": [
    "# Syntax of a Multiple inheritence\n",
    "class inheritence1:\n",
    "    pass\n",
    "\n",
    "class inheritence2:\n",
    "    pass\n",
    "\n",
    "class MultiInheritence(Inheritence1 , inheritence2):\n",
    "    pass\n"
   ]
  },
  {
   "cell_type": "markdown",
   "metadata": {},
   "source": [
    "## Multi level Inheritance in Python\n",
    "+ Example humans are derived from mammals and mammals are derived from animals"
   ]
  },
  {
   "cell_type": "code",
   "execution_count": null,
   "metadata": {},
   "outputs": [],
   "source": [
    "## Sytax of Multi-level inheritence\n",
    "class Base:\n",
    "    pass\n",
    "\n",
    "class Derived1(Base):\n",
    "    pass\n",
    "\n",
    "class Derived2(Derived1):\n",
    "    pass"
   ]
  },
  {
   "cell_type": "markdown",
   "metadata": {},
   "source": [
    "# This is done with Method Resolution order\n",
    "+ When we look for an attribute in a class that is involved in multiple inheritance, an order is followed\n",
    "+ First it is searched in the current class. If not found, the search moves to parent classes\n"
   ]
  },
  {
   "cell_type": "code",
   "execution_count": 58,
   "metadata": {},
   "outputs": [
    {
     "name": "stdout",
     "output_type": "stream",
     "text": [
      "Birds are singing\n",
      "Bird\n"
     ]
    }
   ],
   "source": [
    "# Parent class\n",
    "class Bird:\n",
    "    color = \"yellow\"\n",
    "    def __init__(self):\n",
    "        print(\"Birds are singing\")\n",
    "        \n",
    "    def whoisthis(self):\n",
    "        print(\"Bird\")\n",
    "        \n",
    "    def swim(self):\n",
    "        print(\"Swim faster\")\n",
    "        \n",
    "# child class\n",
    "class Lion():\n",
    "    \n",
    "    def __init__(self):\n",
    "        # call the super() function\n",
    "        super().__init__()\n",
    "        print(\"Lions run the jungle\")\n",
    "        \n",
    "   # overriding the parent class attribute\n",
    "    def whoisthis(self):\n",
    "        print(\"Simba the Lion\")\n",
    "        \n",
    "    def run(self):\n",
    "        print(\"Lions are fast runners\")\n",
    "        \n",
    "class both(Bird , Lion):\n",
    "    pass\n",
    "\n",
    "animal_1 = both()   # Note : This will print only Bird, it wont print Lion\n",
    "animal_1.whoisthis()  "
   ]
  },
  {
   "cell_type": "code",
   "execution_count": null,
   "metadata": {},
   "outputs": [],
   "source": []
  },
  {
   "cell_type": "markdown",
   "metadata": {},
   "source": [
    "# Operator Overloading \n",
    "+ Different meanings in different context"
   ]
  },
  {
   "cell_type": "markdown",
   "metadata": {},
   "source": [
    "+ Python operators work for in-built classes ; however , for sometimes they behave differently\n",
    "with different types\n",
    "+ For example , the operator will perform arithmetic on two numbers, merge two lists and concatenate two strings\n",
    "+ The feature in python that allows the same operator to have different meaning according to the context is called operator overloading\n"
   ]
  },
  {
   "cell_type": "code",
   "execution_count": 59,
   "metadata": {},
   "outputs": [],
   "source": [
    "# String\n",
    "a = \"He\"\n",
    "b = \"llo\""
   ]
  },
  {
   "cell_type": "code",
   "execution_count": 60,
   "metadata": {},
   "outputs": [
    {
     "name": "stdout",
     "output_type": "stream",
     "text": [
      "Hello\n"
     ]
    }
   ],
   "source": [
    "c = a + b\n",
    "print(c)"
   ]
  },
  {
   "cell_type": "markdown",
   "metadata": {},
   "source": [
    "# Lists"
   ]
  },
  {
   "cell_type": "code",
   "execution_count": 61,
   "metadata": {},
   "outputs": [
    {
     "name": "stdout",
     "output_type": "stream",
     "text": [
      "['John', 8, 'Ami', 5, 'Ali', 4, 'Joseph', 8, 'Alex', 7]\n"
     ]
    }
   ],
   "source": [
    "students = [\"John\",8,\"Ami\",5,\"Ali\",4]\n",
    "new_students = [\"Joseph\",8,\"Alex\",7]\n",
    "total_students = students + new_students\n",
    "print(total_students)"
   ]
  },
  {
   "cell_type": "code",
   "execution_count": null,
   "metadata": {},
   "outputs": [],
   "source": []
  },
  {
   "cell_type": "markdown",
   "metadata": {},
   "source": [
    "# Let's define a class"
   ]
  },
  {
   "cell_type": "code",
   "execution_count": 62,
   "metadata": {},
   "outputs": [],
   "source": [
    "class Proactive:\n",
    "    def __init__(self, x=0 , y=0):\n",
    "        self.x = x\n",
    "        self.y = y"
   ]
  },
  {
   "cell_type": "code",
   "execution_count": 63,
   "metadata": {},
   "outputs": [],
   "source": [
    "P1 = Proactive(3,4)"
   ]
  },
  {
   "cell_type": "code",
   "execution_count": 64,
   "metadata": {},
   "outputs": [],
   "source": [
    "P2 = Proactive(5,6)"
   ]
  },
  {
   "cell_type": "markdown",
   "metadata": {},
   "source": [
    "# Note : This will return an error"
   ]
  },
  {
   "cell_type": "code",
   "execution_count": 70,
   "metadata": {},
   "outputs": [
    {
     "ename": "TypeError",
     "evalue": "unsupported operand type(s) for +: 'Point' and 'P_update'",
     "output_type": "error",
     "traceback": [
      "\u001b[0;31m---------------------------------------------------------------------------\u001b[0m",
      "\u001b[0;31mTypeError\u001b[0m                                 Traceback (most recent call last)",
      "\u001b[0;32m<ipython-input-70-6de9cfc0d03d>\u001b[0m in \u001b[0;36m<module>\u001b[0;34m\u001b[0m\n\u001b[0;32m----> 1\u001b[0;31m \u001b[0mprint\u001b[0m\u001b[0;34m(\u001b[0m\u001b[0mP1\u001b[0m \u001b[0;34m+\u001b[0m \u001b[0mP2\u001b[0m\u001b[0;34m)\u001b[0m\u001b[0;34m\u001b[0m\u001b[0;34m\u001b[0m\u001b[0m\n\u001b[0m",
      "\u001b[0;31mTypeError\u001b[0m: unsupported operand type(s) for +: 'Point' and 'P_update'"
     ]
    }
   ],
   "source": [
    "print(P1 + P2)"
   ]
  },
  {
   "cell_type": "markdown",
   "metadata": {},
   "source": [
    "# To solve this problem we need to use a special function , as the class is now compatible with python's in-built function"
   ]
  },
  {
   "cell_type": "code",
   "execution_count": 65,
   "metadata": {},
   "outputs": [],
   "source": [
    "class P_update:\n",
    "    def __init__(self , x=0 , y=0):\n",
    "        self.x = x\n",
    "        self.y = y\n",
    "        \n",
    "    def __str__(self):\n",
    "        return \"({},{})\".format(self.x , self.y)"
   ]
  },
  {
   "cell_type": "code",
   "execution_count": 66,
   "metadata": {},
   "outputs": [
    {
     "name": "stdout",
     "output_type": "stream",
     "text": [
      "(3,4)\n"
     ]
    }
   ],
   "source": [
    "P2 = P_update(3,4)\n",
    "print(P2)"
   ]
  },
  {
   "cell_type": "markdown",
   "metadata": {},
   "source": [
    "# We can use the in-biult function of str() and format for this"
   ]
  },
  {
   "cell_type": "code",
   "execution_count": 67,
   "metadata": {},
   "outputs": [
    {
     "data": {
      "text/plain": [
       "'(3,4)'"
      ]
     },
     "execution_count": 67,
     "metadata": {},
     "output_type": "execute_result"
    }
   ],
   "source": [
    "str(P2)"
   ]
  },
  {
   "cell_type": "code",
   "execution_count": 68,
   "metadata": {},
   "outputs": [
    {
     "data": {
      "text/plain": [
       "'(3,4)'"
      ]
     },
     "execution_count": 68,
     "metadata": {},
     "output_type": "execute_result"
    }
   ],
   "source": [
    "format(P2)"
   ]
  },
  {
   "cell_type": "code",
   "execution_count": null,
   "metadata": {},
   "outputs": [],
   "source": [
    "# Now let's try adding P1 and P2 again to see the result . This will return an error"
   ]
  },
  {
   "cell_type": "code",
   "execution_count": 69,
   "metadata": {},
   "outputs": [
    {
     "ename": "TypeError",
     "evalue": "unsupported operand type(s) for +: 'Point' and 'P_update'",
     "output_type": "error",
     "traceback": [
      "\u001b[0;31m---------------------------------------------------------------------------\u001b[0m",
      "\u001b[0;31mTypeError\u001b[0m                                 Traceback (most recent call last)",
      "\u001b[0;32m<ipython-input-69-6de9cfc0d03d>\u001b[0m in \u001b[0;36m<module>\u001b[0;34m\u001b[0m\n\u001b[0;32m----> 1\u001b[0;31m \u001b[0mprint\u001b[0m\u001b[0;34m(\u001b[0m\u001b[0mP1\u001b[0m \u001b[0;34m+\u001b[0m \u001b[0mP2\u001b[0m\u001b[0;34m)\u001b[0m\u001b[0;34m\u001b[0m\u001b[0;34m\u001b[0m\u001b[0m\n\u001b[0m",
      "\u001b[0;31mTypeError\u001b[0m: unsupported operand type(s) for +: 'Point' and 'P_update'"
     ]
    }
   ],
   "source": [
    "print(P1 + P2)"
   ]
  },
  {
   "cell_type": "markdown",
   "metadata": {},
   "source": [
    "# Note : the 2 classes are user-built classes and not compatible with the existing plus operator class.\n",
    "+ Hence we can solve this by using a special add fucntion to the class. \n",
    "+ This process is called Operator Overloading"
   ]
  },
  {
   "cell_type": "code",
   "execution_count": null,
   "metadata": {},
   "outputs": [],
   "source": []
  },
  {
   "cell_type": "markdown",
   "metadata": {},
   "source": [
    "# Overloading the + (Plus) Operator in Python"
   ]
  },
  {
   "cell_type": "code",
   "execution_count": 71,
   "metadata": {},
   "outputs": [],
   "source": [
    "class p_updated:\n",
    "    def __init__(self , x=0 , y=0):\n",
    "        self.x = x\n",
    "        self.y = y\n",
    "        \n",
    "    def __str__(self):\n",
    "        return \"({},{})\".format(self.x , self.y)\n",
    "    \n",
    "    def __add__(self , other):\n",
    "        x = self.x + other.x\n",
    "        y = self.y + other.y\n",
    "        return p_updated(x,y)"
   ]
  },
  {
   "cell_type": "code",
   "execution_count": 72,
   "metadata": {},
   "outputs": [],
   "source": [
    "p3 = p_updated(3,4)\n",
    "p4 = p_updated(5,6)"
   ]
  },
  {
   "cell_type": "code",
   "execution_count": 73,
   "metadata": {},
   "outputs": [
    {
     "name": "stdout",
     "output_type": "stream",
     "text": [
      "(8,10)\n"
     ]
    }
   ],
   "source": [
    "print(p3 + p4)"
   ]
  },
  {
   "cell_type": "markdown",
   "metadata": {},
   "source": [
    "# Some more Common Operator Overloading Special Fucntions in Python"
   ]
  },
  {
   "cell_type": "raw",
   "metadata": {},
   "source": [
    " Operator                       Expression                    Internally\n",
    "\n",
    " Addition.                       p1 + p2.                      p1.__add__(p2)\n",
    "\n",
    " Substruction.                   p1 - p2.                      p1.__sub__(p2)\n",
    "\n",
    " Multiplication.                 p1 * p2.                      p1.__mul__(p2)\n",
    " \n",
    " Power.                          p1 ** p2.                     p1.__pow__(p2)\n",
    " \n",
    " Division.                       p1 / p2.                      p1.__truediv__(p2)\n"
   ]
  },
  {
   "cell_type": "code",
   "execution_count": null,
   "metadata": {},
   "outputs": [],
   "source": []
  },
  {
   "cell_type": "code",
   "execution_count": null,
   "metadata": {},
   "outputs": [],
   "source": []
  },
  {
   "cell_type": "code",
   "execution_count": null,
   "metadata": {},
   "outputs": [],
   "source": []
  },
  {
   "cell_type": "code",
   "execution_count": null,
   "metadata": {},
   "outputs": [],
   "source": []
  },
  {
   "cell_type": "code",
   "execution_count": null,
   "metadata": {},
   "outputs": [],
   "source": []
  },
  {
   "cell_type": "code",
   "execution_count": null,
   "metadata": {},
   "outputs": [],
   "source": []
  },
  {
   "cell_type": "code",
   "execution_count": null,
   "metadata": {},
   "outputs": [],
   "source": []
  },
  {
   "cell_type": "code",
   "execution_count": null,
   "metadata": {},
   "outputs": [],
   "source": []
  },
  {
   "cell_type": "code",
   "execution_count": null,
   "metadata": {},
   "outputs": [],
   "source": []
  }
 ],
 "metadata": {
  "kernelspec": {
   "display_name": "Python [conda env:learn-env] *",
   "language": "python",
   "name": "conda-env-learn-env-py"
  },
  "language_info": {
   "codemirror_mode": {
    "name": "ipython",
    "version": 3
   },
   "file_extension": ".py",
   "mimetype": "text/x-python",
   "name": "python",
   "nbconvert_exporter": "python",
   "pygments_lexer": "ipython3",
   "version": "3.6.10"
  }
 },
 "nbformat": 4,
 "nbformat_minor": 4
}
