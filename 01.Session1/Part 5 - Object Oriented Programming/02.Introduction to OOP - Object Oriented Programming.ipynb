{
 "cells": [
  {
   "cell_type": "markdown",
   "metadata": {},
   "source": [
    "# Object Oriented Programming"
   ]
  },
  {
   "cell_type": "markdown",
   "metadata": {},
   "source": [
    "## Introduction : \n",
    "+ In this lesson we will be talking briefly about OOP \n",
    "+ Class , Attributes , methods , objects\n",
    "+ The 4 Pillars of OOP\n",
    "* Abstraction\n",
    "* Inheritence\n",
    "* Encapsulation\n",
    "* Polymorphism\n",
    "\n",
    "__Object Oriented Programming (OOP)__ is a programming paradigm that allows abstraction through the concept of interacting entities. This programming works contradictory to conventional model and is procedural, in which programs are organized as a sequence of commands or statements to perform.\n",
    "\n",
    "We can think an object as an entity that resides in memory, has a state and it's able to perform some actions. \n",
    " \n",
    "More formally objects are entities that represent **instances** of a general abstract concept called **class**. In `Python`, \"attributes\" are the variables defining an object state and the possible actions are called \"methods\".\n",
    "\n",
    "In Python, everything is an object also classes and functions."
   ]
  },
  {
   "cell_type": "code",
   "execution_count": null,
   "metadata": {},
   "outputs": [],
   "source": []
  },
  {
   "cell_type": "markdown",
   "metadata": {},
   "source": [
    "# Syntax for creating a class"
   ]
  },
  {
   "cell_type": "markdown",
   "metadata": {},
   "source": [
    "Suppose we want to create a class, named Person, as a prototype, a sort of template for any number of 'Person' objects (instances)."
   ]
  },
  {
   "cell_type": "markdown",
   "metadata": {},
   "source": [
    "class `ClassName`(`base_classes`):\n",
    "\n",
    "    statements"
   ]
  },
  {
   "cell_type": "code",
   "execution_count": null,
   "metadata": {},
   "outputs": [],
   "source": [
    "class ClassName(base_classes):\n",
    "    statements"
   ]
  },
  {
   "cell_type": "markdown",
   "metadata": {},
   "source": [
    "### Note:\n",
    "+ The name of the class should always be uppercased . Its standard practice"
   ]
  },
  {
   "cell_type": "markdown",
   "metadata": {},
   "source": [
    "![kr](https://media.giphy.com/media/kC9Kveaw468cPLxpYE/giphy.gif)"
   ]
  },
  {
   "cell_type": "code",
   "execution_count": null,
   "metadata": {},
   "outputs": [],
   "source": [
    "# Let's begin by writing our first classes"
   ]
  },
  {
   "cell_type": "code",
   "execution_count": 1,
   "metadata": {},
   "outputs": [],
   "source": [
    "class Person:\n",
    "    pass\n",
    "\n",
    "josh = Person()\n",
    "josh.name = \"Joshua\"\n",
    "josh.lastname = \"Ankomah\"\n",
    "josh.yob = 1930"
   ]
  },
  {
   "cell_type": "code",
   "execution_count": 2,
   "metadata": {},
   "outputs": [
    {
     "name": "stdout",
     "output_type": "stream",
     "text": [
      "<__main__.Person object at 0x10d168630>\n",
      "Joshua Ankomah was born in 1930.\n"
     ]
    }
   ],
   "source": [
    "print(josh)\n",
    "print(\"%s %s was born in %d.\" %(josh.name, josh.lastname , josh.yob))"
   ]
  },
  {
   "cell_type": "code",
   "execution_count": null,
   "metadata": {},
   "outputs": [],
   "source": [
    "class Person:\n",
    "    pass"
   ]
  },
  {
   "cell_type": "markdown",
   "metadata": {},
   "source": [
    "The following example defines an empty class (i.e. the class doesn't have a state) called _Person_ then creates a _Person_ instance called _john_doe_ and adds three attributes to _john_doe_. We see that we can access objects attributes using the \"dot\" operator.\n",
    "\n",
    "This isn't a recommended style because classes should describe homogeneous entities. A way to do so is the following:"
   ]
  },
  {
   "cell_type": "code",
   "execution_count": 6,
   "metadata": {},
   "outputs": [],
   "source": [
    "class Person:\n",
    "    def __init__(self , name , lastname , yob):\n",
    "        self.name = name\n",
    "        self.lastname = lastname\n",
    "        self.yob = yob"
   ]
  },
  {
   "cell_type": "markdown",
   "metadata": {},
   "source": [
    "    __init__(self, ...)\n",
    "Is a special _Python_ method that is automatically called after an object construction. Its purpose is to initialize every object state. The first argument (by convention) __self__ is automatically passed either and refers to the object itself.\n",
    "\n",
    "In the preceding example, `__init__` adds three attributes to every object that is instantiated. So the class is actually describing each object's state.\n"
   ]
  },
  {
   "cell_type": "markdown",
   "metadata": {},
   "source": [
    "+ We can't directly manipulate any class rather we need to create an instance of the class: "
   ]
  },
  {
   "cell_type": "code",
   "execution_count": 7,
   "metadata": {},
   "outputs": [
    {
     "name": "stdout",
     "output_type": "stream",
     "text": [
      "<__main__.Person object at 0x10da26278>\n",
      "Josh Ankomah was born in 1930.\n"
     ]
    }
   ],
   "source": [
    "josh = Person(\"Josh\",\"Ankomah\" , 1930)\n",
    "print(josh)\n",
    "print(\"%s %s was born in %d.\" % (josh.name , josh.lastname , josh.yob))"
   ]
  },
  {
   "cell_type": "markdown",
   "metadata": {},
   "source": [
    "+ We have just created an instance of the Person class, bound to the variable `josh`. "
   ]
  },
  {
   "cell_type": "markdown",
   "metadata": {},
   "source": [
    "# Life of Pets\n",
    "https://media.giphy.com/media/11TfAvH767fkhq/giphy.gif"
   ]
  },
  {
   "cell_type": "code",
   "execution_count": 8,
   "metadata": {},
   "outputs": [],
   "source": [
    "# Instance Attribute - this will be executed whenever we instantiate the class\n",
    "class Cat():\n",
    "    species = \"animal\"\n",
    "    \n",
    "    def __init__(self): # constructor method that will execute when initialised\n",
    "        print(\"My name is Minu and I am a cat\")"
   ]
  },
  {
   "cell_type": "code",
   "execution_count": 9,
   "metadata": {},
   "outputs": [
    {
     "name": "stdout",
     "output_type": "stream",
     "text": [
      "My name is Minu and I am a cat\n"
     ]
    }
   ],
   "source": [
    "# lets create an object for the class\n",
    "Minu = Cat()"
   ]
  },
  {
   "cell_type": "markdown",
   "metadata": {},
   "source": [
    "### What is the species of our cat?"
   ]
  },
  {
   "cell_type": "code",
   "execution_count": 10,
   "metadata": {},
   "outputs": [
    {
     "data": {
      "text/plain": [
       "'animal'"
      ]
     },
     "execution_count": 10,
     "metadata": {},
     "output_type": "execute_result"
    }
   ],
   "source": [
    "Minu.species"
   ]
  },
  {
   "cell_type": "code",
   "execution_count": 11,
   "metadata": {},
   "outputs": [
    {
     "name": "stdout",
     "output_type": "stream",
     "text": [
      "Minu is an animal\n"
     ]
    }
   ],
   "source": [
    "# Or\n",
    "print(\"Minu is an\" , Minu.species)"
   ]
  },
  {
   "cell_type": "code",
   "execution_count": null,
   "metadata": {},
   "outputs": [],
   "source": []
  },
  {
   "cell_type": "markdown",
   "metadata": {},
   "source": [
    "### Class attribute . Note: This is the same for all instances\n",
    "\n",
    "+ Instance attribute are different for each class. Hence we use the __init__() method to \n",
    " initialize to specify an object's initial attributes by giving them their values or state. \n",
    "    \n",
    "+ This method must have at least one arguement as well as the self variable which refers to the \n",
    "  object itself.\n",
    "  \n",
    "+ The instance method are used to get the content fo the class and are defined inside the class\n",
    "  \n",
    "    "
   ]
  },
  {
   "cell_type": "code",
   "execution_count": 21,
   "metadata": {},
   "outputs": [],
   "source": [
    "class Parot():\n",
    "    # Class attribute. This is the same for all instances\n",
    "    species = \"Bird\"\n",
    "    color = \"rainbow colors\"\n",
    "    \n",
    "    # Instance attribute (ie different for each class. We use __init__() method)\n",
    "    def __init__(self , name , age):\n",
    "        self.name = name\n",
    "        self.age = age\n",
    "        \n",
    "   # instance method are used to get the content for the class and are defined inside the class\n",
    "    def fly(self, run):\n",
    "        return \"{} flies {}\".format(self.name , run)"
   ]
  },
  {
   "cell_type": "code",
   "execution_count": 22,
   "metadata": {},
   "outputs": [
    {
     "name": "stdout",
     "output_type": "stream",
     "text": [
      "Timo flies around all the time\n"
     ]
    }
   ],
   "source": [
    "# Instantiate the Parot class by creating an object called Timo and Lilly\n",
    "Timo = Parot(\"Timo\" , 23)\n",
    "Lilly = Parot(\"Lilly\" , 15)\n",
    "\n",
    "# Call ou instance methods\n",
    "print(Timo.fly(\"around all the time\"))"
   ]
  },
  {
   "cell_type": "markdown",
   "metadata": {},
   "source": [
    "# Print the instance attributes"
   ]
  },
  {
   "cell_type": "code",
   "execution_count": 16,
   "metadata": {},
   "outputs": [
    {
     "name": "stdout",
     "output_type": "stream",
     "text": [
      "The Parot's name is Timo and she is 23 years old\n"
     ]
    }
   ],
   "source": [
    "print(\"The Parot's name is {} and she is {} years old\".format(Timo.name , Timo.age))"
   ]
  },
  {
   "cell_type": "markdown",
   "metadata": {},
   "source": [
    "# Print the Class Attributes"
   ]
  },
  {
   "cell_type": "code",
   "execution_count": 17,
   "metadata": {},
   "outputs": [
    {
     "name": "stdout",
     "output_type": "stream",
     "text": [
      "Timo is a Bird\n",
      "-------------------------------------------\n",
      "Lilly is also a Bird\n"
     ]
    }
   ],
   "source": [
    "print(\"Timo is a {}\".format(Timo.__class__.species))\n",
    "print(\"-------------------------------------------\")\n",
    "print(\"Lilly is also a {}\".format(Lilly.__class__.species))"
   ]
  },
  {
   "cell_type": "markdown",
   "metadata": {},
   "source": [
    "# Note : Each Instance is actually different"
   ]
  },
  {
   "cell_type": "code",
   "execution_count": 24,
   "metadata": {},
   "outputs": [],
   "source": [
    "Mela = Parot(\"Mela\" , 4)\n",
    "Bob = Parot(\"Bob\" , 4)"
   ]
  },
  {
   "cell_type": "code",
   "execution_count": 19,
   "metadata": {},
   "outputs": [
    {
     "data": {
      "text/plain": [
       "False"
      ]
     },
     "execution_count": 19,
     "metadata": {},
     "output_type": "execute_result"
    }
   ],
   "source": [
    "# All instances are not the same\n",
    "Mela == Bob"
   ]
  },
  {
   "cell_type": "code",
   "execution_count": 26,
   "metadata": {},
   "outputs": [
    {
     "name": "stdout",
     "output_type": "stream",
     "text": [
      "Mela flies very fast\n"
     ]
    }
   ],
   "source": [
    "print(Mela.fly(\"very fast\"))"
   ]
  },
  {
   "cell_type": "code",
   "execution_count": null,
   "metadata": {},
   "outputs": [],
   "source": []
  },
  {
   "cell_type": "markdown",
   "metadata": {},
   "source": [
    "# Exercise : Create a class for dogs , give them some attributes as name , age"
   ]
  },
  {
   "cell_type": "markdown",
   "metadata": {},
   "source": [
    "![gooddog](https://media.giphy.com/media/KG0110WAtDN1ZOXulr/giphy.gif)"
   ]
  },
  {
   "cell_type": "code",
   "execution_count": 27,
   "metadata": {},
   "outputs": [],
   "source": [
    "class Dog:\n",
    "    # class attribute\n",
    "    species = \"mammal\"\n",
    "    \n",
    "    # initializer / instance attribute\n",
    "    def __init__(self, name , age):\n",
    "        self.name = name\n",
    "        self.age = age\n",
    "        "
   ]
  },
  {
   "cell_type": "markdown",
   "metadata": {},
   "source": [
    "### Instantiate the dog Object"
   ]
  },
  {
   "cell_type": "code",
   "execution_count": 28,
   "metadata": {},
   "outputs": [],
   "source": [
    "Beirber = Dog(\"Beiber\" ,4)\n",
    "Zeus = Dog(\"Zues\" , 6)"
   ]
  },
  {
   "cell_type": "markdown",
   "metadata": {},
   "source": [
    "# Access the instance Attributes"
   ]
  },
  {
   "cell_type": "code",
   "execution_count": 30,
   "metadata": {},
   "outputs": [
    {
     "name": "stdout",
     "output_type": "stream",
     "text": [
      "Beiber is 4 years old and Zues is 6 years old.\n"
     ]
    }
   ],
   "source": [
    "print(\"{} is {} years old and {} is {} years old.\".format(Beirber.name , Beirber.age\n",
    "                                                         ,Zeus.name , Zeus.age))"
   ]
  },
  {
   "cell_type": "code",
   "execution_count": null,
   "metadata": {},
   "outputs": [],
   "source": []
  },
  {
   "cell_type": "markdown",
   "metadata": {},
   "source": [
    "# Methods"
   ]
  },
  {
   "cell_type": "code",
   "execution_count": 32,
   "metadata": {},
   "outputs": [],
   "source": [
    "class Person:\n",
    "    def __init__(self , name , lastname , yob):\n",
    "        self.name = name\n",
    "        self.lastname = lastname\n",
    "        self.yob = yob\n",
    "        \n",
    "    def age(self , current_year):\n",
    "        return current_year - self.yob\n",
    "    \n",
    "    def __str__(self):\n",
    "        return \"%s %s was born in %d.\" % (self.name , self.lastname , self.yob)"
   ]
  },
  {
   "cell_type": "code",
   "execution_count": 45,
   "metadata": {},
   "outputs": [
    {
     "name": "stdout",
     "output_type": "stream",
     "text": [
      "Josh Ankomah was born in 1930.\n",
      "Josh is 90 years old\n"
     ]
    }
   ],
   "source": [
    "josh = Person(\"Josh\" , \"Ankomah\" , 1930)\n",
    "print(josh)\n",
    "print(josh.name ,\"is\"  , josh.age(2020) ,\"years old\")"
   ]
  },
  {
   "cell_type": "markdown",
   "metadata": {},
   "source": [
    "+ We defined two more methods `age` and  `__str__`. The latter is once again a special method that is called by Python when the object has to be represented as a string (e.g. when has to be printed). If the `__str__` method isn't defined the **print** command shows the type of object and its address in memory. We can see that in order to call a method we use the same syntax for attributes (**instance_name.instance _method**)."
   ]
  },
  {
   "cell_type": "code",
   "execution_count": 49,
   "metadata": {},
   "outputs": [],
   "source": []
  },
  {
   "cell_type": "code",
   "execution_count": 47,
   "metadata": {},
   "outputs": [],
   "source": []
  },
  {
   "cell_type": "code",
   "execution_count": null,
   "metadata": {},
   "outputs": [],
   "source": []
  },
  {
   "cell_type": "code",
   "execution_count": null,
   "metadata": {},
   "outputs": [],
   "source": []
  },
  {
   "cell_type": "code",
   "execution_count": null,
   "metadata": {},
   "outputs": [],
   "source": []
  },
  {
   "cell_type": "code",
   "execution_count": null,
   "metadata": {},
   "outputs": [],
   "source": []
  },
  {
   "cell_type": "code",
   "execution_count": null,
   "metadata": {},
   "outputs": [],
   "source": []
  },
  {
   "cell_type": "code",
   "execution_count": null,
   "metadata": {},
   "outputs": [],
   "source": []
  },
  {
   "cell_type": "code",
   "execution_count": null,
   "metadata": {},
   "outputs": [],
   "source": []
  },
  {
   "cell_type": "code",
   "execution_count": null,
   "metadata": {},
   "outputs": [],
   "source": []
  },
  {
   "cell_type": "code",
   "execution_count": null,
   "metadata": {},
   "outputs": [],
   "source": []
  },
  {
   "cell_type": "code",
   "execution_count": null,
   "metadata": {},
   "outputs": [],
   "source": []
  },
  {
   "cell_type": "code",
   "execution_count": null,
   "metadata": {},
   "outputs": [],
   "source": []
  },
  {
   "cell_type": "code",
   "execution_count": null,
   "metadata": {},
   "outputs": [],
   "source": []
  },
  {
   "cell_type": "code",
   "execution_count": null,
   "metadata": {},
   "outputs": [],
   "source": []
  },
  {
   "cell_type": "code",
   "execution_count": null,
   "metadata": {},
   "outputs": [],
   "source": []
  },
  {
   "cell_type": "code",
   "execution_count": null,
   "metadata": {},
   "outputs": [],
   "source": []
  },
  {
   "cell_type": "code",
   "execution_count": null,
   "metadata": {},
   "outputs": [],
   "source": []
  },
  {
   "cell_type": "code",
   "execution_count": null,
   "metadata": {},
   "outputs": [],
   "source": []
  },
  {
   "cell_type": "code",
   "execution_count": null,
   "metadata": {},
   "outputs": [],
   "source": []
  },
  {
   "cell_type": "code",
   "execution_count": null,
   "metadata": {},
   "outputs": [],
   "source": []
  },
  {
   "cell_type": "code",
   "execution_count": null,
   "metadata": {},
   "outputs": [],
   "source": []
  },
  {
   "cell_type": "code",
   "execution_count": null,
   "metadata": {},
   "outputs": [],
   "source": []
  },
  {
   "cell_type": "code",
   "execution_count": null,
   "metadata": {},
   "outputs": [],
   "source": []
  },
  {
   "cell_type": "code",
   "execution_count": null,
   "metadata": {},
   "outputs": [],
   "source": []
  },
  {
   "cell_type": "code",
   "execution_count": null,
   "metadata": {},
   "outputs": [],
   "source": []
  },
  {
   "cell_type": "code",
   "execution_count": null,
   "metadata": {},
   "outputs": [],
   "source": []
  },
  {
   "cell_type": "code",
   "execution_count": null,
   "metadata": {},
   "outputs": [],
   "source": []
  },
  {
   "cell_type": "code",
   "execution_count": null,
   "metadata": {},
   "outputs": [],
   "source": []
  },
  {
   "cell_type": "code",
   "execution_count": null,
   "metadata": {},
   "outputs": [],
   "source": []
  },
  {
   "cell_type": "code",
   "execution_count": null,
   "metadata": {},
   "outputs": [],
   "source": []
  },
  {
   "cell_type": "code",
   "execution_count": null,
   "metadata": {},
   "outputs": [],
   "source": []
  },
  {
   "cell_type": "code",
   "execution_count": null,
   "metadata": {},
   "outputs": [],
   "source": []
  },
  {
   "cell_type": "code",
   "execution_count": null,
   "metadata": {},
   "outputs": [],
   "source": []
  },
  {
   "cell_type": "code",
   "execution_count": null,
   "metadata": {},
   "outputs": [],
   "source": []
  },
  {
   "cell_type": "code",
   "execution_count": null,
   "metadata": {},
   "outputs": [],
   "source": []
  },
  {
   "cell_type": "code",
   "execution_count": null,
   "metadata": {},
   "outputs": [],
   "source": []
  },
  {
   "cell_type": "code",
   "execution_count": null,
   "metadata": {},
   "outputs": [],
   "source": []
  },
  {
   "cell_type": "code",
   "execution_count": null,
   "metadata": {},
   "outputs": [],
   "source": []
  },
  {
   "cell_type": "code",
   "execution_count": null,
   "metadata": {},
   "outputs": [],
   "source": []
  },
  {
   "cell_type": "code",
   "execution_count": null,
   "metadata": {},
   "outputs": [],
   "source": []
  },
  {
   "cell_type": "code",
   "execution_count": null,
   "metadata": {},
   "outputs": [],
   "source": []
  }
 ],
 "metadata": {
  "kernelspec": {
   "display_name": "Python [conda env:learn-env] *",
   "language": "python",
   "name": "conda-env-learn-env-py"
  },
  "language_info": {
   "codemirror_mode": {
    "name": "ipython",
    "version": 3
   },
   "file_extension": ".py",
   "mimetype": "text/x-python",
   "name": "python",
   "nbconvert_exporter": "python",
   "pygments_lexer": "ipython3",
   "version": "3.6.10"
  }
 },
 "nbformat": 4,
 "nbformat_minor": 4
}
