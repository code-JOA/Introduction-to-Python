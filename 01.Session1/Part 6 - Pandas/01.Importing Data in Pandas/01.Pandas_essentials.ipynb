{
 "cells": [
  {
   "cell_type": "markdown",
   "metadata": {},
   "source": [
    "\n",
    "# Pandas Essentials \n",
    "## Introduction to Pandas\n",
    "\n",
    "[Pandas](https://pandas.pydata.org) is an open source library providing high-performance, easy-to-use data structures and data analysis tools for the Python programming language. Today, pandas is actively supported by a community of like-minded individuals around the world who contribute their valuable time and energy to help make open source pandas possible.\n",
    "\n",
    "[Python for Data Analysis](http://shop.oreilly.com/product/0636920023784.do) is a great read by **Wes McKinney** who is the **creator of Pandas library**. \n",
    "\n",
    "In this section of the course, we will learn to use pandas for data analysis. If you have never used pandas, you can think about pandas as an extremely powerful version of Excel and with lot more features. <br>\n",
    "We will cover the following key concepts in this section (Pandas Essentials) of the course:\n",
    "\n",
    "* Series\n",
    "* DataFrame\n",
    "* Indexing and Selection\n",
    "* Hierarchical Indexing\n",
    "* Data Cleaning, Preparation and Handling the Missing Data\n",
    "* Data Wrangling: Merging/Joining, Combining/Concatenation\n",
    "* Data Aggregation and GroupBy<br>\n",
    "\n",
    "Several other Useful Methods and Operations and much more, and at the end two full data analysis exercises to practice the skills.<br>\n",
    "So, the first thing is installation, I hope you have already installed this powerful library, if not \n",
    "\n",
    "## Best way to Install pandas for this course\n",
    "If you have not installed the required package/library so far:<br>\n",
    "For Anaconda users, the best way to get pandas is via conda:<br>\n",
    "&#9758; **<code>conda install pandas=0.20.1</code>**<br>\n",
    "For others: <br>\n",
    "&#9758; **<code>pip install pandas=0.20.1</code>**<br>\n",
    "\n",
    "### Or Simply\n",
    "&#9758; **<code>pip install pandas</code>**<br>\n",
    "\n",
    "*Please use the suggested version to avoid any related issues, once you finish the course, you can always try other versions, they are not very different*\n",
    "\n",
    "\n",
    "## Excellent, Let's get started!"
   ]
  },
  {
   "cell_type": "code",
   "execution_count": null,
   "metadata": {},
   "outputs": [],
   "source": []
  }
 ],
 "metadata": {
  "kernelspec": {
   "display_name": "Python [conda env:learn-env] *",
   "language": "python",
   "name": "conda-env-learn-env-py"
  },
  "language_info": {
   "codemirror_mode": {
    "name": "ipython",
    "version": 3
   },
   "file_extension": ".py",
   "mimetype": "text/x-python",
   "name": "python",
   "nbconvert_exporter": "python",
   "pygments_lexer": "ipython3",
   "version": "3.6.10"
  }
 },
 "nbformat": 4,
 "nbformat_minor": 4
}
