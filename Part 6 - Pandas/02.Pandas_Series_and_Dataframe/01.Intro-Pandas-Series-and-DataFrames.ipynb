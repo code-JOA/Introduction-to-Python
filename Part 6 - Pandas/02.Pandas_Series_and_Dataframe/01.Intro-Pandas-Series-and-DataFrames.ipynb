{
 "cells": [
  {
   "cell_type": "markdown",
   "metadata": {},
   "source": [
    "\n",
    "# Understanding Pandas Series and DataFrames\n",
    "\n",
    "## Introduction\n",
    "\n",
    "In this lesson, we're digging into Pandas Series and DataFrames - the two main data types you'll work with.\n",
    "\n",
    "## Objectives\n",
    "You will be able to:\n",
    "- Understand and explain what Pandas Series and DataFrames are and how they differ from dictionaries and lists\n",
    "- Create Series & DataFrames from dictionaries and lists\n",
    "- Manipulate columns in DataFrames (`df.rename()`, `df.drop()`) \n",
    "- Manipulate the index in DataFrames (`df.reindex()`, `df.drop()`, `df.rename()`) \n",
    "- Manipulate column datatypes \n",
    "\n",
    "## Pandas Data Types vs. Native Python Data Types\n",
    "\n",
    "As we talk more about Object-Oriented Programming (OOP), using Pandas Series and DataFrames instead of built-in Python datatypes can have a range of benefits. One of the most important benefit is that Series and DataFrames have a range of built-in methods which make standard practices and procedures streamlined. Some of these methods can result in dramatic performance gains. To read more about these methods, make sure to continuously reference the [Pandas documentation](https://pandas.pydata.org/pandas-docs/stable/). It is impossible to know every method of pandas at any given time, nor should you devote much time to memorization. We will not deeply explain every Pandas method in these upcoming lessons and labs, but a critical part of every Data Scientist's job is to investigate documentation to learn about components of these tools on your own.\n"
   ]
  },
  {
   "cell_type": "code",
   "execution_count": null,
   "metadata": {},
   "outputs": [],
   "source": []
  },
  {
   "cell_type": "markdown",
   "metadata": {},
   "source": [
    "**From the Pandas documentation:**\n",
    "\n",
    "**pandas** is everyone's favorite data analyis library providing fast, flexible, and expressive data structures designed to work with *relational* or table-like data (SQL table or Excel spreadsheet). It is a fundamental high-level building block for doing practical, real world data analysis in Python. \n",
    "\n",
    "pandas is well suited for:\n",
    "\n",
    "- Tabular data with heterogeneously-typed columns, as in an SQL table or Excel spreadsheet\n",
    "- Ordered and unordered (not necessarily fixed-frequency) time series data.\n",
    "- Arbitrary matrix data (homogeneously typed or heterogeneous) with row and column labels\n",
    "- Any other form of observational / statistical data sets. The data actually need not be labeled at all to be placed into a pandas data structure\n",
    "\n",
    "The two primary data structures of pandas, **Series** (1-dimensional) and **DataFrame** (2-dimensional), handle the vast majority of typical use cases in finance, statistics, social science, and many areas of engineering. Pandas is built on top of NumPy and is intended to integrate well within a scientific computing environment with many other 3rd party libraries.\n",
    "\n",
    "<p>Here are just a few of the things that pandas does well:</p>\n",
    "<blockquote>\n",
    "<div><ul class=\"simple\">\n",
    "<li>Easy handling of <strong>missing data</strong> (represented as NaN) in floating point as\n",
    "well as non-floating point data</li>\n",
    "<li>Size mutability: columns can be <strong>inserted and deleted</strong> from DataFrame and\n",
    "higher dimensional objects</li>\n",
    "<li>Automatic and explicit <strong>data alignment</strong>: objects can be explicitly\n",
    "aligned to a set of labels, or the user can simply ignore the labels and\n",
    "let <cite>Series</cite>, <cite>DataFrame</cite>, etc. automatically align the data for you in\n",
    "computations</li>\n",
    "<li>Powerful, flexible <strong>group by</strong> functionality to perform\n",
    "split-apply-combine operations on data sets, for both aggregating and\n",
    "transforming data</li>\n",
    "<li>Make it <strong>easy to convert</strong> ragged, differently-indexed data in other\n",
    "Python and NumPy data structures into DataFrame objects</li>\n",
    "<li>Intelligent label-based <strong>slicing</strong>, <strong>fancy indexing</strong>, and <strong>subsetting</strong>\n",
    "of large data sets</li>\n",
    "<li>Intuitive <strong>merging</strong> and <strong>joining</strong> data sets</li>\n",
    "<li>Flexible <strong>reshaping</strong> and pivoting of data sets</li>\n",
    "<li><strong>Hierarchical</strong> labeling of axes (possible to have multiple labels per\n",
    "tick)</li>\n",
    "<li>Robust IO tools for loading data from <strong>flat files</strong> (CSV and delimited),\n",
    "Excel files, databases, and saving / loading data from the ultrafast <strong>HDF5\n",
    "format</strong></li>\n",
    "<li><strong>Time series</strong>-specific functionality: date range generation and frequency\n",
    "conversion, moving window statistics, moving window linear regressions,\n",
    "date shifting and lagging, etc.</li>\n",
    "</ul>\n",
    "</div></blockquote>\n",
    "<p>Many of these principles are here to address the shortcomings frequently\n",
    "experienced using other languages / scientific research environments. For data\n",
    "scientists, working with data is typically divided into multiple stages:\n",
    "munging and cleaning data, analyzing / modeling it, then organizing the results\n",
    "of the analysis into a form suitable for plotting or tabular display. pandas\n",
    "is the ideal tool for all of these tasks.</p>"
   ]
  },
  {
   "cell_type": "code",
   "execution_count": null,
   "metadata": {},
   "outputs": [],
   "source": []
  },
  {
   "cell_type": "markdown",
   "metadata": {},
   "source": [
    "# Introducing the most important objects: Series and DataFrames"
   ]
  },
  {
   "cell_type": "markdown",
   "metadata": {},
   "source": [
    "## Setup\n",
    "\n",
    "Let's take a little time to import the packages we need and to import and preview a dataset."
   ]
  },
  {
   "cell_type": "code",
   "execution_count": 1,
   "metadata": {},
   "outputs": [],
   "source": [
    "# importing the convention ie pandas with an alias pd so we dont have to write pandas always\n",
    "import pandas as pd\n"
   ]
  },
  {
   "cell_type": "markdown",
   "metadata": {},
   "source": [
    "## The Pandas Series\n",
    "\n",
    "The **Series** data structure in Pandas is a <i>one-dimensional labeled array</i>. \n",
    "\n",
    "* Data in the array can be of any type (integers, strings, floating point numbers, Python objects, etc.). \n",
    "* Data within the array is homogeneous\n",
    "* Pandas Series objects always have an index: this gives them both ndarray-like and dict-like properties.\n",
    "    \n",
    "<img src=\"../images/pandas_series1.jpg\">"
   ]
  },
  {
   "cell_type": "markdown",
   "metadata": {},
   "source": [
    "# Creating a Pandas Series"
   ]
  },
  {
   "cell_type": "markdown",
   "metadata": {},
   "source": [
    "There are many ways to create a Pandas Series objects, some of the most common ways are:\n",
    "- Creation from a list\n",
    "- Creation from a dictionary\n",
    "- Creation from a ndarray\n",
    "- From an external source like a file"
   ]
  },
  {
   "cell_type": "code",
   "execution_count": 2,
   "metadata": {},
   "outputs": [
    {
     "data": {
      "text/plain": [
       "Mon    40\n",
       "Tue    29\n",
       "Wed    15\n",
       "Thu    19\n",
       "Fri    11\n",
       "Sat   -15\n",
       "Sun     9\n",
       "dtype: int64"
      ]
     },
     "execution_count": 2,
     "metadata": {},
     "output_type": "execute_result"
    }
   ],
   "source": [
    "# define the data and index as lists\n",
    "temperature = [40, 29, 15, 19, 11, -15, 9]\n",
    "days = ['Mon','Tue','Wed','Thu','Fri','Sat','Sun']\n",
    "\n",
    "# create series \n",
    "series_from_list = pd.Series(temperature, index=days)\n",
    "series_from_list"
   ]
  },
  {
   "cell_type": "markdown",
   "metadata": {},
   "source": [
    "### From a Dictionary"
   ]
  },
  {
   "cell_type": "code",
   "execution_count": 3,
   "metadata": {},
   "outputs": [
    {
     "data": {
      "text/plain": [
       "Mon    40\n",
       "Tue    29\n",
       "Wed    15\n",
       "Thu    19\n",
       "Fri    11\n",
       "Sat   -15\n",
       "Sun     9\n",
       "dtype: int64"
      ]
     },
     "execution_count": 3,
     "metadata": {},
     "output_type": "execute_result"
    }
   ],
   "source": [
    "my_dict = {'Mon': 40, 'Tue': 29, 'Wed': 15, 'Thu': 19, 'Fri': 11, 'Sat': -15, 'Sun': 9}\n",
    "series_from_dict = pd.Series(my_dict)\n",
    "series_from_dict"
   ]
  },
  {
   "cell_type": "markdown",
   "metadata": {},
   "source": [
    "<img src=\"../images/pandas_series2.jpg\">"
   ]
  },
  {
   "cell_type": "markdown",
   "metadata": {},
   "source": [
    "### From a numpy array"
   ]
  },
  {
   "cell_type": "code",
   "execution_count": 7,
   "metadata": {},
   "outputs": [
    {
     "data": {
      "text/plain": [
       "0      0.000000\n",
       "1      0.714286\n",
       "2      1.428571\n",
       "3      2.142857\n",
       "4      2.857143\n",
       "5      3.571429\n",
       "6      4.285714\n",
       "7      5.000000\n",
       "8      5.714286\n",
       "9      6.428571\n",
       "10     7.142857\n",
       "11     7.857143\n",
       "12     8.571429\n",
       "13     9.285714\n",
       "14    10.000000\n",
       "dtype: float64"
      ]
     },
     "execution_count": 7,
     "metadata": {},
     "output_type": "execute_result"
    }
   ],
   "source": [
    "import numpy as np\n",
    "my_array = np.linspace(0,10,15)\n",
    "series_from_ndarray = pd.Series(my_array)\n",
    "series_from_ndarray"
   ]
  },
  {
   "cell_type": "markdown",
   "metadata": {},
   "source": [
    "# Vectorized operations also work in pandas Series"
   ]
  },
  {
   "cell_type": "code",
   "execution_count": 8,
   "metadata": {},
   "outputs": [
    {
     "data": {
      "text/plain": [
       "Mon    2.353853e+17\n",
       "Tue    3.931334e+12\n",
       "Wed    3.269017e+06\n",
       "Thu    1.784823e+08\n",
       "Fri    5.987414e+04\n",
       "Sat    6.737947e-03\n",
       "Sun    8.103084e+03\n",
       "dtype: float64"
      ]
     },
     "execution_count": 8,
     "metadata": {},
     "output_type": "execute_result"
    }
   ],
   "source": [
    "np.exp(series_from_list)"
   ]
  },
  {
   "cell_type": "code",
   "execution_count": null,
   "metadata": {},
   "outputs": [],
   "source": []
  },
  {
   "cell_type": "markdown",
   "metadata": {},
   "source": [
    "# Pandas DataFrames"
   ]
  },
  {
   "cell_type": "markdown",
   "metadata": {},
   "source": [
    "### We have the min and max temperatures in a city in London for each months of the year. We would like to find a function to describe this and show it graphically , the dataset given below . "
   ]
  },
  {
   "cell_type": "code",
   "execution_count": 34,
   "metadata": {},
   "outputs": [
    {
     "data": {
      "text/html": [
       "<div>\n",
       "<style scoped>\n",
       "    .dataframe tbody tr th:only-of-type {\n",
       "        vertical-align: middle;\n",
       "    }\n",
       "\n",
       "    .dataframe tbody tr th {\n",
       "        vertical-align: top;\n",
       "    }\n",
       "\n",
       "    .dataframe thead th {\n",
       "        text-align: right;\n",
       "    }\n",
       "</style>\n",
       "<table border=\"1\" class=\"dataframe\">\n",
       "  <thead>\n",
       "    <tr style=\"text-align: right;\">\n",
       "      <th></th>\n",
       "      <th>Max</th>\n",
       "      <th>Min</th>\n",
       "    </tr>\n",
       "  </thead>\n",
       "  <tbody>\n",
       "    <tr>\n",
       "      <th>0</th>\n",
       "      <td>39</td>\n",
       "      <td>21</td>\n",
       "    </tr>\n",
       "    <tr>\n",
       "      <th>1</th>\n",
       "      <td>41</td>\n",
       "      <td>23</td>\n",
       "    </tr>\n",
       "    <tr>\n",
       "      <th>2</th>\n",
       "      <td>43</td>\n",
       "      <td>27</td>\n",
       "    </tr>\n",
       "    <tr>\n",
       "      <th>3</th>\n",
       "      <td>47</td>\n",
       "      <td>28</td>\n",
       "    </tr>\n",
       "    <tr>\n",
       "      <th>4</th>\n",
       "      <td>49</td>\n",
       "      <td>32</td>\n",
       "    </tr>\n",
       "  </tbody>\n",
       "</table>\n",
       "</div>"
      ],
      "text/plain": [
       "   Max  Min\n",
       "0   39   21\n",
       "1   41   23\n",
       "2   43   27\n",
       "3   47   28\n",
       "4   49   32"
      ]
     },
     "execution_count": 34,
     "metadata": {},
     "output_type": "execute_result"
    }
   ],
   "source": [
    "df_new = pd.DataFrame({'Max' : [39,41,43,47,49,51,45,38,37,29,27,25], \n",
    "                       'Min': [21,23,27,28,32,35,31,28,21,19,17,18]})\n",
    "df_new.head()"
   ]
  },
  {
   "cell_type": "markdown",
   "metadata": {},
   "source": [
    "DataFrame is a 2-dimensional labeled data structure with columns of potentially different types. You can think of it like a spreadsheet or SQL table, or a dict of Series objects.\n",
    "\n",
    "<img src=\"../images/dataframe1.jpg\">\n",
    "\n",
    "You can create a DataFrame from:\n",
    "\n",
    "* Dict of 1D ndarrays, lists, dicts, or Series\n",
    "* 2-D numpy.ndarray\n",
    "* From text, CSV, Excel files or databases\n",
    "* Many other ways\n",
    "\n",
    "Here's an example where we have set the Dates column to be the index and label for the rows. \n",
    "\n",
    "<img src=\"../images/dataframe2.jpg\">"
   ]
  },
  {
   "cell_type": "markdown",
   "metadata": {},
   "source": [
    "# The above image can be represented as a pandas DataFrame as below"
   ]
  },
  {
   "cell_type": "code",
   "execution_count": 4,
   "metadata": {},
   "outputs": [
    {
     "data": {
      "text/html": [
       "<div>\n",
       "<style scoped>\n",
       "    .dataframe tbody tr th:only-of-type {\n",
       "        vertical-align: middle;\n",
       "    }\n",
       "\n",
       "    .dataframe tbody tr th {\n",
       "        vertical-align: top;\n",
       "    }\n",
       "\n",
       "    .dataframe thead th {\n",
       "        text-align: right;\n",
       "    }\n",
       "</style>\n",
       "<table border=\"1\" class=\"dataframe\">\n",
       "  <thead>\n",
       "    <tr style=\"text-align: right;\">\n",
       "      <th></th>\n",
       "      <th>Dates</th>\n",
       "      <th>Tokyo</th>\n",
       "      <th>Paris</th>\n",
       "      <th>Mumbai</th>\n",
       "    </tr>\n",
       "  </thead>\n",
       "  <tbody>\n",
       "    <tr>\n",
       "      <th>0</th>\n",
       "      <td>12-1</td>\n",
       "      <td>15</td>\n",
       "      <td>-2</td>\n",
       "      <td>20</td>\n",
       "    </tr>\n",
       "    <tr>\n",
       "      <th>1</th>\n",
       "      <td>12-2</td>\n",
       "      <td>19</td>\n",
       "      <td>0</td>\n",
       "      <td>18</td>\n",
       "    </tr>\n",
       "    <tr>\n",
       "      <th>2</th>\n",
       "      <td>12-3</td>\n",
       "      <td>15</td>\n",
       "      <td>2</td>\n",
       "      <td>23</td>\n",
       "    </tr>\n",
       "    <tr>\n",
       "      <th>3</th>\n",
       "      <td>12-4</td>\n",
       "      <td>11</td>\n",
       "      <td>5</td>\n",
       "      <td>19</td>\n",
       "    </tr>\n",
       "    <tr>\n",
       "      <th>4</th>\n",
       "      <td>12-5</td>\n",
       "      <td>9</td>\n",
       "      <td>7</td>\n",
       "      <td>25</td>\n",
       "    </tr>\n",
       "  </tbody>\n",
       "</table>\n",
       "</div>"
      ],
      "text/plain": [
       "  Dates  Tokyo  Paris  Mumbai\n",
       "0  12-1     15     -2      20\n",
       "1  12-2     19      0      18\n",
       "2  12-3     15      2      23\n",
       "3  12-4     11      5      19\n",
       "4  12-5      9      7      25"
      ]
     },
     "execution_count": 4,
     "metadata": {},
     "output_type": "execute_result"
    }
   ],
   "source": [
    "df_new = pd.DataFrame({\"Dates\" : [\"12-1\" ,\"12-2\",\"12-3\",\"12-4\",\"12-5\",\"12-6\",\"12-7\"],\n",
    "                       'Tokyo' : [15,19,15,11,9,8,13], \n",
    "                       'Paris': [-2,0,2,5,7,-5,-3],\n",
    "                       \"Mumbai\" : [20,18,23,19,25,27,23]\n",
    "                      })\n",
    "df_new.head()"
   ]
  },
  {
   "cell_type": "code",
   "execution_count": null,
   "metadata": {},
   "outputs": [],
   "source": []
  },
  {
   "cell_type": "markdown",
   "metadata": {},
   "source": [
    "# Let's Create a pandas Dataframe with details of flight infornation"
   ]
  },
  {
   "cell_type": "code",
   "execution_count": 38,
   "metadata": {},
   "outputs": [
    {
     "data": {
      "text/html": [
       "<div>\n",
       "<style scoped>\n",
       "    .dataframe tbody tr th:only-of-type {\n",
       "        vertical-align: middle;\n",
       "    }\n",
       "\n",
       "    .dataframe tbody tr th {\n",
       "        vertical-align: top;\n",
       "    }\n",
       "\n",
       "    .dataframe thead th {\n",
       "        text-align: right;\n",
       "    }\n",
       "</style>\n",
       "<table border=\"1\" class=\"dataframe\">\n",
       "  <thead>\n",
       "    <tr style=\"text-align: right;\">\n",
       "      <th></th>\n",
       "      <th>Dates</th>\n",
       "      <th>Airline</th>\n",
       "      <th>Departure</th>\n",
       "      <th>Arrival</th>\n",
       "      <th>FlightNumber</th>\n",
       "      <th>RecentDelays</th>\n",
       "    </tr>\n",
       "  </thead>\n",
       "  <tbody>\n",
       "    <tr>\n",
       "      <th>0</th>\n",
       "      <td>12-1</td>\n",
       "      <td>KLM</td>\n",
       "      <td>Tokyo</td>\n",
       "      <td>Paris</td>\n",
       "      <td>10045</td>\n",
       "      <td>23-47 hours</td>\n",
       "    </tr>\n",
       "    <tr>\n",
       "      <th>1</th>\n",
       "      <td>12-2</td>\n",
       "      <td>AirFrance</td>\n",
       "      <td>Madrid</td>\n",
       "      <td>Milan</td>\n",
       "      <td>10050</td>\n",
       "      <td>10-14 hours</td>\n",
       "    </tr>\n",
       "    <tr>\n",
       "      <th>2</th>\n",
       "      <td>12-3</td>\n",
       "      <td>SwissAir</td>\n",
       "      <td>Mumbai</td>\n",
       "      <td>Stockholm</td>\n",
       "      <td>10065</td>\n",
       "      <td>4-18 hours</td>\n",
       "    </tr>\n",
       "    <tr>\n",
       "      <th>3</th>\n",
       "      <td>12-4</td>\n",
       "      <td>RyanAir</td>\n",
       "      <td>London</td>\n",
       "      <td>Brussels</td>\n",
       "      <td>10070</td>\n",
       "      <td>13 hours</td>\n",
       "    </tr>\n",
       "    <tr>\n",
       "      <th>4</th>\n",
       "      <td>12-5</td>\n",
       "      <td>Emirates</td>\n",
       "      <td>NewYork</td>\n",
       "      <td>Accra</td>\n",
       "      <td>10080</td>\n",
       "      <td>20-30 hours</td>\n",
       "    </tr>\n",
       "  </tbody>\n",
       "</table>\n",
       "</div>"
      ],
      "text/plain": [
       "  Dates    Airline Departure    Arrival  FlightNumber RecentDelays\n",
       "0  12-1        KLM     Tokyo      Paris         10045  23-47 hours\n",
       "1  12-2  AirFrance    Madrid      Milan         10050  10-14 hours\n",
       "2  12-3   SwissAir    Mumbai  Stockholm         10065   4-18 hours\n",
       "3  12-4    RyanAir    London   Brussels         10070     13 hours\n",
       "4  12-5   Emirates   NewYork      Accra         10080  20-30 hours"
      ]
     },
     "execution_count": 38,
     "metadata": {},
     "output_type": "execute_result"
    }
   ],
   "source": [
    "data = pd.DataFrame({\"Dates\" : [\"12-1\" ,\"12-2\",\"12-3\",\"12-4\",\"12-5\"],\n",
    "                    \"Airline\" : [\"KLM\" , \"AirFrance\" ,\"SwissAir\" ,\"RyanAir\",\"Emirates\"],\n",
    "                     \n",
    "                    \"Departure\" : [\"Tokyo\",\"Madrid\", \"Mumbai\" , \"London\" , \"NewYork\"],\n",
    "                     \n",
    "                     \"Arrival\" : [\"Paris\",\"Milan\",\"Stockholm\",\"Brussels\" , \"Accra\"],\n",
    "                     \n",
    "                     \"FlightNumber\" : [10045,10050,10065,10070,10080],\n",
    "                     \n",
    "                     \"RecentDelays\" : [\"23-47 hours\",\"10-14 hours\",\"4-18 hours\",\"13 hours\",\n",
    "                                       \"20-30 hours\"],\n",
    "                     })\n",
    "data"
   ]
  },
  {
   "cell_type": "markdown",
   "metadata": {},
   "source": [
    "# Renaming columns"
   ]
  },
  {
   "cell_type": "code",
   "execution_count": 39,
   "metadata": {},
   "outputs": [],
   "source": [
    "data.rename(columns={'RecentDelays':\"Delays\"} , inplace=True) # set inplace to true"
   ]
  },
  {
   "cell_type": "code",
   "execution_count": null,
   "metadata": {},
   "outputs": [],
   "source": [
    "# Let's check our result and see if RecentDelays has been changed to delays"
   ]
  },
  {
   "cell_type": "code",
   "execution_count": 40,
   "metadata": {},
   "outputs": [
    {
     "data": {
      "text/html": [
       "<div>\n",
       "<style scoped>\n",
       "    .dataframe tbody tr th:only-of-type {\n",
       "        vertical-align: middle;\n",
       "    }\n",
       "\n",
       "    .dataframe tbody tr th {\n",
       "        vertical-align: top;\n",
       "    }\n",
       "\n",
       "    .dataframe thead th {\n",
       "        text-align: right;\n",
       "    }\n",
       "</style>\n",
       "<table border=\"1\" class=\"dataframe\">\n",
       "  <thead>\n",
       "    <tr style=\"text-align: right;\">\n",
       "      <th></th>\n",
       "      <th>Dates</th>\n",
       "      <th>Airline</th>\n",
       "      <th>Departure</th>\n",
       "      <th>Arrival</th>\n",
       "      <th>FlightNumber</th>\n",
       "      <th>Delays</th>\n",
       "    </tr>\n",
       "  </thead>\n",
       "  <tbody>\n",
       "    <tr>\n",
       "      <th>0</th>\n",
       "      <td>12-1</td>\n",
       "      <td>KLM</td>\n",
       "      <td>Tokyo</td>\n",
       "      <td>Paris</td>\n",
       "      <td>10045</td>\n",
       "      <td>23-47 hours</td>\n",
       "    </tr>\n",
       "    <tr>\n",
       "      <th>1</th>\n",
       "      <td>12-2</td>\n",
       "      <td>AirFrance</td>\n",
       "      <td>Madrid</td>\n",
       "      <td>Milan</td>\n",
       "      <td>10050</td>\n",
       "      <td>10-14 hours</td>\n",
       "    </tr>\n",
       "    <tr>\n",
       "      <th>2</th>\n",
       "      <td>12-3</td>\n",
       "      <td>SwissAir</td>\n",
       "      <td>Mumbai</td>\n",
       "      <td>Stockholm</td>\n",
       "      <td>10065</td>\n",
       "      <td>4-18 hours</td>\n",
       "    </tr>\n",
       "    <tr>\n",
       "      <th>3</th>\n",
       "      <td>12-4</td>\n",
       "      <td>RyanAir</td>\n",
       "      <td>London</td>\n",
       "      <td>Brussels</td>\n",
       "      <td>10070</td>\n",
       "      <td>13 hours</td>\n",
       "    </tr>\n",
       "    <tr>\n",
       "      <th>4</th>\n",
       "      <td>12-5</td>\n",
       "      <td>Emirates</td>\n",
       "      <td>NewYork</td>\n",
       "      <td>Accra</td>\n",
       "      <td>10080</td>\n",
       "      <td>20-30 hours</td>\n",
       "    </tr>\n",
       "  </tbody>\n",
       "</table>\n",
       "</div>"
      ],
      "text/plain": [
       "  Dates    Airline Departure    Arrival  FlightNumber       Delays\n",
       "0  12-1        KLM     Tokyo      Paris         10045  23-47 hours\n",
       "1  12-2  AirFrance    Madrid      Milan         10050  10-14 hours\n",
       "2  12-3   SwissAir    Mumbai  Stockholm         10065   4-18 hours\n",
       "3  12-4    RyanAir    London   Brussels         10070     13 hours\n",
       "4  12-5   Emirates   NewYork      Accra         10080  20-30 hours"
      ]
     },
     "execution_count": 40,
     "metadata": {},
     "output_type": "execute_result"
    }
   ],
   "source": [
    "data.head()"
   ]
  },
  {
   "cell_type": "code",
   "execution_count": 45,
   "metadata": {},
   "outputs": [],
   "source": [
    "data.reset_index(inplace=True) # Reset the index to the default\n",
    "                # the old index is added as a column, and a\n",
    "                # new sequential index is used"
   ]
  },
  {
   "cell_type": "code",
   "execution_count": 47,
   "metadata": {},
   "outputs": [
    {
     "data": {
      "text/html": [
       "<div>\n",
       "<style scoped>\n",
       "    .dataframe tbody tr th:only-of-type {\n",
       "        vertical-align: middle;\n",
       "    }\n",
       "\n",
       "    .dataframe tbody tr th {\n",
       "        vertical-align: top;\n",
       "    }\n",
       "\n",
       "    .dataframe thead th {\n",
       "        text-align: right;\n",
       "    }\n",
       "</style>\n",
       "<table border=\"1\" class=\"dataframe\">\n",
       "  <thead>\n",
       "    <tr style=\"text-align: right;\">\n",
       "      <th></th>\n",
       "      <th>index</th>\n",
       "      <th>Dates</th>\n",
       "      <th>Airline</th>\n",
       "      <th>Departure</th>\n",
       "      <th>Arrival</th>\n",
       "      <th>FlightNumber</th>\n",
       "      <th>Delays</th>\n",
       "    </tr>\n",
       "  </thead>\n",
       "  <tbody>\n",
       "    <tr>\n",
       "      <th>0</th>\n",
       "      <td>0</td>\n",
       "      <td>12-1</td>\n",
       "      <td>KLM</td>\n",
       "      <td>Tokyo</td>\n",
       "      <td>Paris</td>\n",
       "      <td>10045</td>\n",
       "      <td>23-47 hours</td>\n",
       "    </tr>\n",
       "    <tr>\n",
       "      <th>1</th>\n",
       "      <td>1</td>\n",
       "      <td>12-2</td>\n",
       "      <td>AirFrance</td>\n",
       "      <td>Madrid</td>\n",
       "      <td>Milan</td>\n",
       "      <td>10050</td>\n",
       "      <td>10-14 hours</td>\n",
       "    </tr>\n",
       "    <tr>\n",
       "      <th>2</th>\n",
       "      <td>2</td>\n",
       "      <td>12-3</td>\n",
       "      <td>SwissAir</td>\n",
       "      <td>Mumbai</td>\n",
       "      <td>Stockholm</td>\n",
       "      <td>10065</td>\n",
       "      <td>4-18 hours</td>\n",
       "    </tr>\n",
       "    <tr>\n",
       "      <th>3</th>\n",
       "      <td>3</td>\n",
       "      <td>12-4</td>\n",
       "      <td>RyanAir</td>\n",
       "      <td>London</td>\n",
       "      <td>Brussels</td>\n",
       "      <td>10070</td>\n",
       "      <td>13 hours</td>\n",
       "    </tr>\n",
       "    <tr>\n",
       "      <th>4</th>\n",
       "      <td>4</td>\n",
       "      <td>12-5</td>\n",
       "      <td>Emirates</td>\n",
       "      <td>NewYork</td>\n",
       "      <td>Accra</td>\n",
       "      <td>10080</td>\n",
       "      <td>20-30 hours</td>\n",
       "    </tr>\n",
       "  </tbody>\n",
       "</table>\n",
       "</div>"
      ],
      "text/plain": [
       "   index Dates    Airline Departure    Arrival  FlightNumber       Delays\n",
       "0      0  12-1        KLM     Tokyo      Paris         10045  23-47 hours\n",
       "1      1  12-2  AirFrance    Madrid      Milan         10050  10-14 hours\n",
       "2      2  12-3   SwissAir    Mumbai  Stockholm         10065   4-18 hours\n",
       "3      3  12-4    RyanAir    London   Brussels         10070     13 hours\n",
       "4      4  12-5   Emirates   NewYork      Accra         10080  20-30 hours"
      ]
     },
     "execution_count": 47,
     "metadata": {},
     "output_type": "execute_result"
    }
   ],
   "source": [
    "data"
   ]
  },
  {
   "cell_type": "markdown",
   "metadata": {},
   "source": [
    "# Dropping columns"
   ]
  },
  {
   "cell_type": "code",
   "execution_count": 48,
   "metadata": {},
   "outputs": [],
   "source": [
    "# note axis 1 is our columns and axis 0 are our rows\n",
    "data.drop(\"FlightNumber\" ,axis=1 ,inplace=True) "
   ]
  },
  {
   "cell_type": "code",
   "execution_count": 49,
   "metadata": {},
   "outputs": [],
   "source": [
    "# dropping the new index column too\n",
    "data.drop(\"index\", axis=1 , inplace=True)"
   ]
  },
  {
   "cell_type": "markdown",
   "metadata": {},
   "source": [
    "# Checking the final result\n",
    "+ We can now see the columns have been removed from the DataFrame"
   ]
  },
  {
   "cell_type": "code",
   "execution_count": 50,
   "metadata": {},
   "outputs": [
    {
     "data": {
      "text/html": [
       "<div>\n",
       "<style scoped>\n",
       "    .dataframe tbody tr th:only-of-type {\n",
       "        vertical-align: middle;\n",
       "    }\n",
       "\n",
       "    .dataframe tbody tr th {\n",
       "        vertical-align: top;\n",
       "    }\n",
       "\n",
       "    .dataframe thead th {\n",
       "        text-align: right;\n",
       "    }\n",
       "</style>\n",
       "<table border=\"1\" class=\"dataframe\">\n",
       "  <thead>\n",
       "    <tr style=\"text-align: right;\">\n",
       "      <th></th>\n",
       "      <th>Dates</th>\n",
       "      <th>Airline</th>\n",
       "      <th>Departure</th>\n",
       "      <th>Arrival</th>\n",
       "      <th>Delays</th>\n",
       "    </tr>\n",
       "  </thead>\n",
       "  <tbody>\n",
       "    <tr>\n",
       "      <th>0</th>\n",
       "      <td>12-1</td>\n",
       "      <td>KLM</td>\n",
       "      <td>Tokyo</td>\n",
       "      <td>Paris</td>\n",
       "      <td>23-47 hours</td>\n",
       "    </tr>\n",
       "    <tr>\n",
       "      <th>1</th>\n",
       "      <td>12-2</td>\n",
       "      <td>AirFrance</td>\n",
       "      <td>Madrid</td>\n",
       "      <td>Milan</td>\n",
       "      <td>10-14 hours</td>\n",
       "    </tr>\n",
       "    <tr>\n",
       "      <th>2</th>\n",
       "      <td>12-3</td>\n",
       "      <td>SwissAir</td>\n",
       "      <td>Mumbai</td>\n",
       "      <td>Stockholm</td>\n",
       "      <td>4-18 hours</td>\n",
       "    </tr>\n",
       "    <tr>\n",
       "      <th>3</th>\n",
       "      <td>12-4</td>\n",
       "      <td>RyanAir</td>\n",
       "      <td>London</td>\n",
       "      <td>Brussels</td>\n",
       "      <td>13 hours</td>\n",
       "    </tr>\n",
       "    <tr>\n",
       "      <th>4</th>\n",
       "      <td>12-5</td>\n",
       "      <td>Emirates</td>\n",
       "      <td>NewYork</td>\n",
       "      <td>Accra</td>\n",
       "      <td>20-30 hours</td>\n",
       "    </tr>\n",
       "  </tbody>\n",
       "</table>\n",
       "</div>"
      ],
      "text/plain": [
       "  Dates    Airline Departure    Arrival       Delays\n",
       "0  12-1        KLM     Tokyo      Paris  23-47 hours\n",
       "1  12-2  AirFrance    Madrid      Milan  10-14 hours\n",
       "2  12-3   SwissAir    Mumbai  Stockholm   4-18 hours\n",
       "3  12-4    RyanAir    London   Brussels     13 hours\n",
       "4  12-5   Emirates   NewYork      Accra  20-30 hours"
      ]
     },
     "execution_count": 50,
     "metadata": {},
     "output_type": "execute_result"
    }
   ],
   "source": [
    "data"
   ]
  },
  {
   "cell_type": "code",
   "execution_count": null,
   "metadata": {},
   "outputs": [],
   "source": []
  },
  {
   "cell_type": "code",
   "execution_count": null,
   "metadata": {},
   "outputs": [],
   "source": []
  },
  {
   "cell_type": "code",
   "execution_count": null,
   "metadata": {},
   "outputs": [],
   "source": []
  }
 ],
 "metadata": {
  "kernelspec": {
   "display_name": "Python [conda env:learn-env] *",
   "language": "python",
   "name": "conda-env-learn-env-py"
  },
  "language_info": {
   "codemirror_mode": {
    "name": "ipython",
    "version": 3
   },
   "file_extension": ".py",
   "mimetype": "text/x-python",
   "name": "python",
   "nbconvert_exporter": "python",
   "pygments_lexer": "ipython3",
   "version": "3.6.10"
  }
 },
 "nbformat": 4,
 "nbformat_minor": 4
}
