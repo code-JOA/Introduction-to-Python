{
 "cells": [
  {
   "cell_type": "markdown",
   "metadata": {},
   "source": [
    "# Statistical Methods in Pandas - Exercise"
   ]
  },
  {
   "cell_type": "markdown",
   "metadata": {},
   "source": [
    "## Introduction\n",
    "\n",
    "+ In this lab you'll get some hands-on experience using some of the key summary statistics methods in Pandas."
   ]
  },
  {
   "cell_type": "markdown",
   "metadata": {},
   "source": [
    "## Objectives\n",
    "You will be able to:\n",
    "\n",
    "- Use the `df.describe()` and `df.info()` summary statistics methods  \n",
    "- Use built-in Pandas methods for calculating summary statistics \n",
    "- Apply a function to every element in a DataFrame \n",
    "\n",
    "\n",
    "## Getting Started\n",
    "\n",
    "For this lab, we'll be working with a dataset containing information on various lego datasets. You will find this dataset in the file `'lego_sets.csv'`.   \n",
    "\n",
    "In the cell below:\n",
    "\n",
    "- Import Pandas and set the standard alias of `pd`\n",
    "- Load in the `'lego_sets.csv'` dataset using the `read_csv()` function\n",
    "- Display the first five rows of the DataFrame to get a feel for what we'll be working with"
   ]
  },
  {
   "cell_type": "markdown",
   "metadata": {},
   "source": [
    "![lego](https://media.giphy.com/media/103TZqgLqRJq0M/giphy.gif)"
   ]
  },
  {
   "cell_type": "code",
   "execution_count": 1,
   "metadata": {},
   "outputs": [],
   "source": [
    "import pandas as pd\n",
    "import numpy as np\n"
   ]
  },
  {
   "cell_type": "code",
   "execution_count": 6,
   "metadata": {},
   "outputs": [
    {
     "data": {
      "text/html": [
       "<div>\n",
       "<style scoped>\n",
       "    .dataframe tbody tr th:only-of-type {\n",
       "        vertical-align: middle;\n",
       "    }\n",
       "\n",
       "    .dataframe tbody tr th {\n",
       "        vertical-align: top;\n",
       "    }\n",
       "\n",
       "    .dataframe thead th {\n",
       "        text-align: right;\n",
       "    }\n",
       "</style>\n",
       "<table border=\"1\" class=\"dataframe\">\n",
       "  <thead>\n",
       "    <tr style=\"text-align: right;\">\n",
       "      <th></th>\n",
       "      <th>ages</th>\n",
       "      <th>list_price</th>\n",
       "      <th>num_reviews</th>\n",
       "      <th>piece_count</th>\n",
       "      <th>play_star_rating</th>\n",
       "      <th>prod_desc</th>\n",
       "      <th>prod_id</th>\n",
       "      <th>prod_long_desc</th>\n",
       "      <th>review_difficulty</th>\n",
       "      <th>set_name</th>\n",
       "      <th>star_rating</th>\n",
       "      <th>theme_name</th>\n",
       "      <th>val_star_rating</th>\n",
       "      <th>country</th>\n",
       "    </tr>\n",
       "  </thead>\n",
       "  <tbody>\n",
       "    <tr>\n",
       "      <th>0</th>\n",
       "      <td>6-12</td>\n",
       "      <td>29.99</td>\n",
       "      <td>2.0</td>\n",
       "      <td>277.0</td>\n",
       "      <td>4.0</td>\n",
       "      <td>Catapult into action and take back the eggs fr...</td>\n",
       "      <td>75823.0</td>\n",
       "      <td>Use the staircase catapult to launch Red into ...</td>\n",
       "      <td>Average</td>\n",
       "      <td>Bird Island Egg Heist</td>\n",
       "      <td>4.5</td>\n",
       "      <td>Angry Birds™</td>\n",
       "      <td>4.0</td>\n",
       "      <td>US</td>\n",
       "    </tr>\n",
       "    <tr>\n",
       "      <th>1</th>\n",
       "      <td>6-12</td>\n",
       "      <td>19.99</td>\n",
       "      <td>2.0</td>\n",
       "      <td>168.0</td>\n",
       "      <td>4.0</td>\n",
       "      <td>Launch a flying attack and rescue the eggs fro...</td>\n",
       "      <td>75822.0</td>\n",
       "      <td>Pilot Pig has taken off from Bird Island with ...</td>\n",
       "      <td>Easy</td>\n",
       "      <td>Piggy Plane Attack</td>\n",
       "      <td>5.0</td>\n",
       "      <td>Angry Birds™</td>\n",
       "      <td>4.0</td>\n",
       "      <td>US</td>\n",
       "    </tr>\n",
       "    <tr>\n",
       "      <th>2</th>\n",
       "      <td>6-12</td>\n",
       "      <td>12.99</td>\n",
       "      <td>11.0</td>\n",
       "      <td>74.0</td>\n",
       "      <td>4.3</td>\n",
       "      <td>Chase the piggy with lightning-fast Chuck and ...</td>\n",
       "      <td>75821.0</td>\n",
       "      <td>Pitch speedy bird Chuck against the Piggy Car....</td>\n",
       "      <td>Easy</td>\n",
       "      <td>Piggy Car Escape</td>\n",
       "      <td>4.3</td>\n",
       "      <td>Angry Birds™</td>\n",
       "      <td>4.1</td>\n",
       "      <td>US</td>\n",
       "    </tr>\n",
       "  </tbody>\n",
       "</table>\n",
       "</div>"
      ],
      "text/plain": [
       "   ages  list_price  num_reviews  piece_count  play_star_rating  \\\n",
       "0  6-12       29.99          2.0        277.0               4.0   \n",
       "1  6-12       19.99          2.0        168.0               4.0   \n",
       "2  6-12       12.99         11.0         74.0               4.3   \n",
       "\n",
       "                                           prod_desc  prod_id  \\\n",
       "0  Catapult into action and take back the eggs fr...  75823.0   \n",
       "1  Launch a flying attack and rescue the eggs fro...  75822.0   \n",
       "2  Chase the piggy with lightning-fast Chuck and ...  75821.0   \n",
       "\n",
       "                                      prod_long_desc review_difficulty  \\\n",
       "0  Use the staircase catapult to launch Red into ...           Average   \n",
       "1  Pilot Pig has taken off from Bird Island with ...              Easy   \n",
       "2  Pitch speedy bird Chuck against the Piggy Car....              Easy   \n",
       "\n",
       "                set_name  star_rating    theme_name  val_star_rating country  \n",
       "0  Bird Island Egg Heist          4.5  Angry Birds™              4.0      US  \n",
       "1     Piggy Plane Attack          5.0  Angry Birds™              4.0      US  \n",
       "2       Piggy Car Escape          4.3  Angry Birds™              4.1      US  "
      ]
     },
     "execution_count": 6,
     "metadata": {},
     "output_type": "execute_result"
    }
   ],
   "source": [
    "lego = pd.read_csv(\"../data/lego_sets.csv\")\n",
    "lego.head(3)"
   ]
  },
  {
   "cell_type": "markdown",
   "metadata": {},
   "source": [
    "## Getting DataFrame-Level Statistics\n",
    "\n",
    "We'll begin by getting some overall summary statistics on the dataset. There are two ways we'll get this information -- `.info()` and `.describe()`.\n",
    "\n",
    "### Using `.info()`\n",
    "\n",
    "The `.info()` method provides us metadata on the DataFrame itself. This allows us to answer questions such as:\n",
    "\n",
    "* What data type does each column contain?\n",
    "* How many rows are in my dataset? \n",
    "* How many total non-missing values does each column contain?\n",
    "* How much memory does the DataFrame take up?\n",
    "\n",
    "In the cell below, call our DataFrame's `.info()` method. "
   ]
  },
  {
   "cell_type": "code",
   "execution_count": 8,
   "metadata": {},
   "outputs": [
    {
     "name": "stdout",
     "output_type": "stream",
     "text": [
      "<class 'pandas.core.frame.DataFrame'>\n",
      "RangeIndex: 12261 entries, 0 to 12260\n",
      "Data columns (total 14 columns):\n",
      " #   Column             Non-Null Count  Dtype  \n",
      "---  ------             --------------  -----  \n",
      " 0   ages               12261 non-null  object \n",
      " 1   list_price         12261 non-null  float64\n",
      " 2   num_reviews        10641 non-null  float64\n",
      " 3   piece_count        12261 non-null  float64\n",
      " 4   play_star_rating   10486 non-null  float64\n",
      " 5   prod_desc          11884 non-null  object \n",
      " 6   prod_id            12261 non-null  float64\n",
      " 7   prod_long_desc     12261 non-null  object \n",
      " 8   review_difficulty  10206 non-null  object \n",
      " 9   set_name           12261 non-null  object \n",
      " 10  star_rating        10641 non-null  float64\n",
      " 11  theme_name         12258 non-null  object \n",
      " 12  val_star_rating    10466 non-null  float64\n",
      " 13  country            12261 non-null  object \n",
      "dtypes: float64(7), object(7)\n",
      "memory usage: 1.3+ MB\n"
     ]
    }
   ],
   "source": [
    "lego.info()"
   ]
  },
  {
   "cell_type": "markdown",
   "metadata": {},
   "source": [
    "#### Interpreting the Results\n",
    "\n",
    "Read the output above, and then answer the following questions:\n",
    "\n",
    "How many total rows are in this DataFrame?  How many columns contain numeric data? How many contain categorical data?  Identify at least 3 columns that contain missing values. \n",
    "\n",
    "Write your answer below this line:"
   ]
  },
  {
   "cell_type": "code",
   "execution_count": 9,
   "metadata": {},
   "outputs": [
    {
     "name": "stdout",
     "output_type": "stream",
     "text": [
      "Lego Data - rows: 12261 columns: 14\n"
     ]
    }
   ],
   "source": [
    "# Check the shape of the DataFrame\n",
    "print('Lego Data - rows:' , lego.shape[0],'columns:', lego.shape[1])"
   ]
  },
  {
   "cell_type": "code",
   "execution_count": 10,
   "metadata": {},
   "outputs": [
    {
     "name": "stdout",
     "output_type": "stream",
     "text": [
      "There is 9245 missing values in the dataframe\n"
     ]
    }
   ],
   "source": [
    "# Checking for missing values\n",
    "print(\"There is {} missing values in the dataframe\".format(lego.isnull().sum().sum()))\n"
   ]
  },
  {
   "cell_type": "code",
   "execution_count": 11,
   "metadata": {},
   "outputs": [
    {
     "data": {
      "text/plain": [
       "ages                    0\n",
       "list_price              0\n",
       "num_reviews          1620\n",
       "piece_count             0\n",
       "play_star_rating     1775\n",
       "prod_desc             377\n",
       "prod_id                 0\n",
       "prod_long_desc          0\n",
       "review_difficulty    2055\n",
       "set_name                0\n",
       "star_rating          1620\n",
       "theme_name              3\n",
       "val_star_rating      1795\n",
       "country                 0\n",
       "dtype: int64"
      ]
     },
     "execution_count": 11,
     "metadata": {},
     "output_type": "execute_result"
    }
   ],
   "source": [
    "# finding which columns have missing values\n",
    "lego.isnull().sum()"
   ]
  },
  {
   "cell_type": "markdown",
   "metadata": {},
   "source": [
    "## Using `.describe()`\n",
    "\n",
    "Whereas `.info()` provides statistics about the DataFrame itself, `.describe()` returns output containing basic summary statistics about the data contained with the DataFrame.  \n",
    "\n",
    "In the cell below, call the DataFrame's `.describe()` method. "
   ]
  },
  {
   "cell_type": "markdown",
   "metadata": {},
   "source": [
    "![desc](https://media.giphy.com/media/26BRLZnuJ6OvdWXa8/giphy.gif)"
   ]
  },
  {
   "cell_type": "code",
   "execution_count": 12,
   "metadata": {},
   "outputs": [
    {
     "data": {
      "text/html": [
       "<div>\n",
       "<style scoped>\n",
       "    .dataframe tbody tr th:only-of-type {\n",
       "        vertical-align: middle;\n",
       "    }\n",
       "\n",
       "    .dataframe tbody tr th {\n",
       "        vertical-align: top;\n",
       "    }\n",
       "\n",
       "    .dataframe thead th {\n",
       "        text-align: right;\n",
       "    }\n",
       "</style>\n",
       "<table border=\"1\" class=\"dataframe\">\n",
       "  <thead>\n",
       "    <tr style=\"text-align: right;\">\n",
       "      <th></th>\n",
       "      <th>list_price</th>\n",
       "      <th>num_reviews</th>\n",
       "      <th>piece_count</th>\n",
       "      <th>play_star_rating</th>\n",
       "      <th>prod_id</th>\n",
       "      <th>star_rating</th>\n",
       "      <th>val_star_rating</th>\n",
       "    </tr>\n",
       "  </thead>\n",
       "  <tbody>\n",
       "    <tr>\n",
       "      <th>count</th>\n",
       "      <td>12261.000000</td>\n",
       "      <td>10641.000000</td>\n",
       "      <td>12261.000000</td>\n",
       "      <td>10486.000000</td>\n",
       "      <td>1.226100e+04</td>\n",
       "      <td>10641.000000</td>\n",
       "      <td>10466.000000</td>\n",
       "    </tr>\n",
       "    <tr>\n",
       "      <th>mean</th>\n",
       "      <td>65.141998</td>\n",
       "      <td>16.826238</td>\n",
       "      <td>493.405921</td>\n",
       "      <td>4.337641</td>\n",
       "      <td>5.983675e+04</td>\n",
       "      <td>4.514134</td>\n",
       "      <td>4.228960</td>\n",
       "    </tr>\n",
       "    <tr>\n",
       "      <th>std</th>\n",
       "      <td>91.980429</td>\n",
       "      <td>36.368984</td>\n",
       "      <td>825.364580</td>\n",
       "      <td>0.652051</td>\n",
       "      <td>1.638115e+05</td>\n",
       "      <td>0.518865</td>\n",
       "      <td>0.660282</td>\n",
       "    </tr>\n",
       "    <tr>\n",
       "      <th>min</th>\n",
       "      <td>2.272400</td>\n",
       "      <td>1.000000</td>\n",
       "      <td>1.000000</td>\n",
       "      <td>1.000000</td>\n",
       "      <td>6.300000e+02</td>\n",
       "      <td>1.800000</td>\n",
       "      <td>1.000000</td>\n",
       "    </tr>\n",
       "    <tr>\n",
       "      <th>25%</th>\n",
       "      <td>19.990000</td>\n",
       "      <td>2.000000</td>\n",
       "      <td>97.000000</td>\n",
       "      <td>4.000000</td>\n",
       "      <td>2.103400e+04</td>\n",
       "      <td>4.300000</td>\n",
       "      <td>4.000000</td>\n",
       "    </tr>\n",
       "    <tr>\n",
       "      <th>50%</th>\n",
       "      <td>36.587800</td>\n",
       "      <td>6.000000</td>\n",
       "      <td>216.000000</td>\n",
       "      <td>4.500000</td>\n",
       "      <td>4.206900e+04</td>\n",
       "      <td>4.700000</td>\n",
       "      <td>4.300000</td>\n",
       "    </tr>\n",
       "    <tr>\n",
       "      <th>75%</th>\n",
       "      <td>70.192200</td>\n",
       "      <td>13.000000</td>\n",
       "      <td>544.000000</td>\n",
       "      <td>4.800000</td>\n",
       "      <td>7.092200e+04</td>\n",
       "      <td>5.000000</td>\n",
       "      <td>4.700000</td>\n",
       "    </tr>\n",
       "    <tr>\n",
       "      <th>max</th>\n",
       "      <td>1104.870000</td>\n",
       "      <td>367.000000</td>\n",
       "      <td>7541.000000</td>\n",
       "      <td>5.000000</td>\n",
       "      <td>2.000431e+06</td>\n",
       "      <td>5.000000</td>\n",
       "      <td>5.000000</td>\n",
       "    </tr>\n",
       "  </tbody>\n",
       "</table>\n",
       "</div>"
      ],
      "text/plain": [
       "         list_price   num_reviews   piece_count  play_star_rating  \\\n",
       "count  12261.000000  10641.000000  12261.000000      10486.000000   \n",
       "mean      65.141998     16.826238    493.405921          4.337641   \n",
       "std       91.980429     36.368984    825.364580          0.652051   \n",
       "min        2.272400      1.000000      1.000000          1.000000   \n",
       "25%       19.990000      2.000000     97.000000          4.000000   \n",
       "50%       36.587800      6.000000    216.000000          4.500000   \n",
       "75%       70.192200     13.000000    544.000000          4.800000   \n",
       "max     1104.870000    367.000000   7541.000000          5.000000   \n",
       "\n",
       "            prod_id   star_rating  val_star_rating  \n",
       "count  1.226100e+04  10641.000000     10466.000000  \n",
       "mean   5.983675e+04      4.514134         4.228960  \n",
       "std    1.638115e+05      0.518865         0.660282  \n",
       "min    6.300000e+02      1.800000         1.000000  \n",
       "25%    2.103400e+04      4.300000         4.000000  \n",
       "50%    4.206900e+04      4.700000         4.300000  \n",
       "75%    7.092200e+04      5.000000         4.700000  \n",
       "max    2.000431e+06      5.000000         5.000000  "
      ]
     },
     "execution_count": 12,
     "metadata": {},
     "output_type": "execute_result"
    }
   ],
   "source": [
    "lego.describe()"
   ]
  },
  {
   "cell_type": "markdown",
   "metadata": {},
   "source": [
    "#### Interpreting the Results\n",
    "\n",
    "The output contains descriptive statistics corresponding to the columns. Use these to answer the following questions:\n",
    "\n",
    "How much is the standard deviation for `piece count`?  How many pieces are in the largest lego set?  How many in the smallest lego set? What is the median `val_star_rating`?\n",
    "\n",
    "________________________________________________________________________________________________________________________________"
   ]
  },
  {
   "cell_type": "code",
   "execution_count": 13,
   "metadata": {},
   "outputs": [
    {
     "data": {
      "text/plain": [
       "Index(['ages', 'list_price', 'num_reviews', 'piece_count', 'play_star_rating',\n",
       "       'prod_desc', 'prod_id', 'prod_long_desc', 'review_difficulty',\n",
       "       'set_name', 'star_rating', 'theme_name', 'val_star_rating', 'country'],\n",
       "      dtype='object')"
      ]
     },
     "execution_count": 13,
     "metadata": {},
     "output_type": "execute_result"
    }
   ],
   "source": [
    "lego.columns"
   ]
  },
  {
   "cell_type": "code",
   "execution_count": 17,
   "metadata": {},
   "outputs": [
    {
     "data": {
      "text/plain": [
       "825.365"
      ]
     },
     "execution_count": 17,
     "metadata": {},
     "output_type": "execute_result"
    }
   ],
   "source": [
    "lego.piece_count.std().round(3)"
   ]
  },
  {
   "cell_type": "code",
   "execution_count": 20,
   "metadata": {},
   "outputs": [
    {
     "data": {
      "text/plain": [
       "7541.0"
      ]
     },
     "execution_count": 20,
     "metadata": {},
     "output_type": "execute_result"
    }
   ],
   "source": [
    "lego.piece_count.max()"
   ]
  },
  {
   "cell_type": "code",
   "execution_count": 21,
   "metadata": {},
   "outputs": [
    {
     "data": {
      "text/plain": [
       "1.0"
      ]
     },
     "execution_count": 21,
     "metadata": {},
     "output_type": "execute_result"
    }
   ],
   "source": [
    "lego.piece_count.min()"
   ]
  },
  {
   "cell_type": "code",
   "execution_count": 15,
   "metadata": {},
   "outputs": [
    {
     "data": {
      "text/plain": [
       "4.3"
      ]
     },
     "execution_count": 15,
     "metadata": {},
     "output_type": "execute_result"
    }
   ],
   "source": [
    "lego.val_star_rating.median()"
   ]
  },
  {
   "cell_type": "markdown",
   "metadata": {},
   "source": [
    "## Getting Summary Statistics\n",
    "\n",
    "Pandas also allows us to easily compute individual summary statistics using built-in methods.  Next, we'll get some practice using these methods. \n",
    "\n",
    "In the cell below, compute the median value of the `star_rating` column."
   ]
  },
  {
   "cell_type": "markdown",
   "metadata": {},
   "source": [
    "![sum](https://media.giphy.com/media/d5w5tJjb0NaGBaVSS2/giphy.gif)"
   ]
  },
  {
   "cell_type": "code",
   "execution_count": 22,
   "metadata": {},
   "outputs": [
    {
     "data": {
      "text/plain": [
       "count    10641.000000\n",
       "mean         4.514134\n",
       "std          0.518865\n",
       "min          1.800000\n",
       "25%          4.300000\n",
       "50%          4.700000\n",
       "75%          5.000000\n",
       "max          5.000000\n",
       "Name: star_rating, dtype: float64"
      ]
     },
     "execution_count": 22,
     "metadata": {},
     "output_type": "execute_result"
    }
   ],
   "source": [
    "lego[\"star_rating\"].describe()"
   ]
  },
  {
   "cell_type": "code",
   "execution_count": 23,
   "metadata": {},
   "outputs": [
    {
     "data": {
      "text/plain": [
       "4.7"
      ]
     },
     "execution_count": 23,
     "metadata": {},
     "output_type": "execute_result"
    }
   ],
   "source": [
    "# median for star rating = 4.7 and compare it it the summary stats above\n",
    "lego[\"star_rating\"].median()"
   ]
  },
  {
   "cell_type": "markdown",
   "metadata": {},
   "source": [
    "### Next, get a count of the total number of values in `play_star_rating`."
   ]
  },
  {
   "cell_type": "code",
   "execution_count": 27,
   "metadata": {},
   "outputs": [
    {
     "data": {
      "text/plain": [
       "10486"
      ]
     },
     "execution_count": 27,
     "metadata": {},
     "output_type": "execute_result"
    }
   ],
   "source": [
    "# answer should be 10486\n",
    "lego[\"play_star_rating\"].count()"
   ]
  },
  {
   "cell_type": "code",
   "execution_count": 25,
   "metadata": {},
   "outputs": [
    {
     "data": {
      "text/plain": [
       "30"
      ]
     },
     "execution_count": 25,
     "metadata": {},
     "output_type": "execute_result"
    }
   ],
   "source": [
    "lego[\"play_star_rating\"].nunique()"
   ]
  },
  {
   "cell_type": "markdown",
   "metadata": {},
   "source": [
    "### Find the standard deviation for the list_price column"
   ]
  },
  {
   "cell_type": "code",
   "execution_count": 29,
   "metadata": {},
   "outputs": [
    {
     "data": {
      "text/plain": [
       "91.98"
      ]
     },
     "execution_count": 29,
     "metadata": {},
     "output_type": "execute_result"
    }
   ],
   "source": [
    "lego[\"list_price\"].std().round(3)"
   ]
  },
  {
   "cell_type": "code",
   "execution_count": null,
   "metadata": {},
   "outputs": [],
   "source": []
  },
  {
   "cell_type": "markdown",
   "metadata": {},
   "source": [
    "### If we bought every single lego set in this dataset, how many pieces would we have?  \n",
    "\n",
    "> **Note**: If you truly want to answer this accurately, and are up for the challenge, remove duplicate lego-set entries before summing the pieces. That is, many of the lego sets are listed multiple times in the dataset above, depending on the country where it is being sold and other unique parameters. If you're stuck, just practice calculating the total number of pieces in the dataset for now."
   ]
  },
  {
   "cell_type": "code",
   "execution_count": 30,
   "metadata": {},
   "outputs": [
    {
     "data": {
      "text/plain": [
       "6049650.0"
      ]
     },
     "execution_count": 30,
     "metadata": {},
     "output_type": "execute_result"
    }
   ],
   "source": [
    "# if you simply want to calculate the sum of the column\n",
    "lego.piece_count.sum()"
   ]
  },
  {
   "cell_type": "markdown",
   "metadata": {},
   "source": [
    "### Now you can see that the above had so much duplicates"
   ]
  },
  {
   "cell_type": "code",
   "execution_count": 31,
   "metadata": {},
   "outputs": [
    {
     "data": {
      "text/plain": [
       "319071.0"
      ]
     },
     "execution_count": 31,
     "metadata": {},
     "output_type": "execute_result"
    }
   ],
   "source": [
    "lego.drop_duplicates(subset=\"prod_id\")[\"piece_count\"].sum()"
   ]
  },
  {
   "cell_type": "markdown",
   "metadata": {},
   "source": [
    "### Now, let's try getting the value for the 90% quantile for all numerical columns.  Do this in the cell below."
   ]
  },
  {
   "cell_type": "code",
   "execution_count": 32,
   "metadata": {},
   "outputs": [
    {
     "data": {
      "text/plain": [
       "list_price            136.2971\n",
       "num_reviews            38.0000\n",
       "piece_count          1077.0000\n",
       "play_star_rating        5.0000\n",
       "prod_id             75531.0000\n",
       "star_rating             5.0000\n",
       "val_star_rating         5.0000\n",
       "Name: 0.9, dtype: float64"
      ]
     },
     "execution_count": 32,
     "metadata": {},
     "output_type": "execute_result"
    }
   ],
   "source": [
    "lego.quantile(.90)"
   ]
  },
  {
   "cell_type": "code",
   "execution_count": null,
   "metadata": {},
   "outputs": [],
   "source": []
  },
  {
   "cell_type": "markdown",
   "metadata": {},
   "source": [
    "## Getting Summary Statistics on Categorical Data\n",
    "\n",
    "For obvious reasons, most of the methods we've used so far only work with numerical data -- there's no way to calculate the standard deviation of a column containing string values. However, there are some things that we can discover about columns containing categorical data. \n",
    "\n",
    "In the cell below, get the `.unique()` values contained within the `review_difficulty` column. "
   ]
  },
  {
   "cell_type": "markdown",
   "metadata": {},
   "source": [
    "![unique](https://media.giphy.com/media/MCXFAs15Nxcb4IuXFa/giphy.gif)"
   ]
  },
  {
   "cell_type": "code",
   "execution_count": 33,
   "metadata": {},
   "outputs": [
    {
     "data": {
      "text/plain": [
       "array(['Average', 'Easy', 'Challenging', 'Very Easy', nan,\n",
       "       'Very Challenging'], dtype=object)"
      ]
     },
     "execution_count": 33,
     "metadata": {},
     "output_type": "execute_result"
    }
   ],
   "source": [
    "lego.review_difficulty.unique()"
   ]
  },
  {
   "cell_type": "markdown",
   "metadata": {},
   "source": [
    "### Now, let's get the `value_counts()` for the `lego.review_difficulty` column, to see how common each is. "
   ]
  },
  {
   "cell_type": "code",
   "execution_count": 34,
   "metadata": {},
   "outputs": [
    {
     "data": {
      "text/plain": [
       "Easy                4236\n",
       "Average             3765\n",
       "Very Easy           1139\n",
       "Challenging         1058\n",
       "Very Challenging       8\n",
       "Name: review_difficulty, dtype: int64"
      ]
     },
     "execution_count": 34,
     "metadata": {},
     "output_type": "execute_result"
    }
   ],
   "source": [
    "lego.review_difficulty.value_counts()"
   ]
  },
  {
   "cell_type": "markdown",
   "metadata": {},
   "source": [
    "### Alternatively we can do this for the above"
   ]
  },
  {
   "cell_type": "code",
   "execution_count": 35,
   "metadata": {},
   "outputs": [
    {
     "data": {
      "text/plain": [
       "Easy                0.415050\n",
       "Average             0.368901\n",
       "Very Easy           0.111601\n",
       "Challenging         0.103665\n",
       "Very Challenging    0.000784\n",
       "Name: review_difficulty, dtype: float64"
      ]
     },
     "execution_count": 35,
     "metadata": {},
     "output_type": "execute_result"
    }
   ],
   "source": [
    "lego.review_difficulty.value_counts(normalize=True)"
   ]
  },
  {
   "cell_type": "code",
   "execution_count": null,
   "metadata": {},
   "outputs": [],
   "source": []
  },
  {
   "cell_type": "markdown",
   "metadata": {},
   "source": [
    "### As you can see, these provide us quick and easy ways to get information on columns containing categorical information.  \n",
    "\n",
    "\n",
    "## Using `.applymap()`\n",
    "\n",
    "When working with pandas DataFrames, we can quickly compute functions on the data contained by using the `.applymap()` method and passing in a lambda function. \n",
    "\n",
    "For instance, we can use `applymap()` to return a version of the DataFrame where every value has been converted to a string.\n",
    "\n",
    "In the cell below:\n",
    "\n",
    "* Call our DataFrame's `.applymap()` method and pass in `lambda x: str(x)`\n",
    "* Call our new `string_df` object's `.info()` method to confirm that everything has been cast to a string"
   ]
  },
  {
   "cell_type": "code",
   "execution_count": 37,
   "metadata": {},
   "outputs": [],
   "source": [
    "string_df = lego.applymap(lambda x: str(x))"
   ]
  },
  {
   "cell_type": "markdown",
   "metadata": {},
   "source": [
    "# You can see that the DF has been cast into objects ie string"
   ]
  },
  {
   "cell_type": "code",
   "execution_count": 38,
   "metadata": {},
   "outputs": [
    {
     "name": "stdout",
     "output_type": "stream",
     "text": [
      "<class 'pandas.core.frame.DataFrame'>\n",
      "RangeIndex: 12261 entries, 0 to 12260\n",
      "Data columns (total 14 columns):\n",
      " #   Column             Non-Null Count  Dtype \n",
      "---  ------             --------------  ----- \n",
      " 0   ages               12261 non-null  object\n",
      " 1   list_price         12261 non-null  object\n",
      " 2   num_reviews        12261 non-null  object\n",
      " 3   piece_count        12261 non-null  object\n",
      " 4   play_star_rating   12261 non-null  object\n",
      " 5   prod_desc          12261 non-null  object\n",
      " 6   prod_id            12261 non-null  object\n",
      " 7   prod_long_desc     12261 non-null  object\n",
      " 8   review_difficulty  12261 non-null  object\n",
      " 9   set_name           12261 non-null  object\n",
      " 10  star_rating        12261 non-null  object\n",
      " 11  theme_name         12261 non-null  object\n",
      " 12  val_star_rating    12261 non-null  object\n",
      " 13  country            12261 non-null  object\n",
      "dtypes: object(14)\n",
      "memory usage: 1.3+ MB\n"
     ]
    }
   ],
   "source": [
    "string_df.info()"
   ]
  },
  {
   "cell_type": "code",
   "execution_count": null,
   "metadata": {},
   "outputs": [],
   "source": []
  },
  {
   "cell_type": "markdown",
   "metadata": {},
   "source": [
    "Note that everything -- even the `NaN` values, has been cast to a string in the example above. \n",
    "\n",
    "Note that for Pandas Series objects (such as a single column in a DataFrame), we can do the same thing using the `.apply()` method.  \n",
    "\n",
    "This is just one example of how we can quickly compute custom functions on our DataFrame -- this will become especially useful when we learn how to **_normalize_** our datasets in a later section!\n",
    "\n",
    "## Summary\n",
    "\n",
    "In this lab, we learned how to:\n",
    "\n",
    "* Use the `df.describe()` and `df.info()` summary statistics methods \n",
    "* Use built-in Pandas methods for calculating summary statistics \n",
    "* Apply a function to every element in a DataFrame"
   ]
  },
  {
   "cell_type": "markdown",
   "metadata": {},
   "source": [
    "![done](https://media.giphy.com/media/KGYB8ohERAEYbA1OkN/giphy.gif)"
   ]
  },
  {
   "cell_type": "code",
   "execution_count": null,
   "metadata": {},
   "outputs": [],
   "source": []
  },
  {
   "cell_type": "code",
   "execution_count": null,
   "metadata": {},
   "outputs": [],
   "source": []
  },
  {
   "cell_type": "code",
   "execution_count": null,
   "metadata": {},
   "outputs": [],
   "source": []
  },
  {
   "cell_type": "code",
   "execution_count": null,
   "metadata": {},
   "outputs": [],
   "source": []
  },
  {
   "cell_type": "code",
   "execution_count": null,
   "metadata": {},
   "outputs": [],
   "source": []
  }
 ],
 "metadata": {
  "kernelspec": {
   "display_name": "Python [conda env:learn-env] *",
   "language": "python",
   "name": "conda-env-learn-env-py"
  },
  "language_info": {
   "codemirror_mode": {
    "name": "ipython",
    "version": 3
   },
   "file_extension": ".py",
   "mimetype": "text/x-python",
   "name": "python",
   "nbconvert_exporter": "python",
   "pygments_lexer": "ipython3",
   "version": "3.6.10"
  }
 },
 "nbformat": 4,
 "nbformat_minor": 4
}
