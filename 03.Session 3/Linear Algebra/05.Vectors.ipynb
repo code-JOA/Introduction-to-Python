{
 "cells": [
  {
   "cell_type": "markdown",
   "metadata": {},
   "source": [
    "# Vector Addition and Broadcasting in Numpy - Code Along\n",
    "\n",
    "## Introduction\n",
    "\n",
    "This lesson is a supplement to the previous lesson where you learned how to create Numpy arrays as vectors and matrices. In this lesson, you'll look at matrix addition and broadcasting features offered by Numpy.\n",
    "\n",
    "## Objectives\n",
    "You will be able to:\n",
    "- Implement vector addition in Numpy \n",
    "- Describe how broadcasting differs from addition if there are mismatched dimensions \n",
    "\n",
    "\n",
    "## Vector addition\n",
    "\n",
    "Let's look at simple vector addition, where all operations are performed element-wise between two vectors/matrices of equal size to result in a new vector/matrix with the same size.\n",
    "\n",
    "Imagine two arrays A and B with the same dimensions. They can be added together if: \n",
    "\n",
    "* they have the same shape\n",
    "* each cell of A is added to the corresponding cell of B\n",
    "\n",
    "$A_{i,j} +B_{i,j} = C_{i,j}$\n",
    "\n",
    "\n",
    "$$ C=\n",
    "  \\left[ {\\begin{array}{cc}\n",
    "   A_{1,1} & A_{1,2} \\\\\n",
    "   A_{2,1} & A_{2,2} \\\\\n",
    "   A_{3,1} & A_{3,2} \\\\\n",
    "  \\end{array} } \\right] +\n",
    "    \\left[ {\\begin{array}{cc}\n",
    "   B_{1,1} & B_{1,2} \\\\\n",
    "   B_{2,1} & B_{2,2} \\\\\n",
    "   B_{3,1} & B_{3,2} \\\\\n",
    "  \\end{array} } \\right] =\n",
    "   \\left[ {\\begin{array}{cc}\n",
    "   A_{1,1} + B_{1,1} & A_{1,2} + B_{1,2}\\\\\n",
    "   A_{2,1} + B_{2,1}& A_{2,2} + B_{2,2} \\\\\n",
    "   A_{3,1} + B_{3,1} & A_{3,2} + B_{3,2} \\\\\n",
    "  \\end{array} } \\right] \n",
    "$$\n",
    "\n",
    "\n",
    "\n",
    "\n",
    "here $A_(i, j)$ and $B_(i, j)$ represent row and column locations. This is a more standard notation that you will find in most literature. Another visual representation is shown below:\n",
    "<img src=\"../../images/new_addition.png\" width=\"250\">\n",
    "\n",
    "\n",
    "1D-arrays can be added together in exactly the same way using similar assumptions. The addition of two vectors $x$ and $y$ may be represented graphically by placing the start of the arrow y at the tip of the arrow x, and then drawing an arrow from the start (tail) of $x$ to the tip (head) of $y$. The new arrow represents the vector $x + y$.\n",
    "<img src=\"../../images/new_vector_addition.png\" width=\"350\">\n",
    "\n",
    "You can perform addition operations in Numpy in the following way:\n",
    "```python\n",
    "import numpy as np\n",
    "\n",
    "# Adding 1D arrays\n",
    "a = np.array([1, 2, 3])\n",
    "b = np.array([4, 5, 6]) \n",
    "c = a + b\n",
    "c\n",
    "```"
   ]
  },
  {
   "cell_type": "code",
   "execution_count": 1,
   "metadata": {},
   "outputs": [
    {
     "data": {
      "text/plain": [
       "array([5, 7, 9])"
      ]
     },
     "execution_count": 1,
     "metadata": {},
     "output_type": "execute_result"
    }
   ],
   "source": [
    "import numpy as np\n",
    "a = np.array([1,2,3])\n",
    "b = np.array([4,5,6])\n",
    "c = a + b\n",
    "c "
   ]
  },
  {
   "cell_type": "markdown",
   "metadata": {},
   "source": [
    "Subtracting a vector is the same as adding its negative. So, the difference of the vectors x and y is equal to the sum of x and -y: \n",
    "> $x - y = x + (-y)$\n",
    "\n",
    "Geometrically, when we subtract y from x, we place the end points of x and y at the same point, and then draw an arrow from the tip of y to the tip of x. That arrow represents the vector x - y.\n",
    "<img src=\"images/new_vector_subtraction.png\" width=\"400\">\n",
    "\n",
    "Mathematically, we subtract the corresponding components of vector y from the vector x: \n",
    "\n",
    "```python\n",
    "# Subtracting 1D arrays\n",
    "a = np.array([1, 2, 3])\n",
    "b = np.array([4, 5, 6]) \n",
    "c = b - a\n",
    "c\n",
    "```"
   ]
  },
  {
   "cell_type": "code",
   "execution_count": 2,
   "metadata": {},
   "outputs": [
    {
     "data": {
      "text/plain": [
       "array([3, 3, 3])"
      ]
     },
     "execution_count": 2,
     "metadata": {},
     "output_type": "execute_result"
    }
   ],
   "source": [
    "a = np.array([1, 2, 3])\n",
    "b = np.array([4, 5, 6]) \n",
    "c = b - a\n",
    "c"
   ]
  },
  {
   "cell_type": "markdown",
   "metadata": {},
   "source": [
    "Now lets try addition with matrices: "
   ]
  },
  {
   "cell_type": "markdown",
   "metadata": {},
   "source": [
    "``` python\n",
    "# Adding 2D matrices\n",
    "A = np.array([[1, 2], [3, 4], [5, 6]])\n",
    "B = np.array([[1, 4], [2, 5], [2, 3]])\n",
    "# Add matrices A and B\n",
    "C = A + B\n",
    "C\n",
    "```"
   ]
  },
  {
   "cell_type": "code",
   "execution_count": 3,
   "metadata": {},
   "outputs": [
    {
     "data": {
      "text/plain": [
       "array([[2, 6],\n",
       "       [5, 9],\n",
       "       [7, 9]])"
      ]
     },
     "execution_count": 3,
     "metadata": {},
     "output_type": "execute_result"
    }
   ],
   "source": [
    "# Adding 2D matrices\n",
    "A = np.array([[1, 2], [3, 4], [5, 6]])\n",
    "B = np.array([[1, 4], [2, 5], [2, 3]])\n",
    "# Add matrices A and B\n",
    "C = A + B\n",
    "C"
   ]
  },
  {
   "cell_type": "markdown",
   "metadata": {},
   "source": [
    "```python\n",
    "# Add matrices with mismatched dimensions\n",
    "A = np.array([[1, 2], [3, 4], [5, 6]])\n",
    "B = np.array([[1, 4], [2, 5]])\n",
    "# Add matrices A and B\n",
    "C = A + B\n",
    "C\n",
    "```"
   ]
  },
  {
   "cell_type": "code",
   "execution_count": null,
   "metadata": {},
   "outputs": [],
   "source": []
  },
  {
   "cell_type": "code",
   "execution_count": null,
   "metadata": {},
   "outputs": [],
   "source": []
  },
  {
   "cell_type": "code",
   "execution_count": null,
   "metadata": {},
   "outputs": [],
   "source": []
  },
  {
   "cell_type": "code",
   "execution_count": null,
   "metadata": {},
   "outputs": [],
   "source": []
  },
  {
   "cell_type": "code",
   "execution_count": null,
   "metadata": {},
   "outputs": [],
   "source": []
  },
  {
   "cell_type": "code",
   "execution_count": null,
   "metadata": {},
   "outputs": [],
   "source": []
  }
 ],
 "metadata": {
  "kernelspec": {
   "display_name": "Python [conda env:learn-env] *",
   "language": "python",
   "name": "conda-env-learn-env-py"
  },
  "language_info": {
   "codemirror_mode": {
    "name": "ipython",
    "version": 3
   },
   "file_extension": ".py",
   "mimetype": "text/x-python",
   "name": "python",
   "nbconvert_exporter": "python",
   "pygments_lexer": "ipython3",
   "version": "3.6.10"
  }
 },
 "nbformat": 4,
 "nbformat_minor": 4
}
