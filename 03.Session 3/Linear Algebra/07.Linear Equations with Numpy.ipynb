{
 "cells": [
  {
   "cell_type": "markdown",
   "metadata": {},
   "source": [
    "# Solving Systems of Linear Equations with NumPy \n",
    "\n",
    "## Introduction\n",
    "\n",
    "In this lesson, you'll learn how to solve a system of linear equations using matrix algebra and Numpy.  You'll also learn about the identity matrix and inverse matrices, which have some unique properties that can be used to solve for unknown values in systems of linear equations. You'll also learn how to create these using Numpy. \n",
    "\n",
    "## Objectives\n",
    "\n",
    "You will be able to:\n",
    "\n",
    "- Define the identity matrix and its dot product \n",
    "- Define the inverse of a matrix \n",
    "- Calculate the inverse of a matrix in order to solve linear problems \n",
    "- Use matrix algebra and Numpy to solve a system of linear equations given a real-life example \n",
    "\n",
    "\n",
    "\n",
    "## Identity matrix\n",
    "\n",
    "An identity matrix is a matrix whose dot product with another matrix $M$ equals the same matrix $M$.\n",
    "\n",
    "The identity matrix is a square matrix which contains **1**s along the major diagonal (from the top left to the bottom right), while all its other entries are **0**s. The main diagonal is highlighted in the image below: \n",
    "\n",
    "<img src=\"../../images/diagonal.png\" width=\"250\">\n",
    "\n",
    "An identity matrix with the same $(3 \\times 3)$-shape contains all **1**s along this diagonal and **0**s everywhere else as shown below:\n",
    "\n",
    "$$\n",
    "  \\left[ {\\begin{array}{ccc}\n",
    "   1 & 0 & 0 \\\\\n",
    "   0 & 1 & 0 \\\\\n",
    "   0 & 0 & 1 \\\\\n",
    "  \\end{array} } \\right]\n",
    "$$\n",
    "\n",
    "\n",
    "This would be called a $(3 \\times 3)$ identity matrix. The $(n \\times n)$ identity matrix is usually denoted by $I_n$ which is a matrix with $n$ rows and $n$ columns. \n",
    "\n",
    "The identity matrix is also called the *unit matrix* or *elementary matrix*.\n",
    "\n",
    "\n",
    "### Dot product of a matrix and its identity matrix\n",
    "\n",
    "Let's try to multiply a matrix with its identity matrix and check the output. Let's start with the coefficient matrix from the previous problem:\n",
    "\n",
    "$$\n",
    "  \\left[ {\\begin{array}{cc}\n",
    "   1 & 2  \\\\\n",
    "   3 & 4  \\\\\n",
    "  \\end{array} } \\right]\n",
    "$$\n",
    "\n",
    "The identity matrix for this matrix would look like:\n",
    "\n",
    "$$\n",
    "  \\left[ {\\begin{array}{cc}\n",
    "   1 & 0  \\\\\n",
    "   0 & 1  \\\\\n",
    "  \\end{array} } \\right]\n",
    "$$\n",
    "\n",
    "The dot product for these two matrices can be calculated as:\n",
    "```python\n",
    "import numpy as np\n",
    "A = np.array([[2,1],[3,4]])\n",
    "I = np.array([[1,0],[0,1]])\n",
    "print(I.dot(A))\n",
    "print('\\n', A.dot(I))\n",
    "```"
   ]
  },
  {
   "cell_type": "code",
   "execution_count": 1,
   "metadata": {},
   "outputs": [],
   "source": [
    "import numpy as np"
   ]
  },
  {
   "cell_type": "code",
   "execution_count": 2,
   "metadata": {},
   "outputs": [
    {
     "name": "stdout",
     "output_type": "stream",
     "text": [
      "[[2 1]\n",
      " [3 4]]\n",
      "\n",
      " [[2 1]\n",
      " [3 4]]\n"
     ]
    }
   ],
   "source": [
    "A = np.array([[2,1] , [3,4]])\n",
    "I = np.array([[1,0], [0,1]])\n",
    "\n",
    "print(I.dot(A))\n",
    "print(\"\\n\" , A.dot(I))"
   ]
  },
  {
   "cell_type": "markdown",
   "metadata": {},
   "source": [
    "You see that the dot product of any matrix and the appropriate identity matrix is always the original matrix, regardless of the order in which the multiplication was performed! In other words, \n",
    "\n",
    "> $ A \\cdot I = I \\cdot A = A $\n",
    "\n",
    "NumPy comes with a built-in function `np.identity()` to create an identity matrix. Just pass in the dimension (number of rows or columns) as the argument. You can add an argument `dtype=int` to make sure the elements are integers (if not, your identity matrix will contain floats):\n",
    "```python\n",
    "print(np.identity(4, dtype=int))\n",
    "print(np.identity(5, dtype=int))\n",
    "```"
   ]
  },
  {
   "cell_type": "code",
   "execution_count": 3,
   "metadata": {},
   "outputs": [
    {
     "name": "stdout",
     "output_type": "stream",
     "text": [
      "[[1 0 0 0]\n",
      " [0 1 0 0]\n",
      " [0 0 1 0]\n",
      " [0 0 0 1]]\n",
      "[[1 0 0 0 0]\n",
      " [0 1 0 0 0]\n",
      " [0 0 1 0 0]\n",
      " [0 0 0 1 0]\n",
      " [0 0 0 0 1]]\n"
     ]
    }
   ],
   "source": [
    "print(np.identity(4, dtype = int))\n",
    "print(np.identity(5, dtype = int))"
   ]
  },
  {
   "cell_type": "markdown",
   "metadata": {},
   "source": [
    "## Inverse matrix\n",
    "\n",
    "The *inverse* of a square matrix *A*, sometimes called a *reciprocal matrix*, is a matrix $A^{-1}$such that\n",
    "\n",
    "> $A \\cdot A^{-1} = I$\n",
    "\n",
    "where $I$ is the identity matrix \n",
    "\n",
    "The inverse of a matrix is analogous to taking reciprocal of a number and multiplying by itself to get a 1, e.g. $5 * 5^{-1} = 1$. Let's see how to get inverse of a matrix in NumPy. `numpy.linalg.inv(a)` takes in a matrix *A* and calculates its inverse as shown below: \n",
    "\n",
    "```python\n",
    "A = np.array([[4, 2, 1],[4, 8, 3],[1, 1, 0]])\n",
    "A_inv = np.linalg.inv(A)\n",
    "print(A_inv)\n",
    "```"
   ]
  },
  {
   "cell_type": "code",
   "execution_count": 4,
   "metadata": {},
   "outputs": [
    {
     "name": "stdout",
     "output_type": "stream",
     "text": [
      "[[ 0.16666667 -0.16666667  1.        ]\n",
      " [-0.16666667  0.16666667  0.        ]\n",
      " [ 0.66666667  0.33333333 -4.        ]]\n"
     ]
    }
   ],
   "source": [
    "A = np.array([[4,2,1] , [4,8,1] , [1,1,0]])\n",
    "A_inv = np.linalg.inv(A)\n",
    "\n",
    "print(A_inv)"
   ]
  },
  {
   "cell_type": "markdown",
   "metadata": {},
   "source": [
    "+ This is great. So according to the principle shown above, if we multiply $A$ with $A^{-1}$, we should get an identity matrix $I$ as the output: \n",
    "\n",
    "```python\n",
    "A_product = np.dot(A, A_inv)\n",
    "A_product\n",
    "```"
   ]
  },
  {
   "cell_type": "code",
   "execution_count": 5,
   "metadata": {},
   "outputs": [
    {
     "data": {
      "text/plain": [
       "array([[ 1.00000000e+00,  0.00000000e+00,  0.00000000e+00],\n",
       "       [ 0.00000000e+00,  1.00000000e+00,  0.00000000e+00],\n",
       "       [-2.77555756e-17,  0.00000000e+00,  1.00000000e+00]])"
      ]
     },
     "execution_count": 5,
     "metadata": {},
     "output_type": "execute_result"
    }
   ],
   "source": [
    "A_product = np.dot(A, A_inv)\n",
    "A_product"
   ]
  },
  {
   "cell_type": "markdown",
   "metadata": {},
   "source": [
    "Note that the expected output was an identity matrix. Although you have **1**s along the major diagonal, the float operations returned not zeros but numbers very close to zero off-diagonal. Numpy has a `np.matrix.round()` function to convert each element of the above matrix into a decimal form. \n",
    "\n",
    "```python\n",
    "np.matrix.round(A_product)\n",
    "```"
   ]
  },
  {
   "cell_type": "code",
   "execution_count": 6,
   "metadata": {},
   "outputs": [
    {
     "data": {
      "text/plain": [
       "array([[ 1.,  0.,  0.],\n",
       "       [ 0.,  1.,  0.],\n",
       "       [-0.,  0.,  1.]])"
      ]
     },
     "execution_count": 6,
     "metadata": {},
     "output_type": "execute_result"
    }
   ],
   "source": [
    "np.matrix.round(A_product)"
   ]
  },
  {
   "cell_type": "markdown",
   "metadata": {},
   "source": [
    "This looks more like the identity matrix that we saw earlier. The negative signs remain after rounding off as the original small values were negative. This, however, won't affect computation in any way. \n",
    "\n",
    "## Why do we need an inverse?\n",
    "\n",
    "You need an inverse because you can't perform division operations with matrices! **There is no concept of dividing by a matrix**. However, you can multiply by an inverse, which achieves the same thing.\n",
    "\n",
    "Imagine you want to share 10 apples with 2 people.\n",
    "\n",
    "You can divide 10 by 2, or you can take the reciprocal of 2 (which is 0.5), so the answer is:\n",
    "\n",
    "$10 \\times 0.5 = 5$ - which means they get 5 apples each.\n",
    "\n",
    "We use the very same idea here and this can be used to solve a system of linear equation in the problems we saw earlier in the section where: \n",
    "\n",
    "> $A \\cdot X = B$ (remember $A$ is the matrix of coefficients, $X$ is the unknown variable and $B$ is the output)\n",
    "\n",
    "Say you want to find matrix $X$, when you already know matrices $A$ and $B$:\n",
    "\n",
    "It would've been great if you could divide both sides by $A$ to get $X = B / A$, but remember that you can't divide. You can obtain this if you multiply both sides by $A^{-1}$, as shown below:\n",
    "\n",
    "> $ A^{-1} \\cdot A \\cdot X = A^{-1} \\cdot B$\n",
    "\n",
    "From above, we that A . A<sup>-1</sup> = I, so:\n",
    "\n",
    "> $I \\cdot X = A^{-1} \\cdot B$\n",
    "\n",
    "We can remove I (because multiplying with the identity matrix doesn't change a matrix). so:\n",
    "\n",
    "> $X = A^{-1} \\cdot B$\n",
    "\n",
    "And there we have it, our answer. \n",
    "\n",
    "## Solve a system of equations with matrix algebra \n",
    "\n",
    "Now that you know everything about converting a simple real world problem into matrix format, and steps to solve the problem, let's try it out with the apples and bananas problem:\n",
    "\n",
    "Let's say you go to a market and buy 2 apples and 1 banana. For this you end up paying 35 pence. If you denote apples by $a$ and bananas by $b$, the relationship between bought items bought and price paid can be written down as:\n",
    "\n",
    "$2a + b = 35$  - (Eq. A)\n",
    "\n",
    "In your next trip to the market, you buy 3 apples and 4 bananas, and the cost is 65 pence:\n",
    "\n",
    "$3a + 4b = 65$ - (Eq. B)\n",
    "\n",
    "As seen before, this is what that looks like in matrix notation:\n",
    "\n",
    "<img src=\"../../images/ab.png\" width = \"280\">"
   ]
  },
  {
   "cell_type": "markdown",
   "metadata": {},
   "source": [
    "So first we'll need to calculate the inverse of the square matrix containing coefficient values: \n",
    "```python\n",
    "# Define A and B \n",
    "A = np.matrix([[2, 1], [3, 4]])\n",
    "B = np.matrix([35, 65])\n",
    "\n",
    "# Take the inverse of Matrix A \n",
    "A_inv = np.linalg.inv(A)\n",
    "A_inv\n",
    "```"
   ]
  },
  {
   "cell_type": "code",
   "execution_count": 7,
   "metadata": {},
   "outputs": [],
   "source": [
    "A = np.matrix([[2,1] , [3,4]])\n",
    "B = np.matrix([35 , 65])\n",
    "\n",
    "A_inv = np.linalg.inv(A)"
   ]
  },
  {
   "cell_type": "markdown",
   "metadata": {},
   "source": [
    "You can now take a dot product of `A_inv` and `B`. Also, as you want the output in the vector format (containing one column and two rows), you would need to transpose the matrix `B` to satisfy the multiplication rule you saw previously.\n",
    "\n",
    "> **The product of an $M \\times N$ matrix and an $N \\times K$ matrix is an $M \\times K$ matrix. The new matrix takes the number of rows from the first matrix and the number of columns from the second matrix**\n",
    "\n",
    "```python\n",
    "# Check the shape of B before after transposing\n",
    "print(B.shape)\n",
    "B = B.T\n",
    "print (B.shape)\n",
    "B\n",
    "```"
   ]
  },
  {
   "cell_type": "code",
   "execution_count": 8,
   "metadata": {},
   "outputs": [
    {
     "name": "stdout",
     "output_type": "stream",
     "text": [
      "(1, 2)\n",
      "(2, 1)\n"
     ]
    },
    {
     "data": {
      "text/plain": [
       "matrix([[35],\n",
       "        [65]])"
      ]
     },
     "execution_count": 8,
     "metadata": {},
     "output_type": "execute_result"
    }
   ],
   "source": [
    "print(B.shape)\n",
    "B = B.T\n",
    "\n",
    "print(B.shape)\n",
    "B"
   ]
  },
  {
   "cell_type": "markdown",
   "metadata": {},
   "source": [
    "Now, you can easily calculate $X$ as below:\n",
    "\n",
    "```python\n",
    "X = A_inv.dot(B)\n",
    "X\n",
    "```"
   ]
  },
  {
   "cell_type": "code",
   "execution_count": 9,
   "metadata": {},
   "outputs": [
    {
     "data": {
      "text/plain": [
       "matrix([[15.],\n",
       "        [ 5.]])"
      ]
     },
     "execution_count": 9,
     "metadata": {},
     "output_type": "execute_result"
    }
   ],
   "source": [
    "X = A_inv.dot(B)\n",
    "X"
   ]
  },
  {
   "cell_type": "markdown",
   "metadata": {},
   "source": [
    "You can see that the prices of apples and bananas have been calculated as 15p per apple and 5p per banana, and these values satisfy both equations. Great!\n",
    "\n",
    "The dot product of $A$ and $X$ should give matrix $B$. Let's try it:\n",
    "```python\n",
    "print(A.dot(X))\n",
    "print(B)\n",
    "```"
   ]
  },
  {
   "cell_type": "code",
   "execution_count": 10,
   "metadata": {},
   "outputs": [
    {
     "name": "stdout",
     "output_type": "stream",
     "text": [
      "[[35.]\n",
      " [65.]]\n",
      "[[35]\n",
      " [65]]\n"
     ]
    }
   ],
   "source": [
    "print(A.dot(X))\n",
    "print(B)"
   ]
  },
  {
   "cell_type": "markdown",
   "metadata": {},
   "source": [
    "&#9989; Success!\n",
    "\n",
    "**You can also use `numpy.linalg.solve()` to solve a system of linear equations!**\n",
    "\n",
    "Numpy has a built-in function to solve such equations as `numpy.linalg.solve(a, b)` which takes in matrices in the correct orientation, and gives the answer by calculating the inverse. Here is how to use it. \n",
    "\n",
    "```python\n",
    "# Use Numpy's built in function solve() to solve linear equations\n",
    "x = np.linalg.solve(A, B)\n",
    "x\n",
    "```"
   ]
  },
  {
   "cell_type": "code",
   "execution_count": 11,
   "metadata": {},
   "outputs": [
    {
     "data": {
      "text/plain": [
       "matrix([[15.],\n",
       "        [ 5.]])"
      ]
     },
     "execution_count": 11,
     "metadata": {},
     "output_type": "execute_result"
    }
   ],
   "source": [
    "x = np.linalg.solve(A, B)\n",
    "x"
   ]
  },
  {
   "cell_type": "code",
   "execution_count": null,
   "metadata": {},
   "outputs": [],
   "source": []
  },
  {
   "cell_type": "markdown",
   "metadata": {},
   "source": [
    "# Exercise"
   ]
  },
  {
   "cell_type": "code",
   "execution_count": null,
   "metadata": {},
   "outputs": [],
   "source": []
  },
  {
   "cell_type": "markdown",
   "metadata": {},
   "source": [
    "<center> 1a + 1b = 35 </center>\n",
    "<center>2a + 4b = 94 </center>\n",
    "\n",
    "<p> </p> \n",
    "\n",
    "$$A = \\left[ \\begin{array}{ccc} 1 & 1 \\\\ 2 & 4 \\\\ \\end{array} \\right]$$ \n",
    "<p></p>\n",
    "$$X = \\left[ \\begin{array}{c} a \\\\ b \\\\ \\end{array} \\right]  $$\n",
    "<p></p>\n",
    "$$B = \\left[ \\begin{array}{c} 35 \\\\ 94 \\\\ \\end{array} \\right]$$\n",
    "<p></p>\n",
    "$$\\left[ \\begin{array}{ccc} 1 & 1 \\\\ 2 & 4 \\\\ \\end{array} \\right]\\left[ \\begin{array}{c} a \\\\ b \\\\ \\end{array} \\right] = \\left[ \\begin{array}{c} 35 \\\\ 94 \\\\ \\end{array} \\right] $$ \n",
    "<p></p>\n",
    "<center> AX = B </center>\n",
    "<p> </p>\n",
    "<center> A<sup>-1 </sup>AX = A<sup>-1</sup>B  </center>\n",
    "<p> </p>\n",
    "    \n",
    "<center>X = A<sup>-1</sup>B </center>"
   ]
  },
  {
   "cell_type": "code",
   "execution_count": 12,
   "metadata": {},
   "outputs": [
    {
     "name": "stdout",
     "output_type": "stream",
     "text": [
      "[[23.]\n",
      " [12.]]\n"
     ]
    }
   ],
   "source": [
    "# define matrixes\n",
    "A = np.matrix([[1,1], [2,4]])\n",
    "B = np.matrix([[35],[94]])\n",
    "\n",
    "# inverse of A\n",
    "inverse_A = np.linalg.inv(A)\n",
    "\n",
    "# Finding x\n",
    "X = inverse_A * B\n",
    "print(X)"
   ]
  },
  {
   "cell_type": "code",
   "execution_count": null,
   "metadata": {},
   "outputs": [],
   "source": []
  },
  {
   "cell_type": "markdown",
   "metadata": {},
   "source": [
    "## Further Reading\n",
    "\n",
    "* [Youtube: Solving System of Linear Equations using Python](https://youtu.be/AqIrdW2-K6k)\n",
    "* [Inverse of a matrix](http://www.mathwords.com/i/inverse_of_a_matrix.htm)\n",
    "* [Don't invert that matrix](https://www.johndcook.com/blog/2010/01/19/dont-invert-that-matrix/)"
   ]
  },
  {
   "cell_type": "code",
   "execution_count": null,
   "metadata": {},
   "outputs": [],
   "source": []
  },
  {
   "cell_type": "markdown",
   "metadata": {},
   "source": [
    "# Solving Systems of Linear Equations with NumPy - Exercises\n",
    "\n",
    "Now you've gathered all the required skills needed to solve systems of linear equations. You saw why there was a need to calculate inverses of matrices, followed by matrix multiplication to figure out the values of unknown variables. \n",
    "\n",
    "The exercises in this lab present some problems that can be converted into a system of linear equations. \n",
    "\n",
    "## Objectives\n",
    "You will be able to:\n",
    "\n",
    "- Use matrix algebra and NumPy to solve a system of linear equations given a real-life example \n",
    "- Use NumPy's linear algebra solver to solve for systems of linear equations\n",
    "\n",
    "## Exercise 1\n",
    "\n",
    "A coffee shop is having a sale on coffee and tea. \n",
    "\n",
    "On day 1, 29 bags of coffee and 41 bags of tea were sold, for a total of 490 dollars.\n",
    "\n",
    "On day 2, they sold 23 bags of coffee and 41 bags of tea, for which customers paid a total of 448 dollars.  \n",
    "\n",
    "How much does each bag cost?"
   ]
  },
  {
   "cell_type": "code",
   "execution_count": 2,
   "metadata": {},
   "outputs": [
    {
     "name": "stdout",
     "output_type": "stream",
     "text": [
      "[[7.]\n",
      " [7.]]\n"
     ]
    },
    {
     "data": {
      "text/plain": [
       "matrix([[7.],\n",
       "        [7.]])"
      ]
     },
     "execution_count": 2,
     "metadata": {},
     "output_type": "execute_result"
    }
   ],
   "source": [
    "# Create and solve the relevant system of equations\n",
    "A = np.matrix([[29,41] , [23,41]])\n",
    "B = np.matrix([[490 , 448]])\n",
    "\n",
    "#calculate inverse of A and take the dot product\n",
    "A_inv = np.linalg.inv(A)\n",
    "X = A_inv.dot(B.T)\n",
    "\n",
    "print(X)\n",
    "\n",
    "#verify the answer linalg.solve()\n",
    "np.linalg.solve(A, B.T)"
   ]
  },
  {
   "cell_type": "code",
   "execution_count": null,
   "metadata": {},
   "outputs": [],
   "source": [
    "# Describe your result\n",
    "#bag of coffee = $7 , bag of tea = $7"
   ]
  },
  {
   "cell_type": "code",
   "execution_count": null,
   "metadata": {},
   "outputs": [],
   "source": []
  },
  {
   "cell_type": "markdown",
   "metadata": {},
   "source": [
    "## Exercise 2\n",
    "\n",
    "The cost of admission to a popular music concert was 162 dollars for 12 children and 3 adults. \n",
    "\n",
    "The admission was 122 dollars for 8 children and 3 adults in the same music concert. \n",
    "\n",
    "How much was the admission for each child and adult?"
   ]
  },
  {
   "cell_type": "code",
   "execution_count": 3,
   "metadata": {},
   "outputs": [
    {
     "name": "stdout",
     "output_type": "stream",
     "text": [
      "[[10.]\n",
      " [14.]]\n"
     ]
    },
    {
     "data": {
      "text/plain": [
       "matrix([[10.],\n",
       "        [14.]])"
      ]
     },
     "execution_count": 3,
     "metadata": {},
     "output_type": "execute_result"
    }
   ],
   "source": [
    "# Create and solve the relevant system of equations\n",
    "A = np.matrix([[12,3] , [8,3]])\n",
    "B = np.matrix([[162 ,122]])\n",
    "\n",
    "#Calculate inverse of A and take the dot product\n",
    "A_inv = np.linalg.inv(A)\n",
    "X = A_inv.dot(B.T)\n",
    "\n",
    "print(X)\n",
    "\n",
    "#Verify the answer linalg.solve()\n",
    "np.linalg.solve(A, B.T)"
   ]
  },
  {
   "cell_type": "code",
   "execution_count": null,
   "metadata": {},
   "outputs": [],
   "source": [
    "# Describe your result\n",
    "#price per child = $10 , price per adult = $14"
   ]
  },
  {
   "cell_type": "code",
   "execution_count": null,
   "metadata": {},
   "outputs": [],
   "source": []
  },
  {
   "cell_type": "markdown",
   "metadata": {},
   "source": [
    "## Exercise 3\n",
    "\n",
    "You want to make a soup containing tomatoes, carrots, and onions.\n",
    "\n",
    "Suppose you don't know the exact mix to put in, but you know there are 7 individual pieces of vegetables, and there are twice as many tomatoes as onions, and that the 7 pieces of vegetables cost 5.25 USD in total. \n",
    "You also know that onions cost 0.5 USD each, tomatoes cost 0.75 USD and carrots cost 1.25 USD each.\n",
    "\n",
    "Create a system of equations to find out exactly how many of each of the vegetables are in your soup."
   ]
  },
  {
   "cell_type": "code",
   "execution_count": 4,
   "metadata": {},
   "outputs": [
    {
     "name": "stdout",
     "output_type": "stream",
     "text": [
      "[[2.]\n",
      " [4.]\n",
      " [1.]]\n"
     ]
    },
    {
     "data": {
      "text/plain": [
       "matrix([[2.],\n",
       "        [4.],\n",
       "        [1.]])"
      ]
     },
     "execution_count": 4,
     "metadata": {},
     "output_type": "execute_result"
    }
   ],
   "source": [
    "# Let o represent onions, t - tomatoes and c - carrots.  p--> c .   b--> o, 0---> t\n",
    "\n",
    "# t + c + o = 7\n",
    "\n",
    "# .5o + .75t + 1.25c = 5.25\n",
    "\n",
    "#  t  = 2o which is equal to: -2o + t + 0c = 0\n",
    "\n",
    "\n",
    "# Create and solve the relevant system of equations\n",
    "A = np.matrix([[1,1,1] , [0.5 , 0.75 , 1.25] , [-2,1,0]])\n",
    "B = np.matrix([[7, 5.25 , 0 ]])\n",
    "\n",
    "#Calculate inverse of A and take the dot product\n",
    "A_inv = np.linalg.inv(A)\n",
    "X = A_inv.dot(B.T)\n",
    "print(X)\n",
    "\n",
    "#Verify the answer linalg.solve()\n",
    "np.linalg.solve(A,B.T)"
   ]
  },
  {
   "cell_type": "code",
   "execution_count": null,
   "metadata": {},
   "outputs": [],
   "source": [
    "# Describe your result\n",
    "#onions = 2 , tomatoes = 4 , carrots = 1 , needed to make the soup"
   ]
  },
  {
   "cell_type": "code",
   "execution_count": null,
   "metadata": {},
   "outputs": [],
   "source": []
  },
  {
   "cell_type": "code",
   "execution_count": null,
   "metadata": {},
   "outputs": [],
   "source": []
  },
  {
   "cell_type": "code",
   "execution_count": null,
   "metadata": {},
   "outputs": [],
   "source": []
  },
  {
   "cell_type": "code",
   "execution_count": null,
   "metadata": {},
   "outputs": [],
   "source": []
  },
  {
   "cell_type": "markdown",
   "metadata": {},
   "source": [
    "## Summary\n",
    "\n",
    "In this lesson, you learned how to calculate the inverse of a matrix in order to solve a system of linear equations. You applied the skills learned on the apples and bananas problem introduced earlier. The result of the calculations helped us get unit values of variables that satisfy both equations. In the next lab, you'll go through some other similar problems."
   ]
  },
  {
   "cell_type": "code",
   "execution_count": null,
   "metadata": {},
   "outputs": [],
   "source": []
  }
 ],
 "metadata": {
  "kernelspec": {
   "display_name": "Python [conda env:learn-env] *",
   "language": "python",
   "name": "conda-env-learn-env-py"
  },
  "language_info": {
   "codemirror_mode": {
    "name": "ipython",
    "version": 3
   },
   "file_extension": ".py",
   "mimetype": "text/x-python",
   "name": "python",
   "nbconvert_exporter": "python",
   "pygments_lexer": "ipython3",
   "version": "3.6.10"
  }
 },
 "nbformat": 4,
 "nbformat_minor": 4
}
