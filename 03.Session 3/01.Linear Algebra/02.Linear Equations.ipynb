{
 "cells": [
  {
   "cell_type": "markdown",
   "metadata": {},
   "source": [
    "# Systems of Linear Equations \n",
    "\n",
    "## Introduction\n",
    "\n",
    "Linear algebra is a sub-field of mathematics concerned with vectors, matrices, and linear transforms between them. \n",
    "The first step towards developing a good understanding of linear algebra is to get a good sense of *what linear mappings and linear equations* are, *how these relate to vectors and matrices* and *what this has to do with data analysis*. Let's try to develop a basic intuition around these ideas by first understanding what linear equations are. \n",
    "\n",
    "## Objectives\n",
    "\n",
    "You will be able to: \n",
    "\n",
    "- Describe a system of linear equations for solving analytical problems \n",
    "- Describe how matrices and vectors can be used to solve linear equations \n",
    "- Solve a system of equations using elimination and substitution \n",
    "\n",
    "\n",
    "## What are linear equations?\n",
    "\n",
    "In mathematics, a system of linear equations (or linear system) is a collection of two or more linear equations involving the same set of variables. For example, look at the following equations: \n",
    "\n",
    "$$\n",
    "3x + 2y - z = 0 \\\\\n",
    "2x- 2y + 4z = -2 \\\\\n",
    "-x + 0.5y - z = 0\n",
    "$$\n",
    "\n",
    "This is a system of three equations in the three variables $x$, $y$, and $z$. A solution to a linear system is an assignment of values to the variables in a way that *all the equations are simultaneously satisfied*. A solution to the system above is given by:\n",
    "\n",
    "$$\n",
    "x = 1 \\\\\n",
    "y = -8/3 \\\\\n",
    "z = -7/3\n",
    "$$\n",
    "\n",
    "These values make all three equations valid. The word \"system\" indicates that the equations are to be considered collectively, rather than individually.\n",
    "\n",
    "## Solving linear equations\n",
    "\n",
    "A system of linear equations can always be expressed in a matrix form. Algebraically, both of these express the same thing. Let's work with an example to see how this works: \n",
    "\n",
    "### Example \n",
    "\n",
    "Let's say you go to a market and buy 2 apples and 1 banana. For this, you end up paying 35 pence. If you denote apples by $a$ and bananas by $b$, the relationship between items bought and the price paid can be written down as an equation - let's call it Eq. A: \n",
    "\n",
    "$2a + b = 35$  - (Eq. A)\n",
    "\n",
    "On your next trip to the market, you buy 3 apples and 4 bananas, and the cost is 65 pence. Just like above, this can be written as Eq. B:\n",
    "\n",
    "$3a + 4b = 65$ - (Eq. B)\n",
    "\n",
    "These two equations (known as a simultaneous equations) form a system that can be solved by hand for values of $a$ and $b$ i.e., price of a single apple and banana.\n",
    " \n",
    "\n",
    "Let's solve this system for individual prices using a series of eliminations and substitutions:\n",
    "\n",
    "**Step 1:** Multiply Eq. A by 4\n",
    "\n",
    "$8a + 4b = 140$ - (Eq. C)\n",
    "\n",
    "**Step 2 :** Subtract Eq. B from Eq. C\n",
    "\n",
    "$5a = 75$ which leads to $a = 15$\n",
    "\n",
    "**Step 3:** Substitute the value of $a$ in Eq. A\n",
    "\n",
    "$30 + b = 35$ which leads to $b = 5$\n",
    "\n",
    "So the price of an apple is 15 pence and the price of the banana is 5 pence. \n",
    "\n",
    "## From equations to vectors and matrices\n",
    "\n",
    "Now, as your number of shopping trips increase along with the number of items you buy at each trip, the system of equations will become more complex and solving a system for individual price may become very expensive in terms of time and effort. In these cases, you can use a computer to find the solution.\n",
    "\n",
    "The above example is a classic linear algebra problem. The numbers 2 and 1 from Eq. A and 3 and 4 from Eq. B are linear coefficients that relate input variables a and b to the known output 15 and 5.\n",
    "\n",
    "Using linear algebra, we can write this system of equations as shown below: \n",
    "\n",
    "<img src=\"../../images/ss.png\" width = \"320\">\n",
    "\n",
    "\n",
    "You see that in order for a computational algorithm to solve this (and other similar) problems, we need to first convert the data we have into a set of matrix and vector objects. Machine learning involves building up these objects from the given data, understanding their relationships and how to process them for a particular problem. \n",
    "\n",
    "Solving these equations requires knowledge of defining these vectors and matrices in a computational environment and of operations that can be performed on these entities to solve for unknown variables as we saw above. We'll look into how to do this in upcoming lessons. \n"
   ]
  },
  {
   "cell_type": "markdown",
   "metadata": {},
   "source": [
    "# Systems of Linear Equations - Exercise\n",
    "\n",
    "## Introduction\n",
    "The following scenarios present problems that can be solved as a system of equations while performing substitutions and eliminations as you saw in the previous lesson.\n",
    "\n",
    "* Solve these problems by hand, showing all the steps to work out the unknown variable values \n",
    "* Verify your answers by showing the calculated values satisfy all equations\n",
    "\n",
    "## Objectives\n",
    "\n",
    "In this lab you will: \n",
    "\n",
    "- Solve a system of equations using elimination and substitution\n",
    "\n",
    "## Exercise 1\n",
    "Jane paid 12 dollars for 4 cups of coffee and 4 cups of tea. 3 cups of coffee cost as much as 2 cups of tea. What would be the total cost of 5 cups of coffee and 5 cups of tea?\n",
    "\n",
    "### Solution\n",
    "\n",
    "> Let $x$ be the unit price of coffee and $y$ be the unit price of tea"
   ]
  },
  {
   "cell_type": "markdown",
   "metadata": {},
   "source": [
    "\"\"\"\n",
    "A) 4x + 4y = 12\n",
    "\n",
    "B) 3x - 2y = 0 \n",
    "\n",
    "From (A):\n",
    "x = 3-y\n",
    "\n",
    "Substituting y in (B):\n",
    "3(3-y) - 2y = 0\n",
    "\n",
    "9 - 3y - 2y = 6\n",
    "\n",
    "y = 9/5 = 1.8\n",
    "\n",
    "From (A)\n",
    "4x +4(1.8) = 12\n",
    "\n",
    "x = (12-7.2)/4\n",
    "\n",
    "x = 1.2\n",
    "\n",
    "Check condition 3x = 2y\n",
    "3(1.2) = 2(1.8)\n",
    "\n",
    "3.6 = 3.6\n",
    "\n",
    "5 cups of tea and 5 cups of coffee\n",
    "5(1.2)+ 5(1.8)\n",
    "\n",
    "= 15 dollars.\n",
    "\"\"\""
   ]
  },
  {
   "cell_type": "code",
   "execution_count": null,
   "metadata": {},
   "outputs": [],
   "source": [
    "# solution \n",
    "# Answer: 5 cups of tea and 5 cups of coffee = 15 dollars"
   ]
  },
  {
   "cell_type": "code",
   "execution_count": null,
   "metadata": {},
   "outputs": [],
   "source": []
  },
  {
   "cell_type": "markdown",
   "metadata": {},
   "source": [
    "## Exercise 2\n",
    "\n",
    "Jim has more money than Bob. If Jim gave Bob 20 dollars, they would have the same amount. If Bob gave Jim 22 dollars, however, Jim would then have twice as much as Bob. \n",
    "\n",
    "How much does each one actually have?\n",
    "\n",
    "### Solution\n",
    "> Let x be the amount of money that Jim has and y be the amount that Bob has "
   ]
  },
  {
   "cell_type": "code",
   "execution_count": null,
   "metadata": {},
   "outputs": [],
   "source": [
    "If Jim gave Bob $20, they would have the same amount.\n",
    "\n",
    "1) x − 20 = y + 20\n",
    "If Bob gave Jim $22, Jim would then have twice as much as Bob.\n",
    "2) x + 22 = 2(y − 22)\n",
    "\n",
    "From (1)\n",
    "x = y + 40 (3)\n",
    "\n",
    "Substitute x in (2)\n",
    "y + 40 + 22 = 2(y − 22)\n",
    "\n",
    "y = 106 (Bob's amount)\n",
    "\n",
    "From (3)\n",
    "x = 106 + 40\n",
    "\n",
    "x = 146 (Jim's amount)"
   ]
  },
  {
   "cell_type": "code",
   "execution_count": null,
   "metadata": {},
   "outputs": [],
   "source": [
    "# Solution  \n",
    "# Answer:\n",
    "# y = 106 (Bob's amount)\n",
    "# x = 146 (Jim's amount)"
   ]
  },
  {
   "cell_type": "code",
   "execution_count": null,
   "metadata": {},
   "outputs": [],
   "source": []
  },
  {
   "cell_type": "markdown",
   "metadata": {},
   "source": [
    "## Exercise 3\n",
    "\n",
    "Mia has 30 coins, consisting of quarters (25 cents) and dimes (10 cents), which totals to the amount 5.70 dollars.  \n",
    "How many of each does she have?\n",
    "\n",
    "### Solution\n",
    "\n",
    "> Let x be the number of quarters and y be the number of dimes "
   ]
  },
  {
   "cell_type": "code",
   "execution_count": null,
   "metadata": {},
   "outputs": [],
   "source": [
    "The equations are:\n",
    "\n",
    "1) x + y = 30\n",
    "2) .25x + .10y = 5.70\n",
    "To eliminate y, multiply equation (1) by −10 and equation (2) by 100:\n",
    "\n",
    "3) −10x − 10y = −300\n",
    "4) 25x + 10y = 570\n",
    "\n",
    "Add (3) and (4):\n",
    "15x = 270\n",
    "x = 18\n",
    "\n",
    "Therefore,\n",
    "\n",
    "y = 30 − 18 = 12"
   ]
  },
  {
   "cell_type": "code",
   "execution_count": null,
   "metadata": {},
   "outputs": [],
   "source": [
    "# Your solution here \n",
    "# Answer:\n",
    "# x = 18 quarters\n",
    "# y = 12 dimes"
   ]
  },
  {
   "cell_type": "markdown",
   "metadata": {},
   "source": [
    "## Level up (Optional)\n",
    "For more practice with linear equations, visit the following links for more complex equations:\n",
    "\n",
    "* https://www.transum.org/software/SW/Starter_of_the_day/Students/Simultaneous_Equations.asp?Level=6\n",
    "* https://www.transum.org/software/SW/Starter_of_the_day/Students/Simultaneous_Equations.asp?Level=7\n"
   ]
  },
  {
   "cell_type": "markdown",
   "metadata": {},
   "source": [
    "\n",
    "## Summary\n",
    "\n",
    "In this lesson, you learned how a system of linear (simultaneous) equations can be solved using elimination and substitution, and also, how to covert these problems into matrices and vectors to be processed by computational algorithms. In the next couple of lessons, we'll look at how to describe these entities in Python and NumPy and also how to perform arithmetic operations to solve these types of equations."
   ]
  },
  {
   "cell_type": "markdown",
   "metadata": {},
   "source": [
    "\n",
    "In this lesson, you learned how to solve linear equations by hand to find the coefficient values. You'll now move forward to have a deeper look into vectors and matrices and how Python and NumPy can help us solve more complex equations in an analytical context. "
   ]
  },
  {
   "cell_type": "code",
   "execution_count": null,
   "metadata": {},
   "outputs": [],
   "source": []
  }
 ],
 "metadata": {
  "kernelspec": {
   "display_name": "Python 3",
   "language": "python",
   "name": "python3"
  },
  "language_info": {
   "codemirror_mode": {
    "name": "ipython",
    "version": 3
   },
   "file_extension": ".py",
   "mimetype": "text/x-python",
   "name": "python",
   "nbconvert_exporter": "python",
   "pygments_lexer": "ipython3",
   "version": "3.6.10"
  }
 },
 "nbformat": 4,
 "nbformat_minor": 4
}
