{
 "cells": [
  {
   "cell_type": "markdown",
   "metadata": {},
   "source": [
    "# Vector Addition and Broadcasting in Numpy - Code Along\n",
    "\n",
    "## Introduction\n",
    "\n",
    "This lesson is a supplement to the previous lesson where you learned how to create Numpy arrays as vectors and matrices. In this lesson, you'll look at matrix addition and broadcasting features offered by Numpy.\n",
    "\n",
    "## Objectives\n",
    "You will be able to:\n",
    "- Implement vector addition in Numpy \n",
    "- Describe how broadcasting differs from addition if there are mismatched dimensions \n",
    "\n",
    "\n",
    "## Vector addition\n",
    "\n",
    "Let's look at simple vector addition, where all operations are performed element-wise between two vectors/matrices of equal size to result in a new vector/matrix with the same size.\n",
    "\n",
    "Imagine two arrays A and B with the same dimensions. They can be added together if: \n",
    "\n",
    "* they have the same shape\n",
    "* each cell of A is added to the corresponding cell of B\n",
    "\n",
    "$A_{i,j} +B_{i,j} = C_{i,j}$\n",
    "\n",
    "\n",
    "$$ C=\n",
    "  \\left[ {\\begin{array}{cc}\n",
    "   A_{1,1} & A_{1,2} \\\\\n",
    "   A_{2,1} & A_{2,2} \\\\\n",
    "   A_{3,1} & A_{3,2} \\\\\n",
    "  \\end{array} } \\right] +\n",
    "    \\left[ {\\begin{array}{cc}\n",
    "   B_{1,1} & B_{1,2} \\\\\n",
    "   B_{2,1} & B_{2,2} \\\\\n",
    "   B_{3,1} & B_{3,2} \\\\\n",
    "  \\end{array} } \\right] =\n",
    "   \\left[ {\\begin{array}{cc}\n",
    "   A_{1,1} + B_{1,1} & A_{1,2} + B_{1,2}\\\\\n",
    "   A_{2,1} + B_{2,1}& A_{2,2} + B_{2,2} \\\\\n",
    "   A_{3,1} + B_{3,1} & A_{3,2} + B_{3,2} \\\\\n",
    "  \\end{array} } \\right] \n",
    "$$\n",
    "\n",
    "\n",
    "\n",
    "\n",
    "here $A_(i, j)$ and $B_(i, j)$ represent row and column locations. This is a more standard notation that you will find in most literature. Another visual representation is shown below:\n",
    "<img src=\"../../images/new_addition.png\" width=\"250\">\n",
    "\n",
    "\n",
    "1D-arrays can be added together in exactly the same way using similar assumptions. The addition of two vectors $x$ and $y$ may be represented graphically by placing the start of the arrow y at the tip of the arrow x, and then drawing an arrow from the start (tail) of $x$ to the tip (head) of $y$. The new arrow represents the vector $x + y$.\n",
    "<img src=\"../../images/new_vector_addition.png\" width=\"350\">\n",
    "\n",
    "You can perform addition operations in Numpy in the following way:\n",
    "```python\n",
    "import numpy as np\n",
    "\n",
    "# Adding 1D arrays\n",
    "a = np.array([1, 2, 3])\n",
    "b = np.array([4, 5, 6]) \n",
    "c = a + b\n",
    "c\n",
    "```"
   ]
  },
  {
   "cell_type": "code",
   "execution_count": 1,
   "metadata": {},
   "outputs": [
    {
     "data": {
      "text/plain": [
       "array([5, 7, 9])"
      ]
     },
     "execution_count": 1,
     "metadata": {},
     "output_type": "execute_result"
    }
   ],
   "source": [
    "import numpy as np\n",
    "a = np.array([1,2,3])\n",
    "b = np.array([4,5,6])\n",
    "c = a + b\n",
    "c "
   ]
  },
  {
   "cell_type": "markdown",
   "metadata": {},
   "source": [
    "Subtracting a vector is the same as adding its negative. So, the difference of the vectors x and y is equal to the sum of x and -y: \n",
    "> $x - y = x + (-y)$\n",
    "\n",
    "Geometrically, when we subtract y from x, we place the end points of x and y at the same point, and then draw an arrow from the tip of y to the tip of x. That arrow represents the vector x - y.\n",
    "<img src=\"../../images/new_vector_subtraction.png\" width=\"400\">\n",
    "\n",
    "Mathematically, we subtract the corresponding components of vector y from the vector x: \n",
    "\n",
    "```python\n",
    "# Subtracting 1D arrays\n",
    "a = np.array([1, 2, 3])\n",
    "b = np.array([4, 5, 6]) \n",
    "c = b - a\n",
    "c\n",
    "```"
   ]
  },
  {
   "cell_type": "code",
   "execution_count": 2,
   "metadata": {},
   "outputs": [
    {
     "data": {
      "text/plain": [
       "array([3, 3, 3])"
      ]
     },
     "execution_count": 2,
     "metadata": {},
     "output_type": "execute_result"
    }
   ],
   "source": [
    "a = np.array([1, 2, 3])\n",
    "b = np.array([4, 5, 6]) \n",
    "c = b - a\n",
    "c"
   ]
  },
  {
   "cell_type": "markdown",
   "metadata": {},
   "source": [
    "Now lets try addition with matrices: "
   ]
  },
  {
   "cell_type": "markdown",
   "metadata": {},
   "source": [
    "``` python\n",
    "# Adding 2D matrices\n",
    "A = np.array([[1, 2], [3, 4], [5, 6]])\n",
    "B = np.array([[1, 4], [2, 5], [2, 3]])\n",
    "# Add matrices A and B\n",
    "C = A + B\n",
    "C\n",
    "```"
   ]
  },
  {
   "cell_type": "code",
   "execution_count": 3,
   "metadata": {},
   "outputs": [
    {
     "data": {
      "text/plain": [
       "array([[2, 6],\n",
       "       [5, 9],\n",
       "       [7, 9]])"
      ]
     },
     "execution_count": 3,
     "metadata": {},
     "output_type": "execute_result"
    }
   ],
   "source": [
    "# Adding 2D matrices\n",
    "A = np.array([[1, 2], [3, 4], [5, 6]])\n",
    "B = np.array([[1, 4], [2, 5], [2, 3]])\n",
    "# Add matrices A and B\n",
    "C = A + B\n",
    "C"
   ]
  },
  {
   "cell_type": "markdown",
   "metadata": {},
   "source": [
    "```python\n",
    "# Add matrices with mismatched dimensions\n",
    "A = np.array([[1, 2], [3, 4], [5, 6]])\n",
    "B = np.array([[1, 4], [2, 5]])\n",
    "# Add matrices A and B\n",
    "C = A + B\n",
    "C\n",
    "```"
   ]
  },
  {
   "cell_type": "markdown",
   "metadata": {},
   "source": [
    "You received an error, as expected, because there is a dimension mismatch. Here, it seems intuitive to know why this happened, but when working with large matrices and tensors, shape mismatch could become a real problem and as data scientists, you need to make sure to be aware about the dimensions of your datasets.\n",
    "\n",
    "## Vector scalar addition\n",
    "\n",
    "Scalar values can be added to matrices and vectors. In this case, the scalar value is added to each element of array as shown below:\n",
    "```python\n",
    "# Add scalars to arrays\n",
    "# Add a scalar to a 1D vector\n",
    "print(a + 4)\n",
    "# Add a scalar to a 2D matrix\n",
    "print(A + 4)\n",
    "```\n",
    "\n",
    "## Broadcasting\n",
    "\n",
    "Numpy can also handle operations on arrays of different shapes as some machine learning algorithms need that. The smaller array gets **extended** to match the shape of the larger array. In the scalar-vector addition, we used broadcasting so the scalar was converted in an array of same shape as $A$.\n",
    "\n",
    "\n",
    "$$ \n",
    "  \\left[ {\\begin{array}{cc}\n",
    "   A_{1,1} & A_{1,2} \\\\\n",
    "   A_{2,1} & A_{2,2} \\\\\n",
    "   A_{3,1} & A_{3,2} \\\\\n",
    "  \\end{array} } \\right] +\n",
    "    \\left[ {\\begin{array}{c}\n",
    "   B_{1,1}\\\\\n",
    "   B_{2,1}\\\\\n",
    "   B_{3,1}\\\\\n",
    "   \\end{array} } \\right]\n",
    "$$\n",
    "\n",
    "\n",
    "$$\n",
    "  \\left[ {\\begin{array}{cc}\n",
    "   A_{1,1} & A_{1,2} \\\\\n",
    "   A_{2,1} & A_{2,2} \\\\\n",
    "   A_{3,1} & A_{3,2} \\\\\n",
    "  \\end{array} } \\right] +\n",
    "    \\left[ {\\begin{array}{cc}\n",
    "   B_{1,1} & B_{1,1} \\\\\n",
    "   B_{2,1} & B_{2,1} \\\\\n",
    "   B_{3,1} & B_{3,1} \\\\\n",
    "  \\end{array} } \\right] =\n",
    "   \\left[ {\\begin{array}{cc}\n",
    "   A_{1,1} + B_{1,1} & A_{1,2} + B_{1,1}\\\\\n",
    "   A_{2,1} + B_{2,1}& A_{2,2} + B_{2,1} \\\\\n",
    "   A_{3,1} + B_{3,1} & A_{3,2} + B_{3,1} \\\\\n",
    "  \\end{array} } \\right] \n",
    "$$\n",
    "\n",
    "Let's see this in action while trying to add arrays with different shapes\n",
    "\n",
    "```python\n",
    "A = np.array([[1, 2], [3, 4], [5, 6]])\n",
    "print(A)\n",
    "B = np.array([[2], [4], [6]])\n",
    "print(B)\n",
    "A + B\n",
    "```"
   ]
  },
  {
   "cell_type": "code",
   "execution_count": 4,
   "metadata": {},
   "outputs": [
    {
     "name": "stdout",
     "output_type": "stream",
     "text": [
      "[[1 2]\n",
      " [3 4]\n",
      " [5 6]]\n",
      "[[2]\n",
      " [4]\n",
      " [6]]\n"
     ]
    },
    {
     "data": {
      "text/plain": [
       "array([[ 3,  4],\n",
       "       [ 7,  8],\n",
       "       [11, 12]])"
      ]
     },
     "execution_count": 4,
     "metadata": {},
     "output_type": "execute_result"
    }
   ],
   "source": [
    "A = np.array([[1, 2], [3, 4], [5, 6]])\n",
    "print(A)\n",
    "B = np.array([[2], [4], [6]])\n",
    "print(B)\n",
    "A + B"
   ]
  },
  {
   "cell_type": "code",
   "execution_count": null,
   "metadata": {},
   "outputs": [],
   "source": []
  },
  {
   "cell_type": "markdown",
   "metadata": {},
   "source": [
    "# Vectors and Matrices in Numpy \n",
    "\n",
    "## Introduction\n",
    "\n",
    "In this session, you'll solve some simple matrix creation and manipulation exercises based on what you've learned so far in this section. The key takeaway here is to be able to understand how to use indexing with matrices and vectors while applying some basic operations.\n",
    "\n",
    "## Objectives\n",
    "\n",
    "- Find the shape of vectors and matrices \n",
    "- Access and manipulate individual scalar components of a matrix \n",
    "- Create vectors and matrices using Numpy and Python\n",
    "\n",
    "## 1. Define two arrays $A$  with shape $ (4 \\times 2)$ and $B$ with shape $(2 \\times 3)$ \n",
    "So    $A =    \n",
    "  \\left[ {\\begin{array}{cc}\n",
    "   1402 & 191 \\\\\n",
    "   1371 &  821\\\\\n",
    "   949 &  1437 \\\\\n",
    "   147 & 1448 \\\\\n",
    "  \\end{array} }\\right]\n",
    "$\n",
    "and\n",
    "$\n",
    "B =    \n",
    "  \\left[ {\\begin{array}{ccc}\n",
    "   1 & 2 & 3 \\\\\n",
    "   4 & 5 & 6\\\\\n",
    "  \\end{array} }\\right]\n",
    "$"
   ]
  },
  {
   "cell_type": "code",
   "execution_count": 1,
   "metadata": {},
   "outputs": [
    {
     "name": "stdout",
     "output_type": "stream",
     "text": [
      "A = \n",
      " [[1402  191]\n",
      " [1371  821]\n",
      " [ 949 1437]\n",
      " [ 147 1448]]\n",
      "B = \n",
      " [[1 2 3]\n",
      " [4 5 6]]\n"
     ]
    }
   ],
   "source": [
    "A = np.array([[1402, 191], [1371, 821], [949, 1437], [147, 1448]])\n",
    "B = np.array([[1, 2, 3], [4, 5, 6]])\n",
    "print ('A = \\n', A)\n",
    "print ('B = \\n', B)"
   ]
  },
  {
   "cell_type": "markdown",
   "metadata": {},
   "source": [
    "## 2. Print the dimensions of $A$ and $B$ "
   ]
  },
  {
   "cell_type": "code",
   "execution_count": 2,
   "metadata": {},
   "outputs": [
    {
     "name": "stdout",
     "output_type": "stream",
     "text": [
      "Shape of A: (4, 2)\n",
      "Shape of B: (2, 3)\n"
     ]
    }
   ],
   "source": [
    "print('Shape of A:', A.shape)\n",
    "print('Shape of B:', B.shape)"
   ]
  },
  {
   "cell_type": "markdown",
   "metadata": {},
   "source": [
    "## 3. Print elements from $A$\n",
    "\n",
    "Print the following elements from $A$: \n",
    "\n",
    "* First row and first column\n",
    "* First row and second column\n",
    "* Third row and second column\n",
    "* Fourth row and first column"
   ]
  },
  {
   "cell_type": "code",
   "execution_count": 3,
   "metadata": {},
   "outputs": [
    {
     "name": "stdout",
     "output_type": "stream",
     "text": [
      "1402\n",
      "191\n",
      "[1371  821]\n"
     ]
    }
   ],
   "source": [
    "print(A[0,0])\n",
    "print(A[0,1])\n",
    "print(A[1,])"
   ]
  },
  {
   "cell_type": "markdown",
   "metadata": {},
   "source": [
    "## 4. Write a routine to populate a matrix with random data\n",
    "* Create an $(3 \\times 3)$ Numpy array with all zeros (use `np.zeros()`)\n",
    "* Access each location $(i,j)$ of this matrix and fill in random values between the range 1 and 10"
   ]
  },
  {
   "cell_type": "code",
   "execution_count": 4,
   "metadata": {},
   "outputs": [
    {
     "name": "stdout",
     "output_type": "stream",
     "text": [
      "before random data:\n",
      " [[0. 0. 0.]\n",
      " [0. 0. 0.]\n",
      " [0. 0. 0.]]\n",
      "\n",
      "after random data:\n",
      " [[4. 9. 7.]\n",
      " [7. 2. 9.]\n",
      " [3. 3. 3.]]\n"
     ]
    }
   ],
   "source": [
    "import random\n",
    "M = np.zeros((3, 3))\n",
    "print ('before random data:\\n',M)\n",
    "\n",
    "for x in range(0, M.shape[0]):\n",
    "    for y in range(0, M.shape[1]):\n",
    "        M[x][y] = random.randrange(1, 10) \n",
    "print ('\\nafter random data:\\n',M)"
   ]
  },
  {
   "cell_type": "markdown",
   "metadata": {},
   "source": [
    "## 5. Turn the above routine into a function\n",
    "* Create two $(4 \\times 4)$ zero-valued matrices and fill with random data using the function\n",
    "* Add the matrices together in Numpy \n",
    "* Print the results"
   ]
  },
  {
   "cell_type": "code",
   "execution_count": 5,
   "metadata": {},
   "outputs": [
    {
     "name": "stdout",
     "output_type": "stream",
     "text": [
      "Final output\n",
      "\n",
      " [[11. 16. 13. 12.]\n",
      " [15. 16. 13.  8.]\n",
      " [ 8. 15. 12.  7.]\n",
      " [10. 17. 10. 10.]]\n"
     ]
    }
   ],
   "source": [
    "def fill(matrix):\n",
    "\n",
    "    for x in range(0, matrix.shape[0]):\n",
    "        for y in range(0, matrix.shape[1]):\n",
    "            matrix[x][y] = random.randrange(1, 10)\n",
    "    \n",
    "    return matrix\n",
    "\n",
    "M1 = np.zeros((4, 4))\n",
    "M2 = np.zeros((4, 4))\n",
    "\n",
    "M1_filled = fill(M1)\n",
    "M2_filled = fill(M2)\n",
    "out = M1_filled + M2_filled\n",
    "\n",
    "print ('Final output\\n\\n', out)"
   ]
  },
  {
   "cell_type": "code",
   "execution_count": null,
   "metadata": {},
   "outputs": [],
   "source": []
  },
  {
   "cell_type": "markdown",
   "metadata": {},
   "source": [
    "## Summary \n",
    "\n",
    "In this lesson, you learned how to add vectors and matrices and looked at the dimension match assumption necessary for this addition. You also looked at how Numpy allows you to use broadcasting to add scalars and vector/matrices to other objects with different dimensions. In the following lessons, you'll learn about more complicated mathematical operations and their use in real life data analysis."
   ]
  },
  {
   "cell_type": "markdown",
   "metadata": {},
   "source": [
    "In this lab, we saw how to create and manipulate vectors and matrices in Numpy. We shall now move forward to learning more complex operations including dot products and matrix inversions."
   ]
  },
  {
   "cell_type": "code",
   "execution_count": null,
   "metadata": {},
   "outputs": [],
   "source": []
  }
 ],
 "metadata": {
  "kernelspec": {
   "display_name": "Python [conda env:learn-env] *",
   "language": "python",
   "name": "conda-env-learn-env-py"
  },
  "language_info": {
   "codemirror_mode": {
    "name": "ipython",
    "version": 3
   },
   "file_extension": ".py",
   "mimetype": "text/x-python",
   "name": "python",
   "nbconvert_exporter": "python",
   "pygments_lexer": "ipython3",
   "version": "3.6.10"
  }
 },
 "nbformat": 4,
 "nbformat_minor": 4
}
