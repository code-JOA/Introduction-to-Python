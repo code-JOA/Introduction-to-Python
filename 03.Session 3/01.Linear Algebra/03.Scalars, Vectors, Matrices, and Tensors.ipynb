{
 "cells": [
  {
   "cell_type": "markdown",
   "metadata": {},
   "source": [
    "# Scalars, Vectors, Matrices, and Tensors \n",
    "\n",
    "\n",
    "## Introduction \n",
    "In this lesson, you'll be introduced to the basic mathematical entities used in linear algebra. We'll also look at how these entities are created (and later manipulated) in Python using NumPy. \n",
    "\n",
    "## Objectives\n",
    "You will be able to:\n",
    "\n",
    "- Compare scalars, vectors, matrices, and tensors \n",
    "- Create vectors and matrices using Numpy and Python\n",
    "- Use the transpose method to transpose Numpy matrices \n",
    "\n",
    "\n",
    "## Background\n",
    "\n",
    "Let's start by defining some mathematical entities that data scientists routinely come across while dealing with machine learning and deep learning algorithms. These entities are used to store, process and represent our data and analytical activities are mainly focused on manipulating these algebraic entities to provide solutions to unknown data entities. \n",
    "\n",
    "<img src=\"../../images/new_objects.png\" width = \"600\">\n",
    "\n",
    "## Scalars\n",
    "> A scalar is a **single number** \n",
    "\n",
    "A scalar is the simplest entity in linear algebra compared to other objects, which are usually arrays of multiple numbers. In literature, you'll find scalars represented as lower case italics characters. Scalars need to be defined in terms of the type of number they carry. For example: \n",
    "\n",
    "* **Real valued scalars**: Let $S \\in  \\mathbb{R} $  be the salary of an individual\n",
    "* **Natural number scalars**: Let $n \\in \\mathbb{N}$ be the number of floors in a building\n",
    "\n",
    "\n",
    "## Vectors \n",
    "\n",
    "> A vector is an **array** of numbers arranged in some order, as opposed to the single numbered scalar. \n",
    "\n",
    "The numbers contained within a vector are known as scalar components of the vector. Vectors are built from individual components, which are numerical in nature. We can think of a vector as a list of numbers, and vector algebra as operations performed on the numbers in the list. \n",
    "\n",
    "\\begin{equation}\n",
    "x = \n",
    "\\begin{bmatrix}\n",
    "  x_{1} \\\\\n",
    "  x_{2} \\\\\n",
    "  \\vdots \\\\\n",
    "  x_{n-1} \\\\\n",
    "  x_{n} \\\\\n",
    "\\end{bmatrix}\n",
    "\\end{equation}\n",
    "\n",
    "Where $x$ is the name of the vector and $(x_1,x_2, \\ldots, x_{n-1}, x_n)$ are the scalar components of the vector.\n",
    "\n",
    "In machine learning systems like regression you saw earlier, the output variable is known as a **target vector** with the lowercase $y$ when describing the training of a machine learning algorithm.\n",
    "\n",
    "We can set index values to elements of a vector by defining a set containing the indices and write the set as a subscript. For example, to access $x_1, x_3$ and $x_6$, we define the set $S=\\{1,3,6\\}$, and call it $x_S$. \n",
    "\n",
    "\n",
    "### A geometric intuition\n",
    "\n",
    "A vector can be thought of as an entity that represents spatial coordinates in an n-dimensional space, where n is the number of dimensions. A vector can also represent a line from the origin of the vector space with a direction and a magnitude, based on scalar components. Below is an example of a vector in 3D vector space:  \n",
    "\n",
    "![](../../images/vec2.png)\n",
    "\n",
    "Let’s look at how to define a vector in Python.\n",
    "\n",
    "### Defining a vector in Python\n",
    "\n",
    "In Python, one of the easiest ways to represent a vector is by using Numpy arrays. The list scalar values can be used to create a vector in Python as shown below:\n",
    "\n",
    "```python \n",
    "# create a vector from list [2,4,6]\n",
    "import numpy as np\n",
    "v = np.array([2, 4, 6])\n",
    "print(v)\n",
    "```"
   ]
  },
  {
   "cell_type": "code",
   "execution_count": 1,
   "metadata": {},
   "outputs": [],
   "source": [
    "# Code here \n",
    "import numpy as np"
   ]
  },
  {
   "cell_type": "code",
   "execution_count": 2,
   "metadata": {},
   "outputs": [
    {
     "name": "stdout",
     "output_type": "stream",
     "text": [
      "[2 4 6]\n"
     ]
    }
   ],
   "source": [
    "v = np.array([2, 4, 6])\n",
    "print(v)"
   ]
  },
  {
   "cell_type": "markdown",
   "metadata": {},
   "source": [
    "### Indexing a vector\n",
    "\n",
    "There will be times when you have a lot of data in a vector (or array as we now know it) and you want to extract a portion of the data for some analysis. For example, maybe you want to know the first few values of a long array, or you want the integral of data between $x = 4$ and $x = 6$, but your vector covers $0 < x < 10$. Indexing is the way to do these things. Let's generate a long vector to see this action using 10 values between -pi and pi (i.e. -3.14 to 3.14):\n",
    "\n",
    "```python\n",
    "x = np.linspace(-np.pi, np.pi, 10)\n",
    "print(x)\n",
    "```"
   ]
  },
  {
   "cell_type": "code",
   "execution_count": 3,
   "metadata": {},
   "outputs": [
    {
     "name": "stdout",
     "output_type": "stream",
     "text": [
      "[-3.14159265 -2.44346095 -1.74532925 -1.04719755 -0.34906585  0.34906585\n",
      "  1.04719755  1.74532925  2.44346095  3.14159265]\n"
     ]
    }
   ],
   "source": [
    "x = np.linspace(-np.pi , np.pi , 10)\n",
    "print(x)"
   ]
  },
  {
   "cell_type": "markdown",
   "metadata": {},
   "source": [
    "You can use the index values to address individual scalar values within this vector, similar to Python list indexing as shown below:\n",
    "```python\n",
    "print (x[0])  # first element\n",
    "print (x[2])  # third element\n",
    "print (x[-1]) # last element\n",
    "print (x[-2]) # second to last element\n",
    "```"
   ]
  },
  {
   "cell_type": "code",
   "execution_count": 4,
   "metadata": {},
   "outputs": [
    {
     "name": "stdout",
     "output_type": "stream",
     "text": [
      "-3.141592653589793\n",
      "-1.7453292519943295\n",
      "3.141592653589793\n",
      "2.443460952792061\n"
     ]
    }
   ],
   "source": [
    "print(x[0])\n",
    "print(x[2])\n",
    "print(x[-1])\n",
    "print(x[-2])"
   ]
  },
  {
   "cell_type": "markdown",
   "metadata": {},
   "source": [
    "You can select a range of elements too. The syntax a:b extracts the a-th to (b-1)-th elements. The syntax a:b:n starts at a, skips n elements up to the index b.\n",
    "```python \n",
    "print (x[1:4])     # second to fourth element. Element 5 is not included\n",
    "print (x[0:-1:2])  # every other element\n",
    "print (x[:])       # print the whole vector\n",
    "print (x[-1:0:-1]) # reverse the vector!\n",
    "```"
   ]
  },
  {
   "cell_type": "code",
   "execution_count": 5,
   "metadata": {},
   "outputs": [
    {
     "name": "stdout",
     "output_type": "stream",
     "text": [
      "[-2.44346095 -1.74532925 -1.04719755]\n",
      "[-3.14159265 -1.74532925 -0.34906585  1.04719755  2.44346095]\n",
      "[-3.14159265 -2.44346095 -1.74532925 -1.04719755 -0.34906585  0.34906585\n",
      "  1.04719755  1.74532925  2.44346095  3.14159265]\n",
      "[ 3.14159265  2.44346095  1.74532925  1.04719755  0.34906585 -0.34906585\n",
      " -1.04719755 -1.74532925 -2.44346095]\n"
     ]
    }
   ],
   "source": [
    "print(x[1:4])\n",
    "print(x[0:-1:2])\n",
    "print(x[:])\n",
    "print(x[-1:0:-1])"
   ]
  },
  {
   "cell_type": "code",
   "execution_count": null,
   "metadata": {},
   "outputs": [],
   "source": []
  },
  {
   "cell_type": "markdown",
   "metadata": {},
   "source": [
    "## Matrices\n",
    "> A matrix is a 2-dimensional array of numbers written between square brackets. \n",
    "\n",
    "As compared to vectors, a matrix is a multi-dimensional array of scalars that can possibly have multiple rows as well as columns. It is often denoted by an $m \\times n$ notation where $m$ is the number of rows and $n$ is number of columns, as shown below. Every scalar component of a matrix can be addressed by specifying (row, column) values as tuples $(m, n)$. A matrix is usually written down as:\n",
    "\n",
    "\n",
    "$$\n",
    "   A=\n",
    "  \\left[ {\\begin{array}{cccc}\n",
    "   A_{1,1} & A_{1,2} & \\ldots &A_{1,n} \\\\\n",
    "   A_{2,1} & A_{2,2} & \\ldots &A_{2,n} \\\\\n",
    "   \\vdots& \\vdots & \\ddots & \\vdots \\\\\n",
    "   A_{m,1} & A_{m,2} & \\ldots &A_{m,n} \\\\\n",
    "  \\end{array} } \\right]\n",
    "$$\n",
    "\n",
    "We usually give matrices uppercase variable names with bold typeface, such as $A$. If a real-valued matrix $A$ has a height of $m$ and a width of $n$ as above, we state this as $A \\in \\mathbb{R}^{m \\times n}$. In machine learning, a vector can be seen as a special case of a matrix.\n",
    "\n",
    "> A vector is a matrix that has only 1 column, so you have an $(m \\times 1)$-matrix. $m$ is the number of rows, and 1 here is the number of columns, so a matrix with just one column is a vector.\n",
    "\n",
    "### Defining a matrix in Python\n",
    "\n",
    "As opposed to one-dimensional arrays used by vectors, we can represent a matrix in Python using a multi-dimensional NumPy array. A NumPy array can be constructed given a list of lists. For example, below is a 3 row, 3 column matrix created from a list of three lists.\n",
    "```python\n",
    "X = np.array([[1, 2, 3], [4, 5, 6], [7, 8, 9]])\n",
    "print(X)\n",
    "```"
   ]
  },
  {
   "cell_type": "code",
   "execution_count": 6,
   "metadata": {},
   "outputs": [
    {
     "name": "stdout",
     "output_type": "stream",
     "text": [
      "[[1 2 3]\n",
      " [4 5 6]\n",
      " [7 8 9]]\n"
     ]
    }
   ],
   "source": [
    "X = np.array([[1,2,3],[4,5,6] , [7,8,9]])\n",
    "print(X)"
   ]
  },
  {
   "cell_type": "markdown",
   "metadata": {},
   "source": [
    "* Note: Take special care with brackets during definition as opening and closing of the square brackets signifies a new row.\n",
    "\n",
    "\n",
    "\n",
    "We can also define matlab styles matrices (for those used to matlab definitions) in the following way:\n",
    "```python\n",
    "Y = np.mat([[1, 2, 3], [4, 5, 6], [7, 8, 9]])\n",
    "print(Y)\n",
    "```"
   ]
  },
  {
   "cell_type": "markdown",
   "metadata": {},
   "source": [
    "Numpy **matrices** are always 2-dimensional, while numpy **arrays** (also referred to as ndarrays) are N-dimensional. Matrix objects are a subclass of ndarray, so they inherit all the attributes and methods of ndarrays. For multidimensional arrays/matrices with more than 2 dimensions, it is always best to use arrays. Arrays are the standard vector/matrix/tensor type of NumPy, and most NumPy functions return arrays and not matrices.\n",
    "\n",
    "Arrays also offer a clear distinction between element-wise operations and linear algebra operations as you'll see later.\n",
    "\n",
    "### Matrix indexing\n",
    "\n",
    "In 2D-arrays like the one we created above you can use a (row, column) notation. Use a `:` to indicate all rows or all columns. Remember that the indexing for both vectors and matrices start with 0 and ends at (m-1) and (n-1).\n",
    "\n",
    "```python\n",
    "print (X[0, 0]) # element at first row and first column\n",
    "print (X[-1, -1]) # element from the last row and last column \n",
    "print (X[0, :]) # first row and all columns\n",
    "print (X[:, 0]) # all rows and first column \n",
    "print (X[:]) # all rows and all columns\n",
    "```"
   ]
  },
  {
   "cell_type": "code",
   "execution_count": 8,
   "metadata": {},
   "outputs": [
    {
     "name": "stdout",
     "output_type": "stream",
     "text": [
      "1\n",
      "9\n",
      "[1 2 3]\n",
      "[1 4 7]\n",
      "[[1 2 3]\n",
      " [4 5 6]\n",
      " [7 8 9]]\n"
     ]
    }
   ],
   "source": [
    "print (X[0, 0]) # element at first row and first column\n",
    "print (X[-1, -1]) # element from the last row and last column \n",
    "print (X[0, :]) # first row and all columns\n",
    "print (X[:, 0]) # all rows and first column \n",
    "print (X[:]) # all rows and all columns"
   ]
  },
  {
   "cell_type": "markdown",
   "metadata": {},
   "source": [
    "You can also use indexing to address and assign new values to elements of a matrix:\n",
    "```python\n",
    "X[:, 0] = [11, 12, 13]  # set the values in first column to this sequence\n",
    "X[2, 2] = 15  # set a single element in third row and third column\n",
    "print (X)\n",
    "\n",
    "X[2] = 16  # sets everything in the third row to 16!\n",
    "print (X)\n",
    "\n",
    "X[:,2] = 17  # sets everything in the third column to 17!\n",
    "print (X)\n",
    "```"
   ]
  },
  {
   "cell_type": "code",
   "execution_count": 9,
   "metadata": {},
   "outputs": [
    {
     "name": "stdout",
     "output_type": "stream",
     "text": [
      "[[11  2  3]\n",
      " [12  5  6]\n",
      " [13  8 15]]\n",
      "[[11  2  3]\n",
      " [12  5  6]\n",
      " [16 16 16]]\n",
      "[[11  2 17]\n",
      " [12  5 17]\n",
      " [16 16 17]]\n"
     ]
    }
   ],
   "source": [
    "X[:, 0] = [11, 12, 13]  # set the values in first column to this sequence\n",
    "X[2, 2] = 15  # set a single element in third row and third column\n",
    "print (X)\n",
    "\n",
    "X[2] = 16  # sets everything in the third row to 16!\n",
    "print (X)\n",
    "\n",
    "X[:,2] = 17  # sets everything in the third column to 17!\n",
    "print (X)"
   ]
  },
  {
   "cell_type": "markdown",
   "metadata": {},
   "source": [
    "## Shape of an array\n",
    "\n",
    "The shape (or \"dimensions\") of a vector/matrix array tells us the number of values for each dimension. For a 2-dimensional array it gives you the number of rows and the number of columns. Let’s find the shape of our preceding 2-D and 3-D arrays created above. For a NumPy object, you can access its shape as shown below:\n",
    "```python\n",
    "print(x.shape) # the vector with 10 scalars\n",
    "print (X.shape) # the 2-D Matrix with 3X3 scalar components\n",
    "```"
   ]
  },
  {
   "cell_type": "code",
   "execution_count": 10,
   "metadata": {},
   "outputs": [
    {
     "name": "stdout",
     "output_type": "stream",
     "text": [
      "(10,)\n",
      "(3, 3)\n"
     ]
    }
   ],
   "source": [
    "print(x.shape)\n",
    "print(X.shape)"
   ]
  },
  {
   "cell_type": "markdown",
   "metadata": {},
   "source": [
    "The vector has only one dimension as shown by the shape parameter whereas the 2D-matrix has 3 rows and 3 columns\n",
    "\n",
    "## Transposition \n",
    "\n",
    "Using transposition, you can convert a row vector to a column vector and vice versa. Let's see how its done in vectors and matrices.\n",
    "\n",
    "<img src=\"../../images/new_vector.png\" width=\"150\">\n",
    "\n",
    "Neural networks frequently process weights and inputs of different sizes where the dimensions do not meet the requirements of matrix multiplication. Matrix transpose provides a way to \"rotate\" one of the matrices so that the operation complies with multiplication requirements and can continue. There are two steps to transpose a matrix:\n",
    "\n",
    "* Rotate the matrix right 90° clockwise.\n",
    "* Reverse the order of elements in each row (e.g. [a b c] becomes [c b a]).\n",
    "This can be better understood looking at this image :\n",
    "\n",
    "<img src=\"../../images/new_matrix.png\" width=\"350\">\n",
    "\n",
    "Numpy provides the transpose operation by using the `.T` attribute or the `np.transpose()` function with the array that needs to be transposed as shown below:\n",
    "\n",
    "```python\n",
    "# create a transpose of a matrix\n",
    "\n",
    "A = np.array([\n",
    "   [1, 2, 3], \n",
    "   [4, 5, 6],\n",
    "   [7, 8, 9]])\n",
    "\n",
    "A_transposed = A.T\n",
    "A_transposed_2 = np.transpose(A)\n",
    "\n",
    "print(A,'\\n\\n', A_transposed, '\\n\\n', A_transposed_2)\n",
    "```"
   ]
  },
  {
   "cell_type": "code",
   "execution_count": 11,
   "metadata": {},
   "outputs": [
    {
     "name": "stdout",
     "output_type": "stream",
     "text": [
      "[[1 2 3]\n",
      " [4 5 6]\n",
      " [7 8 9]] \n",
      "\n",
      " [[1 4 7]\n",
      " [2 5 8]\n",
      " [3 6 9]] \n",
      "\n",
      " [[1 4 7]\n",
      " [2 5 8]\n",
      " [3 6 9]]\n"
     ]
    }
   ],
   "source": [
    "A = np.array([\n",
    "   [1, 2, 3], \n",
    "   [4, 5, 6],\n",
    "   [7, 8, 9]])\n",
    "\n",
    "A_transposed = A.T\n",
    "A_transposed_2 = np.transpose(A)\n",
    "\n",
    "print(A,'\\n\\n', A_transposed, '\\n\\n', A_transposed_2)"
   ]
  },
  {
   "cell_type": "markdown",
   "metadata": {},
   "source": [
    "## Tensors\n",
    "In some cases, you'll need an array with more than two axes. In the general case:\n",
    ">An array of numbers arranged on a regular grid with a variable number of axes is known as a tensor. \n",
    "\n",
    "A vector is a one-dimensional or \"first order tensor\" and a matrix is a two-dimensional or \"second order tensor\".\n",
    "Tensor notation is just like matrix notation, with a capital letter that represents a tensor, and lowercase letters with a subscript representing scalar values within the tensor. Many operations that can be performed with scalars, vectors, and matrices can be reformulated to be performed with tensors as well. The image below shows some of these operations for a  3D tensor. \n",
    "\n",
    "<img src=\"../../images/new_tensors.png\" width=\"700\">\n",
    "\n",
    "As a tool, tensors and tensor algebra are widely used in the fields of physics and engineering, and in data science it is particularly useful when you'll learn about deep learning models. \n",
    "We'll revisit tensors and relevant operations in the deep learning sections and explain how tensors are created, manipulated, and saved using more advanced analytical tools like Keras. \n",
    "\n",
    "## Summary \n",
    "\n",
    "In this lesson, you learned about basic mathematical entities including scalars, vectors, matrices, and tensors to solve linear algebraic problems. You focused on creating vectors and matrices in Python and Numpy. You also saw how to index and slice these entities and check for the shape of underlying data elements. Next, you'll look at some of the key operations with matrices and vectors."
   ]
  },
  {
   "cell_type": "code",
   "execution_count": null,
   "metadata": {},
   "outputs": [],
   "source": []
  },
  {
   "cell_type": "code",
   "execution_count": null,
   "metadata": {},
   "outputs": [],
   "source": []
  }
 ],
 "metadata": {
  "kernelspec": {
   "display_name": "Python [conda env:learn-env] *",
   "language": "python",
   "name": "conda-env-learn-env-py"
  },
  "language_info": {
   "codemirror_mode": {
    "name": "ipython",
    "version": 3
   },
   "file_extension": ".py",
   "mimetype": "text/x-python",
   "name": "python",
   "nbconvert_exporter": "python",
   "pygments_lexer": "ipython3",
   "version": "3.6.10"
  }
 },
 "nbformat": 4,
 "nbformat_minor": 4
}
